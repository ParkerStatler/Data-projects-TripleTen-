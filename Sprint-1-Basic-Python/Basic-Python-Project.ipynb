{
 "cells": [
  {
   "cell_type": "markdown",
   "id": "f85a80d2",
   "metadata": {},
   "source": [
    "## Basic Python - Project <a id='intro'></a>"
   ]
  },
  {
   "cell_type": "markdown",
   "id": "a1262df4",
   "metadata": {},
   "source": [
    "## Introduction <a id='intro'></a>\n",
    "In this project, you will work with data from the entertainment industry. You will study a dataset with records on movies and shows. The research will focus on the \"Golden Age\" of television, which began in 1999 with the release of *The Sopranos* and is still ongoing.\n",
    "\n",
    "The aim of this project is to investigate how the number of votes a title receives impacts its ratings. The assumption is that highly-rated shows (we will focus on TV shows, ignoring movies) released during the \"Golden Age\" of television also have the most votes.\n",
    "\n",
    "### Stages \n",
    "Data on movies and shows is stored in the `/datasets/movies_and_shows.csv` file. There is no information about the quality of the data, so you will need to explore it before doing the analysis.\n",
    "\n",
    "First, you'll evaluate the quality of the data and see whether its issues are significant. Then, during data preprocessing, you will try to account for the most critical problems.\n",
    " \n",
    "Your project will consist of three stages:\n",
    " 1. Data overview\n",
    " 2. Data preprocessing\n",
    " 3. Data analysis"
   ]
  },
  {
   "cell_type": "markdown",
   "id": "ac0593ac",
   "metadata": {},
   "source": [
    "## Stage 1. Data overview <a id='data_review'></a>\n",
    "\n",
    "Open and explore the data."
   ]
  },
  {
   "cell_type": "markdown",
   "id": "e86ed00e",
   "metadata": {},
   "source": [
    "You'll need `pandas`, so import it."
   ]
  },
  {
   "cell_type": "code",
   "execution_count": 1,
   "id": "1727d3f8",
   "metadata": {},
   "outputs": [],
   "source": [
    "import pandas as pd"
   ]
  },
  {
   "cell_type": "markdown",
   "id": "9821beeb",
   "metadata": {},
   "source": [
    "Read the `movies_and_shows.csv` file from the `datasets` folder and save it in the `df` variable:"
   ]
  },
  {
   "cell_type": "code",
   "execution_count": 2,
   "id": "fc5a1402",
   "metadata": {},
   "outputs": [],
   "source": [
    "df = pd.read_csv('/datasets/movies_and_shows.csv')"
   ]
  },
  {
   "cell_type": "markdown",
   "id": "1cd0a96d",
   "metadata": {},
   "source": [
    "\n",
    "Print the first 10 table rows:"
   ]
  },
  {
   "cell_type": "code",
   "execution_count": 3,
   "id": "acd92001",
   "metadata": {
    "scrolled": true
   },
   "outputs": [
    {
     "data": {
      "text/html": [
       "<div>\n",
       "<style scoped>\n",
       "    .dataframe tbody tr th:only-of-type {\n",
       "        vertical-align: middle;\n",
       "    }\n",
       "\n",
       "    .dataframe tbody tr th {\n",
       "        vertical-align: top;\n",
       "    }\n",
       "\n",
       "    .dataframe thead th {\n",
       "        text-align: right;\n",
       "    }\n",
       "</style>\n",
       "<table border=\"1\" class=\"dataframe\">\n",
       "  <thead>\n",
       "    <tr style=\"text-align: right;\">\n",
       "      <th></th>\n",
       "      <th>name</th>\n",
       "      <th>Character</th>\n",
       "      <th>r0le</th>\n",
       "      <th>TITLE</th>\n",
       "      <th>Type</th>\n",
       "      <th>release Year</th>\n",
       "      <th>genres</th>\n",
       "      <th>imdb sc0re</th>\n",
       "      <th>imdb v0tes</th>\n",
       "    </tr>\n",
       "  </thead>\n",
       "  <tbody>\n",
       "    <tr>\n",
       "      <th>0</th>\n",
       "      <td>Robert De Niro</td>\n",
       "      <td>Travis Bickle</td>\n",
       "      <td>ACTOR</td>\n",
       "      <td>Taxi Driver</td>\n",
       "      <td>MOVIE</td>\n",
       "      <td>1976</td>\n",
       "      <td>['drama', 'crime']</td>\n",
       "      <td>8.2</td>\n",
       "      <td>808582.0</td>\n",
       "    </tr>\n",
       "    <tr>\n",
       "      <th>1</th>\n",
       "      <td>Jodie Foster</td>\n",
       "      <td>Iris Steensma</td>\n",
       "      <td>ACTOR</td>\n",
       "      <td>Taxi Driver</td>\n",
       "      <td>MOVIE</td>\n",
       "      <td>1976</td>\n",
       "      <td>['drama', 'crime']</td>\n",
       "      <td>8.2</td>\n",
       "      <td>808582.0</td>\n",
       "    </tr>\n",
       "    <tr>\n",
       "      <th>2</th>\n",
       "      <td>Albert Brooks</td>\n",
       "      <td>Tom</td>\n",
       "      <td>ACTOR</td>\n",
       "      <td>Taxi Driver</td>\n",
       "      <td>MOVIE</td>\n",
       "      <td>1976</td>\n",
       "      <td>['drama', 'crime']</td>\n",
       "      <td>8.2</td>\n",
       "      <td>808582.0</td>\n",
       "    </tr>\n",
       "    <tr>\n",
       "      <th>3</th>\n",
       "      <td>Harvey Keitel</td>\n",
       "      <td>Matthew 'Sport' Higgins</td>\n",
       "      <td>ACTOR</td>\n",
       "      <td>Taxi Driver</td>\n",
       "      <td>MOVIE</td>\n",
       "      <td>1976</td>\n",
       "      <td>['drama', 'crime']</td>\n",
       "      <td>8.2</td>\n",
       "      <td>808582.0</td>\n",
       "    </tr>\n",
       "    <tr>\n",
       "      <th>4</th>\n",
       "      <td>Cybill Shepherd</td>\n",
       "      <td>Betsy</td>\n",
       "      <td>ACTOR</td>\n",
       "      <td>Taxi Driver</td>\n",
       "      <td>MOVIE</td>\n",
       "      <td>1976</td>\n",
       "      <td>['drama', 'crime']</td>\n",
       "      <td>8.2</td>\n",
       "      <td>808582.0</td>\n",
       "    </tr>\n",
       "    <tr>\n",
       "      <th>5</th>\n",
       "      <td>Peter Boyle</td>\n",
       "      <td>Wizard</td>\n",
       "      <td>ACTOR</td>\n",
       "      <td>Taxi Driver</td>\n",
       "      <td>MOVIE</td>\n",
       "      <td>1976</td>\n",
       "      <td>['drama', 'crime']</td>\n",
       "      <td>8.2</td>\n",
       "      <td>808582.0</td>\n",
       "    </tr>\n",
       "    <tr>\n",
       "      <th>6</th>\n",
       "      <td>Leonard Harris</td>\n",
       "      <td>Senator Charles Palantine</td>\n",
       "      <td>ACTOR</td>\n",
       "      <td>Taxi Driver</td>\n",
       "      <td>MOVIE</td>\n",
       "      <td>1976</td>\n",
       "      <td>['drama', 'crime']</td>\n",
       "      <td>8.2</td>\n",
       "      <td>808582.0</td>\n",
       "    </tr>\n",
       "    <tr>\n",
       "      <th>7</th>\n",
       "      <td>Diahnne Abbott</td>\n",
       "      <td>Concession Girl</td>\n",
       "      <td>ACTOR</td>\n",
       "      <td>Taxi Driver</td>\n",
       "      <td>MOVIE</td>\n",
       "      <td>1976</td>\n",
       "      <td>['drama', 'crime']</td>\n",
       "      <td>8.2</td>\n",
       "      <td>808582.0</td>\n",
       "    </tr>\n",
       "    <tr>\n",
       "      <th>8</th>\n",
       "      <td>Gino Ardito</td>\n",
       "      <td>Policeman at Rally</td>\n",
       "      <td>ACTOR</td>\n",
       "      <td>Taxi Driver</td>\n",
       "      <td>MOVIE</td>\n",
       "      <td>1976</td>\n",
       "      <td>['drama', 'crime']</td>\n",
       "      <td>8.2</td>\n",
       "      <td>808582.0</td>\n",
       "    </tr>\n",
       "    <tr>\n",
       "      <th>9</th>\n",
       "      <td>Martin Scorsese</td>\n",
       "      <td>Passenger Watching Silhouette</td>\n",
       "      <td>ACTOR</td>\n",
       "      <td>Taxi Driver</td>\n",
       "      <td>MOVIE</td>\n",
       "      <td>1976</td>\n",
       "      <td>['drama', 'crime']</td>\n",
       "      <td>8.2</td>\n",
       "      <td>808582.0</td>\n",
       "    </tr>\n",
       "  </tbody>\n",
       "</table>\n",
       "</div>"
      ],
      "text/plain": [
       "              name                      Character   r0le        TITLE   Type  \\\n",
       "0   Robert De Niro                  Travis Bickle  ACTOR  Taxi Driver  MOVIE   \n",
       "1     Jodie Foster                  Iris Steensma  ACTOR  Taxi Driver  MOVIE   \n",
       "2    Albert Brooks                            Tom  ACTOR  Taxi Driver  MOVIE   \n",
       "3    Harvey Keitel        Matthew 'Sport' Higgins  ACTOR  Taxi Driver  MOVIE   \n",
       "4  Cybill Shepherd                          Betsy  ACTOR  Taxi Driver  MOVIE   \n",
       "5      Peter Boyle                         Wizard  ACTOR  Taxi Driver  MOVIE   \n",
       "6   Leonard Harris      Senator Charles Palantine  ACTOR  Taxi Driver  MOVIE   \n",
       "7   Diahnne Abbott                Concession Girl  ACTOR  Taxi Driver  MOVIE   \n",
       "8      Gino Ardito             Policeman at Rally  ACTOR  Taxi Driver  MOVIE   \n",
       "9  Martin Scorsese  Passenger Watching Silhouette  ACTOR  Taxi Driver  MOVIE   \n",
       "\n",
       "   release Year              genres  imdb sc0re  imdb v0tes  \n",
       "0          1976  ['drama', 'crime']         8.2    808582.0  \n",
       "1          1976  ['drama', 'crime']         8.2    808582.0  \n",
       "2          1976  ['drama', 'crime']         8.2    808582.0  \n",
       "3          1976  ['drama', 'crime']         8.2    808582.0  \n",
       "4          1976  ['drama', 'crime']         8.2    808582.0  \n",
       "5          1976  ['drama', 'crime']         8.2    808582.0  \n",
       "6          1976  ['drama', 'crime']         8.2    808582.0  \n",
       "7          1976  ['drama', 'crime']         8.2    808582.0  \n",
       "8          1976  ['drama', 'crime']         8.2    808582.0  \n",
       "9          1976  ['drama', 'crime']         8.2    808582.0  "
      ]
     },
     "execution_count": 3,
     "metadata": {},
     "output_type": "execute_result"
    }
   ],
   "source": [
    "df.head(10)# obtaining the first 10 rows from the df table\n",
    "# hint: you can use head() and tail() in Jupyter Notebook without wrapping them into print()\n"
   ]
  },
  {
   "cell_type": "markdown",
   "id": "e579aa91",
   "metadata": {},
   "source": [
    "Obtain the general information about the table with one command:"
   ]
  },
  {
   "cell_type": "code",
   "execution_count": 4,
   "id": "7bf66d2a",
   "metadata": {},
   "outputs": [
    {
     "name": "stdout",
     "output_type": "stream",
     "text": [
      "<class 'pandas.core.frame.DataFrame'>\n",
      "RangeIndex: 85579 entries, 0 to 85578\n",
      "Data columns (total 9 columns):\n",
      " #   Column        Non-Null Count  Dtype  \n",
      "---  ------        --------------  -----  \n",
      " 0      name       85579 non-null  object \n",
      " 1   Character     85579 non-null  object \n",
      " 2   r0le          85579 non-null  object \n",
      " 3   TITLE         85578 non-null  object \n",
      " 4     Type        85579 non-null  object \n",
      " 5   release Year  85579 non-null  int64  \n",
      " 6   genres        85579 non-null  object \n",
      " 7   imdb sc0re    80970 non-null  float64\n",
      " 8   imdb v0tes    80853 non-null  float64\n",
      "dtypes: float64(2), int64(1), object(6)\n",
      "memory usage: 5.9+ MB\n"
     ]
    }
   ],
   "source": [
    "df.info()# obtaining general information about the data in df\n"
   ]
  },
  {
   "cell_type": "markdown",
   "id": "e91f62a7",
   "metadata": {},
   "source": [
    "The table contains nine columns. The majority store the same data type: object. The only exceptions are `'release Year'` (int64 type), `'imdb sc0re'` (float64 type) and `'imdb v0tes'` (float64 type). Scores and votes will be used in our analysis, so it's important to verify that they are present in the dataframe in the appropriate numeric format. Three columns (`'TITLE'`, `'imdb sc0re'` and `'imdb v0tes'`) have missing values.\n",
    "\n",
    "According to the documentation:\n",
    "- `'name'` — actor/director's name and last name\n",
    "- `'Character'` — character played (for actors)\n",
    "- `'r0le '` — the person's contribution to the title (it can be in the capacity of either actor or director)\n",
    "- `'TITLE '` — title of the movie (show)\n",
    "- `'  Type'` — show or movie\n",
    "- `'release Year'` — year when movie (show) was released\n",
    "- `'genres'` — list of genres under which the movie (show) falls\n",
    "- `'imdb sc0re'` — score on IMDb\n",
    "- `'imdb v0tes'` — votes on IMDb\n",
    "\n",
    "We can see three issues with the column names:\n",
    "1. Some names are uppercase, while others are lowercase.\n",
    "2. There are names containing whitespace.\n",
    "3. A few column names have digit '0' instead of letter 'o'. \n"
   ]
  },
  {
   "cell_type": "markdown",
   "id": "4355de7b",
   "metadata": {},
   "source": [
    "### Conclusions <a id='data_review_conclusions'></a> \n",
    "\n",
    "Each row in the table stores data about a movie or show. The columns can be divided into two categories: the first is about the roles held by different people who worked on the movie or show (role, name of the actor or director, and character if the row is about an actor); the second category is information about the movie or show itself (title, release year, genre, imdb figures).\n",
    "\n",
    "It's clear that there is sufficient data to do the analysis and evaluate our assumption. However, to move forward, we need to preprocess the data."
   ]
  },
  {
   "cell_type": "markdown",
   "id": "c5dc9111",
   "metadata": {},
   "source": [
    "## Stage 2. Data preprocessing <a id='data_preprocessing'></a>\n",
    "Correct the formatting in the column headers and deal with the missing values. Then, check whether there are duplicates in the data."
   ]
  },
  {
   "cell_type": "code",
   "execution_count": 5,
   "id": "9c850d13",
   "metadata": {},
   "outputs": [
    {
     "data": {
      "text/plain": [
       "Index(['   name', 'Character', 'r0le', 'TITLE', '  Type', 'release Year',\n",
       "       'genres', 'imdb sc0re', 'imdb v0tes'],\n",
       "      dtype='object')"
      ]
     },
     "execution_count": 5,
     "metadata": {},
     "output_type": "execute_result"
    }
   ],
   "source": [
    "df.columns# the list of column names in the df table\n"
   ]
  },
  {
   "cell_type": "markdown",
   "id": "5f966df9",
   "metadata": {},
   "source": [
    "Change the column names according to the rules of good style:\n",
    "* If the name has several words, use snake_case\n",
    "* All characters must be lowercase\n",
    "* Remove whitespace\n",
    "* Replace zero with letter 'o'"
   ]
  },
  {
   "cell_type": "code",
   "execution_count": 6,
   "id": "23a1dc11",
   "metadata": {},
   "outputs": [],
   "source": [
    "df = df.rename(columns={'   name':'name', 'Character':'character', 'r0le':'role', 'TITLE':'title', '  Type':'type', 'release Year':'release_year',\n",
    "       'genres':'genres', 'imdb sc0re':'imdb_score', 'imdb v0tes':'imdb_votes'})\n",
    "# renaming columns\n"
   ]
  },
  {
   "cell_type": "markdown",
   "id": "464fbd04",
   "metadata": {},
   "source": [
    "Check the result. Print the names of the columns once more:"
   ]
  },
  {
   "cell_type": "code",
   "execution_count": 7,
   "id": "0eb6527f",
   "metadata": {},
   "outputs": [
    {
     "data": {
      "text/plain": [
       "Index(['name', 'character', 'role', 'title', 'type', 'release_year', 'genres',\n",
       "       'imdb_score', 'imdb_votes'],\n",
       "      dtype='object')"
      ]
     },
     "execution_count": 7,
     "metadata": {},
     "output_type": "execute_result"
    }
   ],
   "source": [
    "df.columns# checking result: the list of column names\n"
   ]
  },
  {
   "cell_type": "markdown",
   "id": "14d9c319",
   "metadata": {},
   "source": [
    "### Missing values <a id='missing_values'></a>\n",
    "First, find the number of missing values in the table. To do so, combine two `pandas` methods:"
   ]
  },
  {
   "cell_type": "code",
   "execution_count": 8,
   "id": "21c427f2",
   "metadata": {},
   "outputs": [
    {
     "data": {
      "text/plain": [
       "name               0\n",
       "character          0\n",
       "role               0\n",
       "title              1\n",
       "type               0\n",
       "release_year       0\n",
       "genres             0\n",
       "imdb_score      4609\n",
       "imdb_votes      4726\n",
       "dtype: int64"
      ]
     },
     "execution_count": 8,
     "metadata": {},
     "output_type": "execute_result"
    }
   ],
   "source": [
    "df.isna().sum()# calculating missing values\n"
   ]
  },
  {
   "cell_type": "markdown",
   "id": "c8272df3",
   "metadata": {},
   "source": [
    "We identified missing values in several columns. While the missing value in `'title'` isn't critical, missing values in `'imdb_score'` and `'imdb_votes'` affect around 6% of the data, which could impact our analysis. To ensure data integrity, we'll drop all rows with missing values."
   ]
  },
  {
   "cell_type": "code",
   "execution_count": 9,
   "id": "599d5550",
   "metadata": {},
   "outputs": [],
   "source": [
    "df = df.dropna(axis='rows')# dropping rows where columns with scores, and votes have missing values\n"
   ]
  },
  {
   "cell_type": "markdown",
   "id": "2156887f",
   "metadata": {},
   "source": [
    "Make sure the table doesn't contain any more missing values. Count the missing values again."
   ]
  },
  {
   "cell_type": "code",
   "execution_count": 10,
   "id": "55c0b0ce",
   "metadata": {},
   "outputs": [
    {
     "data": {
      "text/plain": [
       "name            0\n",
       "character       0\n",
       "role            0\n",
       "title           0\n",
       "type            0\n",
       "release_year    0\n",
       "genres          0\n",
       "imdb_score      0\n",
       "imdb_votes      0\n",
       "dtype: int64"
      ]
     },
     "execution_count": 10,
     "metadata": {},
     "output_type": "execute_result"
    }
   ],
   "source": [
    "df.isna().sum()# counting missing values\n"
   ]
  },
  {
   "cell_type": "markdown",
   "id": "a7dc7aa0",
   "metadata": {},
   "source": [
    "### Duplicates <a id='duplicates'></a>\n",
    "Find the number of duplicate rows in the table using one command:"
   ]
  },
  {
   "cell_type": "code",
   "execution_count": 11,
   "id": "9227df01",
   "metadata": {
    "scrolled": true
   },
   "outputs": [
    {
     "data": {
      "text/plain": [
       "6994"
      ]
     },
     "execution_count": 11,
     "metadata": {},
     "output_type": "execute_result"
    }
   ],
   "source": [
    "\n",
    "df.duplicated().sum()# counting duplicate rows\n"
   ]
  },
  {
   "cell_type": "markdown",
   "id": "5f6eb0fc",
   "metadata": {},
   "source": [
    "Review the duplicate rows to determine if removing them would distort our dataset."
   ]
  },
  {
   "cell_type": "code",
   "execution_count": 12,
   "id": "bcf32fcb",
   "metadata": {
    "scrolled": true
   },
   "outputs": [
    {
     "data": {
      "text/html": [
       "<div>\n",
       "<style scoped>\n",
       "    .dataframe tbody tr th:only-of-type {\n",
       "        vertical-align: middle;\n",
       "    }\n",
       "\n",
       "    .dataframe tbody tr th {\n",
       "        vertical-align: top;\n",
       "    }\n",
       "\n",
       "    .dataframe thead th {\n",
       "        text-align: right;\n",
       "    }\n",
       "</style>\n",
       "<table border=\"1\" class=\"dataframe\">\n",
       "  <thead>\n",
       "    <tr style=\"text-align: right;\">\n",
       "      <th></th>\n",
       "      <th>name</th>\n",
       "      <th>character</th>\n",
       "      <th>role</th>\n",
       "      <th>title</th>\n",
       "      <th>type</th>\n",
       "      <th>release_year</th>\n",
       "      <th>genres</th>\n",
       "      <th>imdb_score</th>\n",
       "      <th>imdb_votes</th>\n",
       "    </tr>\n",
       "  </thead>\n",
       "  <tbody>\n",
       "    <tr>\n",
       "      <th>85573</th>\n",
       "      <td>A??da Morales</td>\n",
       "      <td>Maritza</td>\n",
       "      <td>ACTOR</td>\n",
       "      <td>Lokillo</td>\n",
       "      <td>the movie</td>\n",
       "      <td>2021</td>\n",
       "      <td>['comedy']</td>\n",
       "      <td>3.8</td>\n",
       "      <td>68.0</td>\n",
       "    </tr>\n",
       "    <tr>\n",
       "      <th>85574</th>\n",
       "      <td>Adelaida Buscato</td>\n",
       "      <td>Mar??a Paz</td>\n",
       "      <td>ACTOR</td>\n",
       "      <td>Lokillo</td>\n",
       "      <td>the movie</td>\n",
       "      <td>2021</td>\n",
       "      <td>['comedy']</td>\n",
       "      <td>3.8</td>\n",
       "      <td>68.0</td>\n",
       "    </tr>\n",
       "    <tr>\n",
       "      <th>85575</th>\n",
       "      <td>Luz Stella Luengas</td>\n",
       "      <td>Karen Bayona</td>\n",
       "      <td>ACTOR</td>\n",
       "      <td>Lokillo</td>\n",
       "      <td>the movie</td>\n",
       "      <td>2021</td>\n",
       "      <td>['comedy']</td>\n",
       "      <td>3.8</td>\n",
       "      <td>68.0</td>\n",
       "    </tr>\n",
       "    <tr>\n",
       "      <th>85576</th>\n",
       "      <td>In??s Prieto</td>\n",
       "      <td>Fanny</td>\n",
       "      <td>ACTOR</td>\n",
       "      <td>Lokillo</td>\n",
       "      <td>the movie</td>\n",
       "      <td>2021</td>\n",
       "      <td>['comedy']</td>\n",
       "      <td>3.8</td>\n",
       "      <td>68.0</td>\n",
       "    </tr>\n",
       "    <tr>\n",
       "      <th>85578</th>\n",
       "      <td>Julian Gaviria</td>\n",
       "      <td>unknown</td>\n",
       "      <td>DIRECTOR</td>\n",
       "      <td>Lokillo</td>\n",
       "      <td>the movie</td>\n",
       "      <td>2021</td>\n",
       "      <td>['comedy']</td>\n",
       "      <td>3.8</td>\n",
       "      <td>68.0</td>\n",
       "    </tr>\n",
       "  </tbody>\n",
       "</table>\n",
       "</div>"
      ],
      "text/plain": [
       "                     name     character      role    title       type  \\\n",
       "85573       A??da Morales       Maritza     ACTOR  Lokillo  the movie   \n",
       "85574    Adelaida Buscato    Mar??a Paz     ACTOR  Lokillo  the movie   \n",
       "85575  Luz Stella Luengas  Karen Bayona     ACTOR  Lokillo  the movie   \n",
       "85576        In??s Prieto         Fanny     ACTOR  Lokillo  the movie   \n",
       "85578      Julian Gaviria       unknown  DIRECTOR  Lokillo  the movie   \n",
       "\n",
       "       release_year      genres  imdb_score  imdb_votes  \n",
       "85573          2021  ['comedy']         3.8        68.0  \n",
       "85574          2021  ['comedy']         3.8        68.0  \n",
       "85575          2021  ['comedy']         3.8        68.0  \n",
       "85576          2021  ['comedy']         3.8        68.0  \n",
       "85578          2021  ['comedy']         3.8        68.0  "
      ]
     },
     "execution_count": 12,
     "metadata": {},
     "output_type": "execute_result"
    }
   ],
   "source": [
    "duplicated_rows = df.drop_duplicates(keep='first')\n",
    "duplicated_rows.tail()# Produce table with duplicates (with original rows included) and review last 5 rows\n"
   ]
  },
  {
   "cell_type": "markdown",
   "id": "a1ed6640",
   "metadata": {},
   "source": [
    "There are two clear duplicates in the printed rows. We can safely remove them.\n",
    "Call the `pandas` method for getting rid of duplicate rows:"
   ]
  },
  {
   "cell_type": "code",
   "execution_count": 13,
   "id": "724d5bc8",
   "metadata": {
    "scrolled": true
   },
   "outputs": [],
   "source": [
    "df = df.drop_duplicates(keep='first')# removing duplicate rows\n"
   ]
  },
  {
   "cell_type": "markdown",
   "id": "fc8c77ba",
   "metadata": {},
   "source": [
    "Check for duplicate rows once more to make sure you have removed all of them:"
   ]
  },
  {
   "cell_type": "code",
   "execution_count": 14,
   "id": "8091a9bc",
   "metadata": {},
   "outputs": [
    {
     "data": {
      "text/plain": [
       "0"
      ]
     },
     "execution_count": 14,
     "metadata": {},
     "output_type": "execute_result"
    }
   ],
   "source": [
    "df.duplicated().sum()# checking for duplicates\n"
   ]
  },
  {
   "cell_type": "markdown",
   "id": "1d802b07",
   "metadata": {},
   "source": [
    "Now get rid of implicit duplicates in the `'type'` column. For example, the string `'SHOW'` can be written in different ways. These kinds of errors will also affect the result."
   ]
  },
  {
   "cell_type": "markdown",
   "id": "d5f987ed",
   "metadata": {},
   "source": [
    "Print a list of unique `'type'` names, sorted in alphabetical order. To do so:\n",
    "* Retrieve the intended dataframe column \n",
    "* Apply a sorting method to it\n",
    "* For the sorted column, call the method that will return all unique column values"
   ]
  },
  {
   "cell_type": "code",
   "execution_count": 15,
   "id": "3d7b0ac5",
   "metadata": {
    "scrolled": true
   },
   "outputs": [
    {
     "data": {
      "text/plain": [
       "['MOVIE',\n",
       " 'SHOW',\n",
       " 'movies',\n",
       " 'shows',\n",
       " 'the movie',\n",
       " 'tv',\n",
       " 'tv series',\n",
       " 'tv show',\n",
       " 'tv shows']"
      ]
     },
     "execution_count": 15,
     "metadata": {},
     "output_type": "execute_result"
    }
   ],
   "source": [
    "sorted(df['type'].unique())# viewing unique type names\n"
   ]
  },
  {
   "cell_type": "markdown",
   "id": "ac6e8b18",
   "metadata": {},
   "source": [
    "Look through the list to find implicit duplicates of `'show'` (`'movie'` duplicates will be ignored since the assumption is about shows). These could be names written incorrectly or alternative names of the same genre.\n",
    "\n",
    "You will see the following implicit duplicates:\n",
    "* `'shows'`\n",
    "* `'SHOW'`\n",
    "* `'tv show'`\n",
    "* `'tv shows'`\n",
    "* `'tv series'`\n",
    "* `'tv'`\n",
    "\n",
    "To get rid of them, declare the function `replace_wrong_show()` with two parameters: \n",
    "* `wrong_shows_list=` — the list of duplicates\n",
    "* `correct_show=` — the string with the correct value\n",
    "\n",
    "The function should correct the names in the `'type'` column from the `df` table (i.e., replace each value from the `wrong_shows_list` list with the value in `correct_show`)."
   ]
  },
  {
   "cell_type": "code",
   "execution_count": 16,
   "id": "bff944f9",
   "metadata": {},
   "outputs": [],
   "source": [
    "def replace_wrong_show(wrong_show_list, correct_show):\n",
    "    for word in wrong_show_list:\n",
    "        df['type'] = df['type'].replace(word, correct_show)# function for replacing implicit duplicates\n"
   ]
  },
  {
   "cell_type": "markdown",
   "id": "d02d13a6",
   "metadata": {},
   "source": [
    "Call `replace_wrong_show()` and pass it arguments so that it clears implicit duplicates and replaces them with `SHOW`:"
   ]
  },
  {
   "cell_type": "code",
   "execution_count": 17,
   "id": "a2217e53",
   "metadata": {},
   "outputs": [],
   "source": [
    "replace_wrong_show(['shows',\n",
    "'SHOW',\n",
    "'tv show',\n",
    "'tv shows',\n",
    "'tv series',\n",
    "'tv'],'SHOW')# removing implicit duplicates\n"
   ]
  },
  {
   "cell_type": "markdown",
   "id": "318b09f7",
   "metadata": {},
   "source": [
    "Make sure the duplicate names are removed. Print the list of unique values from the `'type'` column:"
   ]
  },
  {
   "cell_type": "code",
   "execution_count": 18,
   "id": "25d49d73",
   "metadata": {},
   "outputs": [
    {
     "data": {
      "text/plain": [
       "array(['MOVIE', 'the movie', 'SHOW', 'movies'], dtype=object)"
      ]
     },
     "execution_count": 18,
     "metadata": {},
     "output_type": "execute_result"
    }
   ],
   "source": [
    "df['type'].unique()# viewing unique genre names\n"
   ]
  },
  {
   "cell_type": "markdown",
   "id": "18b2049e",
   "metadata": {},
   "source": [
    "### Conclusions <a id='data_preprocessing_conclusions'></a>\n",
    "We detected three issues with the data:\n",
    "\n",
    "- Incorrect header styles\n",
    "- Missing values\n",
    "- Duplicate rows and implicit duplicates\n",
    "\n",
    "The headers have been cleaned up to make processing the table simpler.\n",
    "\n",
    "All rows with missing values have been removed. \n",
    "\n",
    "The absence of duplicates will make the results more precise and easier to understand.\n",
    "\n",
    "Now we can move on to our analysis of the prepared data."
   ]
  },
  {
   "cell_type": "markdown",
   "id": "1aa0f1b1",
   "metadata": {},
   "source": [
    "## Stage 3. Data analysis <a id='hypotheses'></a>"
   ]
  },
  {
   "cell_type": "markdown",
   "id": "f8fb6a0e",
   "metadata": {},
   "source": [
    "Based on the previous project stages, you can now define how the assumption will be checked. Calculate the average amount of votes for each score (this data is available in the `imdb_score` and `imdb_votes` columns), and then check how these averages relate to each other. If the averages for shows with the highest scores are bigger than those for shows with lower scores, the assumption appears to be true.\n",
    "\n",
    "Based on this, complete the following steps:\n",
    "\n",
    "- Filter the dataframe to only include shows released in 1999 or later.\n",
    "- Group scores into buckets by rounding the values of the appropriate column (a set of 1-10 integers will help us make the outcome of our calculations more evident without damaging the quality of our research).\n",
    "- Identify outliers among scores based on their number of votes, and exclude scores with few votes.\n",
    "- Calculate the average votes for each score and check whether the assumption matches the results."
   ]
  },
  {
   "cell_type": "markdown",
   "id": "0ea2cb51",
   "metadata": {},
   "source": [
    "To filter the dataframe and only include shows released in 1999 or later, you will take two steps. First, keep only titles published in 1999 or later in our dataframe. Then, filter the table to only contain shows (movies will be removed)."
   ]
  },
  {
   "cell_type": "code",
   "execution_count": 19,
   "id": "6a704aa1",
   "metadata": {},
   "outputs": [],
   "source": [
    "df_slice = df[df['release_year'] >= 1999]# using conditional indexing modify df so it has only titles released after 1999 (with 1999 included)\n",
    "# give the slice of dataframe new name\n"
   ]
  },
  {
   "cell_type": "code",
   "execution_count": 20,
   "id": "128dc6a9",
   "metadata": {
    "scrolled": true
   },
   "outputs": [],
   "source": [
    "df = df[df['type'] == 'SHOW'] # repeat conditional indexing so df has only shows (movies are removed as result)\n"
   ]
  },
  {
   "cell_type": "markdown",
   "id": "9648040c",
   "metadata": {},
   "source": [
    "The scores that are to be grouped should be rounded. For instance, titles with scores like 7.8, 8.1, and 8.3 will all be placed in the same bucket with a score of 8."
   ]
  },
  {
   "cell_type": "code",
   "execution_count": 21,
   "id": "54bbd5c0",
   "metadata": {},
   "outputs": [
    {
     "data": {
      "text/html": [
       "<div>\n",
       "<style scoped>\n",
       "    .dataframe tbody tr th:only-of-type {\n",
       "        vertical-align: middle;\n",
       "    }\n",
       "\n",
       "    .dataframe tbody tr th {\n",
       "        vertical-align: top;\n",
       "    }\n",
       "\n",
       "    .dataframe thead th {\n",
       "        text-align: right;\n",
       "    }\n",
       "</style>\n",
       "<table border=\"1\" class=\"dataframe\">\n",
       "  <thead>\n",
       "    <tr style=\"text-align: right;\">\n",
       "      <th></th>\n",
       "      <th>name</th>\n",
       "      <th>character</th>\n",
       "      <th>role</th>\n",
       "      <th>title</th>\n",
       "      <th>type</th>\n",
       "      <th>release_year</th>\n",
       "      <th>genres</th>\n",
       "      <th>imdb_score</th>\n",
       "      <th>imdb_votes</th>\n",
       "    </tr>\n",
       "  </thead>\n",
       "  <tbody>\n",
       "    <tr>\n",
       "      <th>85433</th>\n",
       "      <td>Maneerat Kam-Uan</td>\n",
       "      <td>Ae</td>\n",
       "      <td>ACTOR</td>\n",
       "      <td>Let's Eat</td>\n",
       "      <td>SHOW</td>\n",
       "      <td>2021</td>\n",
       "      <td>['drama', 'comedy']</td>\n",
       "      <td>8.0</td>\n",
       "      <td>5.0</td>\n",
       "    </tr>\n",
       "    <tr>\n",
       "      <th>85434</th>\n",
       "      <td>Rudklao Amratisha</td>\n",
       "      <td>unknown</td>\n",
       "      <td>ACTOR</td>\n",
       "      <td>Let's Eat</td>\n",
       "      <td>SHOW</td>\n",
       "      <td>2021</td>\n",
       "      <td>['drama', 'comedy']</td>\n",
       "      <td>8.0</td>\n",
       "      <td>5.0</td>\n",
       "    </tr>\n",
       "    <tr>\n",
       "      <th>85435</th>\n",
       "      <td>Jaturong Mokjok</td>\n",
       "      <td>unknown</td>\n",
       "      <td>ACTOR</td>\n",
       "      <td>Let's Eat</td>\n",
       "      <td>SHOW</td>\n",
       "      <td>2021</td>\n",
       "      <td>['drama', 'comedy']</td>\n",
       "      <td>8.0</td>\n",
       "      <td>5.0</td>\n",
       "    </tr>\n",
       "    <tr>\n",
       "      <th>85436</th>\n",
       "      <td>Pisamai Wilaisak</td>\n",
       "      <td>unknown</td>\n",
       "      <td>ACTOR</td>\n",
       "      <td>Let's Eat</td>\n",
       "      <td>SHOW</td>\n",
       "      <td>2021</td>\n",
       "      <td>['drama', 'comedy']</td>\n",
       "      <td>8.0</td>\n",
       "      <td>5.0</td>\n",
       "    </tr>\n",
       "    <tr>\n",
       "      <th>85437</th>\n",
       "      <td>Sarawut Wichiensarn</td>\n",
       "      <td>unknown</td>\n",
       "      <td>DIRECTOR</td>\n",
       "      <td>Let's Eat</td>\n",
       "      <td>SHOW</td>\n",
       "      <td>2021</td>\n",
       "      <td>['drama', 'comedy']</td>\n",
       "      <td>8.0</td>\n",
       "      <td>5.0</td>\n",
       "    </tr>\n",
       "  </tbody>\n",
       "</table>\n",
       "</div>"
      ],
      "text/plain": [
       "                      name character      role      title  type  release_year  \\\n",
       "85433     Maneerat Kam-Uan        Ae     ACTOR  Let's Eat  SHOW          2021   \n",
       "85434    Rudklao Amratisha   unknown     ACTOR  Let's Eat  SHOW          2021   \n",
       "85435      Jaturong Mokjok   unknown     ACTOR  Let's Eat  SHOW          2021   \n",
       "85436     Pisamai Wilaisak   unknown     ACTOR  Let's Eat  SHOW          2021   \n",
       "85437  Sarawut Wichiensarn   unknown  DIRECTOR  Let's Eat  SHOW          2021   \n",
       "\n",
       "                    genres  imdb_score  imdb_votes  \n",
       "85433  ['drama', 'comedy']         8.0         5.0  \n",
       "85434  ['drama', 'comedy']         8.0         5.0  \n",
       "85435  ['drama', 'comedy']         8.0         5.0  \n",
       "85436  ['drama', 'comedy']         8.0         5.0  \n",
       "85437  ['drama', 'comedy']         8.0         5.0  "
      ]
     },
     "execution_count": 21,
     "metadata": {},
     "output_type": "execute_result"
    }
   ],
   "source": [
    "df = df.round(0)# rounding column with scores\n",
    "\n",
    "df.tail()#checking the outcome with tail()\n"
   ]
  },
  {
   "cell_type": "markdown",
   "id": "36dbd00a",
   "metadata": {},
   "source": [
    "It is now time to identify outliers based on the number of votes."
   ]
  },
  {
   "cell_type": "code",
   "execution_count": 22,
   "id": "b8b55e95",
   "metadata": {},
   "outputs": [
    {
     "data": {
      "text/plain": [
       "imdb_score\n",
       "2.0       24\n",
       "3.0       27\n",
       "4.0      195\n",
       "5.0      592\n",
       "6.0     2541\n",
       "7.0     4744\n",
       "8.0     4903\n",
       "9.0      570\n",
       "10.0       8\n",
       "Name: imdb_votes, dtype: int64"
      ]
     },
     "execution_count": 22,
     "metadata": {},
     "output_type": "execute_result"
    }
   ],
   "source": [
    "scores = df.groupby('imdb_score')['imdb_votes'].count()\n",
    "scores# Use groupby() for scores and count all unique values in each group, print the result\n"
   ]
  },
  {
   "cell_type": "markdown",
   "id": "1ba6daae",
   "metadata": {},
   "source": [
    "Based on the aggregation performed, it is evident that scores 2 (24 voted shows), 3 (27 voted shows), and 10 (only 8 voted shows) are outliers. There isn't enough data for these scores for the average number of votes to be meaningful."
   ]
  },
  {
   "cell_type": "markdown",
   "id": "bd468c46",
   "metadata": {},
   "source": [
    "To obtain the mean numbers of votes for the selected scores (we identified a range of 4-9 as acceptable), use conditional filtering and grouping."
   ]
  },
  {
   "cell_type": "code",
   "execution_count": 23,
   "id": "d1867e0e",
   "metadata": {
    "scrolled": true
   },
   "outputs": [
    {
     "data": {
      "text/html": [
       "<div>\n",
       "<style scoped>\n",
       "    .dataframe tbody tr th:only-of-type {\n",
       "        vertical-align: middle;\n",
       "    }\n",
       "\n",
       "    .dataframe tbody tr th {\n",
       "        vertical-align: top;\n",
       "    }\n",
       "\n",
       "    .dataframe thead th {\n",
       "        text-align: right;\n",
       "    }\n",
       "</style>\n",
       "<table border=\"1\" class=\"dataframe\">\n",
       "  <thead>\n",
       "    <tr style=\"text-align: right;\">\n",
       "      <th></th>\n",
       "      <th>imdb_score</th>\n",
       "      <th>imdb_votes</th>\n",
       "    </tr>\n",
       "  </thead>\n",
       "  <tbody>\n",
       "    <tr>\n",
       "      <th>0</th>\n",
       "      <td>4.0</td>\n",
       "      <td>5562.600000</td>\n",
       "    </tr>\n",
       "    <tr>\n",
       "      <th>1</th>\n",
       "      <td>5.0</td>\n",
       "      <td>3143.942568</td>\n",
       "    </tr>\n",
       "    <tr>\n",
       "      <th>2</th>\n",
       "      <td>6.0</td>\n",
       "      <td>3566.232586</td>\n",
       "    </tr>\n",
       "    <tr>\n",
       "      <th>3</th>\n",
       "      <td>7.0</td>\n",
       "      <td>8790.115514</td>\n",
       "    </tr>\n",
       "    <tr>\n",
       "      <th>4</th>\n",
       "      <td>8.0</td>\n",
       "      <td>30214.953294</td>\n",
       "    </tr>\n",
       "    <tr>\n",
       "      <th>5</th>\n",
       "      <td>9.0</td>\n",
       "      <td>127631.222807</td>\n",
       "    </tr>\n",
       "  </tbody>\n",
       "</table>\n",
       "</div>"
      ],
      "text/plain": [
       "   imdb_score     imdb_votes\n",
       "0         4.0    5562.600000\n",
       "1         5.0    3143.942568\n",
       "2         6.0    3566.232586\n",
       "3         7.0    8790.115514\n",
       "4         8.0   30214.953294\n",
       "5         9.0  127631.222807"
      ]
     },
     "execution_count": 23,
     "metadata": {},
     "output_type": "execute_result"
    }
   ],
   "source": [
    "df = df[df['imdb_score'] >= 4]\n",
    "df = df[df['imdb_score'] <= 9]# filter dataframe using two conditions (scores to be in the range 4-9)\n",
    "\n",
    "group = df.groupby('imdb_score')['imdb_votes'].mean().reset_index()\n",
    "group# group scores and corresponding average number of votes, reset index and print the result\n"
   ]
  },
  {
   "cell_type": "markdown",
   "id": "96a66d14",
   "metadata": {},
   "source": [
    "Now for the final step! Round the column with the averages, rename both columns, and print the dataframe in descending order."
   ]
  },
  {
   "cell_type": "code",
   "execution_count": 24,
   "id": "5999051b",
   "metadata": {},
   "outputs": [
    {
     "data": {
      "text/html": [
       "<div>\n",
       "<style scoped>\n",
       "    .dataframe tbody tr th:only-of-type {\n",
       "        vertical-align: middle;\n",
       "    }\n",
       "\n",
       "    .dataframe tbody tr th {\n",
       "        vertical-align: top;\n",
       "    }\n",
       "\n",
       "    .dataframe thead th {\n",
       "        text-align: right;\n",
       "    }\n",
       "</style>\n",
       "<table border=\"1\" class=\"dataframe\">\n",
       "  <thead>\n",
       "    <tr style=\"text-align: right;\">\n",
       "      <th></th>\n",
       "      <th>score</th>\n",
       "      <th>votes</th>\n",
       "    </tr>\n",
       "  </thead>\n",
       "  <tbody>\n",
       "    <tr>\n",
       "      <th>5</th>\n",
       "      <td>9.0</td>\n",
       "      <td>127631.0</td>\n",
       "    </tr>\n",
       "    <tr>\n",
       "      <th>4</th>\n",
       "      <td>8.0</td>\n",
       "      <td>30215.0</td>\n",
       "    </tr>\n",
       "    <tr>\n",
       "      <th>3</th>\n",
       "      <td>7.0</td>\n",
       "      <td>8790.0</td>\n",
       "    </tr>\n",
       "    <tr>\n",
       "      <th>0</th>\n",
       "      <td>4.0</td>\n",
       "      <td>5563.0</td>\n",
       "    </tr>\n",
       "    <tr>\n",
       "      <th>2</th>\n",
       "      <td>6.0</td>\n",
       "      <td>3566.0</td>\n",
       "    </tr>\n",
       "    <tr>\n",
       "      <th>1</th>\n",
       "      <td>5.0</td>\n",
       "      <td>3144.0</td>\n",
       "    </tr>\n",
       "  </tbody>\n",
       "</table>\n",
       "</div>"
      ],
      "text/plain": [
       "   score     votes\n",
       "5    9.0  127631.0\n",
       "4    8.0   30215.0\n",
       "3    7.0    8790.0\n",
       "0    4.0    5563.0\n",
       "2    6.0    3566.0\n",
       "1    5.0    3144.0"
      ]
     },
     "execution_count": 24,
     "metadata": {},
     "output_type": "execute_result"
    }
   ],
   "source": [
    "group = group.round(0)# round column with averages\n",
    "\n",
    "group = group.rename(columns={'imdb_score': 'score', 'imdb_votes': 'votes'})# rename columns\n",
    "\n",
    "group.sort_values(by='votes', ascending=False)\n",
    "# print dataframe in descending order\n"
   ]
  },
  {
   "cell_type": "markdown",
   "id": "af07386d",
   "metadata": {},
   "source": [
    "The assumption macthes the analysis: the shows with the top 3 scores have the most amounts of votes."
   ]
  },
  {
   "cell_type": "markdown",
   "id": "84e29a37",
   "metadata": {},
   "source": [
    "## Conclusion <a id='hypotheses'></a>"
   ]
  },
  {
   "cell_type": "markdown",
   "id": "984766a3",
   "metadata": {},
   "source": [
    "The research done confirms that highly-rated shows released during the \"Golden Age\" of television also have the most votes. While shows with score 4 have more votes than ones with scores 5 and 6, the top three (scores 7-9) have the largest number. The data studied represents around 94% of the original set, so we can be confident in our findings."
   ]
  }
 ],
 "metadata": {
  "ExecuteTimeLog": [
   {
    "duration": 157,
    "start_time": "2024-09-21T13:28:45.126Z"
   },
   {
    "duration": 12,
    "start_time": "2024-09-21T13:31:14.969Z"
   },
   {
    "duration": 14,
    "start_time": "2024-09-21T13:34:20.967Z"
   },
   {
    "duration": 11,
    "start_time": "2024-09-21T13:34:35.558Z"
   },
   {
    "duration": 336,
    "start_time": "2024-09-21T13:34:50.047Z"
   },
   {
    "duration": 5,
    "start_time": "2024-09-21T13:35:04.123Z"
   },
   {
    "duration": 156,
    "start_time": "2024-09-21T13:35:17.479Z"
   },
   {
    "duration": 13,
    "start_time": "2024-09-21T13:35:22.994Z"
   },
   {
    "duration": 11,
    "start_time": "2024-09-21T13:35:29.036Z"
   },
   {
    "duration": 24,
    "start_time": "2024-09-21T13:48:18.372Z"
   },
   {
    "duration": 3,
    "start_time": "2024-09-21T14:08:02.353Z"
   },
   {
    "duration": 2,
    "start_time": "2024-09-21T14:08:19.813Z"
   },
   {
    "duration": 7,
    "start_time": "2024-09-21T14:14:45.305Z"
   },
   {
    "duration": 4,
    "start_time": "2024-09-21T14:15:14.651Z"
   },
   {
    "duration": 28,
    "start_time": "2024-09-21T14:19:31.616Z"
   },
   {
    "duration": 5,
    "start_time": "2024-09-21T14:23:05.939Z"
   },
   {
    "duration": 30,
    "start_time": "2024-09-21T14:23:45.735Z"
   },
   {
    "duration": 17,
    "start_time": "2024-09-21T14:24:08.928Z"
   },
   {
    "duration": 33,
    "start_time": "2024-09-21T14:28:52.740Z"
   },
   {
    "duration": 32,
    "start_time": "2024-09-21T14:29:33.451Z"
   },
   {
    "duration": 33,
    "start_time": "2024-09-21T14:30:38.496Z"
   },
   {
    "duration": 164,
    "start_time": "2024-09-22T16:26:36.787Z"
   },
   {
    "duration": 13,
    "start_time": "2024-09-22T16:26:45.311Z"
   },
   {
    "duration": 317,
    "start_time": "2024-09-22T16:26:51.537Z"
   },
   {
    "duration": 170,
    "start_time": "2024-09-22T16:26:53.330Z"
   },
   {
    "duration": 15,
    "start_time": "2024-09-22T16:26:54.742Z"
   },
   {
    "duration": 24,
    "start_time": "2024-09-22T16:26:56.682Z"
   },
   {
    "duration": 4,
    "start_time": "2024-09-22T16:27:00.135Z"
   },
   {
    "duration": 5,
    "start_time": "2024-09-22T16:27:02.114Z"
   },
   {
    "duration": 4,
    "start_time": "2024-09-22T16:27:04.123Z"
   },
   {
    "duration": 20,
    "start_time": "2024-09-22T16:27:08.841Z"
   },
   {
    "duration": 23,
    "start_time": "2024-09-22T16:27:10.696Z"
   },
   {
    "duration": 17,
    "start_time": "2024-09-22T16:27:12.712Z"
   },
   {
    "duration": 38,
    "start_time": "2024-09-22T16:27:16.775Z"
   },
   {
    "duration": 14,
    "start_time": "2024-09-22T16:27:42.492Z"
   },
   {
    "duration": 11,
    "start_time": "2024-09-22T16:27:59.494Z"
   },
   {
    "duration": 299,
    "start_time": "2024-09-22T18:31:56.668Z"
   },
   {
    "duration": 157,
    "start_time": "2024-09-22T18:31:59.240Z"
   },
   {
    "duration": 14,
    "start_time": "2024-09-22T18:32:04.398Z"
   },
   {
    "duration": 10,
    "start_time": "2024-09-22T18:32:07.815Z"
   },
   {
    "duration": 86,
    "start_time": "2024-09-22T18:32:41.051Z"
   },
   {
    "duration": 41,
    "start_time": "2024-09-22T18:32:54.476Z"
   },
   {
    "duration": 41,
    "start_time": "2024-09-22T18:32:56.689Z"
   },
   {
    "duration": 7,
    "start_time": "2024-09-22T18:40:47.198Z"
   },
   {
    "duration": 42,
    "start_time": "2024-09-22T18:43:16.419Z"
   },
   {
    "duration": 50,
    "start_time": "2024-09-22T18:43:46.744Z"
   },
   {
    "duration": 3,
    "start_time": "2024-09-22T18:48:55.834Z"
   },
   {
    "duration": 5,
    "start_time": "2024-09-22T18:49:00.946Z"
   },
   {
    "duration": 4,
    "start_time": "2024-09-22T18:49:02.932Z"
   },
   {
    "duration": 20,
    "start_time": "2024-09-22T18:49:06.953Z"
   },
   {
    "duration": 28,
    "start_time": "2024-09-22T18:49:10.702Z"
   },
   {
    "duration": 17,
    "start_time": "2024-09-22T18:49:12.134Z"
   },
   {
    "duration": 33,
    "start_time": "2024-09-22T18:49:14.002Z"
   },
   {
    "duration": 38,
    "start_time": "2024-09-22T18:49:15.921Z"
   },
   {
    "duration": 38,
    "start_time": "2024-09-22T19:04:25.440Z"
   },
   {
    "duration": 3,
    "start_time": "2024-09-22T19:04:42.662Z"
   },
   {
    "duration": 113,
    "start_time": "2024-09-22T19:04:43.747Z"
   },
   {
    "duration": 10,
    "start_time": "2024-09-22T19:04:45.008Z"
   },
   {
    "duration": 23,
    "start_time": "2024-09-22T19:04:48.708Z"
   },
   {
    "duration": 4,
    "start_time": "2024-09-22T19:04:51.545Z"
   },
   {
    "duration": 7,
    "start_time": "2024-09-22T19:04:52.998Z"
   },
   {
    "duration": 4,
    "start_time": "2024-09-22T19:04:54.249Z"
   },
   {
    "duration": 18,
    "start_time": "2024-09-22T19:04:56.251Z"
   },
   {
    "duration": 22,
    "start_time": "2024-09-22T19:04:57.378Z"
   },
   {
    "duration": 16,
    "start_time": "2024-09-22T19:04:59.148Z"
   },
   {
    "duration": 37,
    "start_time": "2024-09-22T19:05:02.387Z"
   },
   {
    "duration": 39,
    "start_time": "2024-09-22T19:05:04.052Z"
   },
   {
    "duration": 11,
    "start_time": "2024-09-22T19:07:33.507Z"
   },
   {
    "duration": 103,
    "start_time": "2024-09-22T19:08:00.974Z"
   },
   {
    "duration": 13,
    "start_time": "2024-09-22T19:08:54.975Z"
   },
   {
    "duration": 33,
    "start_time": "2024-09-22T19:09:00.812Z"
   },
   {
    "duration": 45,
    "start_time": "2024-09-22T19:10:35.596Z"
   },
   {
    "duration": 38,
    "start_time": "2024-09-22T19:11:18.906Z"
   },
   {
    "duration": 47,
    "start_time": "2024-09-22T19:13:38.429Z"
   },
   {
    "duration": 37,
    "start_time": "2024-09-22T19:14:07.787Z"
   },
   {
    "duration": 38,
    "start_time": "2024-09-22T19:15:15.470Z"
   },
   {
    "duration": 40,
    "start_time": "2024-09-22T19:16:20.924Z"
   },
   {
    "duration": 37,
    "start_time": "2024-09-22T19:17:11.688Z"
   },
   {
    "duration": 3,
    "start_time": "2024-09-22T19:18:15.627Z"
   },
   {
    "duration": 3,
    "start_time": "2024-09-22T19:18:31.204Z"
   },
   {
    "duration": 40,
    "start_time": "2024-09-22T19:18:32.637Z"
   },
   {
    "duration": 44,
    "start_time": "2024-09-22T19:18:34.146Z"
   },
   {
    "duration": 34,
    "start_time": "2024-09-22T19:18:38.304Z"
   },
   {
    "duration": 4,
    "start_time": "2024-09-22T19:20:28.434Z"
   },
   {
    "duration": 3,
    "start_time": "2024-09-22T19:20:40.170Z"
   },
   {
    "duration": 114,
    "start_time": "2024-09-22T19:20:41.548Z"
   },
   {
    "duration": 12,
    "start_time": "2024-09-22T19:20:42.973Z"
   },
   {
    "duration": 23,
    "start_time": "2024-09-22T19:20:44.406Z"
   },
   {
    "duration": 4,
    "start_time": "2024-09-22T19:20:46.905Z"
   },
   {
    "duration": 7,
    "start_time": "2024-09-22T19:20:48.778Z"
   },
   {
    "duration": 4,
    "start_time": "2024-09-22T19:20:49.908Z"
   },
   {
    "duration": 20,
    "start_time": "2024-09-22T19:20:51.528Z"
   },
   {
    "duration": 22,
    "start_time": "2024-09-22T19:20:53.145Z"
   },
   {
    "duration": 18,
    "start_time": "2024-09-22T19:20:54.685Z"
   },
   {
    "duration": 4,
    "start_time": "2024-09-22T19:20:56.779Z"
   },
   {
    "duration": 3,
    "start_time": "2024-09-22T19:21:32.153Z"
   },
   {
    "duration": 40,
    "start_time": "2024-09-22T19:21:33.342Z"
   },
   {
    "duration": 42,
    "start_time": "2024-09-22T19:21:37.019Z"
   },
   {
    "duration": 33,
    "start_time": "2024-09-22T19:21:40.021Z"
   },
   {
    "duration": 4,
    "start_time": "2024-09-22T19:21:50.163Z"
   },
   {
    "duration": 7,
    "start_time": "2024-09-22T19:31:42.717Z"
   },
   {
    "duration": 16,
    "start_time": "2024-09-22T19:32:11.583Z"
   },
   {
    "duration": 5,
    "start_time": "2024-09-22T19:32:20.332Z"
   },
   {
    "duration": 5,
    "start_time": "2024-09-22T19:32:26.204Z"
   },
   {
    "duration": 10,
    "start_time": "2024-09-22T19:34:26.192Z"
   },
   {
    "duration": 10,
    "start_time": "2024-09-22T19:34:37.000Z"
   },
   {
    "duration": 16,
    "start_time": "2024-09-22T19:35:02.528Z"
   },
   {
    "duration": 5,
    "start_time": "2024-09-22T19:35:07.550Z"
   },
   {
    "duration": 7,
    "start_time": "2024-09-22T19:36:44.668Z"
   },
   {
    "duration": 5,
    "start_time": "2024-09-22T19:40:22.108Z"
   },
   {
    "duration": 11,
    "start_time": "2024-09-22T19:41:08.987Z"
   },
   {
    "duration": 11,
    "start_time": "2024-09-22T19:41:17.193Z"
   },
   {
    "duration": 11,
    "start_time": "2024-09-22T19:52:34.324Z"
   },
   {
    "duration": 11,
    "start_time": "2024-09-22T19:52:41.908Z"
   },
   {
    "duration": 11,
    "start_time": "2024-09-22T19:53:38.051Z"
   },
   {
    "duration": 10,
    "start_time": "2024-09-22T19:53:43.438Z"
   },
   {
    "duration": 6,
    "start_time": "2024-09-22T19:55:44.769Z"
   },
   {
    "duration": 161,
    "start_time": "2024-09-22T20:43:43.981Z"
   },
   {
    "duration": 291,
    "start_time": "2024-09-22T20:43:47.054Z"
   },
   {
    "duration": 147,
    "start_time": "2024-09-22T20:43:48.481Z"
   },
   {
    "duration": 17,
    "start_time": "2024-09-22T20:43:56.761Z"
   },
   {
    "duration": 23,
    "start_time": "2024-09-22T20:43:58.492Z"
   },
   {
    "duration": 4,
    "start_time": "2024-09-22T20:44:01.198Z"
   },
   {
    "duration": 6,
    "start_time": "2024-09-22T20:44:02.398Z"
   },
   {
    "duration": 4,
    "start_time": "2024-09-22T20:44:03.829Z"
   },
   {
    "duration": 22,
    "start_time": "2024-09-22T20:44:05.124Z"
   },
   {
    "duration": 25,
    "start_time": "2024-09-22T20:44:06.271Z"
   },
   {
    "duration": 18,
    "start_time": "2024-09-22T20:44:07.419Z"
   },
   {
    "duration": 34,
    "start_time": "2024-09-22T20:44:08.704Z"
   },
   {
    "duration": 11,
    "start_time": "2024-09-22T20:44:23.503Z"
   },
   {
    "duration": 12,
    "start_time": "2024-09-22T20:44:27.541Z"
   },
   {
    "duration": 12,
    "start_time": "2024-09-22T20:44:41.555Z"
   },
   {
    "duration": 14,
    "start_time": "2024-09-22T20:45:00.349Z"
   },
   {
    "duration": 12,
    "start_time": "2024-09-22T20:45:23.964Z"
   },
   {
    "duration": 11,
    "start_time": "2024-09-22T20:45:30.071Z"
   },
   {
    "duration": 12,
    "start_time": "2024-09-22T20:45:38.677Z"
   },
   {
    "duration": 44,
    "start_time": "2024-09-22T20:45:44.078Z"
   },
   {
    "duration": 14,
    "start_time": "2024-09-22T20:45:48.395Z"
   },
   {
    "duration": 34,
    "start_time": "2024-09-22T20:46:15.897Z"
   },
   {
    "duration": 40,
    "start_time": "2024-09-22T20:46:18.617Z"
   },
   {
    "duration": 41,
    "start_time": "2024-09-22T20:46:20.560Z"
   },
   {
    "duration": 12,
    "start_time": "2024-09-22T20:46:22.359Z"
   },
   {
    "duration": 12,
    "start_time": "2024-09-22T20:46:28.197Z"
   },
   {
    "duration": 33,
    "start_time": "2024-09-22T20:46:32.081Z"
   },
   {
    "duration": 34,
    "start_time": "2024-09-22T20:47:03.591Z"
   },
   {
    "duration": 7,
    "start_time": "2024-09-22T20:47:07.740Z"
   },
   {
    "duration": 166,
    "start_time": "2024-09-23T20:17:25.871Z"
   },
   {
    "duration": 309,
    "start_time": "2024-09-23T20:17:31.159Z"
   },
   {
    "duration": 156,
    "start_time": "2024-09-23T20:17:31.947Z"
   },
   {
    "duration": 14,
    "start_time": "2024-09-23T20:17:32.812Z"
   },
   {
    "duration": 23,
    "start_time": "2024-09-23T20:17:33.785Z"
   },
   {
    "duration": 3,
    "start_time": "2024-09-23T20:17:36.314Z"
   },
   {
    "duration": 5,
    "start_time": "2024-09-23T20:17:38.485Z"
   },
   {
    "duration": 4,
    "start_time": "2024-09-23T20:17:39.996Z"
   },
   {
    "duration": 19,
    "start_time": "2024-09-23T20:17:45.643Z"
   },
   {
    "duration": 22,
    "start_time": "2024-09-23T20:17:47.973Z"
   },
   {
    "duration": 17,
    "start_time": "2024-09-23T20:17:50.139Z"
   },
   {
    "duration": 35,
    "start_time": "2024-09-23T20:23:24.821Z"
   },
   {
    "duration": 39,
    "start_time": "2024-09-23T20:24:17.601Z"
   },
   {
    "duration": 31,
    "start_time": "2024-09-23T20:26:31.825Z"
   },
   {
    "duration": 36,
    "start_time": "2024-09-23T20:27:08.570Z"
   },
   {
    "duration": 12,
    "start_time": "2024-09-23T20:27:12.478Z"
   },
   {
    "duration": 31,
    "start_time": "2024-09-23T20:27:18.328Z"
   },
   {
    "duration": 12,
    "start_time": "2024-09-23T20:28:27.144Z"
   },
   {
    "duration": 33,
    "start_time": "2024-09-23T20:28:39.972Z"
   },
   {
    "duration": 38,
    "start_time": "2024-09-23T20:29:21.527Z"
   },
   {
    "duration": 41,
    "start_time": "2024-09-23T20:29:34.700Z"
   },
   {
    "duration": 39,
    "start_time": "2024-09-23T20:29:54.642Z"
   },
   {
    "duration": 38,
    "start_time": "2024-09-23T20:30:29.679Z"
   },
   {
    "duration": 38,
    "start_time": "2024-09-23T20:31:20.921Z"
   },
   {
    "duration": 40,
    "start_time": "2024-09-23T20:31:24.914Z"
   },
   {
    "duration": 44,
    "start_time": "2024-09-23T20:31:33.790Z"
   },
   {
    "duration": 45,
    "start_time": "2024-09-23T20:34:50.784Z"
   },
   {
    "duration": 33,
    "start_time": "2024-09-23T20:34:56.713Z"
   },
   {
    "duration": 39,
    "start_time": "2024-09-23T20:37:31.787Z"
   },
   {
    "duration": 43,
    "start_time": "2024-09-23T20:40:46.527Z"
   },
   {
    "duration": 43,
    "start_time": "2024-09-23T20:40:52.206Z"
   },
   {
    "duration": 44,
    "start_time": "2024-09-23T21:02:33.685Z"
   },
   {
    "duration": 46,
    "start_time": "2024-09-23T21:03:09.126Z"
   },
   {
    "duration": 48,
    "start_time": "2024-09-23T21:04:07.492Z"
   },
   {
    "duration": 34,
    "start_time": "2024-09-23T21:04:21.019Z"
   },
   {
    "duration": 29,
    "start_time": "2024-09-23T21:05:08.886Z"
   },
   {
    "duration": 6,
    "start_time": "2024-09-23T21:05:11.005Z"
   },
   {
    "duration": 17,
    "start_time": "2024-09-23T21:35:45.200Z"
   },
   {
    "duration": 3,
    "start_time": "2024-09-23T21:36:09.618Z"
   },
   {
    "duration": 5,
    "start_time": "2024-09-23T21:36:11.368Z"
   },
   {
    "duration": 8,
    "start_time": "2024-09-23T21:37:01.721Z"
   },
   {
    "duration": 3,
    "start_time": "2024-09-23T21:39:45.402Z"
   },
   {
    "duration": 5,
    "start_time": "2024-09-23T21:39:46.538Z"
   },
   {
    "duration": 8,
    "start_time": "2024-09-23T21:39:51.919Z"
   },
   {
    "duration": 15,
    "start_time": "2024-09-23T21:40:36.120Z"
   },
   {
    "duration": 7,
    "start_time": "2024-09-23T21:40:37.274Z"
   },
   {
    "duration": 2,
    "start_time": "2024-09-23T21:44:09.541Z"
   },
   {
    "duration": 8,
    "start_time": "2024-09-23T21:58:04.135Z"
   },
   {
    "duration": 6,
    "start_time": "2024-09-23T21:58:56.179Z"
   },
   {
    "duration": 4,
    "start_time": "2024-09-23T21:59:16.601Z"
   },
   {
    "duration": 9,
    "start_time": "2024-09-23T21:59:34.889Z"
   },
   {
    "duration": 373,
    "start_time": "2024-09-23T22:13:23.831Z"
   },
   {
    "duration": 39,
    "start_time": "2024-09-23T22:15:15.068Z"
   },
   {
    "duration": 39,
    "start_time": "2024-09-23T22:18:44.321Z"
   },
   {
    "duration": 12,
    "start_time": "2024-09-23T22:19:25.197Z"
   },
   {
    "duration": 19,
    "start_time": "2024-09-23T22:23:31.589Z"
   },
   {
    "duration": 15,
    "start_time": "2024-09-23T22:23:39.889Z"
   },
   {
    "duration": 8,
    "start_time": "2024-09-23T22:23:50.096Z"
   },
   {
    "duration": 16,
    "start_time": "2024-09-23T22:23:53.483Z"
   },
   {
    "duration": 8,
    "start_time": "2024-09-23T22:23:59.183Z"
   },
   {
    "duration": 8,
    "start_time": "2024-09-23T22:24:09.049Z"
   },
   {
    "duration": 8,
    "start_time": "2024-09-23T22:24:10.727Z"
   },
   {
    "duration": 11,
    "start_time": "2024-09-23T22:24:14.801Z"
   },
   {
    "duration": 17,
    "start_time": "2024-09-23T22:24:22.830Z"
   },
   {
    "duration": 9,
    "start_time": "2024-09-23T22:24:49.846Z"
   },
   {
    "duration": 8,
    "start_time": "2024-09-23T22:24:50.855Z"
   },
   {
    "duration": 11,
    "start_time": "2024-09-23T22:24:53.925Z"
   },
   {
    "duration": 17,
    "start_time": "2024-09-23T22:25:04.086Z"
   },
   {
    "duration": 11,
    "start_time": "2024-09-23T22:25:07.394Z"
   },
   {
    "duration": 12,
    "start_time": "2024-09-23T22:25:08.635Z"
   },
   {
    "duration": 4,
    "start_time": "2024-09-23T22:25:10.518Z"
   },
   {
    "duration": 2,
    "start_time": "2024-09-23T22:28:16.867Z"
   },
   {
    "duration": 120,
    "start_time": "2024-09-23T22:28:17.793Z"
   },
   {
    "duration": 11,
    "start_time": "2024-09-23T22:28:18.815Z"
   },
   {
    "duration": 23,
    "start_time": "2024-09-23T22:28:23.481Z"
   },
   {
    "duration": 3,
    "start_time": "2024-09-23T22:28:41.665Z"
   },
   {
    "duration": 6,
    "start_time": "2024-09-23T22:28:44.064Z"
   },
   {
    "duration": 4,
    "start_time": "2024-09-23T22:28:45.147Z"
   },
   {
    "duration": 19,
    "start_time": "2024-09-23T22:28:49.920Z"
   },
   {
    "duration": 25,
    "start_time": "2024-09-23T22:29:07.998Z"
   },
   {
    "duration": 18,
    "start_time": "2024-09-23T22:29:09.521Z"
   },
   {
    "duration": 40,
    "start_time": "2024-09-23T22:29:13.808Z"
   },
   {
    "duration": 49,
    "start_time": "2024-09-23T22:29:20.500Z"
   },
   {
    "duration": 44,
    "start_time": "2024-09-23T22:29:23.058Z"
   },
   {
    "duration": 37,
    "start_time": "2024-09-23T22:29:24.607Z"
   },
   {
    "duration": 6,
    "start_time": "2024-09-23T22:29:27.014Z"
   },
   {
    "duration": 3,
    "start_time": "2024-09-23T22:29:31.759Z"
   },
   {
    "duration": 14,
    "start_time": "2024-09-23T22:29:33.385Z"
   },
   {
    "duration": 6,
    "start_time": "2024-09-23T22:29:36.351Z"
   },
   {
    "duration": 9,
    "start_time": "2024-09-23T22:29:44.240Z"
   },
   {
    "duration": 9,
    "start_time": "2024-09-23T22:29:44.795Z"
   },
   {
    "duration": 15,
    "start_time": "2024-09-23T22:29:53.151Z"
   },
   {
    "duration": 5,
    "start_time": "2024-09-23T22:30:32.612Z"
   },
   {
    "duration": 9,
    "start_time": "2024-09-23T22:30:51.257Z"
   },
   {
    "duration": 10,
    "start_time": "2024-09-23T22:31:12.623Z"
   },
   {
    "duration": 9,
    "start_time": "2024-09-23T22:31:29.308Z"
   },
   {
    "duration": 35,
    "start_time": "2024-09-23T22:31:39.025Z"
   },
   {
    "duration": 9,
    "start_time": "2024-09-23T22:31:48.094Z"
   },
   {
    "duration": 129,
    "start_time": "2024-09-23T22:32:17.470Z"
   },
   {
    "duration": 9,
    "start_time": "2024-09-23T22:33:42.291Z"
   },
   {
    "duration": 11,
    "start_time": "2024-09-23T22:34:07.152Z"
   },
   {
    "duration": 12,
    "start_time": "2024-09-23T22:34:59.550Z"
   },
   {
    "duration": 12,
    "start_time": "2024-09-23T22:35:10.523Z"
   },
   {
    "duration": 65,
    "start_time": "2024-09-23T22:41:29.094Z"
   },
   {
    "duration": 6,
    "start_time": "2024-09-23T22:41:40.202Z"
   },
   {
    "duration": 6,
    "start_time": "2024-09-23T23:09:30.534Z"
   },
   {
    "duration": 307,
    "start_time": "2024-09-24T20:04:58.453Z"
   },
   {
    "duration": 154,
    "start_time": "2024-09-24T20:04:59.174Z"
   },
   {
    "duration": 14,
    "start_time": "2024-09-24T20:05:00.621Z"
   },
   {
    "duration": 23,
    "start_time": "2024-09-24T20:05:03.273Z"
   },
   {
    "duration": 4,
    "start_time": "2024-09-24T20:05:05.754Z"
   },
   {
    "duration": 5,
    "start_time": "2024-09-24T20:05:07.480Z"
   },
   {
    "duration": 4,
    "start_time": "2024-09-24T20:05:08.706Z"
   },
   {
    "duration": 21,
    "start_time": "2024-09-24T20:05:10.431Z"
   },
   {
    "duration": 25,
    "start_time": "2024-09-24T20:05:11.342Z"
   },
   {
    "duration": 17,
    "start_time": "2024-09-24T20:05:12.536Z"
   },
   {
    "duration": 40,
    "start_time": "2024-09-24T20:05:13.961Z"
   },
   {
    "duration": 49,
    "start_time": "2024-09-24T20:05:15.528Z"
   },
   {
    "duration": 56,
    "start_time": "2024-09-24T20:05:17.814Z"
   },
   {
    "duration": 41,
    "start_time": "2024-09-24T20:05:18.828Z"
   },
   {
    "duration": 6,
    "start_time": "2024-09-24T20:05:20.833Z"
   },
   {
    "duration": 3,
    "start_time": "2024-09-24T20:05:22.981Z"
   },
   {
    "duration": 13,
    "start_time": "2024-09-24T20:05:24.291Z"
   },
   {
    "duration": 6,
    "start_time": "2024-09-24T20:05:25.932Z"
   },
   {
    "duration": 8,
    "start_time": "2024-09-24T20:05:33.805Z"
   },
   {
    "duration": 9,
    "start_time": "2024-09-24T20:05:34.309Z"
   },
   {
    "duration": 12,
    "start_time": "2024-09-24T20:05:37.592Z"
   },
   {
    "duration": 6,
    "start_time": "2024-09-24T20:05:44.057Z"
   },
   {
    "duration": 7,
    "start_time": "2024-09-24T20:14:43.202Z"
   },
   {
    "duration": 195,
    "start_time": "2024-09-24T20:15:34.621Z"
   },
   {
    "duration": 18,
    "start_time": "2024-09-24T20:15:45.925Z"
   },
   {
    "duration": 23,
    "start_time": "2024-09-24T20:15:58.007Z"
   },
   {
    "duration": 18,
    "start_time": "2024-09-24T20:17:13.931Z"
   },
   {
    "duration": 18,
    "start_time": "2024-09-24T20:18:05.137Z"
   },
   {
    "duration": 72,
    "start_time": "2024-09-24T20:18:25.660Z"
   },
   {
    "duration": 18,
    "start_time": "2024-09-24T20:18:32.956Z"
   },
   {
    "duration": 2,
    "start_time": "2024-09-24T20:18:38.179Z"
   },
   {
    "duration": 115,
    "start_time": "2024-09-24T20:18:40.812Z"
   },
   {
    "duration": 10,
    "start_time": "2024-09-24T20:18:41.645Z"
   },
   {
    "duration": 23,
    "start_time": "2024-09-24T20:18:42.735Z"
   },
   {
    "duration": 4,
    "start_time": "2024-09-24T20:18:44.435Z"
   },
   {
    "duration": 6,
    "start_time": "2024-09-24T20:18:45.452Z"
   },
   {
    "duration": 4,
    "start_time": "2024-09-24T20:18:46.300Z"
   },
   {
    "duration": 23,
    "start_time": "2024-09-24T20:18:47.389Z"
   },
   {
    "duration": 25,
    "start_time": "2024-09-24T20:18:48.504Z"
   },
   {
    "duration": 19,
    "start_time": "2024-09-24T20:18:49.452Z"
   },
   {
    "duration": 39,
    "start_time": "2024-09-24T20:18:50.445Z"
   },
   {
    "duration": 49,
    "start_time": "2024-09-24T20:18:51.299Z"
   },
   {
    "duration": 44,
    "start_time": "2024-09-24T20:18:52.339Z"
   },
   {
    "duration": 37,
    "start_time": "2024-09-24T20:18:53.196Z"
   },
   {
    "duration": 5,
    "start_time": "2024-09-24T20:18:54.666Z"
   },
   {
    "duration": 3,
    "start_time": "2024-09-24T20:18:56.310Z"
   },
   {
    "duration": 13,
    "start_time": "2024-09-24T20:18:57.358Z"
   },
   {
    "duration": 6,
    "start_time": "2024-09-24T20:18:58.648Z"
   },
   {
    "duration": 8,
    "start_time": "2024-09-24T20:19:02.521Z"
   },
   {
    "duration": 9,
    "start_time": "2024-09-24T20:19:03.121Z"
   },
   {
    "duration": 12,
    "start_time": "2024-09-24T20:19:08.277Z"
   },
   {
    "duration": 5,
    "start_time": "2024-09-24T20:19:12.453Z"
   },
   {
    "duration": 16,
    "start_time": "2024-09-24T20:19:18.471Z"
   },
   {
    "duration": 17,
    "start_time": "2024-09-24T20:20:50.885Z"
   },
   {
    "duration": 49,
    "start_time": "2024-09-24T20:21:03.406Z"
   },
   {
    "duration": 17,
    "start_time": "2024-09-24T20:21:20.749Z"
   },
   {
    "duration": 20,
    "start_time": "2024-09-24T20:21:53.534Z"
   },
   {
    "duration": 12,
    "start_time": "2024-09-24T20:22:15.958Z"
   },
   {
    "duration": 9,
    "start_time": "2024-09-24T20:30:24.317Z"
   },
   {
    "duration": 18,
    "start_time": "2024-09-24T20:30:37.303Z"
   },
   {
    "duration": 9,
    "start_time": "2024-09-24T20:30:43.400Z"
   },
   {
    "duration": 10,
    "start_time": "2024-09-24T20:30:52.241Z"
   },
   {
    "duration": 10,
    "start_time": "2024-09-24T20:31:01.665Z"
   },
   {
    "duration": 5,
    "start_time": "2024-09-24T20:31:06.868Z"
   },
   {
    "duration": 3,
    "start_time": "2024-09-24T20:31:13.616Z"
   },
   {
    "duration": 114,
    "start_time": "2024-09-24T20:31:14.430Z"
   },
   {
    "duration": 9,
    "start_time": "2024-09-24T20:31:15.255Z"
   },
   {
    "duration": 23,
    "start_time": "2024-09-24T20:31:16.390Z"
   },
   {
    "duration": 4,
    "start_time": "2024-09-24T20:31:18.160Z"
   },
   {
    "duration": 6,
    "start_time": "2024-09-24T20:31:19.010Z"
   },
   {
    "duration": 4,
    "start_time": "2024-09-24T20:31:19.857Z"
   },
   {
    "duration": 19,
    "start_time": "2024-09-24T20:31:20.734Z"
   },
   {
    "duration": 26,
    "start_time": "2024-09-24T20:31:21.528Z"
   },
   {
    "duration": 19,
    "start_time": "2024-09-24T20:31:22.392Z"
   },
   {
    "duration": 38,
    "start_time": "2024-09-24T20:31:23.349Z"
   },
   {
    "duration": 49,
    "start_time": "2024-09-24T20:31:24.235Z"
   },
   {
    "duration": 44,
    "start_time": "2024-09-24T20:31:25.205Z"
   },
   {
    "duration": 39,
    "start_time": "2024-09-24T20:31:26.086Z"
   },
   {
    "duration": 6,
    "start_time": "2024-09-24T20:31:27.461Z"
   },
   {
    "duration": 3,
    "start_time": "2024-09-24T20:31:28.337Z"
   },
   {
    "duration": 13,
    "start_time": "2024-09-24T20:31:32.517Z"
   },
   {
    "duration": 6,
    "start_time": "2024-09-24T20:31:33.874Z"
   },
   {
    "duration": 8,
    "start_time": "2024-09-24T20:31:37.190Z"
   },
   {
    "duration": 9,
    "start_time": "2024-09-24T20:31:37.760Z"
   },
   {
    "duration": 13,
    "start_time": "2024-09-24T20:31:39.921Z"
   },
   {
    "duration": 6,
    "start_time": "2024-09-24T20:31:41.467Z"
   },
   {
    "duration": 12,
    "start_time": "2024-09-24T20:31:53.189Z"
   },
   {
    "duration": 8,
    "start_time": "2024-09-24T20:33:19.738Z"
   },
   {
    "duration": 9,
    "start_time": "2024-09-24T20:33:59.075Z"
   },
   {
    "duration": 7,
    "start_time": "2024-09-24T20:34:10.873Z"
   },
   {
    "duration": 14,
    "start_time": "2024-09-24T20:36:49.932Z"
   },
   {
    "duration": 13,
    "start_time": "2024-09-24T20:36:57.006Z"
   },
   {
    "duration": 13,
    "start_time": "2024-09-24T20:37:12.211Z"
   },
   {
    "duration": 13,
    "start_time": "2024-09-24T20:37:18.599Z"
   },
   {
    "duration": 11,
    "start_time": "2024-09-24T20:37:24.128Z"
   },
   {
    "duration": 11,
    "start_time": "2024-09-24T20:38:04.708Z"
   },
   {
    "duration": 2,
    "start_time": "2024-09-24T20:38:20.737Z"
   },
   {
    "duration": 114,
    "start_time": "2024-09-24T20:38:21.718Z"
   },
   {
    "duration": 10,
    "start_time": "2024-09-24T20:38:22.572Z"
   },
   {
    "duration": 23,
    "start_time": "2024-09-24T20:38:23.375Z"
   },
   {
    "duration": 6,
    "start_time": "2024-09-24T20:38:25.094Z"
   },
   {
    "duration": 10,
    "start_time": "2024-09-24T20:38:26.011Z"
   },
   {
    "duration": 3,
    "start_time": "2024-09-24T20:38:26.931Z"
   },
   {
    "duration": 22,
    "start_time": "2024-09-24T20:38:27.860Z"
   },
   {
    "duration": 35,
    "start_time": "2024-09-24T20:38:28.837Z"
   },
   {
    "duration": 19,
    "start_time": "2024-09-24T20:38:29.763Z"
   },
   {
    "duration": 58,
    "start_time": "2024-09-24T20:38:30.721Z"
   },
   {
    "duration": 51,
    "start_time": "2024-09-24T20:38:31.736Z"
   },
   {
    "duration": 42,
    "start_time": "2024-09-24T20:38:32.927Z"
   },
   {
    "duration": 36,
    "start_time": "2024-09-24T20:38:33.944Z"
   },
   {
    "duration": 6,
    "start_time": "2024-09-24T20:38:35.476Z"
   },
   {
    "duration": 3,
    "start_time": "2024-09-24T20:38:36.610Z"
   },
   {
    "duration": 18,
    "start_time": "2024-09-24T20:38:37.726Z"
   },
   {
    "duration": 6,
    "start_time": "2024-09-24T20:38:38.774Z"
   },
   {
    "duration": 8,
    "start_time": "2024-09-24T20:38:41.829Z"
   },
   {
    "duration": 9,
    "start_time": "2024-09-24T20:38:42.287Z"
   },
   {
    "duration": 12,
    "start_time": "2024-09-24T20:38:43.765Z"
   },
   {
    "duration": 7,
    "start_time": "2024-09-24T20:38:46.098Z"
   },
   {
    "duration": 12,
    "start_time": "2024-09-24T20:38:52.653Z"
   },
   {
    "duration": 14,
    "start_time": "2024-09-24T20:39:00.258Z"
   },
   {
    "duration": 14,
    "start_time": "2024-09-24T20:39:06.296Z"
   },
   {
    "duration": 16,
    "start_time": "2024-09-24T20:39:31.580Z"
   },
   {
    "duration": 15,
    "start_time": "2024-09-24T20:39:47.619Z"
   },
   {
    "duration": 15,
    "start_time": "2024-09-24T20:41:21.256Z"
   },
   {
    "duration": 14,
    "start_time": "2024-09-24T20:41:54.360Z"
   },
   {
    "duration": 14,
    "start_time": "2024-09-24T20:42:05.976Z"
   },
   {
    "duration": 16,
    "start_time": "2024-09-24T20:42:19.331Z"
   },
   {
    "duration": 14,
    "start_time": "2024-09-24T20:42:49.301Z"
   },
   {
    "duration": 8,
    "start_time": "2024-09-24T20:43:58.266Z"
   },
   {
    "duration": 12,
    "start_time": "2024-09-24T20:44:16.775Z"
   },
   {
    "duration": 12,
    "start_time": "2024-09-24T20:44:22.463Z"
   },
   {
    "duration": 13,
    "start_time": "2024-09-24T20:44:29.038Z"
   },
   {
    "duration": 14,
    "start_time": "2024-09-24T20:44:33.566Z"
   },
   {
    "duration": 13,
    "start_time": "2024-09-24T20:44:40.996Z"
   },
   {
    "duration": 3,
    "start_time": "2024-09-24T20:44:47.856Z"
   },
   {
    "duration": 110,
    "start_time": "2024-09-24T20:44:48.413Z"
   },
   {
    "duration": 10,
    "start_time": "2024-09-24T20:44:52.534Z"
   },
   {
    "duration": 22,
    "start_time": "2024-09-24T20:44:54.830Z"
   },
   {
    "duration": 4,
    "start_time": "2024-09-24T20:44:57.125Z"
   },
   {
    "duration": 7,
    "start_time": "2024-09-24T20:44:58.256Z"
   },
   {
    "duration": 4,
    "start_time": "2024-09-24T20:44:59.152Z"
   },
   {
    "duration": 21,
    "start_time": "2024-09-24T20:45:00.095Z"
   },
   {
    "duration": 24,
    "start_time": "2024-09-24T20:45:01.029Z"
   },
   {
    "duration": 20,
    "start_time": "2024-09-24T20:45:01.945Z"
   },
   {
    "duration": 40,
    "start_time": "2024-09-24T20:45:03.038Z"
   },
   {
    "duration": 51,
    "start_time": "2024-09-24T20:45:04.068Z"
   },
   {
    "duration": 44,
    "start_time": "2024-09-24T20:45:05.247Z"
   },
   {
    "duration": 37,
    "start_time": "2024-09-24T20:45:06.344Z"
   },
   {
    "duration": 6,
    "start_time": "2024-09-24T20:45:08.041Z"
   },
   {
    "duration": 3,
    "start_time": "2024-09-24T20:45:09.110Z"
   },
   {
    "duration": 13,
    "start_time": "2024-09-24T20:45:10.145Z"
   },
   {
    "duration": 7,
    "start_time": "2024-09-24T20:45:11.198Z"
   },
   {
    "duration": 9,
    "start_time": "2024-09-24T20:45:14.254Z"
   },
   {
    "duration": 9,
    "start_time": "2024-09-24T20:45:14.958Z"
   },
   {
    "duration": 12,
    "start_time": "2024-09-24T20:45:16.281Z"
   },
   {
    "duration": 6,
    "start_time": "2024-09-24T20:45:17.655Z"
   },
   {
    "duration": 12,
    "start_time": "2024-09-24T20:45:19.982Z"
   },
   {
    "duration": 14,
    "start_time": "2024-09-24T20:45:35.440Z"
   },
   {
    "duration": 13,
    "start_time": "2024-09-24T20:46:18.196Z"
   },
   {
    "duration": 3,
    "start_time": "2024-09-24T20:46:23.398Z"
   },
   {
    "duration": 109,
    "start_time": "2024-09-24T20:46:24.101Z"
   },
   {
    "duration": 10,
    "start_time": "2024-09-24T20:46:24.799Z"
   },
   {
    "duration": 22,
    "start_time": "2024-09-24T20:46:25.664Z"
   },
   {
    "duration": 5,
    "start_time": "2024-09-24T20:46:27.426Z"
   },
   {
    "duration": 7,
    "start_time": "2024-09-24T20:46:28.349Z"
   },
   {
    "duration": 4,
    "start_time": "2024-09-24T20:46:29.299Z"
   },
   {
    "duration": 20,
    "start_time": "2024-09-24T20:46:30.210Z"
   },
   {
    "duration": 24,
    "start_time": "2024-09-24T20:46:31.063Z"
   },
   {
    "duration": 24,
    "start_time": "2024-09-24T20:46:31.890Z"
   },
   {
    "duration": 40,
    "start_time": "2024-09-24T20:46:32.782Z"
   },
   {
    "duration": 51,
    "start_time": "2024-09-24T20:46:33.625Z"
   },
   {
    "duration": 47,
    "start_time": "2024-09-24T20:46:34.541Z"
   },
   {
    "duration": 38,
    "start_time": "2024-09-24T20:46:35.439Z"
   },
   {
    "duration": 6,
    "start_time": "2024-09-24T20:46:36.768Z"
   },
   {
    "duration": 3,
    "start_time": "2024-09-24T20:46:37.721Z"
   },
   {
    "duration": 13,
    "start_time": "2024-09-24T20:46:38.687Z"
   },
   {
    "duration": 6,
    "start_time": "2024-09-24T20:46:39.610Z"
   },
   {
    "duration": 10,
    "start_time": "2024-09-24T20:46:42.127Z"
   },
   {
    "duration": 10,
    "start_time": "2024-09-24T20:46:42.629Z"
   },
   {
    "duration": 17,
    "start_time": "2024-09-24T20:46:43.592Z"
   },
   {
    "duration": 7,
    "start_time": "2024-09-24T20:46:44.693Z"
   },
   {
    "duration": 11,
    "start_time": "2024-09-24T20:46:46.374Z"
   },
   {
    "duration": 17,
    "start_time": "2024-09-24T20:46:48.271Z"
   },
   {
    "duration": 279,
    "start_time": "2024-09-24T21:33:37.093Z"
   },
   {
    "duration": 149,
    "start_time": "2024-09-24T21:33:37.374Z"
   },
   {
    "duration": 15,
    "start_time": "2024-09-24T21:33:37.525Z"
   },
   {
    "duration": 23,
    "start_time": "2024-09-24T21:33:37.542Z"
   },
   {
    "duration": 4,
    "start_time": "2024-09-24T21:33:37.568Z"
   },
   {
    "duration": 7,
    "start_time": "2024-09-24T21:33:37.574Z"
   },
   {
    "duration": 4,
    "start_time": "2024-09-24T21:33:37.582Z"
   },
   {
    "duration": 55,
    "start_time": "2024-09-24T21:33:37.588Z"
   },
   {
    "duration": 24,
    "start_time": "2024-09-24T21:33:37.645Z"
   },
   {
    "duration": 18,
    "start_time": "2024-09-24T21:33:37.670Z"
   },
   {
    "duration": 58,
    "start_time": "2024-09-24T21:33:37.689Z"
   },
   {
    "duration": 49,
    "start_time": "2024-09-24T21:33:37.748Z"
   },
   {
    "duration": 60,
    "start_time": "2024-09-24T21:33:37.798Z"
   },
   {
    "duration": 37,
    "start_time": "2024-09-24T21:33:37.861Z"
   },
   {
    "duration": 6,
    "start_time": "2024-09-24T21:33:37.899Z"
   },
   {
    "duration": 2,
    "start_time": "2024-09-24T21:33:37.926Z"
   },
   {
    "duration": 14,
    "start_time": "2024-09-24T21:33:37.930Z"
   },
   {
    "duration": 5,
    "start_time": "2024-09-24T21:33:37.945Z"
   },
   {
    "duration": 7,
    "start_time": "2024-09-24T21:33:37.952Z"
   },
   {
    "duration": 9,
    "start_time": "2024-09-24T21:33:37.960Z"
   },
   {
    "duration": 11,
    "start_time": "2024-09-24T21:33:37.970Z"
   },
   {
    "duration": 5,
    "start_time": "2024-09-24T21:33:37.983Z"
   },
   {
    "duration": 45,
    "start_time": "2024-09-24T21:33:37.990Z"
   },
   {
    "duration": 17,
    "start_time": "2024-09-24T21:33:38.037Z"
   },
   {
    "duration": 160,
    "start_time": "2024-09-24T22:15:19.002Z"
   },
   {
    "duration": 322,
    "start_time": "2024-09-24T22:15:30.856Z"
   },
   {
    "duration": 162,
    "start_time": "2024-09-24T22:15:31.613Z"
   },
   {
    "duration": 14,
    "start_time": "2024-09-24T22:15:32.501Z"
   },
   {
    "duration": 25,
    "start_time": "2024-09-24T22:15:33.545Z"
   },
   {
    "duration": 4,
    "start_time": "2024-09-24T22:15:35.903Z"
   },
   {
    "duration": 6,
    "start_time": "2024-09-24T22:15:36.860Z"
   },
   {
    "duration": 4,
    "start_time": "2024-09-24T22:15:37.804Z"
   },
   {
    "duration": 20,
    "start_time": "2024-09-24T22:15:38.766Z"
   },
   {
    "duration": 27,
    "start_time": "2024-09-24T22:15:39.824Z"
   },
   {
    "duration": 19,
    "start_time": "2024-09-24T22:15:40.936Z"
   },
   {
    "duration": 43,
    "start_time": "2024-09-24T22:15:42.264Z"
   },
   {
    "duration": 51,
    "start_time": "2024-09-24T22:15:44.042Z"
   },
   {
    "duration": 56,
    "start_time": "2024-09-24T22:15:51.515Z"
   },
   {
    "duration": 42,
    "start_time": "2024-09-24T22:15:52.578Z"
   },
   {
    "duration": 6,
    "start_time": "2024-09-24T22:15:54.588Z"
   },
   {
    "duration": 3,
    "start_time": "2024-09-24T22:15:56.006Z"
   },
   {
    "duration": 14,
    "start_time": "2024-09-24T22:16:00.615Z"
   },
   {
    "duration": 6,
    "start_time": "2024-09-24T22:16:01.762Z"
   },
   {
    "duration": 10,
    "start_time": "2024-09-24T22:16:05.828Z"
   },
   {
    "duration": 7,
    "start_time": "2024-09-24T22:18:12.577Z"
   },
   {
    "duration": 9,
    "start_time": "2024-09-24T22:18:13.937Z"
   },
   {
    "duration": 12,
    "start_time": "2024-09-24T22:18:15.130Z"
   },
   {
    "duration": 6,
    "start_time": "2024-09-24T22:18:18.653Z"
   },
   {
    "duration": 14,
    "start_time": "2024-09-24T22:18:23.680Z"
   },
   {
    "duration": 21,
    "start_time": "2024-09-24T22:18:28.346Z"
   },
   {
    "duration": 317,
    "start_time": "2024-09-25T23:02:29.957Z"
   },
   {
    "duration": 156,
    "start_time": "2024-09-25T23:02:30.630Z"
   },
   {
    "duration": 13,
    "start_time": "2024-09-25T23:02:31.440Z"
   },
   {
    "duration": 25,
    "start_time": "2024-09-25T23:02:32.278Z"
   },
   {
    "duration": 3,
    "start_time": "2024-09-25T23:02:34.424Z"
   },
   {
    "duration": 5,
    "start_time": "2024-09-25T23:02:35.250Z"
   },
   {
    "duration": 4,
    "start_time": "2024-09-25T23:02:36.055Z"
   },
   {
    "duration": 19,
    "start_time": "2024-09-25T23:02:37.573Z"
   },
   {
    "duration": 26,
    "start_time": "2024-09-25T23:02:38.544Z"
   },
   {
    "duration": 18,
    "start_time": "2024-09-25T23:02:39.624Z"
   },
   {
    "duration": 40,
    "start_time": "2024-09-25T23:02:40.729Z"
   },
   {
    "duration": 48,
    "start_time": "2024-09-25T23:02:41.892Z"
   },
   {
    "duration": 49,
    "start_time": "2024-09-25T23:02:43.422Z"
   },
   {
    "duration": 39,
    "start_time": "2024-09-25T23:02:44.501Z"
   },
   {
    "duration": 6,
    "start_time": "2024-09-25T23:02:46.107Z"
   },
   {
    "duration": 2,
    "start_time": "2024-09-25T23:02:47.189Z"
   },
   {
    "duration": 12,
    "start_time": "2024-09-25T23:02:48.309Z"
   },
   {
    "duration": 6,
    "start_time": "2024-09-25T23:02:49.416Z"
   },
   {
    "duration": 7,
    "start_time": "2024-09-25T23:02:52.763Z"
   },
   {
    "duration": 9,
    "start_time": "2024-09-25T23:02:53.975Z"
   },
   {
    "duration": 12,
    "start_time": "2024-09-25T23:02:56.810Z"
   },
   {
    "duration": 6,
    "start_time": "2024-09-25T23:02:58.576Z"
   },
   {
    "duration": 11,
    "start_time": "2024-09-25T23:03:01.490Z"
   },
   {
    "duration": 18,
    "start_time": "2024-09-25T23:03:02.963Z"
   },
   {
    "duration": 8,
    "start_time": "2024-09-25T23:09:17.861Z"
   },
   {
    "duration": 533,
    "start_time": "2024-09-25T23:10:38.303Z"
   },
   {
    "duration": 2,
    "start_time": "2024-09-25T23:11:36.968Z"
   },
   {
    "duration": 115,
    "start_time": "2024-09-25T23:11:36.973Z"
   },
   {
    "duration": 14,
    "start_time": "2024-09-25T23:11:37.090Z"
   },
   {
    "duration": 27,
    "start_time": "2024-09-25T23:11:37.107Z"
   },
   {
    "duration": 5,
    "start_time": "2024-09-25T23:11:37.137Z"
   },
   {
    "duration": 5,
    "start_time": "2024-09-25T23:11:37.144Z"
   },
   {
    "duration": 3,
    "start_time": "2024-09-25T23:11:37.151Z"
   },
   {
    "duration": 25,
    "start_time": "2024-09-25T23:11:37.156Z"
   },
   {
    "duration": 52,
    "start_time": "2024-09-25T23:11:37.184Z"
   },
   {
    "duration": 19,
    "start_time": "2024-09-25T23:11:37.239Z"
   },
   {
    "duration": 71,
    "start_time": "2024-09-25T23:11:37.262Z"
   },
   {
    "duration": 51,
    "start_time": "2024-09-25T23:11:37.334Z"
   },
   {
    "duration": 77,
    "start_time": "2024-09-25T23:11:37.387Z"
   },
   {
    "duration": 57,
    "start_time": "2024-09-25T23:11:37.466Z"
   },
   {
    "duration": 8,
    "start_time": "2024-09-25T23:11:37.530Z"
   },
   {
    "duration": 3,
    "start_time": "2024-09-25T23:11:37.540Z"
   },
   {
    "duration": 19,
    "start_time": "2024-09-25T23:11:37.545Z"
   },
   {
    "duration": 8,
    "start_time": "2024-09-25T23:11:37.566Z"
   },
   {
    "duration": 9,
    "start_time": "2024-09-25T23:11:37.576Z"
   },
   {
    "duration": 9,
    "start_time": "2024-09-25T23:11:37.588Z"
   },
   {
    "duration": 41,
    "start_time": "2024-09-25T23:11:37.599Z"
   },
   {
    "duration": 7,
    "start_time": "2024-09-25T23:11:37.642Z"
   },
   {
    "duration": 11,
    "start_time": "2024-09-25T23:11:52.754Z"
   },
   {
    "duration": 8,
    "start_time": "2024-09-25T23:13:57.421Z"
   },
   {
    "duration": 280,
    "start_time": "2024-09-26T06:55:13.437Z"
   },
   {
    "duration": 178,
    "start_time": "2024-09-26T06:55:13.720Z"
   },
   {
    "duration": 14,
    "start_time": "2024-09-26T06:55:13.900Z"
   },
   {
    "duration": 22,
    "start_time": "2024-09-26T06:55:13.916Z"
   },
   {
    "duration": 4,
    "start_time": "2024-09-26T06:55:13.940Z"
   },
   {
    "duration": 28,
    "start_time": "2024-09-26T06:55:13.946Z"
   },
   {
    "duration": 4,
    "start_time": "2024-09-26T06:55:13.975Z"
   },
   {
    "duration": 20,
    "start_time": "2024-09-26T06:55:13.981Z"
   },
   {
    "duration": 25,
    "start_time": "2024-09-26T06:55:14.002Z"
   },
   {
    "duration": 42,
    "start_time": "2024-09-26T06:55:14.029Z"
   },
   {
    "duration": 41,
    "start_time": "2024-09-26T06:55:14.072Z"
   },
   {
    "duration": 61,
    "start_time": "2024-09-26T06:55:14.114Z"
   },
   {
    "duration": 46,
    "start_time": "2024-09-26T06:55:14.177Z"
   },
   {
    "duration": 50,
    "start_time": "2024-09-26T06:55:14.225Z"
   },
   {
    "duration": 5,
    "start_time": "2024-09-26T06:55:14.277Z"
   },
   {
    "duration": 2,
    "start_time": "2024-09-26T06:55:14.284Z"
   },
   {
    "duration": 13,
    "start_time": "2024-09-26T06:55:14.288Z"
   },
   {
    "duration": 5,
    "start_time": "2024-09-26T06:55:14.303Z"
   },
   {
    "duration": 7,
    "start_time": "2024-09-26T06:55:14.310Z"
   },
   {
    "duration": 9,
    "start_time": "2024-09-26T06:55:14.318Z"
   },
   {
    "duration": 48,
    "start_time": "2024-09-26T06:55:14.329Z"
   },
   {
    "duration": 6,
    "start_time": "2024-09-26T06:55:14.378Z"
   },
   {
    "duration": 10,
    "start_time": "2024-09-26T06:55:14.386Z"
   },
   {
    "duration": 8,
    "start_time": "2024-09-26T06:55:14.398Z"
   }
  ],
  "kernelspec": {
   "display_name": "Python 3 (ipykernel)",
   "language": "python",
   "name": "python3"
  },
  "language_info": {
   "codemirror_mode": {
    "name": "ipython",
    "version": 3
   },
   "file_extension": ".py",
   "mimetype": "text/x-python",
   "name": "python",
   "nbconvert_exporter": "python",
   "pygments_lexer": "ipython3",
   "version": "3.9.19"
  },
  "toc": {
   "base_numbering": 1,
   "nav_menu": {},
   "number_sections": true,
   "sideBar": true,
   "skip_h1_title": true,
   "title_cell": "Table of Contents",
   "title_sidebar": "Contents",
   "toc_cell": false,
   "toc_position": {},
   "toc_section_display": true,
   "toc_window_display": false
  }
 },
 "nbformat": 4,
 "nbformat_minor": 5
}
