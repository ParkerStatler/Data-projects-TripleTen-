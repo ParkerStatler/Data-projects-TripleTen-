{
 "cells": [
  {
   "cell_type": "markdown",
   "metadata": {},
   "source": [
    "# Which one is a better plan?\n",
    "\n",
    "You work as an analyst for the telecom operator Megaline. The company offers its clients two prepaid plans, Surf and Ultimate. The commercial department wants to know which of the plans brings in more revenue in order to adjust the advertising budget.\n",
    "\n",
    "You are going to carry out a preliminary analysis of the plans based on a relatively small client selection. You'll have the data on 500 Megaline clients: who the clients are, where they're from, which plan they use, and the number of calls they made and text messages they sent in 2018. Your job is to analyze the clients' behavior and determine which prepaid plan brings in more revenue."
   ]
  },
  {
   "cell_type": "markdown",
   "metadata": {},
   "source": [
    "[We've provided you with some commentary to guide your thinking as you complete this project. However, make sure to remove all the bracketed comments before submitting your project.]\n",
    "\n",
    "[Before you dive into analyzing your data, explain for yourself the purpose of the project and actions you plan to take.]\n",
    "\n",
    "[Please bear in mind that studying, amending, and analyzing data is an iterative process. It is normal to return to previous steps and correct/expand them to allow for further steps.]"
   ]
  },
  {
   "cell_type": "markdown",
   "metadata": {},
   "source": [
    "## Initialization"
   ]
  },
  {
   "cell_type": "markdown",
   "metadata": {},
   "source": []
  },
  {
   "cell_type": "code",
   "execution_count": 1,
   "metadata": {},
   "outputs": [],
   "source": [
    "import pandas as pd\n",
    "import numpy as np\n",
    "from matplotlib import pyplot as plt\n",
    "import seaborn as sns\n",
    "from scipy import stats as st\n",
    "import math\n",
    "# Loading all the libraries\n",
    "\n"
   ]
  },
  {
   "cell_type": "markdown",
   "metadata": {},
   "source": [
    "## Load data"
   ]
  },
  {
   "cell_type": "markdown",
   "metadata": {},
   "source": []
  },
  {
   "cell_type": "code",
   "execution_count": 2,
   "metadata": {},
   "outputs": [],
   "source": [
    "plans = pd.read_csv('/datasets/megaline_plans.csv')\n",
    "users = pd.read_csv('/datasets/megaline_users.csv')\n",
    "calls = pd.read_csv('/datasets/megaline_calls.csv')\n",
    "messages = pd.read_csv('/datasets/megaline_messages.csv')\n",
    "internet = pd.read_csv('/datasets/megaline_internet.csv')\n",
    "\n",
    "# Load the data files into different DataFrames\n",
    "\n"
   ]
  },
  {
   "cell_type": "markdown",
   "metadata": {},
   "source": [
    "## Prepare the data"
   ]
  },
  {
   "cell_type": "markdown",
   "metadata": {},
   "source": [
    "[The data for this project is split into several tables. Explore each one to get an initial understanding of the data. Do necessary corrections to each table if necessary.]"
   ]
  },
  {
   "cell_type": "markdown",
   "metadata": {},
   "source": [
    "## Plans"
   ]
  },
  {
   "cell_type": "code",
   "execution_count": 3,
   "metadata": {},
   "outputs": [
    {
     "name": "stdout",
     "output_type": "stream",
     "text": [
      "<class 'pandas.core.frame.DataFrame'>\n",
      "RangeIndex: 2 entries, 0 to 1\n",
      "Data columns (total 8 columns):\n",
      " #   Column                 Non-Null Count  Dtype  \n",
      "---  ------                 --------------  -----  \n",
      " 0   messages_included      2 non-null      int64  \n",
      " 1   mb_per_month_included  2 non-null      int64  \n",
      " 2   minutes_included       2 non-null      int64  \n",
      " 3   usd_monthly_pay        2 non-null      int64  \n",
      " 4   usd_per_gb             2 non-null      int64  \n",
      " 5   usd_per_message        2 non-null      float64\n",
      " 6   usd_per_minute         2 non-null      float64\n",
      " 7   plan_name              2 non-null      object \n",
      "dtypes: float64(2), int64(5), object(1)\n",
      "memory usage: 256.0+ bytes\n"
     ]
    }
   ],
   "source": [
    "# Print the general/summary information about the plans' DataFrame\n",
    "plans.info()\n"
   ]
  },
  {
   "cell_type": "code",
   "execution_count": 4,
   "metadata": {},
   "outputs": [
    {
     "data": {
      "text/html": [
       "<div>\n",
       "<style scoped>\n",
       "    .dataframe tbody tr th:only-of-type {\n",
       "        vertical-align: middle;\n",
       "    }\n",
       "\n",
       "    .dataframe tbody tr th {\n",
       "        vertical-align: top;\n",
       "    }\n",
       "\n",
       "    .dataframe thead th {\n",
       "        text-align: right;\n",
       "    }\n",
       "</style>\n",
       "<table border=\"1\" class=\"dataframe\">\n",
       "  <thead>\n",
       "    <tr style=\"text-align: right;\">\n",
       "      <th></th>\n",
       "      <th>messages_included</th>\n",
       "      <th>mb_per_month_included</th>\n",
       "      <th>minutes_included</th>\n",
       "      <th>usd_monthly_pay</th>\n",
       "      <th>usd_per_gb</th>\n",
       "      <th>usd_per_message</th>\n",
       "      <th>usd_per_minute</th>\n",
       "      <th>plan_name</th>\n",
       "    </tr>\n",
       "  </thead>\n",
       "  <tbody>\n",
       "    <tr>\n",
       "      <th>1</th>\n",
       "      <td>1000</td>\n",
       "      <td>30720</td>\n",
       "      <td>3000</td>\n",
       "      <td>70</td>\n",
       "      <td>7</td>\n",
       "      <td>0.01</td>\n",
       "      <td>0.01</td>\n",
       "      <td>ultimate</td>\n",
       "    </tr>\n",
       "  </tbody>\n",
       "</table>\n",
       "</div>"
      ],
      "text/plain": [
       "   messages_included  mb_per_month_included  minutes_included  \\\n",
       "1               1000                  30720              3000   \n",
       "\n",
       "   usd_monthly_pay  usd_per_gb  usd_per_message  usd_per_minute plan_name  \n",
       "1               70           7             0.01            0.01  ultimate  "
      ]
     },
     "execution_count": 4,
     "metadata": {},
     "output_type": "execute_result"
    }
   ],
   "source": [
    "# Print a sample of data for plans\n",
    "plans.sample()\n"
   ]
  },
  {
   "cell_type": "markdown",
   "metadata": {},
   "source": [
    "[Describe what you see and notice in the general information and the printed data sample for the above price of data. Are there any issues (inappropriate data types, missing data etc) that may need further investigation and changes? How that can be fixed?]"
   ]
  },
  {
   "cell_type": "markdown",
   "metadata": {},
   "source": [
    " "
   ]
  },
  {
   "cell_type": "markdown",
   "metadata": {},
   "source": [
    "## Users"
   ]
  },
  {
   "cell_type": "code",
   "execution_count": 5,
   "metadata": {},
   "outputs": [
    {
     "name": "stdout",
     "output_type": "stream",
     "text": [
      "<class 'pandas.core.frame.DataFrame'>\n",
      "RangeIndex: 500 entries, 0 to 499\n",
      "Data columns (total 8 columns):\n",
      " #   Column      Non-Null Count  Dtype \n",
      "---  ------      --------------  ----- \n",
      " 0   user_id     500 non-null    int64 \n",
      " 1   first_name  500 non-null    object\n",
      " 2   last_name   500 non-null    object\n",
      " 3   age         500 non-null    int64 \n",
      " 4   city        500 non-null    object\n",
      " 5   reg_date    500 non-null    object\n",
      " 6   plan        500 non-null    object\n",
      " 7   churn_date  34 non-null     object\n",
      "dtypes: int64(2), object(6)\n",
      "memory usage: 31.4+ KB\n"
     ]
    }
   ],
   "source": [
    "# Print the general/summary information about the users' DataFrame\n",
    "users.info()\n"
   ]
  },
  {
   "cell_type": "code",
   "execution_count": 6,
   "metadata": {},
   "outputs": [
    {
     "data": {
      "text/html": [
       "<div>\n",
       "<style scoped>\n",
       "    .dataframe tbody tr th:only-of-type {\n",
       "        vertical-align: middle;\n",
       "    }\n",
       "\n",
       "    .dataframe tbody tr th {\n",
       "        vertical-align: top;\n",
       "    }\n",
       "\n",
       "    .dataframe thead th {\n",
       "        text-align: right;\n",
       "    }\n",
       "</style>\n",
       "<table border=\"1\" class=\"dataframe\">\n",
       "  <thead>\n",
       "    <tr style=\"text-align: right;\">\n",
       "      <th></th>\n",
       "      <th>user_id</th>\n",
       "      <th>first_name</th>\n",
       "      <th>last_name</th>\n",
       "      <th>age</th>\n",
       "      <th>city</th>\n",
       "      <th>reg_date</th>\n",
       "      <th>plan</th>\n",
       "      <th>churn_date</th>\n",
       "    </tr>\n",
       "  </thead>\n",
       "  <tbody>\n",
       "    <tr>\n",
       "      <th>494</th>\n",
       "      <td>1494</td>\n",
       "      <td>Preston</td>\n",
       "      <td>Downs</td>\n",
       "      <td>70</td>\n",
       "      <td>New York-Newark-Jersey City, NY-NJ-PA MSA</td>\n",
       "      <td>2018-04-19</td>\n",
       "      <td>surf</td>\n",
       "      <td>NaN</td>\n",
       "    </tr>\n",
       "  </tbody>\n",
       "</table>\n",
       "</div>"
      ],
      "text/plain": [
       "     user_id first_name last_name  age  \\\n",
       "494     1494    Preston     Downs   70   \n",
       "\n",
       "                                          city    reg_date  plan churn_date  \n",
       "494  New York-Newark-Jersey City, NY-NJ-PA MSA  2018-04-19  surf        NaN  "
      ]
     },
     "execution_count": 6,
     "metadata": {},
     "output_type": "execute_result"
    }
   ],
   "source": [
    "# Print a sample of data for users\n",
    "users.sample()\n"
   ]
  },
  {
   "cell_type": "markdown",
   "metadata": {},
   "source": [
    "[Describe what you see and notice in the general information and the printed data sample for the above price of data. Are there any issues (inappropriate data types, missing data etc) that may need further investigation and changes? How that can be fixed?]"
   ]
  },
  {
   "cell_type": "markdown",
   "metadata": {},
   "source": [
    " "
   ]
  },
  {
   "cell_type": "markdown",
   "metadata": {},
   "source": [
    "### Fix Data"
   ]
  },
  {
   "cell_type": "markdown",
   "metadata": {},
   "source": [
    "[Fix obvious issues with the data given the initial observations.]"
   ]
  },
  {
   "cell_type": "code",
   "execution_count": 7,
   "metadata": {},
   "outputs": [],
   "source": [
    "users = users.fillna('missing')"
   ]
  },
  {
   "cell_type": "code",
   "execution_count": 8,
   "metadata": {},
   "outputs": [
    {
     "data": {
      "text/plain": [
       "0"
      ]
     },
     "execution_count": 8,
     "metadata": {},
     "output_type": "execute_result"
    }
   ],
   "source": [
    "users['user_id'].duplicated().sum()"
   ]
  },
  {
   "cell_type": "markdown",
   "metadata": {},
   "source": [
    "### Enrich Data"
   ]
  },
  {
   "cell_type": "markdown",
   "metadata": {},
   "source": [
    "[Add additional factors to the data if you believe they might be useful.]"
   ]
  },
  {
   "cell_type": "code",
   "execution_count": 9,
   "metadata": {},
   "outputs": [
    {
     "data": {
      "text/plain": [
       "0      1000\n",
       "1      1001\n",
       "2      1002\n",
       "3      1003\n",
       "4      1004\n",
       "       ... \n",
       "495    1495\n",
       "496    1496\n",
       "497    1497\n",
       "498    1498\n",
       "499    1499\n",
       "Name: user_id, Length: 500, dtype: int64"
      ]
     },
     "execution_count": 9,
     "metadata": {},
     "output_type": "execute_result"
    }
   ],
   "source": [
    "users['user_id'].drop_duplicates()"
   ]
  },
  {
   "cell_type": "markdown",
   "metadata": {},
   "source": [
    "## Calls"
   ]
  },
  {
   "cell_type": "code",
   "execution_count": 10,
   "metadata": {},
   "outputs": [
    {
     "name": "stdout",
     "output_type": "stream",
     "text": [
      "<class 'pandas.core.frame.DataFrame'>\n",
      "RangeIndex: 137735 entries, 0 to 137734\n",
      "Data columns (total 4 columns):\n",
      " #   Column     Non-Null Count   Dtype  \n",
      "---  ------     --------------   -----  \n",
      " 0   id         137735 non-null  object \n",
      " 1   user_id    137735 non-null  int64  \n",
      " 2   call_date  137735 non-null  object \n",
      " 3   duration   137735 non-null  float64\n",
      "dtypes: float64(1), int64(1), object(2)\n",
      "memory usage: 4.2+ MB\n"
     ]
    }
   ],
   "source": [
    "# Print the general/summary information about the calls' DataFrame\n",
    "calls.info()\n"
   ]
  },
  {
   "cell_type": "code",
   "execution_count": 11,
   "metadata": {},
   "outputs": [
    {
     "data": {
      "text/html": [
       "<div>\n",
       "<style scoped>\n",
       "    .dataframe tbody tr th:only-of-type {\n",
       "        vertical-align: middle;\n",
       "    }\n",
       "\n",
       "    .dataframe tbody tr th {\n",
       "        vertical-align: top;\n",
       "    }\n",
       "\n",
       "    .dataframe thead th {\n",
       "        text-align: right;\n",
       "    }\n",
       "</style>\n",
       "<table border=\"1\" class=\"dataframe\">\n",
       "  <thead>\n",
       "    <tr style=\"text-align: right;\">\n",
       "      <th></th>\n",
       "      <th>id</th>\n",
       "      <th>user_id</th>\n",
       "      <th>call_date</th>\n",
       "      <th>duration</th>\n",
       "    </tr>\n",
       "  </thead>\n",
       "  <tbody>\n",
       "    <tr>\n",
       "      <th>9631</th>\n",
       "      <td>1043_90</td>\n",
       "      <td>1043</td>\n",
       "      <td>2018-11-30</td>\n",
       "      <td>15.91</td>\n",
       "    </tr>\n",
       "  </tbody>\n",
       "</table>\n",
       "</div>"
      ],
      "text/plain": [
       "           id  user_id   call_date  duration\n",
       "9631  1043_90     1043  2018-11-30     15.91"
      ]
     },
     "execution_count": 11,
     "metadata": {},
     "output_type": "execute_result"
    }
   ],
   "source": [
    "# Print a sample of data for calls\n",
    "calls.sample()\n"
   ]
  },
  {
   "cell_type": "markdown",
   "metadata": {},
   "source": [
    "[Describe what you see and notice in the general information and the printed data sample for the above price of data. Are there any issues (inappropriate data types, missing data etc) that may need further investigation and changes? How that can be fixed?]"
   ]
  },
  {
   "cell_type": "markdown",
   "metadata": {},
   "source": [
    " "
   ]
  },
  {
   "cell_type": "markdown",
   "metadata": {},
   "source": [
    "### Fix data"
   ]
  },
  {
   "cell_type": "markdown",
   "metadata": {},
   "source": [
    "[Fix obvious issues with the data given the initial observations.]"
   ]
  },
  {
   "cell_type": "code",
   "execution_count": 12,
   "metadata": {},
   "outputs": [],
   "source": [
    "calls['duration'] = np.ceil(calls['duration']).astype('int')#no missing data, only need to change duration datatype "
   ]
  },
  {
   "cell_type": "markdown",
   "metadata": {},
   "source": [
    "### Enrich data"
   ]
  },
  {
   "cell_type": "markdown",
   "metadata": {},
   "source": [
    "[Add additional factors to the data if you believe they might be useful.]"
   ]
  },
  {
   "cell_type": "code",
   "execution_count": 13,
   "metadata": {},
   "outputs": [],
   "source": [
    "calls['call_date'] = pd.to_datetime(calls['call_date'], format='%Y-%m-%d', errors='coerce')"
   ]
  },
  {
   "cell_type": "markdown",
   "metadata": {},
   "source": [
    "## Messages"
   ]
  },
  {
   "cell_type": "code",
   "execution_count": 14,
   "metadata": {},
   "outputs": [
    {
     "name": "stdout",
     "output_type": "stream",
     "text": [
      "<class 'pandas.core.frame.DataFrame'>\n",
      "RangeIndex: 76051 entries, 0 to 76050\n",
      "Data columns (total 3 columns):\n",
      " #   Column        Non-Null Count  Dtype \n",
      "---  ------        --------------  ----- \n",
      " 0   id            76051 non-null  object\n",
      " 1   user_id       76051 non-null  int64 \n",
      " 2   message_date  76051 non-null  object\n",
      "dtypes: int64(1), object(2)\n",
      "memory usage: 1.7+ MB\n"
     ]
    }
   ],
   "source": [
    "# Print the general/summary information about the messages' DataFrame\n",
    "messages.info()\n"
   ]
  },
  {
   "cell_type": "code",
   "execution_count": 15,
   "metadata": {},
   "outputs": [
    {
     "data": {
      "text/html": [
       "<div>\n",
       "<style scoped>\n",
       "    .dataframe tbody tr th:only-of-type {\n",
       "        vertical-align: middle;\n",
       "    }\n",
       "\n",
       "    .dataframe tbody tr th {\n",
       "        vertical-align: top;\n",
       "    }\n",
       "\n",
       "    .dataframe thead th {\n",
       "        text-align: right;\n",
       "    }\n",
       "</style>\n",
       "<table border=\"1\" class=\"dataframe\">\n",
       "  <thead>\n",
       "    <tr style=\"text-align: right;\">\n",
       "      <th></th>\n",
       "      <th>id</th>\n",
       "      <th>user_id</th>\n",
       "      <th>message_date</th>\n",
       "    </tr>\n",
       "  </thead>\n",
       "  <tbody>\n",
       "    <tr>\n",
       "      <th>71209</th>\n",
       "      <td>1465_104</td>\n",
       "      <td>1465</td>\n",
       "      <td>2018-08-11</td>\n",
       "    </tr>\n",
       "  </tbody>\n",
       "</table>\n",
       "</div>"
      ],
      "text/plain": [
       "             id  user_id message_date\n",
       "71209  1465_104     1465   2018-08-11"
      ]
     },
     "execution_count": 15,
     "metadata": {},
     "output_type": "execute_result"
    }
   ],
   "source": [
    "# Print a sample of data for messages\n",
    "messages.sample()\n"
   ]
  },
  {
   "cell_type": "markdown",
   "metadata": {},
   "source": [
    "[Describe what you see and notice in the general information and the printed data sample for the above price of data. Are there any issues (inappropriate data types, missing data etc) that may need further investigation and changes? How that can be fixed?]"
   ]
  },
  {
   "cell_type": "markdown",
   "metadata": {},
   "source": [
    " "
   ]
  },
  {
   "cell_type": "markdown",
   "metadata": {},
   "source": [
    "## Internet"
   ]
  },
  {
   "cell_type": "code",
   "execution_count": 16,
   "metadata": {},
   "outputs": [
    {
     "name": "stdout",
     "output_type": "stream",
     "text": [
      "<class 'pandas.core.frame.DataFrame'>\n",
      "RangeIndex: 104825 entries, 0 to 104824\n",
      "Data columns (total 4 columns):\n",
      " #   Column        Non-Null Count   Dtype  \n",
      "---  ------        --------------   -----  \n",
      " 0   id            104825 non-null  object \n",
      " 1   user_id       104825 non-null  int64  \n",
      " 2   session_date  104825 non-null  object \n",
      " 3   mb_used       104825 non-null  float64\n",
      "dtypes: float64(1), int64(1), object(2)\n",
      "memory usage: 3.2+ MB\n"
     ]
    }
   ],
   "source": [
    "# Print the general/summary information about the internet DataFrame\n",
    "internet.info()\n"
   ]
  },
  {
   "cell_type": "code",
   "execution_count": 17,
   "metadata": {},
   "outputs": [
    {
     "data": {
      "text/html": [
       "<div>\n",
       "<style scoped>\n",
       "    .dataframe tbody tr th:only-of-type {\n",
       "        vertical-align: middle;\n",
       "    }\n",
       "\n",
       "    .dataframe tbody tr th {\n",
       "        vertical-align: top;\n",
       "    }\n",
       "\n",
       "    .dataframe thead th {\n",
       "        text-align: right;\n",
       "    }\n",
       "</style>\n",
       "<table border=\"1\" class=\"dataframe\">\n",
       "  <thead>\n",
       "    <tr style=\"text-align: right;\">\n",
       "      <th></th>\n",
       "      <th>id</th>\n",
       "      <th>user_id</th>\n",
       "      <th>session_date</th>\n",
       "      <th>mb_used</th>\n",
       "    </tr>\n",
       "  </thead>\n",
       "  <tbody>\n",
       "    <tr>\n",
       "      <th>101839</th>\n",
       "      <td>1488_229</td>\n",
       "      <td>1488</td>\n",
       "      <td>2018-10-19</td>\n",
       "      <td>433.77</td>\n",
       "    </tr>\n",
       "  </tbody>\n",
       "</table>\n",
       "</div>"
      ],
      "text/plain": [
       "              id  user_id session_date  mb_used\n",
       "101839  1488_229     1488   2018-10-19   433.77"
      ]
     },
     "execution_count": 17,
     "metadata": {},
     "output_type": "execute_result"
    }
   ],
   "source": [
    "# Print a sample of data for the internet traffic\n",
    "internet.sample()\n"
   ]
  },
  {
   "cell_type": "markdown",
   "metadata": {},
   "source": [
    "[Describe what you see and notice in the general information and the printed data sample for the above price of data. Are there any issues (inappropriate data types, missing data etc) that may need further investigation and changes? How that can be fixed?]"
   ]
  },
  {
   "cell_type": "markdown",
   "metadata": {},
   "source": [
    "## Study plan conditions"
   ]
  },
  {
   "cell_type": "markdown",
   "metadata": {},
   "source": [
    "[It is critical to understand how the plans work, how users are charged based on their plan subscription. So, we suggest printing out the plan information to view their conditions once again.]"
   ]
  },
  {
   "cell_type": "code",
   "execution_count": 18,
   "metadata": {},
   "outputs": [
    {
     "data": {
      "text/html": [
       "<div>\n",
       "<style scoped>\n",
       "    .dataframe tbody tr th:only-of-type {\n",
       "        vertical-align: middle;\n",
       "    }\n",
       "\n",
       "    .dataframe tbody tr th {\n",
       "        vertical-align: top;\n",
       "    }\n",
       "\n",
       "    .dataframe thead th {\n",
       "        text-align: right;\n",
       "    }\n",
       "</style>\n",
       "<table border=\"1\" class=\"dataframe\">\n",
       "  <thead>\n",
       "    <tr style=\"text-align: right;\">\n",
       "      <th></th>\n",
       "      <th>messages_included</th>\n",
       "      <th>mb_per_month_included</th>\n",
       "      <th>minutes_included</th>\n",
       "      <th>usd_monthly_pay</th>\n",
       "      <th>usd_per_gb</th>\n",
       "      <th>usd_per_message</th>\n",
       "      <th>usd_per_minute</th>\n",
       "      <th>plan_name</th>\n",
       "    </tr>\n",
       "  </thead>\n",
       "  <tbody>\n",
       "    <tr>\n",
       "      <th>0</th>\n",
       "      <td>50</td>\n",
       "      <td>15360</td>\n",
       "      <td>500</td>\n",
       "      <td>20</td>\n",
       "      <td>10</td>\n",
       "      <td>0.03</td>\n",
       "      <td>0.03</td>\n",
       "      <td>surf</td>\n",
       "    </tr>\n",
       "    <tr>\n",
       "      <th>1</th>\n",
       "      <td>1000</td>\n",
       "      <td>30720</td>\n",
       "      <td>3000</td>\n",
       "      <td>70</td>\n",
       "      <td>7</td>\n",
       "      <td>0.01</td>\n",
       "      <td>0.01</td>\n",
       "      <td>ultimate</td>\n",
       "    </tr>\n",
       "  </tbody>\n",
       "</table>\n",
       "</div>"
      ],
      "text/plain": [
       "   messages_included  mb_per_month_included  minutes_included  \\\n",
       "0                 50                  15360               500   \n",
       "1               1000                  30720              3000   \n",
       "\n",
       "   usd_monthly_pay  usd_per_gb  usd_per_message  usd_per_minute plan_name  \n",
       "0               20          10             0.03            0.03      surf  \n",
       "1               70           7             0.01            0.01  ultimate  "
      ]
     },
     "execution_count": 18,
     "metadata": {},
     "output_type": "execute_result"
    }
   ],
   "source": [
    "# Print out the plan conditions and make sure they are clear for you\n",
    "plans.head()\n",
    "\n"
   ]
  },
  {
   "cell_type": "markdown",
   "metadata": {},
   "source": [
    "## Aggregate data per user\n",
    "\n",
    "[Now, as the data is clean, aggregate data per user per period in order to have just one record per user per period. It should ease the further analysis a lot.]"
   ]
  },
  {
   "cell_type": "code",
   "execution_count": 19,
   "metadata": {},
   "outputs": [
    {
     "data": {
      "text/html": [
       "<div>\n",
       "<style scoped>\n",
       "    .dataframe tbody tr th:only-of-type {\n",
       "        vertical-align: middle;\n",
       "    }\n",
       "\n",
       "    .dataframe tbody tr th {\n",
       "        vertical-align: top;\n",
       "    }\n",
       "\n",
       "    .dataframe thead th {\n",
       "        text-align: right;\n",
       "    }\n",
       "</style>\n",
       "<table border=\"1\" class=\"dataframe\">\n",
       "  <thead>\n",
       "    <tr style=\"text-align: right;\">\n",
       "      <th></th>\n",
       "      <th>id</th>\n",
       "      <th>user_id</th>\n",
       "      <th>call_date</th>\n",
       "      <th>duration</th>\n",
       "    </tr>\n",
       "  </thead>\n",
       "  <tbody>\n",
       "    <tr>\n",
       "      <th>0</th>\n",
       "      <td>1000_93</td>\n",
       "      <td>1000</td>\n",
       "      <td>2018-12-27</td>\n",
       "      <td>9</td>\n",
       "    </tr>\n",
       "    <tr>\n",
       "      <th>1</th>\n",
       "      <td>1000_145</td>\n",
       "      <td>1000</td>\n",
       "      <td>2018-12-27</td>\n",
       "      <td>14</td>\n",
       "    </tr>\n",
       "    <tr>\n",
       "      <th>2</th>\n",
       "      <td>1000_247</td>\n",
       "      <td>1000</td>\n",
       "      <td>2018-12-27</td>\n",
       "      <td>15</td>\n",
       "    </tr>\n",
       "    <tr>\n",
       "      <th>3</th>\n",
       "      <td>1000_309</td>\n",
       "      <td>1000</td>\n",
       "      <td>2018-12-28</td>\n",
       "      <td>6</td>\n",
       "    </tr>\n",
       "    <tr>\n",
       "      <th>4</th>\n",
       "      <td>1000_380</td>\n",
       "      <td>1000</td>\n",
       "      <td>2018-12-30</td>\n",
       "      <td>5</td>\n",
       "    </tr>\n",
       "  </tbody>\n",
       "</table>\n",
       "</div>"
      ],
      "text/plain": [
       "         id  user_id  call_date  duration\n",
       "0   1000_93     1000 2018-12-27         9\n",
       "1  1000_145     1000 2018-12-27        14\n",
       "2  1000_247     1000 2018-12-27        15\n",
       "3  1000_309     1000 2018-12-28         6\n",
       "4  1000_380     1000 2018-12-30         5"
      ]
     },
     "execution_count": 19,
     "metadata": {},
     "output_type": "execute_result"
    }
   ],
   "source": [
    "calls.head()"
   ]
  },
  {
   "cell_type": "code",
   "execution_count": 20,
   "metadata": {
    "scrolled": false
   },
   "outputs": [
    {
     "name": "stdout",
     "output_type": "stream",
     "text": [
      "<class 'pandas.core.frame.DataFrame'>\n",
      "RangeIndex: 137735 entries, 0 to 137734\n",
      "Data columns (total 4 columns):\n",
      " #   Column     Non-Null Count   Dtype         \n",
      "---  ------     --------------   -----         \n",
      " 0   id         137735 non-null  object        \n",
      " 1   user_id    137735 non-null  int64         \n",
      " 2   call_date  137735 non-null  datetime64[ns]\n",
      " 3   duration   137735 non-null  int64         \n",
      "dtypes: datetime64[ns](1), int64(2), object(1)\n",
      "memory usage: 4.2+ MB\n"
     ]
    }
   ],
   "source": [
    "calls.info()"
   ]
  },
  {
   "cell_type": "code",
   "execution_count": 21,
   "metadata": {},
   "outputs": [],
   "source": [
    "calls['month'] = pd.DatetimeIndex(calls['call_date']).month"
   ]
  },
  {
   "cell_type": "code",
   "execution_count": 22,
   "metadata": {
    "scrolled": true
   },
   "outputs": [],
   "source": [
    "# Calculate the number of calls made by each user per month. Save the result.\n",
    "calls_pivot = calls.pivot_table(index='month',\n",
    "                 columns='user_id',\n",
    "                 values='id',\n",
    "                 aggfunc='count').fillna('')"
   ]
  },
  {
   "cell_type": "code",
   "execution_count": 23,
   "metadata": {},
   "outputs": [],
   "source": [
    "# Calculate the amount of minutes spent by each user per month. Save the result.\n",
    "minutes_pivot = calls.pivot_table(index='month',\n",
    "                 columns='user_id',\n",
    "                 values='duration',\n",
    "                 aggfunc='sum').fillna('')\n"
   ]
  },
  {
   "cell_type": "code",
   "execution_count": 24,
   "metadata": {},
   "outputs": [
    {
     "data": {
      "text/html": [
       "<div>\n",
       "<style scoped>\n",
       "    .dataframe tbody tr th:only-of-type {\n",
       "        vertical-align: middle;\n",
       "    }\n",
       "\n",
       "    .dataframe tbody tr th {\n",
       "        vertical-align: top;\n",
       "    }\n",
       "\n",
       "    .dataframe thead th {\n",
       "        text-align: right;\n",
       "    }\n",
       "</style>\n",
       "<table border=\"1\" class=\"dataframe\">\n",
       "  <thead>\n",
       "    <tr style=\"text-align: right;\">\n",
       "      <th></th>\n",
       "      <th>id</th>\n",
       "      <th>user_id</th>\n",
       "      <th>message_date</th>\n",
       "    </tr>\n",
       "  </thead>\n",
       "  <tbody>\n",
       "    <tr>\n",
       "      <th>0</th>\n",
       "      <td>1000_125</td>\n",
       "      <td>1000</td>\n",
       "      <td>2018-12-27</td>\n",
       "    </tr>\n",
       "    <tr>\n",
       "      <th>1</th>\n",
       "      <td>1000_160</td>\n",
       "      <td>1000</td>\n",
       "      <td>2018-12-31</td>\n",
       "    </tr>\n",
       "    <tr>\n",
       "      <th>2</th>\n",
       "      <td>1000_223</td>\n",
       "      <td>1000</td>\n",
       "      <td>2018-12-31</td>\n",
       "    </tr>\n",
       "    <tr>\n",
       "      <th>3</th>\n",
       "      <td>1000_251</td>\n",
       "      <td>1000</td>\n",
       "      <td>2018-12-27</td>\n",
       "    </tr>\n",
       "    <tr>\n",
       "      <th>4</th>\n",
       "      <td>1000_255</td>\n",
       "      <td>1000</td>\n",
       "      <td>2018-12-26</td>\n",
       "    </tr>\n",
       "  </tbody>\n",
       "</table>\n",
       "</div>"
      ],
      "text/plain": [
       "         id  user_id message_date\n",
       "0  1000_125     1000   2018-12-27\n",
       "1  1000_160     1000   2018-12-31\n",
       "2  1000_223     1000   2018-12-31\n",
       "3  1000_251     1000   2018-12-27\n",
       "4  1000_255     1000   2018-12-26"
      ]
     },
     "execution_count": 24,
     "metadata": {},
     "output_type": "execute_result"
    }
   ],
   "source": [
    "messages.head()"
   ]
  },
  {
   "cell_type": "code",
   "execution_count": 25,
   "metadata": {},
   "outputs": [],
   "source": [
    "messages['month'] = pd.DatetimeIndex(messages['message_date']).month"
   ]
  },
  {
   "cell_type": "code",
   "execution_count": 26,
   "metadata": {},
   "outputs": [],
   "source": [
    "# Calculate the number of messages sent by each user per month. Save the result.\n",
    "messages_pivot = messages.pivot_table(index='month',\n",
    "                 columns='user_id',\n",
    "                 values='id',\n",
    "                 aggfunc='count').fillna('')\n"
   ]
  },
  {
   "cell_type": "code",
   "execution_count": 27,
   "metadata": {},
   "outputs": [],
   "source": [
    "internet['month'] = pd.DatetimeIndex(internet['session_date']).month"
   ]
  },
  {
   "cell_type": "code",
   "execution_count": 28,
   "metadata": {},
   "outputs": [],
   "source": [
    "# Calculate the volume of internet traffic used by each user per month. Save the result.\n",
    "internet_pivot = internet.pivot_table(index='month',\n",
    "                    columns='user_id',\n",
    "                    values='mb_used',\n",
    "                    aggfunc='sum').fillna('')\n",
    "\n"
   ]
  },
  {
   "cell_type": "markdown",
   "metadata": {},
   "source": [
    "[Put the aggregate data together into one DataFrame so that one record in it would represent what an unique user consumed in a given month.]"
   ]
  },
  {
   "cell_type": "code",
   "execution_count": 29,
   "metadata": {
    "scrolled": true
   },
   "outputs": [],
   "source": [
    "# Merge the data for calls, minutes, messages, internet based on user_id and month\n",
    "\n",
    "agg_calls = calls.groupby(['user_id', 'month']).agg({'id': 'count', 'duration': 'sum'}).reset_index()\n",
    "agg_messages = messages.groupby(['user_id', 'month']).agg({'message_date': 'count'}).reset_index()\n",
    "agg_internet = internet.groupby(['user_id', 'month']).agg({'mb_used': 'sum'}).reset_index()\n",
    "\n",
    "\n",
    "\n",
    "merge_df = agg_calls.merge(agg_messages, on=['user_id', 'month'], how='outer')\n",
    "merge_df = merge_df.merge(agg_internet, on=['user_id', 'month'], how='outer')\n",
    "merge_df = merge_df.fillna(0)\n",
    "\n",
    "merge_df.columns = ['user_id', 'month', 'calls', 'minutes', 'messages', 'mb_used']\n"
   ]
  },
  {
   "cell_type": "code",
   "execution_count": 30,
   "metadata": {},
   "outputs": [
    {
     "data": {
      "text/html": [
       "<div>\n",
       "<style scoped>\n",
       "    .dataframe tbody tr th:only-of-type {\n",
       "        vertical-align: middle;\n",
       "    }\n",
       "\n",
       "    .dataframe tbody tr th {\n",
       "        vertical-align: top;\n",
       "    }\n",
       "\n",
       "    .dataframe thead th {\n",
       "        text-align: right;\n",
       "    }\n",
       "</style>\n",
       "<table border=\"1\" class=\"dataframe\">\n",
       "  <thead>\n",
       "    <tr style=\"text-align: right;\">\n",
       "      <th></th>\n",
       "      <th>messages_included</th>\n",
       "      <th>mb_per_month_included</th>\n",
       "      <th>minutes_included</th>\n",
       "      <th>usd_monthly_pay</th>\n",
       "      <th>usd_per_gb</th>\n",
       "      <th>usd_per_message</th>\n",
       "      <th>usd_per_minute</th>\n",
       "      <th>plan_name</th>\n",
       "    </tr>\n",
       "  </thead>\n",
       "  <tbody>\n",
       "    <tr>\n",
       "      <th>0</th>\n",
       "      <td>50</td>\n",
       "      <td>15360</td>\n",
       "      <td>500</td>\n",
       "      <td>20</td>\n",
       "      <td>10</td>\n",
       "      <td>0.03</td>\n",
       "      <td>0.03</td>\n",
       "      <td>surf</td>\n",
       "    </tr>\n",
       "    <tr>\n",
       "      <th>1</th>\n",
       "      <td>1000</td>\n",
       "      <td>30720</td>\n",
       "      <td>3000</td>\n",
       "      <td>70</td>\n",
       "      <td>7</td>\n",
       "      <td>0.01</td>\n",
       "      <td>0.01</td>\n",
       "      <td>ultimate</td>\n",
       "    </tr>\n",
       "  </tbody>\n",
       "</table>\n",
       "</div>"
      ],
      "text/plain": [
       "   messages_included  mb_per_month_included  minutes_included  \\\n",
       "0                 50                  15360               500   \n",
       "1               1000                  30720              3000   \n",
       "\n",
       "   usd_monthly_pay  usd_per_gb  usd_per_message  usd_per_minute plan_name  \n",
       "0               20          10             0.03            0.03      surf  \n",
       "1               70           7             0.01            0.01  ultimate  "
      ]
     },
     "execution_count": 30,
     "metadata": {},
     "output_type": "execute_result"
    }
   ],
   "source": [
    "# Add the plan information\n",
    "plans\n"
   ]
  },
  {
   "cell_type": "code",
   "execution_count": 31,
   "metadata": {},
   "outputs": [
    {
     "data": {
      "text/html": [
       "<div>\n",
       "<style scoped>\n",
       "    .dataframe tbody tr th:only-of-type {\n",
       "        vertical-align: middle;\n",
       "    }\n",
       "\n",
       "    .dataframe tbody tr th {\n",
       "        vertical-align: top;\n",
       "    }\n",
       "\n",
       "    .dataframe thead th {\n",
       "        text-align: right;\n",
       "    }\n",
       "</style>\n",
       "<table border=\"1\" class=\"dataframe\">\n",
       "  <thead>\n",
       "    <tr style=\"text-align: right;\">\n",
       "      <th></th>\n",
       "      <th>user_id</th>\n",
       "      <th>month</th>\n",
       "      <th>calls</th>\n",
       "      <th>minutes</th>\n",
       "      <th>messages</th>\n",
       "      <th>mb_used</th>\n",
       "      <th>plan_name</th>\n",
       "      <th>messages_included</th>\n",
       "      <th>mb_per_month_included</th>\n",
       "      <th>minutes_included</th>\n",
       "      <th>usd_monthly_pay</th>\n",
       "      <th>usd_per_gb</th>\n",
       "      <th>usd_per_message</th>\n",
       "      <th>usd_per_minute</th>\n",
       "    </tr>\n",
       "  </thead>\n",
       "  <tbody>\n",
       "    <tr>\n",
       "      <th>0</th>\n",
       "      <td>1000</td>\n",
       "      <td>12</td>\n",
       "      <td>16.0</td>\n",
       "      <td>124.0</td>\n",
       "      <td>11.0</td>\n",
       "      <td>1901.47</td>\n",
       "      <td>ultimate</td>\n",
       "      <td>1000</td>\n",
       "      <td>30720</td>\n",
       "      <td>3000</td>\n",
       "      <td>70</td>\n",
       "      <td>7</td>\n",
       "      <td>0.01</td>\n",
       "      <td>0.01</td>\n",
       "    </tr>\n",
       "    <tr>\n",
       "      <th>1</th>\n",
       "      <td>1001</td>\n",
       "      <td>11</td>\n",
       "      <td>64.0</td>\n",
       "      <td>426.0</td>\n",
       "      <td>36.0</td>\n",
       "      <td>18504.30</td>\n",
       "      <td>surf</td>\n",
       "      <td>50</td>\n",
       "      <td>15360</td>\n",
       "      <td>500</td>\n",
       "      <td>20</td>\n",
       "      <td>10</td>\n",
       "      <td>0.03</td>\n",
       "      <td>0.03</td>\n",
       "    </tr>\n",
       "    <tr>\n",
       "      <th>2</th>\n",
       "      <td>1001</td>\n",
       "      <td>12</td>\n",
       "      <td>56.0</td>\n",
       "      <td>412.0</td>\n",
       "      <td>44.0</td>\n",
       "      <td>19369.18</td>\n",
       "      <td>surf</td>\n",
       "      <td>50</td>\n",
       "      <td>15360</td>\n",
       "      <td>500</td>\n",
       "      <td>20</td>\n",
       "      <td>10</td>\n",
       "      <td>0.03</td>\n",
       "      <td>0.03</td>\n",
       "    </tr>\n",
       "    <tr>\n",
       "      <th>3</th>\n",
       "      <td>1001</td>\n",
       "      <td>10</td>\n",
       "      <td>65.0</td>\n",
       "      <td>393.0</td>\n",
       "      <td>53.0</td>\n",
       "      <td>22330.49</td>\n",
       "      <td>surf</td>\n",
       "      <td>50</td>\n",
       "      <td>15360</td>\n",
       "      <td>500</td>\n",
       "      <td>20</td>\n",
       "      <td>10</td>\n",
       "      <td>0.03</td>\n",
       "      <td>0.03</td>\n",
       "    </tr>\n",
       "    <tr>\n",
       "      <th>4</th>\n",
       "      <td>1001</td>\n",
       "      <td>8</td>\n",
       "      <td>27.0</td>\n",
       "      <td>182.0</td>\n",
       "      <td>30.0</td>\n",
       "      <td>6919.15</td>\n",
       "      <td>surf</td>\n",
       "      <td>50</td>\n",
       "      <td>15360</td>\n",
       "      <td>500</td>\n",
       "      <td>20</td>\n",
       "      <td>10</td>\n",
       "      <td>0.03</td>\n",
       "      <td>0.03</td>\n",
       "    </tr>\n",
       "    <tr>\n",
       "      <th>5</th>\n",
       "      <td>1001</td>\n",
       "      <td>9</td>\n",
       "      <td>49.0</td>\n",
       "      <td>315.0</td>\n",
       "      <td>44.0</td>\n",
       "      <td>13314.82</td>\n",
       "      <td>surf</td>\n",
       "      <td>50</td>\n",
       "      <td>15360</td>\n",
       "      <td>500</td>\n",
       "      <td>20</td>\n",
       "      <td>10</td>\n",
       "      <td>0.03</td>\n",
       "      <td>0.03</td>\n",
       "    </tr>\n",
       "    <tr>\n",
       "      <th>6</th>\n",
       "      <td>1002</td>\n",
       "      <td>12</td>\n",
       "      <td>47.0</td>\n",
       "      <td>384.0</td>\n",
       "      <td>41.0</td>\n",
       "      <td>14396.24</td>\n",
       "      <td>surf</td>\n",
       "      <td>50</td>\n",
       "      <td>15360</td>\n",
       "      <td>500</td>\n",
       "      <td>20</td>\n",
       "      <td>10</td>\n",
       "      <td>0.03</td>\n",
       "      <td>0.03</td>\n",
       "    </tr>\n",
       "    <tr>\n",
       "      <th>7</th>\n",
       "      <td>1002</td>\n",
       "      <td>11</td>\n",
       "      <td>55.0</td>\n",
       "      <td>386.0</td>\n",
       "      <td>32.0</td>\n",
       "      <td>19345.08</td>\n",
       "      <td>surf</td>\n",
       "      <td>50</td>\n",
       "      <td>15360</td>\n",
       "      <td>500</td>\n",
       "      <td>20</td>\n",
       "      <td>10</td>\n",
       "      <td>0.03</td>\n",
       "      <td>0.03</td>\n",
       "    </tr>\n",
       "    <tr>\n",
       "      <th>8</th>\n",
       "      <td>1002</td>\n",
       "      <td>10</td>\n",
       "      <td>11.0</td>\n",
       "      <td>59.0</td>\n",
       "      <td>15.0</td>\n",
       "      <td>6552.01</td>\n",
       "      <td>surf</td>\n",
       "      <td>50</td>\n",
       "      <td>15360</td>\n",
       "      <td>500</td>\n",
       "      <td>20</td>\n",
       "      <td>10</td>\n",
       "      <td>0.03</td>\n",
       "      <td>0.03</td>\n",
       "    </tr>\n",
       "    <tr>\n",
       "      <th>9</th>\n",
       "      <td>1003</td>\n",
       "      <td>12</td>\n",
       "      <td>149.0</td>\n",
       "      <td>1104.0</td>\n",
       "      <td>50.0</td>\n",
       "      <td>27044.14</td>\n",
       "      <td>surf</td>\n",
       "      <td>50</td>\n",
       "      <td>15360</td>\n",
       "      <td>500</td>\n",
       "      <td>20</td>\n",
       "      <td>10</td>\n",
       "      <td>0.03</td>\n",
       "      <td>0.03</td>\n",
       "    </tr>\n",
       "    <tr>\n",
       "      <th>10</th>\n",
       "      <td>1004</td>\n",
       "      <td>10</td>\n",
       "      <td>61.0</td>\n",
       "      <td>365.0</td>\n",
       "      <td>24.0</td>\n",
       "      <td>14541.63</td>\n",
       "      <td>surf</td>\n",
       "      <td>50</td>\n",
       "      <td>15360</td>\n",
       "      <td>500</td>\n",
       "      <td>20</td>\n",
       "      <td>10</td>\n",
       "      <td>0.03</td>\n",
       "      <td>0.03</td>\n",
       "    </tr>\n",
       "    <tr>\n",
       "      <th>11</th>\n",
       "      <td>1004</td>\n",
       "      <td>7</td>\n",
       "      <td>49.0</td>\n",
       "      <td>381.0</td>\n",
       "      <td>26.0</td>\n",
       "      <td>24516.62</td>\n",
       "      <td>surf</td>\n",
       "      <td>50</td>\n",
       "      <td>15360</td>\n",
       "      <td>500</td>\n",
       "      <td>20</td>\n",
       "      <td>10</td>\n",
       "      <td>0.03</td>\n",
       "      <td>0.03</td>\n",
       "    </tr>\n",
       "    <tr>\n",
       "      <th>12</th>\n",
       "      <td>1004</td>\n",
       "      <td>6</td>\n",
       "      <td>44.0</td>\n",
       "      <td>275.0</td>\n",
       "      <td>18.0</td>\n",
       "      <td>20672.82</td>\n",
       "      <td>surf</td>\n",
       "      <td>50</td>\n",
       "      <td>15360</td>\n",
       "      <td>500</td>\n",
       "      <td>20</td>\n",
       "      <td>10</td>\n",
       "      <td>0.03</td>\n",
       "      <td>0.03</td>\n",
       "    </tr>\n",
       "    <tr>\n",
       "      <th>13</th>\n",
       "      <td>1004</td>\n",
       "      <td>5</td>\n",
       "      <td>21.0</td>\n",
       "      <td>193.0</td>\n",
       "      <td>7.0</td>\n",
       "      <td>6547.21</td>\n",
       "      <td>surf</td>\n",
       "      <td>50</td>\n",
       "      <td>15360</td>\n",
       "      <td>500</td>\n",
       "      <td>20</td>\n",
       "      <td>10</td>\n",
       "      <td>0.03</td>\n",
       "      <td>0.03</td>\n",
       "    </tr>\n",
       "    <tr>\n",
       "      <th>14</th>\n",
       "      <td>1004</td>\n",
       "      <td>8</td>\n",
       "      <td>49.0</td>\n",
       "      <td>354.0</td>\n",
       "      <td>25.0</td>\n",
       "      <td>27981.74</td>\n",
       "      <td>surf</td>\n",
       "      <td>50</td>\n",
       "      <td>15360</td>\n",
       "      <td>500</td>\n",
       "      <td>20</td>\n",
       "      <td>10</td>\n",
       "      <td>0.03</td>\n",
       "      <td>0.03</td>\n",
       "    </tr>\n",
       "    <tr>\n",
       "      <th>15</th>\n",
       "      <td>1004</td>\n",
       "      <td>9</td>\n",
       "      <td>42.0</td>\n",
       "      <td>301.0</td>\n",
       "      <td>21.0</td>\n",
       "      <td>18852.72</td>\n",
       "      <td>surf</td>\n",
       "      <td>50</td>\n",
       "      <td>15360</td>\n",
       "      <td>500</td>\n",
       "      <td>20</td>\n",
       "      <td>10</td>\n",
       "      <td>0.03</td>\n",
       "      <td>0.03</td>\n",
       "    </tr>\n",
       "    <tr>\n",
       "      <th>16</th>\n",
       "      <td>1004</td>\n",
       "      <td>11</td>\n",
       "      <td>54.0</td>\n",
       "      <td>476.0</td>\n",
       "      <td>25.0</td>\n",
       "      <td>21850.78</td>\n",
       "      <td>surf</td>\n",
       "      <td>50</td>\n",
       "      <td>15360</td>\n",
       "      <td>500</td>\n",
       "      <td>20</td>\n",
       "      <td>10</td>\n",
       "      <td>0.03</td>\n",
       "      <td>0.03</td>\n",
       "    </tr>\n",
       "    <tr>\n",
       "      <th>17</th>\n",
       "      <td>1004</td>\n",
       "      <td>12</td>\n",
       "      <td>50.0</td>\n",
       "      <td>427.0</td>\n",
       "      <td>31.0</td>\n",
       "      <td>21389.29</td>\n",
       "      <td>surf</td>\n",
       "      <td>50</td>\n",
       "      <td>15360</td>\n",
       "      <td>500</td>\n",
       "      <td>20</td>\n",
       "      <td>10</td>\n",
       "      <td>0.03</td>\n",
       "      <td>0.03</td>\n",
       "    </tr>\n",
       "    <tr>\n",
       "      <th>18</th>\n",
       "      <td>1005</td>\n",
       "      <td>12</td>\n",
       "      <td>59.0</td>\n",
       "      <td>496.0</td>\n",
       "      <td>11.0</td>\n",
       "      <td>17140.17</td>\n",
       "      <td>surf</td>\n",
       "      <td>50</td>\n",
       "      <td>15360</td>\n",
       "      <td>500</td>\n",
       "      <td>20</td>\n",
       "      <td>10</td>\n",
       "      <td>0.03</td>\n",
       "      <td>0.03</td>\n",
       "    </tr>\n",
       "    <tr>\n",
       "      <th>19</th>\n",
       "      <td>1006</td>\n",
       "      <td>11</td>\n",
       "      <td>2.0</td>\n",
       "      <td>10.0</td>\n",
       "      <td>15.0</td>\n",
       "      <td>2068.37</td>\n",
       "      <td>ultimate</td>\n",
       "      <td>1000</td>\n",
       "      <td>30720</td>\n",
       "      <td>3000</td>\n",
       "      <td>70</td>\n",
       "      <td>7</td>\n",
       "      <td>0.01</td>\n",
       "      <td>0.01</td>\n",
       "    </tr>\n",
       "  </tbody>\n",
       "</table>\n",
       "</div>"
      ],
      "text/plain": [
       "    user_id  month  calls  minutes  messages   mb_used plan_name  \\\n",
       "0      1000     12   16.0    124.0      11.0   1901.47  ultimate   \n",
       "1      1001     11   64.0    426.0      36.0  18504.30      surf   \n",
       "2      1001     12   56.0    412.0      44.0  19369.18      surf   \n",
       "3      1001     10   65.0    393.0      53.0  22330.49      surf   \n",
       "4      1001      8   27.0    182.0      30.0   6919.15      surf   \n",
       "5      1001      9   49.0    315.0      44.0  13314.82      surf   \n",
       "6      1002     12   47.0    384.0      41.0  14396.24      surf   \n",
       "7      1002     11   55.0    386.0      32.0  19345.08      surf   \n",
       "8      1002     10   11.0     59.0      15.0   6552.01      surf   \n",
       "9      1003     12  149.0   1104.0      50.0  27044.14      surf   \n",
       "10     1004     10   61.0    365.0      24.0  14541.63      surf   \n",
       "11     1004      7   49.0    381.0      26.0  24516.62      surf   \n",
       "12     1004      6   44.0    275.0      18.0  20672.82      surf   \n",
       "13     1004      5   21.0    193.0       7.0   6547.21      surf   \n",
       "14     1004      8   49.0    354.0      25.0  27981.74      surf   \n",
       "15     1004      9   42.0    301.0      21.0  18852.72      surf   \n",
       "16     1004     11   54.0    476.0      25.0  21850.78      surf   \n",
       "17     1004     12   50.0    427.0      31.0  21389.29      surf   \n",
       "18     1005     12   59.0    496.0      11.0  17140.17      surf   \n",
       "19     1006     11    2.0     10.0      15.0   2068.37  ultimate   \n",
       "\n",
       "    messages_included  mb_per_month_included  minutes_included  \\\n",
       "0                1000                  30720              3000   \n",
       "1                  50                  15360               500   \n",
       "2                  50                  15360               500   \n",
       "3                  50                  15360               500   \n",
       "4                  50                  15360               500   \n",
       "5                  50                  15360               500   \n",
       "6                  50                  15360               500   \n",
       "7                  50                  15360               500   \n",
       "8                  50                  15360               500   \n",
       "9                  50                  15360               500   \n",
       "10                 50                  15360               500   \n",
       "11                 50                  15360               500   \n",
       "12                 50                  15360               500   \n",
       "13                 50                  15360               500   \n",
       "14                 50                  15360               500   \n",
       "15                 50                  15360               500   \n",
       "16                 50                  15360               500   \n",
       "17                 50                  15360               500   \n",
       "18                 50                  15360               500   \n",
       "19               1000                  30720              3000   \n",
       "\n",
       "    usd_monthly_pay  usd_per_gb  usd_per_message  usd_per_minute  \n",
       "0                70           7             0.01            0.01  \n",
       "1                20          10             0.03            0.03  \n",
       "2                20          10             0.03            0.03  \n",
       "3                20          10             0.03            0.03  \n",
       "4                20          10             0.03            0.03  \n",
       "5                20          10             0.03            0.03  \n",
       "6                20          10             0.03            0.03  \n",
       "7                20          10             0.03            0.03  \n",
       "8                20          10             0.03            0.03  \n",
       "9                20          10             0.03            0.03  \n",
       "10               20          10             0.03            0.03  \n",
       "11               20          10             0.03            0.03  \n",
       "12               20          10             0.03            0.03  \n",
       "13               20          10             0.03            0.03  \n",
       "14               20          10             0.03            0.03  \n",
       "15               20          10             0.03            0.03  \n",
       "16               20          10             0.03            0.03  \n",
       "17               20          10             0.03            0.03  \n",
       "18               20          10             0.03            0.03  \n",
       "19               70           7             0.01            0.01  "
      ]
     },
     "metadata": {},
     "output_type": "display_data"
    }
   ],
   "source": [
    "\n",
    "plan_info = users[['user_id', 'plan']]\n",
    "plan_info.columns = ['user_id', 'plan_name']\n",
    "\n",
    "merge_df = merge_df.merge(right=plan_info, on='user_id')\n",
    "\n",
    "merge_df = merge_df.merge(right=plans, on='plan_name')\n",
    "\n",
    "merge_df = merge_df.sort_values(by='user_id').reset_index(drop = True)\n",
    "\n",
    "display(merge_df.head(20))"
   ]
  },
  {
   "cell_type": "markdown",
   "metadata": {},
   "source": [
    "[Calculate the monthly revenue from each user (subtract the free package limit from the total number of calls, text messages, and data; multiply the result by the calling plan value; add the monthly charge depending on the calling plan). N.B. This might not be as trivial as just a couple of lines given the plan conditions! So, it's okay to spend some time on it.]"
   ]
  },
  {
   "cell_type": "code",
   "execution_count": 32,
   "metadata": {},
   "outputs": [],
   "source": [
    "\n",
    "def user_revenue(row):\n",
    "    \n",
    "    minutes = row['minutes']\n",
    "    messages = row['messages']\n",
    "   \n",
    "    internet = math.ceil(row['mb_used'] / 1024) #megabyte to gigabytes \n",
    "    \n",
    "\n",
    "    minutes_limit = row['minutes_included']\n",
    "    messages_limit = row['messages_included']\n",
    "   \n",
    "    internet_limit = row['mb_per_month_included'] / 1024 #megabyte to gigabytes\n",
    "    \n",
    "    monthly_rate = row['usd_monthly_pay']\n",
    "    minute_rate = row['usd_per_minute']\n",
    "    message_rate = row['usd_per_message']\n",
    "    internet_rate = row['usd_per_gb']\n",
    "   \n",
    "\n",
    "    minutes_revenue = 0\n",
    "    messages_revenue = 0\n",
    "    internet_revenue = 0\n",
    "    \n",
    "    #calculations for overuse and revenue \n",
    "    if minutes > minutes_limit:\n",
    "        minutes_revenue = (minutes - minutes_limit) * minute_rate\n",
    "    if messages > messages_limit:\n",
    "        messages_revenue = (messages - messages_limit) * message_rate\n",
    "    if internet > internet_limit:\n",
    "        internet_revenue = (internet - internet_limit) * internet_rate\n",
    "        \n",
    "    revenue = monthly_rate + minutes_revenue + messages_revenue + internet_revenue\n",
    "    \n",
    "    return revenue"
   ]
  },
  {
   "cell_type": "code",
   "execution_count": 33,
   "metadata": {},
   "outputs": [
    {
     "data": {
      "text/plain": [
       "0      70.00\n",
       "1      60.00\n",
       "2      60.00\n",
       "3      90.09\n",
       "4      20.00\n",
       "5      20.00\n",
       "6      20.00\n",
       "7      60.00\n",
       "8      20.00\n",
       "9     158.12\n",
       "10     20.00\n",
       "dtype: float64"
      ]
     },
     "metadata": {},
     "output_type": "display_data"
    }
   ],
   "source": [
    "test = merge_df.loc[:10]\n",
    "display(test.apply(user_revenue, axis = 1))"
   ]
  },
  {
   "cell_type": "code",
   "execution_count": 34,
   "metadata": {},
   "outputs": [
    {
     "data": {
      "text/html": [
       "<div>\n",
       "<style scoped>\n",
       "    .dataframe tbody tr th:only-of-type {\n",
       "        vertical-align: middle;\n",
       "    }\n",
       "\n",
       "    .dataframe tbody tr th {\n",
       "        vertical-align: top;\n",
       "    }\n",
       "\n",
       "    .dataframe thead th {\n",
       "        text-align: right;\n",
       "    }\n",
       "</style>\n",
       "<table border=\"1\" class=\"dataframe\">\n",
       "  <thead>\n",
       "    <tr style=\"text-align: right;\">\n",
       "      <th></th>\n",
       "      <th>user_id</th>\n",
       "      <th>month</th>\n",
       "      <th>calls</th>\n",
       "      <th>minutes</th>\n",
       "      <th>messages</th>\n",
       "      <th>mb_used</th>\n",
       "      <th>plan_name</th>\n",
       "      <th>messages_included</th>\n",
       "      <th>mb_per_month_included</th>\n",
       "      <th>minutes_included</th>\n",
       "      <th>usd_monthly_pay</th>\n",
       "      <th>usd_per_gb</th>\n",
       "      <th>usd_per_message</th>\n",
       "      <th>usd_per_minute</th>\n",
       "      <th>revenue</th>\n",
       "    </tr>\n",
       "  </thead>\n",
       "  <tbody>\n",
       "    <tr>\n",
       "      <th>0</th>\n",
       "      <td>1000</td>\n",
       "      <td>12</td>\n",
       "      <td>16.0</td>\n",
       "      <td>124.0</td>\n",
       "      <td>11.0</td>\n",
       "      <td>1901.47</td>\n",
       "      <td>ultimate</td>\n",
       "      <td>1000</td>\n",
       "      <td>30720</td>\n",
       "      <td>3000</td>\n",
       "      <td>70</td>\n",
       "      <td>7</td>\n",
       "      <td>0.01</td>\n",
       "      <td>0.01</td>\n",
       "      <td>70.00</td>\n",
       "    </tr>\n",
       "    <tr>\n",
       "      <th>1</th>\n",
       "      <td>1001</td>\n",
       "      <td>11</td>\n",
       "      <td>64.0</td>\n",
       "      <td>426.0</td>\n",
       "      <td>36.0</td>\n",
       "      <td>18504.30</td>\n",
       "      <td>surf</td>\n",
       "      <td>50</td>\n",
       "      <td>15360</td>\n",
       "      <td>500</td>\n",
       "      <td>20</td>\n",
       "      <td>10</td>\n",
       "      <td>0.03</td>\n",
       "      <td>0.03</td>\n",
       "      <td>60.00</td>\n",
       "    </tr>\n",
       "    <tr>\n",
       "      <th>2</th>\n",
       "      <td>1001</td>\n",
       "      <td>12</td>\n",
       "      <td>56.0</td>\n",
       "      <td>412.0</td>\n",
       "      <td>44.0</td>\n",
       "      <td>19369.18</td>\n",
       "      <td>surf</td>\n",
       "      <td>50</td>\n",
       "      <td>15360</td>\n",
       "      <td>500</td>\n",
       "      <td>20</td>\n",
       "      <td>10</td>\n",
       "      <td>0.03</td>\n",
       "      <td>0.03</td>\n",
       "      <td>60.00</td>\n",
       "    </tr>\n",
       "    <tr>\n",
       "      <th>3</th>\n",
       "      <td>1001</td>\n",
       "      <td>10</td>\n",
       "      <td>65.0</td>\n",
       "      <td>393.0</td>\n",
       "      <td>53.0</td>\n",
       "      <td>22330.49</td>\n",
       "      <td>surf</td>\n",
       "      <td>50</td>\n",
       "      <td>15360</td>\n",
       "      <td>500</td>\n",
       "      <td>20</td>\n",
       "      <td>10</td>\n",
       "      <td>0.03</td>\n",
       "      <td>0.03</td>\n",
       "      <td>90.09</td>\n",
       "    </tr>\n",
       "    <tr>\n",
       "      <th>4</th>\n",
       "      <td>1001</td>\n",
       "      <td>8</td>\n",
       "      <td>27.0</td>\n",
       "      <td>182.0</td>\n",
       "      <td>30.0</td>\n",
       "      <td>6919.15</td>\n",
       "      <td>surf</td>\n",
       "      <td>50</td>\n",
       "      <td>15360</td>\n",
       "      <td>500</td>\n",
       "      <td>20</td>\n",
       "      <td>10</td>\n",
       "      <td>0.03</td>\n",
       "      <td>0.03</td>\n",
       "      <td>20.00</td>\n",
       "    </tr>\n",
       "    <tr>\n",
       "      <th>5</th>\n",
       "      <td>1001</td>\n",
       "      <td>9</td>\n",
       "      <td>49.0</td>\n",
       "      <td>315.0</td>\n",
       "      <td>44.0</td>\n",
       "      <td>13314.82</td>\n",
       "      <td>surf</td>\n",
       "      <td>50</td>\n",
       "      <td>15360</td>\n",
       "      <td>500</td>\n",
       "      <td>20</td>\n",
       "      <td>10</td>\n",
       "      <td>0.03</td>\n",
       "      <td>0.03</td>\n",
       "      <td>20.00</td>\n",
       "    </tr>\n",
       "    <tr>\n",
       "      <th>6</th>\n",
       "      <td>1002</td>\n",
       "      <td>12</td>\n",
       "      <td>47.0</td>\n",
       "      <td>384.0</td>\n",
       "      <td>41.0</td>\n",
       "      <td>14396.24</td>\n",
       "      <td>surf</td>\n",
       "      <td>50</td>\n",
       "      <td>15360</td>\n",
       "      <td>500</td>\n",
       "      <td>20</td>\n",
       "      <td>10</td>\n",
       "      <td>0.03</td>\n",
       "      <td>0.03</td>\n",
       "      <td>20.00</td>\n",
       "    </tr>\n",
       "    <tr>\n",
       "      <th>7</th>\n",
       "      <td>1002</td>\n",
       "      <td>11</td>\n",
       "      <td>55.0</td>\n",
       "      <td>386.0</td>\n",
       "      <td>32.0</td>\n",
       "      <td>19345.08</td>\n",
       "      <td>surf</td>\n",
       "      <td>50</td>\n",
       "      <td>15360</td>\n",
       "      <td>500</td>\n",
       "      <td>20</td>\n",
       "      <td>10</td>\n",
       "      <td>0.03</td>\n",
       "      <td>0.03</td>\n",
       "      <td>60.00</td>\n",
       "    </tr>\n",
       "    <tr>\n",
       "      <th>8</th>\n",
       "      <td>1002</td>\n",
       "      <td>10</td>\n",
       "      <td>11.0</td>\n",
       "      <td>59.0</td>\n",
       "      <td>15.0</td>\n",
       "      <td>6552.01</td>\n",
       "      <td>surf</td>\n",
       "      <td>50</td>\n",
       "      <td>15360</td>\n",
       "      <td>500</td>\n",
       "      <td>20</td>\n",
       "      <td>10</td>\n",
       "      <td>0.03</td>\n",
       "      <td>0.03</td>\n",
       "      <td>20.00</td>\n",
       "    </tr>\n",
       "    <tr>\n",
       "      <th>9</th>\n",
       "      <td>1003</td>\n",
       "      <td>12</td>\n",
       "      <td>149.0</td>\n",
       "      <td>1104.0</td>\n",
       "      <td>50.0</td>\n",
       "      <td>27044.14</td>\n",
       "      <td>surf</td>\n",
       "      <td>50</td>\n",
       "      <td>15360</td>\n",
       "      <td>500</td>\n",
       "      <td>20</td>\n",
       "      <td>10</td>\n",
       "      <td>0.03</td>\n",
       "      <td>0.03</td>\n",
       "      <td>158.12</td>\n",
       "    </tr>\n",
       "  </tbody>\n",
       "</table>\n",
       "</div>"
      ],
      "text/plain": [
       "   user_id  month  calls  minutes  messages   mb_used plan_name  \\\n",
       "0     1000     12   16.0    124.0      11.0   1901.47  ultimate   \n",
       "1     1001     11   64.0    426.0      36.0  18504.30      surf   \n",
       "2     1001     12   56.0    412.0      44.0  19369.18      surf   \n",
       "3     1001     10   65.0    393.0      53.0  22330.49      surf   \n",
       "4     1001      8   27.0    182.0      30.0   6919.15      surf   \n",
       "5     1001      9   49.0    315.0      44.0  13314.82      surf   \n",
       "6     1002     12   47.0    384.0      41.0  14396.24      surf   \n",
       "7     1002     11   55.0    386.0      32.0  19345.08      surf   \n",
       "8     1002     10   11.0     59.0      15.0   6552.01      surf   \n",
       "9     1003     12  149.0   1104.0      50.0  27044.14      surf   \n",
       "\n",
       "   messages_included  mb_per_month_included  minutes_included  \\\n",
       "0               1000                  30720              3000   \n",
       "1                 50                  15360               500   \n",
       "2                 50                  15360               500   \n",
       "3                 50                  15360               500   \n",
       "4                 50                  15360               500   \n",
       "5                 50                  15360               500   \n",
       "6                 50                  15360               500   \n",
       "7                 50                  15360               500   \n",
       "8                 50                  15360               500   \n",
       "9                 50                  15360               500   \n",
       "\n",
       "   usd_monthly_pay  usd_per_gb  usd_per_message  usd_per_minute  revenue  \n",
       "0               70           7             0.01            0.01    70.00  \n",
       "1               20          10             0.03            0.03    60.00  \n",
       "2               20          10             0.03            0.03    60.00  \n",
       "3               20          10             0.03            0.03    90.09  \n",
       "4               20          10             0.03            0.03    20.00  \n",
       "5               20          10             0.03            0.03    20.00  \n",
       "6               20          10             0.03            0.03    20.00  \n",
       "7               20          10             0.03            0.03    60.00  \n",
       "8               20          10             0.03            0.03    20.00  \n",
       "9               20          10             0.03            0.03   158.12  "
      ]
     },
     "metadata": {},
     "output_type": "display_data"
    }
   ],
   "source": [
    "merge_df['revenue'] = merge_df.apply(user_revenue, axis = 1)\n",
    "display(merge_df.head(10))#add revenue to whole df"
   ]
  },
  {
   "cell_type": "markdown",
   "metadata": {},
   "source": [
    "## Study user behaviour"
   ]
  },
  {
   "cell_type": "markdown",
   "metadata": {},
   "source": [
    "[Calculate some useful descriptive statistics for the aggregated and merged data, which typically reveal an overall picture captured by the data. Draw useful plots to help the understanding. Given that the main task is to compare the plans and decide on which one is more profitable, the statistics and the plots should be calculated on a per-plan basis.]\n",
    "\n",
    "[There are relevant hints in the comments for Calls but they are not provided for Messages and Internet though the principle of statistical study is the same for them as for Calls.]"
   ]
  },
  {
   "cell_type": "markdown",
   "metadata": {},
   "source": [
    "### Calls"
   ]
  },
  {
   "cell_type": "code",
   "execution_count": 35,
   "metadata": {},
   "outputs": [
    {
     "name": "stdout",
     "output_type": "stream",
     "text": [
      "<class 'pandas.core.frame.DataFrame'>\n",
      "RangeIndex: 137735 entries, 0 to 137734\n",
      "Data columns (total 5 columns):\n",
      " #   Column     Non-Null Count   Dtype         \n",
      "---  ------     --------------   -----         \n",
      " 0   id         137735 non-null  object        \n",
      " 1   user_id    137735 non-null  int64         \n",
      " 2   call_date  137735 non-null  datetime64[ns]\n",
      " 3   duration   137735 non-null  int64         \n",
      " 4   month      137735 non-null  int64         \n",
      "dtypes: datetime64[ns](1), int64(3), object(1)\n",
      "memory usage: 5.3+ MB\n"
     ]
    }
   ],
   "source": [
    "calls.info()"
   ]
  },
  {
   "cell_type": "code",
   "execution_count": 36,
   "metadata": {},
   "outputs": [],
   "source": [
    "surf_data = merge_df[merge_df['plan_name'] == 'surf']\n",
    "surf_data = surf_data.groupby('month')['minutes'].mean().reset_index()\n",
    "surf_data.columns = ['month', 'surf_minutes']\n"
   ]
  },
  {
   "cell_type": "code",
   "execution_count": 37,
   "metadata": {},
   "outputs": [],
   "source": [
    "ultimate_data = merge_df[merge_df['plan_name'] == 'ultimate']\n",
    "ultimate_data = ultimate_data.groupby('month')['minutes'].mean().reset_index()\n",
    "ultimate_data.columns = ['month', 'ultimate_minutes']\n"
   ]
  },
  {
   "cell_type": "code",
   "execution_count": 38,
   "metadata": {},
   "outputs": [
    {
     "data": {
      "image/png": "[encoded data removed]",
      "text/plain": [
       "<Figure size 1500x1000 with 1 Axes>"
      ]
     },
     "metadata": {},
     "output_type": "display_data"
    }
   ],
   "source": [
    "\n",
    "merged_calls = surf_data.merge(right=ultimate_data, on = 'month', how = 'outer')\n",
    "\n",
    "merged_calls.index = pd.CategoricalIndex(merged_calls['month'], ordered=True)\n",
    "merged_calls = merged_calls.sort_index()\n",
    "\n",
    "\n",
    "merged_calls.plot(x = 'month', y = ['surf_minutes', 'ultimate_minutes'], kind = 'bar', figsize = (15, 10))\n",
    "plt.title('Average minutes per month for each plan')\n",
    "plt.xlabel('Month')\n",
    "plt.ylabel('Minutes')\n",
    "plt.show()"
   ]
  },
  {
   "cell_type": "code",
   "execution_count": 39,
   "metadata": {},
   "outputs": [
    {
     "data": {
      "text/html": [
       "<div>\n",
       "<style scoped>\n",
       "    .dataframe tbody tr th:only-of-type {\n",
       "        vertical-align: middle;\n",
       "    }\n",
       "\n",
       "    .dataframe tbody tr th {\n",
       "        vertical-align: top;\n",
       "    }\n",
       "\n",
       "    .dataframe thead th {\n",
       "        text-align: right;\n",
       "    }\n",
       "</style>\n",
       "<table border=\"1\" class=\"dataframe\">\n",
       "  <thead>\n",
       "    <tr style=\"text-align: right;\">\n",
       "      <th></th>\n",
       "      <th>messages_included</th>\n",
       "      <th>mb_per_month_included</th>\n",
       "      <th>minutes_included</th>\n",
       "      <th>usd_monthly_pay</th>\n",
       "      <th>usd_per_gb</th>\n",
       "      <th>usd_per_message</th>\n",
       "      <th>usd_per_minute</th>\n",
       "      <th>plan_name</th>\n",
       "    </tr>\n",
       "  </thead>\n",
       "  <tbody>\n",
       "    <tr>\n",
       "      <th>0</th>\n",
       "      <td>50</td>\n",
       "      <td>15360</td>\n",
       "      <td>500</td>\n",
       "      <td>20</td>\n",
       "      <td>10</td>\n",
       "      <td>0.03</td>\n",
       "      <td>0.03</td>\n",
       "      <td>surf</td>\n",
       "    </tr>\n",
       "    <tr>\n",
       "      <th>1</th>\n",
       "      <td>1000</td>\n",
       "      <td>30720</td>\n",
       "      <td>3000</td>\n",
       "      <td>70</td>\n",
       "      <td>7</td>\n",
       "      <td>0.01</td>\n",
       "      <td>0.01</td>\n",
       "      <td>ultimate</td>\n",
       "    </tr>\n",
       "  </tbody>\n",
       "</table>\n",
       "</div>"
      ],
      "text/plain": [
       "   messages_included  mb_per_month_included  minutes_included  \\\n",
       "0                 50                  15360               500   \n",
       "1               1000                  30720              3000   \n",
       "\n",
       "   usd_monthly_pay  usd_per_gb  usd_per_message  usd_per_minute plan_name  \n",
       "0               20          10             0.03            0.03      surf  \n",
       "1               70           7             0.01            0.01  ultimate  "
      ]
     },
     "execution_count": 39,
     "metadata": {},
     "output_type": "execute_result"
    }
   ],
   "source": [
    "plans"
   ]
  },
  {
   "cell_type": "markdown",
   "metadata": {},
   "source": [
    "Both plans start way below their included minutes of 500 for the surf plan and 3000 for the ultimate plan. The average minutes for the ultimate plan quickly shoot up to almost 500 minutes in February them steady back off around 450 minutes the rest of the year. The surf plan gradually increases and consistantly stays between 400 and 450 minutes after June. Overall from this data, 300 included minutes is a little overkill from the ultimate plan because both plans durations don't go over 500 minutes."
   ]
  },
  {
   "cell_type": "code",
   "execution_count": 40,
   "metadata": {},
   "outputs": [
    {
     "data": {
      "image/png": "[encoded data removed]",
      "text/plain": [
       "<Figure size 1500x1000 with 1 Axes>"
      ]
     },
     "metadata": {},
     "output_type": "display_data"
    }
   ],
   "source": [
    "# Compare the number of minutes users of each plan require each month. Plot a histogram.\n",
    "\n",
    "surf_data = merge_df[merge_df['plan_name'] == 'surf']['minutes'].hist(bins=50, figsize = (15, 10), label = 'surf')\n",
    "\n",
    "ultimate_data = merge_df[merge_df['plan_name'] == 'ultimate']['minutes'].hist(bins=50, figsize = (15, 10), label = 'ultimate')\n",
    "\n",
    "plt.title('Minutes per month for each plan')\n",
    "plt.xlabel('Minutes')\n",
    "plt.ylabel('Frequency')\n",
    "plt.legend()\n",
    "plt.show()"
   ]
  },
  {
   "cell_type": "markdown",
   "metadata": {},
   "source": [
    "The surf plan graph is much bigger with higher frequencies most likely meaning that it has more users. Other than the surf plan gragh being bigger, the graphs are very similar, the peak at the same points, and decline at the same amount of minutes. Both graphs have the highest frequency between 400 and 450 minutes."
   ]
  },
  {
   "cell_type": "code",
   "execution_count": 41,
   "metadata": {},
   "outputs": [
    {
     "data": {
      "image/png": "[encoded data removed]",
      "text/plain": [
       "<Figure size 1000x800 with 1 Axes>"
      ]
     },
     "metadata": {},
     "output_type": "display_data"
    }
   ],
   "source": [
    "# Reviewer's code 2\n",
    "\n",
    "merge_df.groupby('plan_name')['minutes'].plot.hist(alpha=0.5, legend=True, bins=25, figsize=(10,8))\n",
    "\n",
    "plt.legend(['Surf', 'Ultimate'])\n",
    "plt.title('Title')\n",
    "plt.xlabel('x')\n",
    "plt.ylabel('y')\n",
    "\n",
    "plt.show()"
   ]
  },
  {
   "cell_type": "markdown",
   "metadata": {},
   "source": [
    "[Calculate the mean and the variable of the call duration to reason on whether users on the different plans have different behaviours for their calls.]"
   ]
  },
  {
   "cell_type": "code",
   "execution_count": 42,
   "metadata": {
    "scrolled": true
   },
   "outputs": [
    {
     "name": "stdout",
     "output_type": "stream",
     "text": [
      "Mean for the surf plan: 408.74\n",
      "Variance for the surf plan: 39748.06\n",
      "Standard deviation for the surf plan: 199.07\n",
      "Mean for the ultimate plan: 407.96\n",
      "Variance for the ultimate plan: 40142.98\n",
      "Standard deviation for the ultimate plan: 199.72\n"
     ]
    }
   ],
   "source": [
    "# Calculate the mean and the variance of the monthly call duration\n",
    "surf_data_calls = merge_df[merge_df['plan_name'] == 'surf'].groupby('user_id')['minutes'].mean()\n",
    "ultimate_data_calls = merge_df[merge_df['plan_name'] == 'ultimate'].groupby('user_id')['minutes'].mean()\n",
    "\n",
    "surf_mean_calls = surf_data_calls.mean()\n",
    "surf_var_calls = surf_data_calls.var()\n",
    "surf_std_calls = np.std(surf_data_calls)\n",
    "\n",
    "ultimate_mean_calls = ultimate_data_calls.mean()\n",
    "ultimate_var_calls = ultimate_data_calls.var()\n",
    "ultimate_std_calls = np.std(ultimate_data_calls)\n",
    "\n",
    "print(f'Mean for the surf plan: {round(surf_mean_calls,2)}')\n",
    "print(f'Variance for the surf plan: {round(surf_var_calls,2)}')\n",
    "print(f'Standard deviation for the surf plan: {round(surf_std_calls,2)}')\n",
    "print(f'Mean for the ultimate plan: {round(ultimate_mean_calls,2)}')\n",
    "print(f'Variance for the ultimate plan: {round(ultimate_var_calls,2)}')\n",
    "print(f'Standard deviation for the ultimate plan: {round(ultimate_std_calls,2)}')"
   ]
  },
  {
   "cell_type": "code",
   "execution_count": 43,
   "metadata": {},
   "outputs": [
    {
     "data": {
      "text/html": [
       "<div>\n",
       "<style scoped>\n",
       "    .dataframe tbody tr th:only-of-type {\n",
       "        vertical-align: middle;\n",
       "    }\n",
       "\n",
       "    .dataframe tbody tr th {\n",
       "        vertical-align: top;\n",
       "    }\n",
       "\n",
       "    .dataframe thead tr th {\n",
       "        text-align: left;\n",
       "    }\n",
       "\n",
       "    .dataframe thead tr:last-of-type th {\n",
       "        text-align: right;\n",
       "    }\n",
       "</style>\n",
       "<table border=\"1\" class=\"dataframe\">\n",
       "  <thead>\n",
       "    <tr>\n",
       "      <th></th>\n",
       "      <th>mean</th>\n",
       "      <th>std</th>\n",
       "      <th>var</th>\n",
       "    </tr>\n",
       "    <tr>\n",
       "      <th></th>\n",
       "      <th>minutes</th>\n",
       "      <th>minutes</th>\n",
       "      <th>minutes</th>\n",
       "    </tr>\n",
       "    <tr>\n",
       "      <th>plan_name</th>\n",
       "      <th></th>\n",
       "      <th></th>\n",
       "      <th></th>\n",
       "    </tr>\n",
       "  </thead>\n",
       "  <tbody>\n",
       "    <tr>\n",
       "      <th>surf</th>\n",
       "      <td>428.749523</td>\n",
       "      <td>234.453150</td>\n",
       "      <td>54968.279461</td>\n",
       "    </tr>\n",
       "    <tr>\n",
       "      <th>ultimate</th>\n",
       "      <td>430.450000</td>\n",
       "      <td>240.508762</td>\n",
       "      <td>57844.464812</td>\n",
       "    </tr>\n",
       "  </tbody>\n",
       "</table>\n",
       "</div>"
      ],
      "text/plain": [
       "                 mean         std           var\n",
       "              minutes     minutes       minutes\n",
       "plan_name                                      \n",
       "surf       428.749523  234.453150  54968.279461\n",
       "ultimate   430.450000  240.508762  57844.464812"
      ]
     },
     "execution_count": 43,
     "metadata": {},
     "output_type": "execute_result"
    }
   ],
   "source": [
    "# Reviewer's code 2\n",
    "\n",
    "merge_df.pivot_table(index='plan_name', values=['minutes'], aggfunc=['mean', 'std', 'var'])"
   ]
  },
  {
   "cell_type": "code",
   "execution_count": 44,
   "metadata": {},
   "outputs": [
    {
     "data": {
      "image/png": "[encoded data removed]",
      "text/plain": [
       "<Figure size 640x480 with 1 Axes>"
      ]
     },
     "metadata": {},
     "output_type": "display_data"
    }
   ],
   "source": [
    "# Plot a boxplot to visualize the distribution of the monthly call duration\n",
    "sns.boxplot(x = 'plan_name', y = 'minutes', data = merge_df, palette = 'rocket')\n",
    "plt.title('Distribution of the monthly call duration')\n",
    "plt.xlabel('Plan')\n",
    "plt.ylabel('Minutes')\n",
    "plt.show()\n"
   ]
  },
  {
   "cell_type": "markdown",
   "metadata": {},
   "source": [
    "The box plots show that the difference in plans doesn't really effect the average monthly call duration. The means for each plans monthly call time are only about 5 minutes of each othernm , which isn'd much of a difference."
   ]
  },
  {
   "cell_type": "markdown",
   "metadata": {},
   "source": [
    "[Formulate conclusions on how the users behave in terms of calling. Is their behaviour different between the plans?]"
   ]
  },
  {
   "cell_type": "markdown",
   "metadata": {},
   "source": [
    " "
   ]
  },
  {
   "cell_type": "markdown",
   "metadata": {},
   "source": [
    "### Messages"
   ]
  },
  {
   "cell_type": "code",
   "execution_count": 45,
   "metadata": {
    "scrolled": true
   },
   "outputs": [
    {
     "data": {
      "image/png": "[encoded data removed]",
      "text/plain": [
       "<Figure size 1500x1000 with 1 Axes>"
      ]
     },
     "metadata": {},
     "output_type": "display_data"
    }
   ],
   "source": [
    "# Compare the number of messages users of each plan tend to send each month\n",
    " \n",
    "surf_messages = round(merge_df[merge_df['plan_name'] == 'surf'].groupby('month')['messages'].mean(), 2)\n",
    "ultimate_messages = round(merge_df[merge_df['plan_name'] == 'ultimate'].groupby('month')['messages'].mean(), 2)\n",
    "\n",
    "merged_messages = surf_messages.to_frame().merge(right=ultimate_messages.to_frame(), on = 'month', how = 'outer')\n",
    "\n",
    "merged_messages.columns = ['surf_messages', 'ultimate_messages']\n",
    "\n",
    "merged_messages.index = pd.CategoricalIndex(merged_messages.index, ordered=True)\n",
    "merged_messages.sort_index(inplace=True)\n",
    "\n",
    "\n",
    "merged_messages.plot(kind = 'bar', figsize = (15, 10))\n",
    "plt.title('Average messages per month for each plan')\n",
    "plt.xlabel('Month')\n",
    "plt.ylabel('Messages')\n",
    "plt.show()\n"
   ]
  },
  {
   "cell_type": "markdown",
   "metadata": {},
   "source": [
    "Both plans start with a low average ammount of messages each month, with the ultimate plan staying around 5 or more messages than the surf plan. They both gradually increase around with the surf plan making a more steady increase, while the ultimate plan fluctuates a bit more."
   ]
  },
  {
   "cell_type": "code",
   "execution_count": 46,
   "metadata": {},
   "outputs": [
    {
     "data": {
      "image/png": "[encoded data removed]",
      "text/plain": [
       "<Figure size 1500x1000 with 1 Axes>"
      ]
     },
     "metadata": {},
     "output_type": "display_data"
    }
   ],
   "source": [
    "# Compare the amount of internet traffic consumed by users per plan\n",
    "surf_data = round(merge_df[merge_df['plan_name'] == 'surf'].groupby('month')['mb_used'].mean(), 2)\n",
    "ultimate_data = round(merge_df[merge_df['plan_name'] == 'ultimate'].groupby('month')['mb_used'].mean(), 2)\n",
    "\n",
    "merged_internet = surf_data.to_frame().merge(right=ultimate_data.to_frame(), on = 'month', how = 'outer')\n",
    "\n",
    "merged_internet.columns = ['surf_mb_used', 'ultimate_mb_used']\n",
    "\n",
    "merged_internet.index = pd.CategoricalIndex(merged_internet.index, ordered=True)\n",
    "merged_internet.sort_index(inplace=True)\n",
    "\n",
    "merged_internet.plot(kind = 'bar', figsize = (15, 10))\n",
    "plt.title('Average internet usage per month for each plan')\n",
    "plt.xlabel('Month')\n",
    "plt.ylabel('Internet Usage (MB)')\n",
    "plt.show()\n"
   ]
  },
  {
   "cell_type": "markdown",
   "metadata": {},
   "source": [
    "While both plans' usages start way below their included limit, the ultimate plan quickly shoots up in average usage around February and March. It almosts seems like users of the ultimate plan rememeber around that time all of the extra usage they get, but then don't really need it as much when it drops back down to around 15,500 mb. The average surf plan usage gradually increases until it reaches its limit of 15,360 mb where it stays steady at, going over a few times."
   ]
  },
  {
   "cell_type": "markdown",
   "metadata": {},
   "source": []
  },
  {
   "cell_type": "markdown",
   "metadata": {},
   "source": [
    "[Formulate conclusions on how the users behave in terms of messaging. Is their behaviour different between the plans?]"
   ]
  },
  {
   "cell_type": "code",
   "execution_count": 47,
   "metadata": {
    "scrolled": true
   },
   "outputs": [
    {
     "data": {
      "image/png": "[encoded data removed]",
      "text/plain": [
       "<Figure size 1500x1000 with 1 Axes>"
      ]
     },
     "metadata": {},
     "output_type": "display_data"
    }
   ],
   "source": [
    "surf_data = merge_df[merge_df['plan_name'] == 'surf']['messages'].hist(bins=50, figsize = (15, 10), label = 'surf')\n",
    "ultimate_data = merge_df[merge_df['plan_name'] == 'ultimate']['messages'].hist(bins=50, figsize = (15, 10), label = 'ultimate')\n",
    "\n",
    "plt.title('Messages per month for each plan')\n",
    "plt.xlabel('Messages')\n",
    "plt.ylabel('Frequency')\n",
    "plt.legend()\n",
    "plt.show()"
   ]
  },
  {
   "cell_type": "code",
   "execution_count": 48,
   "metadata": {},
   "outputs": [
    {
     "data": {
      "text/html": [
       "<div>\n",
       "<style scoped>\n",
       "    .dataframe tbody tr th:only-of-type {\n",
       "        vertical-align: middle;\n",
       "    }\n",
       "\n",
       "    .dataframe tbody tr th {\n",
       "        vertical-align: top;\n",
       "    }\n",
       "\n",
       "    .dataframe thead tr th {\n",
       "        text-align: left;\n",
       "    }\n",
       "\n",
       "    .dataframe thead tr:last-of-type th {\n",
       "        text-align: right;\n",
       "    }\n",
       "</style>\n",
       "<table border=\"1\" class=\"dataframe\">\n",
       "  <thead>\n",
       "    <tr>\n",
       "      <th></th>\n",
       "      <th>mean</th>\n",
       "      <th>std</th>\n",
       "      <th>var</th>\n",
       "    </tr>\n",
       "    <tr>\n",
       "      <th></th>\n",
       "      <th>messages</th>\n",
       "      <th>messages</th>\n",
       "      <th>messages</th>\n",
       "    </tr>\n",
       "    <tr>\n",
       "      <th>plan_name</th>\n",
       "      <th></th>\n",
       "      <th></th>\n",
       "      <th></th>\n",
       "    </tr>\n",
       "  </thead>\n",
       "  <tbody>\n",
       "    <tr>\n",
       "      <th>surf</th>\n",
       "      <td>31.159568</td>\n",
       "      <td>33.566717</td>\n",
       "      <td>1126.724522</td>\n",
       "    </tr>\n",
       "    <tr>\n",
       "      <th>ultimate</th>\n",
       "      <td>37.551389</td>\n",
       "      <td>34.767179</td>\n",
       "      <td>1208.756744</td>\n",
       "    </tr>\n",
       "  </tbody>\n",
       "</table>\n",
       "</div>"
      ],
      "text/plain": [
       "                mean        std          var\n",
       "            messages   messages     messages\n",
       "plan_name                                   \n",
       "surf       31.159568  33.566717  1126.724522\n",
       "ultimate   37.551389  34.767179  1208.756744"
      ]
     },
     "execution_count": 48,
     "metadata": {},
     "output_type": "execute_result"
    }
   ],
   "source": [
    "merge_df.pivot_table(index='plan_name', values=['messages'], aggfunc=['mean', 'std', 'var'])"
   ]
  },
  {
   "cell_type": "markdown",
   "metadata": {},
   "source": [
    "The graphs both take similar shape, again the ultimate is smaller most likely due to the fact that there are more people who use the surf plan. The histogram shows us that the ultimate plan users are in the clear when paying extra. The max messages included monthly is 1000 and the users don't ever come close to that for either plan. The surf plan users, on the other hand, might see some issues when it comes to paying extra. Although the frrequencies for both plans hit their highest at only a couple messages a month, probably around 10, some surf plan users tend to use a lot more than their max included messages of 50."
   ]
  },
  {
   "cell_type": "markdown",
   "metadata": {},
   "source": [
    " "
   ]
  },
  {
   "cell_type": "markdown",
   "metadata": {},
   "source": [
    "### Internet"
   ]
  },
  {
   "cell_type": "code",
   "execution_count": 49,
   "metadata": {},
   "outputs": [
    {
     "data": {
      "text/html": [
       "<div>\n",
       "<style scoped>\n",
       "    .dataframe tbody tr th:only-of-type {\n",
       "        vertical-align: middle;\n",
       "    }\n",
       "\n",
       "    .dataframe tbody tr th {\n",
       "        vertical-align: top;\n",
       "    }\n",
       "\n",
       "    .dataframe thead th {\n",
       "        text-align: right;\n",
       "    }\n",
       "</style>\n",
       "<table border=\"1\" class=\"dataframe\">\n",
       "  <thead>\n",
       "    <tr style=\"text-align: right;\">\n",
       "      <th></th>\n",
       "      <th>messages_included</th>\n",
       "      <th>mb_per_month_included</th>\n",
       "      <th>minutes_included</th>\n",
       "      <th>usd_monthly_pay</th>\n",
       "      <th>usd_per_gb</th>\n",
       "      <th>usd_per_message</th>\n",
       "      <th>usd_per_minute</th>\n",
       "      <th>plan_name</th>\n",
       "    </tr>\n",
       "  </thead>\n",
       "  <tbody>\n",
       "    <tr>\n",
       "      <th>0</th>\n",
       "      <td>50</td>\n",
       "      <td>15360</td>\n",
       "      <td>500</td>\n",
       "      <td>20</td>\n",
       "      <td>10</td>\n",
       "      <td>0.03</td>\n",
       "      <td>0.03</td>\n",
       "      <td>surf</td>\n",
       "    </tr>\n",
       "    <tr>\n",
       "      <th>1</th>\n",
       "      <td>1000</td>\n",
       "      <td>30720</td>\n",
       "      <td>3000</td>\n",
       "      <td>70</td>\n",
       "      <td>7</td>\n",
       "      <td>0.01</td>\n",
       "      <td>0.01</td>\n",
       "      <td>ultimate</td>\n",
       "    </tr>\n",
       "  </tbody>\n",
       "</table>\n",
       "</div>"
      ],
      "text/plain": [
       "   messages_included  mb_per_month_included  minutes_included  \\\n",
       "0                 50                  15360               500   \n",
       "1               1000                  30720              3000   \n",
       "\n",
       "   usd_monthly_pay  usd_per_gb  usd_per_message  usd_per_minute plan_name  \n",
       "0               20          10             0.03            0.03      surf  \n",
       "1               70           7             0.01            0.01  ultimate  "
      ]
     },
     "execution_count": 49,
     "metadata": {},
     "output_type": "execute_result"
    }
   ],
   "source": [
    "plans"
   ]
  },
  {
   "cell_type": "code",
   "execution_count": 50,
   "metadata": {},
   "outputs": [
    {
     "data": {
      "image/png": "[encoded data removed]",
      "text/plain": [
       "<Figure size 1500x1000 with 1 Axes>"
      ]
     },
     "metadata": {},
     "output_type": "display_data"
    }
   ],
   "source": [
    "surf_data = merge_df[merge_df['plan_name'] == 'surf']['mb_used'].hist(bins=50, figsize = (15, 10), label = 'surf')\n",
    "ultimate_data = merge_df[merge_df['plan_name'] == 'ultimate']['mb_used'].hist(bins=50, figsize = (15, 10), label = 'ultimate')\n",
    "\n",
    "plt.title('Internet usage for each plan')\n",
    "plt.xlabel('Internet Usage (MB)')\n",
    "plt.ylabel('Frequency')\n",
    "plt.legend()\n",
    "plt.show()#internet statistics histograms for each plan"
   ]
  },
  {
   "cell_type": "code",
   "execution_count": 51,
   "metadata": {},
   "outputs": [
    {
     "data": {
      "text/html": [
       "<div>\n",
       "<style scoped>\n",
       "    .dataframe tbody tr th:only-of-type {\n",
       "        vertical-align: middle;\n",
       "    }\n",
       "\n",
       "    .dataframe tbody tr th {\n",
       "        vertical-align: top;\n",
       "    }\n",
       "\n",
       "    .dataframe thead tr th {\n",
       "        text-align: left;\n",
       "    }\n",
       "\n",
       "    .dataframe thead tr:last-of-type th {\n",
       "        text-align: right;\n",
       "    }\n",
       "</style>\n",
       "<table border=\"1\" class=\"dataframe\">\n",
       "  <thead>\n",
       "    <tr>\n",
       "      <th></th>\n",
       "      <th>mean</th>\n",
       "      <th>std</th>\n",
       "      <th>var</th>\n",
       "    </tr>\n",
       "    <tr>\n",
       "      <th></th>\n",
       "      <th>mb_used</th>\n",
       "      <th>mb_used</th>\n",
       "      <th>mb_used</th>\n",
       "    </tr>\n",
       "    <tr>\n",
       "      <th>plan_name</th>\n",
       "      <th></th>\n",
       "      <th></th>\n",
       "      <th></th>\n",
       "    </tr>\n",
       "  </thead>\n",
       "  <tbody>\n",
       "    <tr>\n",
       "      <th>surf</th>\n",
       "      <td>16558.283490</td>\n",
       "      <td>8013.513327</td>\n",
       "      <td>6.421640e+07</td>\n",
       "    </tr>\n",
       "    <tr>\n",
       "      <th>ultimate</th>\n",
       "      <td>17214.699694</td>\n",
       "      <td>7851.897435</td>\n",
       "      <td>6.165229e+07</td>\n",
       "    </tr>\n",
       "  </tbody>\n",
       "</table>\n",
       "</div>"
      ],
      "text/plain": [
       "                   mean          std           var\n",
       "                mb_used      mb_used       mb_used\n",
       "plan_name                                         \n",
       "surf       16558.283490  8013.513327  6.421640e+07\n",
       "ultimate   17214.699694  7851.897435  6.165229e+07"
      ]
     },
     "execution_count": 51,
     "metadata": {},
     "output_type": "execute_result"
    }
   ],
   "source": [
    "merge_df.pivot_table(index='plan_name', values=['mb_used'], aggfunc=['mean', 'std', 'var'])"
   ]
  },
  {
   "cell_type": "markdown",
   "metadata": {},
   "source": [
    "This graph again shows that the surf plan had more users choose that plan since it's bigger. They still both mimic each other and both frequencies peak between 15000 and 20000 mb of internet usage."
   ]
  },
  {
   "cell_type": "markdown",
   "metadata": {},
   "source": [
    "[Formulate conclusions on how the users tend to consume the internet traffic? Is their behaviour different between the plans?]"
   ]
  },
  {
   "cell_type": "markdown",
   "metadata": {},
   "source": [
    " "
   ]
  },
  {
   "cell_type": "markdown",
   "metadata": {},
   "source": [
    "## Revenue"
   ]
  },
  {
   "cell_type": "markdown",
   "metadata": {},
   "source": [
    "[Likewise you have studied the user behaviour, statistically describe the revenue between the plans.]"
   ]
  },
  {
   "cell_type": "code",
   "execution_count": 52,
   "metadata": {
    "scrolled": false
   },
   "outputs": [
    {
     "data": {
      "text/plain": [
       "Text(0, 0.5, 'Revenue')"
      ]
     },
     "execution_count": 52,
     "metadata": {},
     "output_type": "execute_result"
    },
    {
     "data": {
      "image/png": "[encoded data removed]",
      "text/plain": [
       "<Figure size 1500x1000 with 1 Axes>"
      ]
     },
     "metadata": {},
     "output_type": "display_data"
    }
   ],
   "source": [
    "surf_revenue = round(merge_df[merge_df['plan_name'] == 'surf'].groupby('month')['revenue'].mean(), 2)\n",
    "ultimate_revenue = round(merge_df[merge_df['plan_name'] == 'ultimate'].groupby('month')['revenue'].mean(), 2)\n",
    "\n",
    "merged_revenue = surf_revenue.to_frame().merge(right=ultimate_revenue.to_frame(), on = 'month', how = 'outer')\n",
    "\n",
    "merged_revenue.columns = ['surf_revenue', 'ultimate_revenue']\n",
    "\n",
    "merged_revenue.index = pd.CategoricalIndex(merged_revenue.index, ordered=True)\n",
    "merged_revenue.sort_index(inplace=True)\n",
    "\n",
    "merged_revenue.plot(kind = 'bar', figsize = (15, 10))\n",
    "plt.title('Average revenue per month for each plan')\n",
    "plt.xlabel('Month')\n",
    "plt.ylabel('Revenue')"
   ]
  },
  {
   "cell_type": "markdown",
   "metadata": {},
   "source": [
    "The surf plan revenue gradually increases after the set montly fee of 20 dollars in January. Surf plan user often pay extra because they tend to use more than what they're offered, but still generate less revenue than the ultimate plan. The ultimate plan steadily stays around 70 dollars, it's monthly fee, jumping to almost 80 dollars once in February. Even though the users of the surf plan often pay more than their monthly fee, the ultimate plan still provides more revenue."
   ]
  },
  {
   "cell_type": "markdown",
   "metadata": {},
   "source": [
    "[Formulate conclusions about how the revenue differs between the plans.]"
   ]
  },
  {
   "cell_type": "markdown",
   "metadata": {},
   "source": [
    " "
   ]
  },
  {
   "cell_type": "markdown",
   "metadata": {},
   "source": [
    "## Test statistical hypotheses"
   ]
  },
  {
   "cell_type": "markdown",
   "metadata": {},
   "source": [
    "[Test the hypothesis that the average revenue from users of the Ultimate and Surf calling plans differs.]"
   ]
  },
  {
   "cell_type": "markdown",
   "metadata": {},
   "source": [
    "[Formulate the null and the alternative hypotheses, choose the statistical test, decide on the alpha value.]"
   ]
  },
  {
   "cell_type": "code",
   "execution_count": 53,
   "metadata": {},
   "outputs": [
    {
     "name": "stdout",
     "output_type": "stream",
     "text": [
      "p-value 0.0\n",
      "We reject the null hypothesis\n"
     ]
    }
   ],
   "source": [
    "# Test the hypotheses\n",
    "surf_data = merge_df[merge_df['plan_name'] == 'surf']['revenue']\n",
    "ultimate_data = merge_df[merge_df['plan_name'] == 'ultimate']['revenue']\n",
    "\n",
    "alpha = 0.05\n",
    "\n",
    "results = st.ttest_ind(surf_data, ultimate_data, equal_var=False)\n",
    "\n",
    "print('p-value', round(results.pvalue,7))\n",
    "\n",
    "if results.pvalue < alpha:\n",
    "    print(\"We reject the null hypothesis\")\n",
    "else:\n",
    "    print(\"We can't reject the null hypothesis\")\n"
   ]
  },
  {
   "cell_type": "markdown",
   "metadata": {},
   "source": [
    "The p-value is a lot less than the significance value of 5% allowing us to reject the null hypothesis. A two tailed ttest was used to approve or disprove the hypothesis that the average revenue between plans is the same. H0 or the null hypothesis is that the average revenue of both plans is equal, which was rejected. The alternative hypothysis H1 would be more likely, in that the average revenues of each plan are not equal."
   ]
  },
  {
   "cell_type": "markdown",
   "metadata": {},
   "source": [
    "[Test the hypothesis that the average revenue from users in the NY-NJ area is different from that of the users from the other regions.]"
   ]
  },
  {
   "cell_type": "markdown",
   "metadata": {},
   "source": [
    "[Formulate the null and the alternative hypotheses, choose the statistical test, decide on the alpha value.]"
   ]
  },
  {
   "cell_type": "code",
   "execution_count": 54,
   "metadata": {},
   "outputs": [
    {
     "name": "stdout",
     "output_type": "stream",
     "text": [
      "p-value 0.08460946064477204\n",
      "We can't reject the null hypothesis\n"
     ]
    }
   ],
   "source": [
    "# Test the hypotheses\n",
    "df_with_location = merge_df.merge(right=users, on='user_id')\n",
    "df_NY_NJ = df_with_location.query('city == \"New York-Newark-Jersey City, NY-NJ-PA MSA\"')\n",
    "df_other_regions = df_with_location.query('city != \"New York-Newark-Jersey City, NY-NJ MSA\"')\n",
    "\n",
    "df_NY_NJ = df_NY_NJ['revenue']\n",
    "df_other_regions = df_other_regions['revenue']\n",
    "alpha = 0.05\n",
    "\n",
    "results = st.ttest_ind(df_NY_NJ, df_other_regions, equal_var=True)\n",
    "\n",
    "print('p-value', results.pvalue)\n",
    "\n",
    "if results.pvalue < alpha:\n",
    "    print(\"We reject the null hypothesis\")\n",
    "else:\n",
    "    print(\"We can't reject the null hypothesis\")\n"
   ]
  },
  {
   "cell_type": "markdown",
   "metadata": {},
   "source": [
    "The pvalue was more than the significance value not allowing us to reject the null hypothesis(H0) that the average revenue from users in the NY-NJ area is equal to the average revenue from other areas. The alternative hypothesis(H1), that the average revenue from the NY-NJ area is not equal to the average revenue from the other areas, isn't incorrect, just unlikely. This means that the probability is too high that the average revenue from the NY-NJ region are equal to the rest of the the regions average revenue."
   ]
  },
  {
   "cell_type": "markdown",
   "metadata": {},
   "source": [
    "## General conclusion\n",
    "\n",
    "[List your important conclusions in this final section, make sure they cover all those important decisions (assumptions) that you've made and that led you to the way you processed and analyzed the data.]"
   ]
  },
  {
   "cell_type": "markdown",
   "metadata": {},
   "source": [
    "Although the ultimate plan provides a greater average revenue per user, the surf plan isn't very much behind. Given that the surf plan has almost double the users of the ultimate plan, and doesn't trail the ultimate plan in average revenue per user by very much, it would be smart to target a plan with a cheaper monthly pay. We were able to conclude in our analysis that we can reject that the plans generate equal revenue."
   ]
  },
  {
   "cell_type": "markdown",
   "metadata": {},
   "source": [
    " "
   ]
  }
 ],
 "metadata": {
  "ExecuteTimeLog": [
   {
    "duration": 828,
    "start_time": "2021-11-16T09:21:11.304Z"
   },
   {
    "duration": 893,
    "start_time": "2021-11-16T09:21:17.728Z"
   },
   {
    "duration": 1150,
    "start_time": "2021-11-16T09:21:29.568Z"
   },
   {
    "duration": 3,
    "start_time": "2021-11-16T09:24:14.495Z"
   },
   {
    "duration": 120,
    "start_time": "2021-11-16T09:24:46.630Z"
   },
   {
    "duration": 3,
    "start_time": "2021-11-16T09:28:27.882Z"
   },
   {
    "duration": 4,
    "start_time": "2021-11-16T09:29:54.281Z"
   },
   {
    "duration": 3,
    "start_time": "2021-11-16T09:30:45.936Z"
   },
   {
    "duration": 4,
    "start_time": "2021-11-16T09:31:06.300Z"
   },
   {
    "duration": 113,
    "start_time": "2021-11-16T09:31:37.208Z"
   },
   {
    "duration": 143,
    "start_time": "2021-11-16T09:31:48.656Z"
   },
   {
    "duration": 98,
    "start_time": "2021-11-16T09:31:55.678Z"
   },
   {
    "duration": 3,
    "start_time": "2021-11-16T09:32:08.535Z"
   },
   {
    "duration": 111,
    "start_time": "2021-11-16T09:32:10.120Z"
   },
   {
    "duration": 3,
    "start_time": "2021-11-16T09:32:15.732Z"
   },
   {
    "duration": 4,
    "start_time": "2021-11-16T09:32:29.423Z"
   },
   {
    "duration": 3,
    "start_time": "2021-11-16T10:03:03.074Z"
   },
   {
    "duration": 3,
    "start_time": "2021-11-16T10:10:01.288Z"
   },
   {
    "duration": 3,
    "start_time": "2021-11-16T10:10:46.923Z"
   },
   {
    "duration": 121,
    "start_time": "2021-11-16T10:37:46.494Z"
   },
   {
    "duration": 125,
    "start_time": "2021-11-16T10:38:20.632Z"
   },
   {
    "duration": 112,
    "start_time": "2021-11-16T10:46:53.001Z"
   },
   {
    "duration": 110,
    "start_time": "2021-11-16T10:48:25.775Z"
   },
   {
    "duration": 3,
    "start_time": "2021-11-16T10:50:18.720Z"
   },
   {
    "duration": 4,
    "start_time": "2021-11-16T10:50:37.649Z"
   },
   {
    "duration": 2,
    "start_time": "2021-11-16T10:50:51.884Z"
   },
   {
    "duration": 3,
    "start_time": "2021-11-16T10:51:56.237Z"
   },
   {
    "duration": 101,
    "start_time": "2021-11-16T10:53:13.791Z"
   },
   {
    "duration": 3,
    "start_time": "2021-11-16T10:55:59.186Z"
   },
   {
    "duration": 3,
    "start_time": "2021-11-16T10:56:10.751Z"
   },
   {
    "duration": 3,
    "start_time": "2021-11-16T10:56:49.038Z"
   },
   {
    "duration": 3,
    "start_time": "2021-11-16T10:56:49.174Z"
   },
   {
    "duration": 4,
    "start_time": "2021-11-16T10:56:49.414Z"
   },
   {
    "duration": 3,
    "start_time": "2021-11-16T10:56:49.680Z"
   },
   {
    "duration": 3,
    "start_time": "2021-11-16T10:56:50.370Z"
   },
   {
    "duration": 114,
    "start_time": "2021-11-16T10:59:34.518Z"
   },
   {
    "duration": 3,
    "start_time": "2021-11-16T11:01:41.201Z"
   },
   {
    "duration": 116,
    "start_time": "2021-11-16T11:01:48.754Z"
   },
   {
    "duration": 3,
    "start_time": "2021-11-16T11:02:16.685Z"
   },
   {
    "duration": 3,
    "start_time": "2021-11-16T11:02:19.479Z"
   },
   {
    "duration": 3,
    "start_time": "2021-11-16T11:02:47.067Z"
   },
   {
    "duration": 3,
    "start_time": "2021-11-16T11:02:49.353Z"
   },
   {
    "duration": 3,
    "start_time": "2021-11-16T11:03:07.835Z"
   },
   {
    "duration": 3,
    "start_time": "2021-11-16T11:03:07.953Z"
   },
   {
    "duration": 112,
    "start_time": "2021-11-16T11:07:52.072Z"
   },
   {
    "duration": 187,
    "start_time": "2021-11-16T11:09:23.468Z"
   },
   {
    "duration": 4,
    "start_time": "2021-11-16T11:10:01.455Z"
   },
   {
    "duration": 3,
    "start_time": "2021-11-16T11:10:05.069Z"
   },
   {
    "duration": 4,
    "start_time": "2021-11-16T11:10:13.376Z"
   },
   {
    "duration": 3,
    "start_time": "2021-11-16T11:10:14.434Z"
   },
   {
    "duration": 3,
    "start_time": "2021-11-16T11:10:22.853Z"
   },
   {
    "duration": 4,
    "start_time": "2021-11-16T11:27:29.279Z"
   },
   {
    "duration": 4,
    "start_time": "2021-11-16T11:29:08.919Z"
   },
   {
    "duration": 118,
    "start_time": "2021-11-16T11:29:46.703Z"
   },
   {
    "duration": 437,
    "start_time": "2021-11-16T11:36:02.181Z"
   },
   {
    "duration": 157,
    "start_time": "2021-11-16T11:36:14.388Z"
   },
   {
    "duration": 207,
    "start_time": "2021-11-16T11:47:15.898Z"
   },
   {
    "duration": 3,
    "start_time": "2021-11-16T11:53:52.092Z"
   },
   {
    "duration": 3,
    "start_time": "2021-11-16T11:53:52.236Z"
   },
   {
    "duration": 3,
    "start_time": "2021-11-16T11:59:12.005Z"
   },
   {
    "duration": 112,
    "start_time": "2021-11-16T12:00:33.446Z"
   },
   {
    "duration": 3,
    "start_time": "2021-11-16T12:02:14.453Z"
   },
   {
    "duration": 3,
    "start_time": "2021-11-16T12:02:39.512Z"
   },
   {
    "duration": 106,
    "start_time": "2021-11-16T12:03:03.460Z"
   },
   {
    "duration": 3,
    "start_time": "2021-11-17T20:37:21.139Z"
   },
   {
    "duration": 3,
    "start_time": "2021-11-17T20:37:22.229Z"
   },
   {
    "duration": 3,
    "start_time": "2021-11-17T20:38:38.806Z"
   },
   {
    "duration": 3,
    "start_time": "2021-11-17T20:38:41.958Z"
   },
   {
    "duration": 3,
    "start_time": "2021-11-17T20:43:46.551Z"
   },
   {
    "duration": 4,
    "start_time": "2021-11-17T20:58:21.835Z"
   },
   {
    "duration": 3,
    "start_time": "2021-11-17T20:59:21.872Z"
   },
   {
    "duration": 4,
    "start_time": "2021-11-17T20:59:45.352Z"
   },
   {
    "duration": 4,
    "start_time": "2021-11-17T20:59:49.646Z"
   },
   {
    "duration": 159,
    "start_time": "2021-11-17T21:02:26.949Z"
   },
   {
    "duration": 3,
    "start_time": "2021-11-17T21:03:53.461Z"
   },
   {
    "duration": 3,
    "start_time": "2021-11-17T21:03:53.694Z"
   },
   {
    "duration": 3,
    "start_time": "2021-11-17T21:05:28.145Z"
   },
   {
    "duration": 116,
    "start_time": "2021-11-17T21:05:57.787Z"
   },
   {
    "duration": 3,
    "start_time": "2021-11-17T21:06:37.993Z"
   },
   {
    "duration": 3,
    "start_time": "2021-11-17T21:06:38.261Z"
   },
   {
    "duration": 3,
    "start_time": "2021-11-17T21:11:54.358Z"
   },
   {
    "duration": 3,
    "start_time": "2021-11-17T21:12:43.846Z"
   },
   {
    "duration": 4,
    "start_time": "2021-11-17T21:13:08.773Z"
   },
   {
    "duration": 3,
    "start_time": "2021-11-17T21:14:44.441Z"
   },
   {
    "duration": 3,
    "start_time": "2021-11-17T21:15:42.059Z"
   },
   {
    "duration": 4,
    "start_time": "2021-11-17T21:15:51.995Z"
   },
   {
    "duration": 3,
    "start_time": "2021-11-17T21:15:53.923Z"
   },
   {
    "duration": 3,
    "start_time": "2021-11-17T21:15:55.282Z"
   },
   {
    "duration": 3,
    "start_time": "2021-11-17T21:16:28.492Z"
   },
   {
    "duration": 3,
    "start_time": "2021-11-17T21:16:32.603Z"
   },
   {
    "duration": 3,
    "start_time": "2021-11-17T21:17:06.941Z"
   },
   {
    "duration": 98,
    "start_time": "2021-11-17T21:18:05.733Z"
   },
   {
    "duration": 4,
    "start_time": "2021-11-17T21:21:35.255Z"
   },
   {
    "duration": 3,
    "start_time": "2021-11-17T21:21:37.804Z"
   },
   {
    "duration": 4,
    "start_time": "2021-11-17T21:23:06.071Z"
   },
   {
    "duration": 3,
    "start_time": "2021-11-17T21:23:24.799Z"
   },
   {
    "duration": 3,
    "start_time": "2021-11-17T21:23:32.591Z"
   },
   {
    "duration": 98,
    "start_time": "2021-11-17T21:28:31.559Z"
   },
   {
    "duration": 3,
    "start_time": "2021-11-17T21:28:45.448Z"
   },
   {
    "duration": 3,
    "start_time": "2021-11-17T21:29:17.303Z"
   },
   {
    "duration": 3,
    "start_time": "2021-11-17T21:29:29.617Z"
   },
   {
    "duration": 3,
    "start_time": "2021-11-17T21:29:32.681Z"
   },
   {
    "duration": 3,
    "start_time": "2021-11-17T21:36:11.474Z"
   },
   {
    "duration": 3,
    "start_time": "2021-11-17T21:36:14.791Z"
   },
   {
    "duration": 3,
    "start_time": "2021-11-17T21:36:53.943Z"
   },
   {
    "duration": 3,
    "start_time": "2021-11-17T21:36:56.165Z"
   },
   {
    "duration": 4,
    "start_time": "2021-11-17T21:37:16.590Z"
   },
   {
    "duration": 3,
    "start_time": "2021-11-17T21:37:22.702Z"
   },
   {
    "duration": 4,
    "start_time": "2021-11-17T21:38:03.479Z"
   },
   {
    "duration": 3,
    "start_time": "2021-11-17T21:38:08.601Z"
   },
   {
    "duration": 3,
    "start_time": "2021-11-17T21:38:12.928Z"
   },
   {
    "duration": 3,
    "start_time": "2021-11-17T21:38:48.896Z"
   },
   {
    "duration": 2,
    "start_time": "2021-11-17T21:38:49.171Z"
   },
   {
    "duration": 4,
    "start_time": "2021-11-17T21:39:57.889Z"
   },
   {
    "duration": 3,
    "start_time": "2021-11-17T21:39:58.057Z"
   },
   {
    "duration": 3,
    "start_time": "2021-11-17T21:41:20.108Z"
   },
   {
    "duration": 3,
    "start_time": "2021-11-17T21:41:20.629Z"
   },
   {
    "duration": 3,
    "start_time": "2021-11-17T21:42:49.136Z"
   },
   {
    "duration": 3,
    "start_time": "2021-11-17T21:43:15.137Z"
   },
   {
    "duration": 4,
    "start_time": "2021-11-17T21:43:16.766Z"
   },
   {
    "duration": 4,
    "start_time": "2021-11-17T21:43:31.711Z"
   },
   {
    "duration": 3,
    "start_time": "2021-11-17T21:43:36.312Z"
   },
   {
    "duration": 4,
    "start_time": "2021-11-17T21:45:08.825Z"
   },
   {
    "duration": 4,
    "start_time": "2021-11-17T21:45:10.119Z"
   },
   {
    "duration": 4,
    "start_time": "2021-11-17T21:45:13.748Z"
   },
   {
    "duration": 3,
    "start_time": "2021-11-17T21:45:22.219Z"
   },
   {
    "duration": 3,
    "start_time": "2021-11-17T21:45:33.412Z"
   },
   {
    "duration": 2,
    "start_time": "2021-11-17T21:46:01.885Z"
   },
   {
    "duration": 3,
    "start_time": "2021-11-17T21:46:03.628Z"
   },
   {
    "duration": 107,
    "start_time": "2021-11-17T21:47:32.512Z"
   },
   {
    "duration": 103,
    "start_time": "2021-11-17T21:50:36.243Z"
   },
   {
    "duration": 3,
    "start_time": "2021-11-18T06:28:31.440Z"
   },
   {
    "duration": 3,
    "start_time": "2021-11-18T06:29:00.168Z"
   },
   {
    "duration": 3,
    "start_time": "2021-11-18T06:31:27.008Z"
   },
   {
    "duration": 2,
    "start_time": "2021-11-18T06:35:34.288Z"
   },
   {
    "duration": 2,
    "start_time": "2021-11-18T06:38:04.527Z"
   },
   {
    "duration": 156,
    "start_time": "2024-10-20T22:41:11.966Z"
   },
   {
    "duration": 2547,
    "start_time": "2024-10-20T22:41:31.607Z"
   },
   {
    "duration": 18,
    "start_time": "2024-10-20T22:41:34.157Z"
   },
   {
    "duration": 5,
    "start_time": "2024-10-20T22:41:47.686Z"
   },
   {
    "duration": 75,
    "start_time": "2024-10-20T22:47:41.266Z"
   },
   {
    "duration": 9,
    "start_time": "2024-10-20T22:47:45.099Z"
   },
   {
    "duration": 8,
    "start_time": "2024-10-20T22:48:12.804Z"
   },
   {
    "duration": 13,
    "start_time": "2024-10-20T22:50:25.699Z"
   },
   {
    "duration": 369,
    "start_time": "2024-10-20T22:50:33.764Z"
   },
   {
    "duration": 199,
    "start_time": "2024-10-20T22:50:46.667Z"
   },
   {
    "duration": 179,
    "start_time": "2024-10-20T22:50:54.730Z"
   },
   {
    "duration": 9,
    "start_time": "2024-10-20T22:51:02.000Z"
   },
   {
    "duration": 9,
    "start_time": "2024-10-20T22:51:48.515Z"
   },
   {
    "duration": 13,
    "start_time": "2024-10-20T22:52:51.735Z"
   },
   {
    "duration": 4,
    "start_time": "2024-10-20T22:53:07.203Z"
   },
   {
    "duration": 15,
    "start_time": "2024-10-20T22:53:20.962Z"
   },
   {
    "duration": 9,
    "start_time": "2024-10-20T22:53:58.237Z"
   },
   {
    "duration": 12,
    "start_time": "2024-10-20T22:55:10.024Z"
   },
   {
    "duration": 8,
    "start_time": "2024-10-20T22:55:23.613Z"
   },
   {
    "duration": 14,
    "start_time": "2024-10-20T22:55:41.767Z"
   },
   {
    "duration": 8,
    "start_time": "2024-10-20T22:56:00.068Z"
   },
   {
    "duration": 2571,
    "start_time": "2024-10-21T20:34:15.833Z"
   },
   {
    "duration": 211,
    "start_time": "2024-10-21T20:34:18.406Z"
   },
   {
    "duration": 10,
    "start_time": "2024-10-21T20:34:18.619Z"
   },
   {
    "duration": 11,
    "start_time": "2024-10-21T20:34:18.630Z"
   },
   {
    "duration": 8,
    "start_time": "2024-10-21T20:34:18.644Z"
   },
   {
    "duration": 20,
    "start_time": "2024-10-21T20:34:18.655Z"
   },
   {
    "duration": 3,
    "start_time": "2024-10-21T20:34:18.677Z"
   },
   {
    "duration": 15,
    "start_time": "2024-10-21T20:34:18.681Z"
   },
   {
    "duration": 9,
    "start_time": "2024-10-21T20:34:18.698Z"
   },
   {
    "duration": 12,
    "start_time": "2024-10-21T20:34:18.708Z"
   },
   {
    "duration": 7,
    "start_time": "2024-10-21T20:34:18.722Z"
   },
   {
    "duration": 50,
    "start_time": "2024-10-21T20:34:18.730Z"
   },
   {
    "duration": 8,
    "start_time": "2024-10-21T20:34:18.781Z"
   },
   {
    "duration": 8,
    "start_time": "2024-10-21T20:34:36.210Z"
   },
   {
    "duration": 9,
    "start_time": "2024-10-21T20:34:47.832Z"
   },
   {
    "duration": 7,
    "start_time": "2024-10-21T20:35:15.170Z"
   },
   {
    "duration": 8,
    "start_time": "2024-10-21T21:00:33.894Z"
   },
   {
    "duration": 5,
    "start_time": "2024-10-21T21:05:13.702Z"
   },
   {
    "duration": 5,
    "start_time": "2024-10-21T21:06:27.183Z"
   },
   {
    "duration": 5,
    "start_time": "2024-10-21T21:06:39.020Z"
   },
   {
    "duration": 5,
    "start_time": "2024-10-21T21:06:55.199Z"
   },
   {
    "duration": 7,
    "start_time": "2024-10-21T21:07:02.943Z"
   },
   {
    "duration": 4,
    "start_time": "2024-10-21T21:07:41.309Z"
   },
   {
    "duration": 223,
    "start_time": "2024-10-21T21:19:07.543Z"
   },
   {
    "duration": 4,
    "start_time": "2024-10-21T21:19:17.329Z"
   },
   {
    "duration": 5,
    "start_time": "2024-10-21T21:19:29.028Z"
   },
   {
    "duration": 403,
    "start_time": "2024-10-21T21:21:51.974Z"
   },
   {
    "duration": 312,
    "start_time": "2024-10-21T21:22:05.669Z"
   },
   {
    "duration": 7,
    "start_time": "2024-10-21T21:23:22.594Z"
   },
   {
    "duration": 26,
    "start_time": "2024-10-21T21:23:25.108Z"
   },
   {
    "duration": 12,
    "start_time": "2024-10-21T21:25:39.494Z"
   },
   {
    "duration": 29,
    "start_time": "2024-10-21T21:25:48.725Z"
   },
   {
    "duration": 17,
    "start_time": "2024-10-21T21:28:02.309Z"
   },
   {
    "duration": 17,
    "start_time": "2024-10-21T21:29:52.691Z"
   },
   {
    "duration": 133,
    "start_time": "2024-10-21T21:30:03.342Z"
   },
   {
    "duration": 3,
    "start_time": "2024-10-21T21:30:27.085Z"
   },
   {
    "duration": 165,
    "start_time": "2024-10-21T21:30:27.090Z"
   },
   {
    "duration": 10,
    "start_time": "2024-10-21T21:30:27.257Z"
   },
   {
    "duration": 8,
    "start_time": "2024-10-21T21:30:27.268Z"
   },
   {
    "duration": 8,
    "start_time": "2024-10-21T21:30:27.278Z"
   },
   {
    "duration": 8,
    "start_time": "2024-10-21T21:30:27.288Z"
   },
   {
    "duration": 3,
    "start_time": "2024-10-21T21:30:27.297Z"
   },
   {
    "duration": 15,
    "start_time": "2024-10-21T21:30:27.302Z"
   },
   {
    "duration": 8,
    "start_time": "2024-10-21T21:30:27.319Z"
   },
   {
    "duration": 53,
    "start_time": "2024-10-21T21:30:27.329Z"
   },
   {
    "duration": 13,
    "start_time": "2024-10-21T21:30:27.383Z"
   },
   {
    "duration": 7,
    "start_time": "2024-10-21T21:30:27.397Z"
   },
   {
    "duration": 13,
    "start_time": "2024-10-21T21:30:27.406Z"
   },
   {
    "duration": 7,
    "start_time": "2024-10-21T21:30:27.422Z"
   },
   {
    "duration": 42,
    "start_time": "2024-10-21T21:30:27.430Z"
   },
   {
    "duration": 12,
    "start_time": "2024-10-21T21:30:27.473Z"
   },
   {
    "duration": 51,
    "start_time": "2024-10-21T21:30:31.943Z"
   },
   {
    "duration": 12,
    "start_time": "2024-10-21T21:32:41.889Z"
   },
   {
    "duration": 48,
    "start_time": "2024-10-21T21:32:50.140Z"
   },
   {
    "duration": 12,
    "start_time": "2024-10-21T21:34:04.943Z"
   },
   {
    "duration": 49,
    "start_time": "2024-10-21T21:34:13.829Z"
   },
   {
    "duration": 11,
    "start_time": "2024-10-21T21:39:46.926Z"
   },
   {
    "duration": 48,
    "start_time": "2024-10-21T21:39:54.495Z"
   },
   {
    "duration": 13,
    "start_time": "2024-10-21T21:40:10.315Z"
   },
   {
    "duration": 49,
    "start_time": "2024-10-21T21:40:15.667Z"
   },
   {
    "duration": 15,
    "start_time": "2024-10-21T21:44:53.229Z"
   },
   {
    "duration": 16,
    "start_time": "2024-10-21T21:46:00.887Z"
   },
   {
    "duration": 49,
    "start_time": "2024-10-21T21:46:16.059Z"
   },
   {
    "duration": 23,
    "start_time": "2024-10-21T21:46:49.098Z"
   },
   {
    "duration": 48,
    "start_time": "2024-10-21T21:47:21.386Z"
   },
   {
    "duration": 15,
    "start_time": "2024-10-21T21:51:24.196Z"
   },
   {
    "duration": 14,
    "start_time": "2024-10-21T21:51:55.246Z"
   },
   {
    "duration": 160,
    "start_time": "2024-10-21T23:02:27.868Z"
   },
   {
    "duration": 2634,
    "start_time": "2024-10-21T23:02:41.168Z"
   },
   {
    "duration": 221,
    "start_time": "2024-10-21T23:02:43.805Z"
   },
   {
    "duration": 11,
    "start_time": "2024-10-21T23:02:44.028Z"
   },
   {
    "duration": 9,
    "start_time": "2024-10-21T23:02:44.042Z"
   },
   {
    "duration": 8,
    "start_time": "2024-10-21T23:02:44.053Z"
   },
   {
    "duration": 11,
    "start_time": "2024-10-21T23:02:44.063Z"
   },
   {
    "duration": 4,
    "start_time": "2024-10-21T23:02:44.077Z"
   },
   {
    "duration": 21,
    "start_time": "2024-10-21T23:02:44.109Z"
   },
   {
    "duration": 10,
    "start_time": "2024-10-21T23:02:44.132Z"
   },
   {
    "duration": 17,
    "start_time": "2024-10-21T23:02:44.145Z"
   },
   {
    "duration": 13,
    "start_time": "2024-10-21T23:02:44.163Z"
   },
   {
    "duration": 37,
    "start_time": "2024-10-21T23:02:44.177Z"
   },
   {
    "duration": 17,
    "start_time": "2024-10-21T23:02:44.216Z"
   },
   {
    "duration": 10,
    "start_time": "2024-10-21T23:02:44.235Z"
   },
   {
    "duration": 7,
    "start_time": "2024-10-21T23:02:44.247Z"
   },
   {
    "duration": 13,
    "start_time": "2024-10-21T23:02:44.256Z"
   },
   {
    "duration": 76,
    "start_time": "2024-10-21T23:02:48.629Z"
   },
   {
    "duration": 18,
    "start_time": "2024-10-21T23:02:59.594Z"
   },
   {
    "duration": 337,
    "start_time": "2024-10-21T23:03:03.711Z"
   },
   {
    "duration": 7,
    "start_time": "2024-10-21T23:16:17.606Z"
   },
   {
    "duration": 208,
    "start_time": "2024-10-21T23:21:18.260Z"
   },
   {
    "duration": 8,
    "start_time": "2024-10-21T23:21:44.204Z"
   },
   {
    "duration": 17,
    "start_time": "2024-10-21T23:22:23.657Z"
   },
   {
    "duration": 19,
    "start_time": "2024-10-21T23:22:52.124Z"
   },
   {
    "duration": 15,
    "start_time": "2024-10-21T23:35:14.578Z"
   },
   {
    "duration": 12,
    "start_time": "2024-10-21T23:35:42.815Z"
   },
   {
    "duration": 9,
    "start_time": "2024-10-21T23:37:41.333Z"
   },
   {
    "duration": 8,
    "start_time": "2024-10-21T23:37:50.125Z"
   },
   {
    "duration": 320,
    "start_time": "2024-10-21T23:38:40.153Z"
   },
   {
    "duration": 3,
    "start_time": "2024-10-21T23:41:20.516Z"
   },
   {
    "duration": 164,
    "start_time": "2024-10-21T23:41:20.521Z"
   },
   {
    "duration": 8,
    "start_time": "2024-10-21T23:41:20.687Z"
   },
   {
    "duration": 13,
    "start_time": "2024-10-21T23:41:20.697Z"
   },
   {
    "duration": 8,
    "start_time": "2024-10-21T23:41:20.712Z"
   },
   {
    "duration": 7,
    "start_time": "2024-10-21T23:41:20.721Z"
   },
   {
    "duration": 115,
    "start_time": "2024-10-21T23:41:20.730Z"
   },
   {
    "duration": 15,
    "start_time": "2024-10-21T23:41:20.848Z"
   },
   {
    "duration": 8,
    "start_time": "2024-10-21T23:41:20.865Z"
   },
   {
    "duration": 36,
    "start_time": "2024-10-21T23:41:20.875Z"
   },
   {
    "duration": 11,
    "start_time": "2024-10-21T23:41:20.914Z"
   },
   {
    "duration": 7,
    "start_time": "2024-10-21T23:41:20.927Z"
   },
   {
    "duration": 13,
    "start_time": "2024-10-21T23:41:20.936Z"
   },
   {
    "duration": 8,
    "start_time": "2024-10-21T23:41:20.952Z"
   },
   {
    "duration": 8,
    "start_time": "2024-10-21T23:41:20.962Z"
   },
   {
    "duration": 38,
    "start_time": "2024-10-21T23:41:20.972Z"
   },
   {
    "duration": 13,
    "start_time": "2024-10-21T23:41:21.012Z"
   },
   {
    "duration": 8,
    "start_time": "2024-10-21T23:41:21.027Z"
   },
   {
    "duration": 70,
    "start_time": "2024-10-21T23:41:23.971Z"
   },
   {
    "duration": 70,
    "start_time": "2024-10-21T23:42:46.433Z"
   },
   {
    "duration": 49,
    "start_time": "2024-10-21T23:43:17.365Z"
   },
   {
    "duration": 15,
    "start_time": "2024-10-21T23:44:30.371Z"
   },
   {
    "duration": 14,
    "start_time": "2024-10-21T23:46:12.222Z"
   },
   {
    "duration": 148,
    "start_time": "2024-10-21T23:46:22.197Z"
   },
   {
    "duration": 92,
    "start_time": "2024-10-21T23:47:26.724Z"
   },
   {
    "duration": 76,
    "start_time": "2024-10-21T23:47:54.728Z"
   },
   {
    "duration": 21,
    "start_time": "2024-10-21T23:48:19.619Z"
   },
   {
    "duration": 38,
    "start_time": "2024-10-21T23:48:37.019Z"
   },
   {
    "duration": 20,
    "start_time": "2024-10-21T23:48:55.195Z"
   },
   {
    "duration": 2,
    "start_time": "2024-10-21T23:49:01.817Z"
   },
   {
    "duration": 42,
    "start_time": "2024-10-21T23:50:21.620Z"
   },
   {
    "duration": 24,
    "start_time": "2024-10-21T23:50:51.684Z"
   },
   {
    "duration": 39,
    "start_time": "2024-10-21T23:54:35.994Z"
   },
   {
    "duration": 38,
    "start_time": "2024-10-21T23:54:55.240Z"
   },
   {
    "duration": 9,
    "start_time": "2024-10-21T23:55:11.906Z"
   },
   {
    "duration": 7,
    "start_time": "2024-10-21T23:55:41.317Z"
   },
   {
    "duration": 27,
    "start_time": "2024-10-21T23:56:19.992Z"
   },
   {
    "duration": 19,
    "start_time": "2024-10-21T23:56:43.234Z"
   },
   {
    "duration": 15,
    "start_time": "2024-10-21T23:59:08.111Z"
   },
   {
    "duration": 35,
    "start_time": "2024-10-22T00:00:12.841Z"
   },
   {
    "duration": 14,
    "start_time": "2024-10-22T00:00:33.557Z"
   },
   {
    "duration": 7,
    "start_time": "2024-10-22T00:00:37.675Z"
   },
   {
    "duration": 7,
    "start_time": "2024-10-22T00:00:56.105Z"
   },
   {
    "duration": 7,
    "start_time": "2024-10-22T00:01:01.819Z"
   },
   {
    "duration": 3,
    "start_time": "2024-10-22T00:04:26.777Z"
   },
   {
    "duration": 171,
    "start_time": "2024-10-22T00:04:26.793Z"
   },
   {
    "duration": 9,
    "start_time": "2024-10-22T00:04:26.966Z"
   },
   {
    "duration": 7,
    "start_time": "2024-10-22T00:04:26.977Z"
   },
   {
    "duration": 28,
    "start_time": "2024-10-22T00:04:26.986Z"
   },
   {
    "duration": 8,
    "start_time": "2024-10-22T00:04:27.016Z"
   },
   {
    "duration": 3,
    "start_time": "2024-10-22T00:04:27.026Z"
   },
   {
    "duration": 15,
    "start_time": "2024-10-22T00:04:27.031Z"
   },
   {
    "duration": 10,
    "start_time": "2024-10-22T00:04:27.048Z"
   },
   {
    "duration": 16,
    "start_time": "2024-10-22T00:04:27.061Z"
   },
   {
    "duration": 13,
    "start_time": "2024-10-22T00:04:27.111Z"
   },
   {
    "duration": 7,
    "start_time": "2024-10-22T00:04:27.126Z"
   },
   {
    "duration": 8,
    "start_time": "2024-10-22T00:04:27.135Z"
   },
   {
    "duration": 13,
    "start_time": "2024-10-22T00:04:27.145Z"
   },
   {
    "duration": 9,
    "start_time": "2024-10-22T00:04:27.159Z"
   },
   {
    "duration": 42,
    "start_time": "2024-10-22T00:04:27.170Z"
   },
   {
    "duration": 10,
    "start_time": "2024-10-22T00:04:27.214Z"
   },
   {
    "duration": 12,
    "start_time": "2024-10-22T00:04:27.228Z"
   },
   {
    "duration": 8,
    "start_time": "2024-10-22T00:04:27.242Z"
   },
   {
    "duration": 24,
    "start_time": "2024-10-22T00:04:27.251Z"
   },
   {
    "duration": 43,
    "start_time": "2024-10-22T00:04:27.278Z"
   },
   {
    "duration": 7,
    "start_time": "2024-10-22T00:04:27.323Z"
   },
   {
    "duration": 14,
    "start_time": "2024-10-22T00:04:27.331Z"
   },
   {
    "duration": 35,
    "start_time": "2024-10-22T00:04:32.401Z"
   },
   {
    "duration": 146,
    "start_time": "2024-10-22T00:05:27.119Z"
   },
   {
    "duration": 173,
    "start_time": "2024-10-22T00:06:01.270Z"
   },
   {
    "duration": 17,
    "start_time": "2024-10-22T00:06:01.746Z"
   },
   {
    "duration": 6,
    "start_time": "2024-10-22T00:06:03.302Z"
   },
   {
    "duration": 14,
    "start_time": "2024-10-22T00:06:06.237Z"
   },
   {
    "duration": 120,
    "start_time": "2024-10-22T00:06:24.569Z"
   },
   {
    "duration": 61,
    "start_time": "2024-10-22T00:09:52.007Z"
   },
   {
    "duration": 7,
    "start_time": "2024-10-22T00:10:26.433Z"
   },
   {
    "duration": 18,
    "start_time": "2024-10-22T00:10:29.730Z"
   },
   {
    "duration": 34,
    "start_time": "2024-10-22T00:10:30.562Z"
   },
   {
    "duration": 9,
    "start_time": "2024-10-22T00:10:57.054Z"
   },
   {
    "duration": 166,
    "start_time": "2024-10-22T00:11:32.069Z"
   },
   {
    "duration": 2563,
    "start_time": "2024-10-22T21:16:03.180Z"
   },
   {
    "duration": 217,
    "start_time": "2024-10-22T21:16:05.745Z"
   },
   {
    "duration": 10,
    "start_time": "2024-10-22T21:16:05.963Z"
   },
   {
    "duration": 10,
    "start_time": "2024-10-22T21:16:05.975Z"
   },
   {
    "duration": 8,
    "start_time": "2024-10-22T21:16:05.988Z"
   },
   {
    "duration": 7,
    "start_time": "2024-10-22T21:16:05.997Z"
   },
   {
    "duration": 26,
    "start_time": "2024-10-22T21:16:06.005Z"
   },
   {
    "duration": 15,
    "start_time": "2024-10-22T21:16:06.033Z"
   },
   {
    "duration": 8,
    "start_time": "2024-10-22T21:16:06.049Z"
   },
   {
    "duration": 16,
    "start_time": "2024-10-22T21:16:06.059Z"
   },
   {
    "duration": 12,
    "start_time": "2024-10-22T21:16:06.076Z"
   },
   {
    "duration": 7,
    "start_time": "2024-10-22T21:16:06.089Z"
   },
   {
    "duration": 46,
    "start_time": "2024-10-22T21:16:06.097Z"
   },
   {
    "duration": 7,
    "start_time": "2024-10-22T21:16:06.145Z"
   },
   {
    "duration": 7,
    "start_time": "2024-10-22T21:16:06.154Z"
   },
   {
    "duration": 8,
    "start_time": "2024-10-22T21:16:06.162Z"
   },
   {
    "duration": 12,
    "start_time": "2024-10-22T21:16:06.172Z"
   },
   {
    "duration": 7,
    "start_time": "2024-10-22T21:16:06.186Z"
   },
   {
    "duration": 196,
    "start_time": "2024-10-22T21:16:06.194Z"
   },
   {
    "duration": 17,
    "start_time": "2024-10-22T21:16:06.391Z"
   },
   {
    "duration": 22,
    "start_time": "2024-10-22T21:16:06.410Z"
   },
   {
    "duration": 14,
    "start_time": "2024-10-22T21:16:06.434Z"
   },
   {
    "duration": 124,
    "start_time": "2024-10-22T21:16:06.449Z"
   },
   {
    "duration": 21,
    "start_time": "2024-10-22T21:16:06.575Z"
   },
   {
    "duration": 221,
    "start_time": "2024-10-22T21:16:14.031Z"
   },
   {
    "duration": 184,
    "start_time": "2024-10-22T21:16:19.382Z"
   },
   {
    "duration": 140,
    "start_time": "2024-10-22T21:16:45.684Z"
   },
   {
    "duration": 12,
    "start_time": "2024-10-22T21:27:29.734Z"
   },
   {
    "duration": 35,
    "start_time": "2024-10-22T21:27:34.765Z"
   },
   {
    "duration": 19,
    "start_time": "2024-10-22T21:29:43.662Z"
   },
   {
    "duration": 2,
    "start_time": "2024-10-22T21:30:32.188Z"
   },
   {
    "duration": 160,
    "start_time": "2024-10-22T21:30:32.193Z"
   },
   {
    "duration": 9,
    "start_time": "2024-10-22T21:30:32.355Z"
   },
   {
    "duration": 7,
    "start_time": "2024-10-22T21:30:32.365Z"
   },
   {
    "duration": 10,
    "start_time": "2024-10-22T21:30:32.374Z"
   },
   {
    "duration": 7,
    "start_time": "2024-10-22T21:30:32.386Z"
   },
   {
    "duration": 9,
    "start_time": "2024-10-22T21:30:32.395Z"
   },
   {
    "duration": 39,
    "start_time": "2024-10-22T21:30:32.406Z"
   },
   {
    "duration": 8,
    "start_time": "2024-10-22T21:30:32.447Z"
   },
   {
    "duration": 15,
    "start_time": "2024-10-22T21:30:32.457Z"
   },
   {
    "duration": 12,
    "start_time": "2024-10-22T21:30:32.476Z"
   },
   {
    "duration": 7,
    "start_time": "2024-10-22T21:30:32.489Z"
   },
   {
    "duration": 42,
    "start_time": "2024-10-22T21:30:32.497Z"
   },
   {
    "duration": 8,
    "start_time": "2024-10-22T21:30:32.541Z"
   },
   {
    "duration": 7,
    "start_time": "2024-10-22T21:30:32.550Z"
   },
   {
    "duration": 7,
    "start_time": "2024-10-22T21:30:32.558Z"
   },
   {
    "duration": 13,
    "start_time": "2024-10-22T21:30:32.566Z"
   },
   {
    "duration": 8,
    "start_time": "2024-10-22T21:30:32.580Z"
   },
   {
    "duration": 206,
    "start_time": "2024-10-22T21:30:32.589Z"
   },
   {
    "duration": 38,
    "start_time": "2024-10-22T21:30:32.797Z"
   },
   {
    "duration": 6,
    "start_time": "2024-10-22T21:30:32.837Z"
   },
   {
    "duration": 16,
    "start_time": "2024-10-22T21:30:32.846Z"
   },
   {
    "duration": 126,
    "start_time": "2024-10-22T21:30:32.864Z"
   },
   {
    "duration": 18,
    "start_time": "2024-10-22T21:30:32.992Z"
   },
   {
    "duration": 161,
    "start_time": "2024-10-22T21:30:33.011Z"
   },
   {
    "duration": 20,
    "start_time": "2024-10-22T21:30:34.364Z"
   },
   {
    "duration": 329,
    "start_time": "2024-10-22T21:32:15.259Z"
   },
   {
    "duration": 18,
    "start_time": "2024-10-22T21:32:21.438Z"
   },
   {
    "duration": 26,
    "start_time": "2024-10-22T21:33:04.533Z"
   },
   {
    "duration": 19,
    "start_time": "2024-10-22T21:33:25.508Z"
   },
   {
    "duration": 29,
    "start_time": "2024-10-22T21:37:05.478Z"
   },
   {
    "duration": 14,
    "start_time": "2024-10-22T21:38:41.087Z"
   },
   {
    "duration": 14,
    "start_time": "2024-10-22T21:39:58.678Z"
   },
   {
    "duration": 138,
    "start_time": "2024-10-22T21:40:19.380Z"
   },
   {
    "duration": 24,
    "start_time": "2024-10-22T21:41:40.136Z"
   },
   {
    "duration": 73,
    "start_time": "2024-10-22T21:42:14.381Z"
   },
   {
    "duration": 2,
    "start_time": "2024-10-22T21:44:58.131Z"
   },
   {
    "duration": 71,
    "start_time": "2024-10-22T21:45:02.542Z"
   },
   {
    "duration": 17,
    "start_time": "2024-10-22T21:45:42.045Z"
   },
   {
    "duration": 5,
    "start_time": "2024-10-22T21:46:54.001Z"
   },
   {
    "duration": 145,
    "start_time": "2024-10-22T21:47:28.704Z"
   },
   {
    "duration": 74,
    "start_time": "2024-10-22T21:47:36.478Z"
   },
   {
    "duration": 15,
    "start_time": "2024-10-22T21:47:54.851Z"
   },
   {
    "duration": 113,
    "start_time": "2024-10-22T21:48:35.856Z"
   },
   {
    "duration": 76,
    "start_time": "2024-10-22T21:48:38.722Z"
   },
   {
    "duration": 7,
    "start_time": "2024-10-22T22:03:35.862Z"
   },
   {
    "duration": 7,
    "start_time": "2024-10-22T22:04:01.268Z"
   },
   {
    "duration": 798,
    "start_time": "2024-10-22T22:28:00.427Z"
   },
   {
    "duration": 220,
    "start_time": "2024-10-22T22:28:01.232Z"
   },
   {
    "duration": 10,
    "start_time": "2024-10-22T22:28:01.454Z"
   },
   {
    "duration": 9,
    "start_time": "2024-10-22T22:28:01.466Z"
   },
   {
    "duration": 7,
    "start_time": "2024-10-22T22:28:01.480Z"
   },
   {
    "duration": 8,
    "start_time": "2024-10-22T22:28:01.489Z"
   },
   {
    "duration": 3,
    "start_time": "2024-10-22T22:28:01.498Z"
   },
   {
    "duration": 40,
    "start_time": "2024-10-22T22:28:01.504Z"
   },
   {
    "duration": 8,
    "start_time": "2024-10-22T22:28:01.545Z"
   },
   {
    "duration": 16,
    "start_time": "2024-10-22T22:28:01.555Z"
   },
   {
    "duration": 12,
    "start_time": "2024-10-22T22:28:01.573Z"
   },
   {
    "duration": 7,
    "start_time": "2024-10-22T22:28:01.587Z"
   },
   {
    "duration": 42,
    "start_time": "2024-10-22T22:28:01.595Z"
   },
   {
    "duration": 8,
    "start_time": "2024-10-22T22:28:01.641Z"
   },
   {
    "duration": 6,
    "start_time": "2024-10-22T22:28:01.651Z"
   },
   {
    "duration": 6,
    "start_time": "2024-10-22T22:28:01.659Z"
   },
   {
    "duration": 12,
    "start_time": "2024-10-22T22:28:01.667Z"
   },
   {
    "duration": 7,
    "start_time": "2024-10-22T22:28:01.681Z"
   },
   {
    "duration": 204,
    "start_time": "2024-10-22T22:28:01.690Z"
   },
   {
    "duration": 171,
    "start_time": "2024-10-22T22:28:01.896Z"
   },
   {
    "duration": 10,
    "start_time": "2024-10-22T22:28:02.070Z"
   },
   {
    "duration": 16,
    "start_time": "2024-10-22T22:28:02.082Z"
   },
   {
    "duration": 135,
    "start_time": "2024-10-22T22:28:02.100Z"
   },
   {
    "duration": 18,
    "start_time": "2024-10-22T22:28:02.236Z"
   },
   {
    "duration": 186,
    "start_time": "2024-10-22T22:28:02.255Z"
   },
   {
    "duration": 107,
    "start_time": "2024-10-22T22:28:02.442Z"
   },
   {
    "duration": 9,
    "start_time": "2024-10-22T22:28:02.551Z"
   },
   {
    "duration": 2,
    "start_time": "2024-10-22T22:28:02.562Z"
   },
   {
    "duration": 840,
    "start_time": "2024-10-22T22:30:20.260Z"
   },
   {
    "duration": 158,
    "start_time": "2024-10-22T22:30:21.102Z"
   },
   {
    "duration": 10,
    "start_time": "2024-10-22T22:30:21.262Z"
   },
   {
    "duration": 10,
    "start_time": "2024-10-22T22:30:21.273Z"
   },
   {
    "duration": 8,
    "start_time": "2024-10-22T22:30:21.285Z"
   },
   {
    "duration": 8,
    "start_time": "2024-10-22T22:30:21.294Z"
   },
   {
    "duration": 28,
    "start_time": "2024-10-22T22:30:21.304Z"
   },
   {
    "duration": 16,
    "start_time": "2024-10-22T22:30:21.334Z"
   },
   {
    "duration": 10,
    "start_time": "2024-10-22T22:30:21.352Z"
   },
   {
    "duration": 20,
    "start_time": "2024-10-22T22:30:21.365Z"
   },
   {
    "duration": 11,
    "start_time": "2024-10-22T22:30:21.387Z"
   },
   {
    "duration": 37,
    "start_time": "2024-10-22T22:30:21.400Z"
   },
   {
    "duration": 15,
    "start_time": "2024-10-22T22:30:21.439Z"
   },
   {
    "duration": 8,
    "start_time": "2024-10-22T22:30:21.455Z"
   },
   {
    "duration": 7,
    "start_time": "2024-10-22T22:30:21.464Z"
   },
   {
    "duration": 7,
    "start_time": "2024-10-22T22:30:21.473Z"
   },
   {
    "duration": 12,
    "start_time": "2024-10-22T22:30:21.481Z"
   },
   {
    "duration": 41,
    "start_time": "2024-10-22T22:30:21.495Z"
   },
   {
    "duration": 194,
    "start_time": "2024-10-22T22:30:21.537Z"
   },
   {
    "duration": 148,
    "start_time": "2024-10-22T22:30:21.733Z"
   },
   {
    "duration": 6,
    "start_time": "2024-10-22T22:30:21.882Z"
   },
   {
    "duration": 14,
    "start_time": "2024-10-22T22:30:21.890Z"
   },
   {
    "duration": 133,
    "start_time": "2024-10-22T22:30:21.905Z"
   },
   {
    "duration": 18,
    "start_time": "2024-10-22T22:30:22.039Z"
   },
   {
    "duration": 184,
    "start_time": "2024-10-22T22:30:22.058Z"
   },
   {
    "duration": 87,
    "start_time": "2024-10-22T22:30:22.244Z"
   },
   {
    "duration": 6,
    "start_time": "2024-10-22T22:30:22.333Z"
   },
   {
    "duration": 1,
    "start_time": "2024-10-22T22:30:22.344Z"
   },
   {
    "duration": 826,
    "start_time": "2024-10-22T22:34:13.300Z"
   },
   {
    "duration": 217,
    "start_time": "2024-10-22T22:34:14.128Z"
   },
   {
    "duration": 9,
    "start_time": "2024-10-22T22:34:14.347Z"
   },
   {
    "duration": 10,
    "start_time": "2024-10-22T22:34:14.359Z"
   },
   {
    "duration": 10,
    "start_time": "2024-10-22T22:34:14.371Z"
   },
   {
    "duration": 10,
    "start_time": "2024-10-22T22:34:14.383Z"
   },
   {
    "duration": 4,
    "start_time": "2024-10-22T22:34:14.395Z"
   },
   {
    "duration": 43,
    "start_time": "2024-10-22T22:34:14.401Z"
   },
   {
    "duration": 12,
    "start_time": "2024-10-22T22:34:14.447Z"
   },
   {
    "duration": 26,
    "start_time": "2024-10-22T22:34:14.464Z"
   },
   {
    "duration": 45,
    "start_time": "2024-10-22T22:34:14.492Z"
   },
   {
    "duration": 14,
    "start_time": "2024-10-22T22:34:14.539Z"
   },
   {
    "duration": 19,
    "start_time": "2024-10-22T22:34:14.557Z"
   },
   {
    "duration": 9,
    "start_time": "2024-10-22T22:34:14.579Z"
   },
   {
    "duration": 9,
    "start_time": "2024-10-22T22:34:14.589Z"
   },
   {
    "duration": 38,
    "start_time": "2024-10-22T22:34:14.600Z"
   },
   {
    "duration": 17,
    "start_time": "2024-10-22T22:34:14.640Z"
   },
   {
    "duration": 12,
    "start_time": "2024-10-22T22:34:14.660Z"
   },
   {
    "duration": 228,
    "start_time": "2024-10-22T22:34:14.676Z"
   },
   {
    "duration": 183,
    "start_time": "2024-10-22T22:34:14.905Z"
   },
   {
    "duration": 8,
    "start_time": "2024-10-22T22:34:15.090Z"
   },
   {
    "duration": 33,
    "start_time": "2024-10-22T22:34:15.099Z"
   },
   {
    "duration": 151,
    "start_time": "2024-10-22T22:34:15.134Z"
   },
   {
    "duration": 21,
    "start_time": "2024-10-22T22:34:15.288Z"
   },
   {
    "duration": 172,
    "start_time": "2024-10-22T22:34:15.311Z"
   },
   {
    "duration": 90,
    "start_time": "2024-10-22T22:34:15.485Z"
   },
   {
    "duration": 7,
    "start_time": "2024-10-22T22:34:15.577Z"
   },
   {
    "duration": 2,
    "start_time": "2024-10-22T22:34:15.589Z"
   },
   {
    "duration": 2541,
    "start_time": "2024-10-23T00:03:19.718Z"
   },
   {
    "duration": 208,
    "start_time": "2024-10-23T00:03:22.261Z"
   },
   {
    "duration": 10,
    "start_time": "2024-10-23T00:03:22.470Z"
   },
   {
    "duration": 9,
    "start_time": "2024-10-23T00:03:22.483Z"
   },
   {
    "duration": 8,
    "start_time": "2024-10-23T00:03:22.494Z"
   },
   {
    "duration": 12,
    "start_time": "2024-10-23T00:03:22.505Z"
   },
   {
    "duration": 3,
    "start_time": "2024-10-23T00:03:22.519Z"
   },
   {
    "duration": 16,
    "start_time": "2024-10-23T00:03:22.524Z"
   },
   {
    "duration": 10,
    "start_time": "2024-10-23T00:03:22.542Z"
   },
   {
    "duration": 17,
    "start_time": "2024-10-23T00:03:22.555Z"
   },
   {
    "duration": 49,
    "start_time": "2024-10-23T00:03:22.574Z"
   },
   {
    "duration": 8,
    "start_time": "2024-10-23T00:03:22.624Z"
   },
   {
    "duration": 13,
    "start_time": "2024-10-23T00:03:22.633Z"
   },
   {
    "duration": 7,
    "start_time": "2024-10-23T00:03:22.648Z"
   },
   {
    "duration": 6,
    "start_time": "2024-10-23T00:03:22.657Z"
   },
   {
    "duration": 6,
    "start_time": "2024-10-23T00:03:22.665Z"
   },
   {
    "duration": 45,
    "start_time": "2024-10-23T00:03:22.672Z"
   },
   {
    "duration": 8,
    "start_time": "2024-10-23T00:03:22.720Z"
   },
   {
    "duration": 171,
    "start_time": "2024-10-23T00:03:22.729Z"
   },
   {
    "duration": 144,
    "start_time": "2024-10-23T00:03:22.912Z"
   },
   {
    "duration": 6,
    "start_time": "2024-10-23T00:03:23.058Z"
   },
   {
    "duration": 13,
    "start_time": "2024-10-23T00:03:23.065Z"
   },
   {
    "duration": 129,
    "start_time": "2024-10-23T00:03:23.080Z"
   },
   {
    "duration": 18,
    "start_time": "2024-10-23T00:03:23.210Z"
   },
   {
    "duration": 173,
    "start_time": "2024-10-23T00:03:23.230Z"
   },
   {
    "duration": 78,
    "start_time": "2024-10-23T00:03:23.405Z"
   },
   {
    "duration": 6,
    "start_time": "2024-10-23T00:03:23.485Z"
   },
   {
    "duration": 2,
    "start_time": "2024-10-23T00:03:23.496Z"
   },
   {
    "duration": 885,
    "start_time": "2024-10-23T00:07:18.215Z"
   },
   {
    "duration": 220,
    "start_time": "2024-10-23T00:07:24.864Z"
   },
   {
    "duration": 10,
    "start_time": "2024-10-23T00:07:27.616Z"
   },
   {
    "duration": 11,
    "start_time": "2024-10-23T00:07:28.188Z"
   },
   {
    "duration": 9,
    "start_time": "2024-10-23T00:07:37.349Z"
   },
   {
    "duration": 8,
    "start_time": "2024-10-23T00:07:37.719Z"
   },
   {
    "duration": 3,
    "start_time": "2024-10-23T00:07:39.952Z"
   },
   {
    "duration": 15,
    "start_time": "2024-10-23T00:07:42.222Z"
   },
   {
    "duration": 10,
    "start_time": "2024-10-23T00:07:42.735Z"
   },
   {
    "duration": 17,
    "start_time": "2024-10-23T00:07:46.834Z"
   },
   {
    "duration": 14,
    "start_time": "2024-10-23T00:07:47.766Z"
   },
   {
    "duration": 7,
    "start_time": "2024-10-23T00:07:48.315Z"
   },
   {
    "duration": 14,
    "start_time": "2024-10-23T00:07:53.655Z"
   },
   {
    "duration": 8,
    "start_time": "2024-10-23T00:07:54.187Z"
   },
   {
    "duration": 7,
    "start_time": "2024-10-23T00:08:03.415Z"
   },
   {
    "duration": 9,
    "start_time": "2024-10-23T00:08:04.297Z"
   },
   {
    "duration": 15,
    "start_time": "2024-10-23T00:08:04.817Z"
   },
   {
    "duration": 9,
    "start_time": "2024-10-23T00:08:05.375Z"
   },
   {
    "duration": 151,
    "start_time": "2024-10-23T00:08:07.007Z"
   },
   {
    "duration": 150,
    "start_time": "2024-10-23T00:08:08.012Z"
   },
   {
    "duration": 6,
    "start_time": "2024-10-23T00:08:08.521Z"
   },
   {
    "duration": 14,
    "start_time": "2024-10-23T00:08:09.105Z"
   },
   {
    "duration": 117,
    "start_time": "2024-10-23T00:08:09.692Z"
   },
   {
    "duration": 18,
    "start_time": "2024-10-23T00:08:10.879Z"
   },
   {
    "duration": 143,
    "start_time": "2024-10-23T00:08:11.515Z"
   },
   {
    "duration": 84,
    "start_time": "2024-10-23T00:08:12.645Z"
   },
   {
    "duration": 7,
    "start_time": "2024-10-23T00:08:13.221Z"
   },
   {
    "duration": 3,
    "start_time": "2024-10-23T00:08:14.465Z"
   },
   {
    "duration": 803,
    "start_time": "2024-10-23T00:16:52.101Z"
   },
   {
    "duration": 216,
    "start_time": "2024-10-23T00:16:52.907Z"
   },
   {
    "duration": 11,
    "start_time": "2024-10-23T00:16:53.124Z"
   },
   {
    "duration": 9,
    "start_time": "2024-10-23T00:16:53.138Z"
   },
   {
    "duration": 8,
    "start_time": "2024-10-23T00:16:53.149Z"
   },
   {
    "duration": 7,
    "start_time": "2024-10-23T00:16:53.159Z"
   },
   {
    "duration": 3,
    "start_time": "2024-10-23T00:16:53.168Z"
   },
   {
    "duration": 53,
    "start_time": "2024-10-23T00:16:53.172Z"
   },
   {
    "duration": 11,
    "start_time": "2024-10-23T00:16:53.227Z"
   },
   {
    "duration": 26,
    "start_time": "2024-10-23T00:16:53.242Z"
   },
   {
    "duration": 16,
    "start_time": "2024-10-23T00:16:53.271Z"
   },
   {
    "duration": 29,
    "start_time": "2024-10-23T00:16:53.289Z"
   },
   {
    "duration": 14,
    "start_time": "2024-10-23T00:16:53.320Z"
   },
   {
    "duration": 8,
    "start_time": "2024-10-23T00:16:53.336Z"
   },
   {
    "duration": 7,
    "start_time": "2024-10-23T00:16:53.346Z"
   },
   {
    "duration": 6,
    "start_time": "2024-10-23T00:16:53.355Z"
   },
   {
    "duration": 57,
    "start_time": "2024-10-23T00:16:53.365Z"
   },
   {
    "duration": 8,
    "start_time": "2024-10-23T00:16:53.424Z"
   },
   {
    "duration": 203,
    "start_time": "2024-10-23T00:16:53.434Z"
   },
   {
    "duration": 183,
    "start_time": "2024-10-23T00:16:53.639Z"
   },
   {
    "duration": 7,
    "start_time": "2024-10-23T00:16:53.823Z"
   },
   {
    "duration": 15,
    "start_time": "2024-10-23T00:16:53.832Z"
   },
   {
    "duration": 138,
    "start_time": "2024-10-23T00:16:53.848Z"
   },
   {
    "duration": 24,
    "start_time": "2024-10-23T00:16:53.988Z"
   },
   {
    "duration": 163,
    "start_time": "2024-10-23T00:16:54.014Z"
   },
   {
    "duration": 90,
    "start_time": "2024-10-23T00:16:54.179Z"
   },
   {
    "duration": 7,
    "start_time": "2024-10-23T00:16:54.271Z"
   },
   {
    "duration": 2,
    "start_time": "2024-10-23T00:16:54.283Z"
   },
   {
    "duration": 179,
    "start_time": "2024-10-23T00:18:36.492Z"
   },
   {
    "duration": 874,
    "start_time": "2024-10-23T00:18:41.720Z"
   },
   {
    "duration": 156,
    "start_time": "2024-10-23T00:18:42.596Z"
   },
   {
    "duration": 10,
    "start_time": "2024-10-23T00:18:42.754Z"
   },
   {
    "duration": 11,
    "start_time": "2024-10-23T00:18:42.766Z"
   },
   {
    "duration": 7,
    "start_time": "2024-10-23T00:18:42.779Z"
   },
   {
    "duration": 30,
    "start_time": "2024-10-23T00:18:42.788Z"
   },
   {
    "duration": 3,
    "start_time": "2024-10-23T00:18:42.820Z"
   },
   {
    "duration": 15,
    "start_time": "2024-10-23T00:18:42.824Z"
   },
   {
    "duration": 9,
    "start_time": "2024-10-23T00:18:42.840Z"
   },
   {
    "duration": 17,
    "start_time": "2024-10-23T00:18:42.852Z"
   },
   {
    "duration": 51,
    "start_time": "2024-10-23T00:18:42.870Z"
   },
   {
    "duration": 7,
    "start_time": "2024-10-23T00:18:42.923Z"
   },
   {
    "duration": 15,
    "start_time": "2024-10-23T00:18:42.932Z"
   },
   {
    "duration": 8,
    "start_time": "2024-10-23T00:18:42.948Z"
   },
   {
    "duration": 9,
    "start_time": "2024-10-23T00:18:42.958Z"
   },
   {
    "duration": 11,
    "start_time": "2024-10-23T00:18:43.012Z"
   },
   {
    "duration": 12,
    "start_time": "2024-10-23T00:18:43.025Z"
   },
   {
    "duration": 8,
    "start_time": "2024-10-23T00:18:43.039Z"
   },
   {
    "duration": 189,
    "start_time": "2024-10-23T00:18:43.049Z"
   },
   {
    "duration": 162,
    "start_time": "2024-10-23T00:18:43.240Z"
   },
   {
    "duration": 11,
    "start_time": "2024-10-23T00:18:43.405Z"
   },
   {
    "duration": 14,
    "start_time": "2024-10-23T00:18:43.418Z"
   },
   {
    "duration": 130,
    "start_time": "2024-10-23T00:18:43.434Z"
   },
   {
    "duration": 19,
    "start_time": "2024-10-23T00:18:43.567Z"
   },
   {
    "duration": 162,
    "start_time": "2024-10-23T00:18:43.588Z"
   },
   {
    "duration": 87,
    "start_time": "2024-10-23T00:18:43.751Z"
   },
   {
    "duration": 9,
    "start_time": "2024-10-23T00:18:43.840Z"
   },
   {
    "duration": 2,
    "start_time": "2024-10-23T00:18:43.853Z"
   },
   {
    "duration": 818,
    "start_time": "2024-10-23T00:19:08.981Z"
   },
   {
    "duration": 176,
    "start_time": "2024-10-23T00:19:09.801Z"
   },
   {
    "duration": 10,
    "start_time": "2024-10-23T00:19:09.979Z"
   },
   {
    "duration": 22,
    "start_time": "2024-10-23T00:19:09.991Z"
   },
   {
    "duration": 8,
    "start_time": "2024-10-23T00:19:10.016Z"
   },
   {
    "duration": 9,
    "start_time": "2024-10-23T00:19:10.026Z"
   },
   {
    "duration": 3,
    "start_time": "2024-10-23T00:19:10.038Z"
   },
   {
    "duration": 17,
    "start_time": "2024-10-23T00:19:10.043Z"
   },
   {
    "duration": 9,
    "start_time": "2024-10-23T00:19:10.061Z"
   },
   {
    "duration": 55,
    "start_time": "2024-10-23T00:19:10.071Z"
   },
   {
    "duration": 13,
    "start_time": "2024-10-23T00:19:10.128Z"
   },
   {
    "duration": 7,
    "start_time": "2024-10-23T00:19:10.142Z"
   },
   {
    "duration": 13,
    "start_time": "2024-10-23T00:19:10.151Z"
   },
   {
    "duration": 44,
    "start_time": "2024-10-23T00:19:10.168Z"
   },
   {
    "duration": 7,
    "start_time": "2024-10-23T00:19:10.214Z"
   },
   {
    "duration": 7,
    "start_time": "2024-10-23T00:19:10.223Z"
   },
   {
    "duration": 13,
    "start_time": "2024-10-23T00:19:10.232Z"
   },
   {
    "duration": 7,
    "start_time": "2024-10-23T00:19:10.247Z"
   },
   {
    "duration": 222,
    "start_time": "2024-10-23T00:19:10.256Z"
   },
   {
    "duration": 195,
    "start_time": "2024-10-23T00:19:10.480Z"
   },
   {
    "duration": 6,
    "start_time": "2024-10-23T00:19:10.677Z"
   },
   {
    "duration": 27,
    "start_time": "2024-10-23T00:19:10.685Z"
   },
   {
    "duration": 127,
    "start_time": "2024-10-23T00:19:10.713Z"
   },
   {
    "duration": 18,
    "start_time": "2024-10-23T00:19:10.842Z"
   },
   {
    "duration": 163,
    "start_time": "2024-10-23T00:19:10.861Z"
   },
   {
    "duration": 89,
    "start_time": "2024-10-23T00:19:11.026Z"
   },
   {
    "duration": 8,
    "start_time": "2024-10-23T00:19:11.117Z"
   },
   {
    "duration": 4,
    "start_time": "2024-10-23T00:19:11.127Z"
   },
   {
    "duration": 7,
    "start_time": "2024-10-23T00:19:17.528Z"
   },
   {
    "duration": 163,
    "start_time": "2024-10-23T00:24:52.521Z"
   },
   {
    "duration": 159,
    "start_time": "2024-10-23T00:25:07.463Z"
   },
   {
    "duration": 864,
    "start_time": "2024-10-23T00:25:12.906Z"
   },
   {
    "duration": 222,
    "start_time": "2024-10-23T00:25:13.772Z"
   },
   {
    "duration": 9,
    "start_time": "2024-10-23T00:25:13.996Z"
   },
   {
    "duration": 9,
    "start_time": "2024-10-23T00:25:14.007Z"
   },
   {
    "duration": 8,
    "start_time": "2024-10-23T00:25:14.019Z"
   },
   {
    "duration": 8,
    "start_time": "2024-10-23T00:25:14.028Z"
   },
   {
    "duration": 3,
    "start_time": "2024-10-23T00:25:14.038Z"
   },
   {
    "duration": 15,
    "start_time": "2024-10-23T00:25:14.043Z"
   },
   {
    "duration": 8,
    "start_time": "2024-10-23T00:25:14.060Z"
   },
   {
    "duration": 46,
    "start_time": "2024-10-23T00:25:14.070Z"
   },
   {
    "duration": 13,
    "start_time": "2024-10-23T00:25:14.118Z"
   },
   {
    "duration": 8,
    "start_time": "2024-10-23T00:25:14.132Z"
   },
   {
    "duration": 13,
    "start_time": "2024-10-23T00:25:14.142Z"
   },
   {
    "duration": 9,
    "start_time": "2024-10-23T00:25:14.158Z"
   },
   {
    "duration": 7,
    "start_time": "2024-10-23T00:25:14.169Z"
   },
   {
    "duration": 41,
    "start_time": "2024-10-23T00:25:14.177Z"
   },
   {
    "duration": 13,
    "start_time": "2024-10-23T00:25:14.220Z"
   },
   {
    "duration": 8,
    "start_time": "2024-10-23T00:25:14.234Z"
   },
   {
    "duration": 193,
    "start_time": "2024-10-23T00:25:14.244Z"
   },
   {
    "duration": 156,
    "start_time": "2024-10-23T00:25:14.440Z"
   },
   {
    "duration": 6,
    "start_time": "2024-10-23T00:25:14.598Z"
   },
   {
    "duration": 18,
    "start_time": "2024-10-23T00:25:14.606Z"
   },
   {
    "duration": 138,
    "start_time": "2024-10-23T00:25:14.626Z"
   },
   {
    "duration": 18,
    "start_time": "2024-10-23T00:25:14.766Z"
   },
   {
    "duration": 173,
    "start_time": "2024-10-23T00:25:14.785Z"
   },
   {
    "duration": 92,
    "start_time": "2024-10-23T00:25:14.960Z"
   },
   {
    "duration": 6,
    "start_time": "2024-10-23T00:25:15.054Z"
   },
   {
    "duration": 2,
    "start_time": "2024-10-23T00:25:15.062Z"
   },
   {
    "duration": 158,
    "start_time": "2024-10-23T00:33:25.925Z"
   },
   {
    "duration": 858,
    "start_time": "2024-10-23T00:33:39.548Z"
   },
   {
    "duration": 216,
    "start_time": "2024-10-23T00:33:40.409Z"
   },
   {
    "duration": 10,
    "start_time": "2024-10-23T00:33:40.627Z"
   },
   {
    "duration": 10,
    "start_time": "2024-10-23T00:33:40.640Z"
   },
   {
    "duration": 9,
    "start_time": "2024-10-23T00:33:40.652Z"
   },
   {
    "duration": 8,
    "start_time": "2024-10-23T00:33:40.663Z"
   },
   {
    "duration": 4,
    "start_time": "2024-10-23T00:33:40.673Z"
   },
   {
    "duration": 44,
    "start_time": "2024-10-23T00:33:40.678Z"
   },
   {
    "duration": 9,
    "start_time": "2024-10-23T00:33:40.726Z"
   },
   {
    "duration": 17,
    "start_time": "2024-10-23T00:33:40.738Z"
   },
   {
    "duration": 12,
    "start_time": "2024-10-23T00:33:40.757Z"
   },
   {
    "duration": 7,
    "start_time": "2024-10-23T00:33:40.771Z"
   },
   {
    "duration": 14,
    "start_time": "2024-10-23T00:33:40.811Z"
   },
   {
    "duration": 7,
    "start_time": "2024-10-23T00:33:40.827Z"
   },
   {
    "duration": 7,
    "start_time": "2024-10-23T00:33:40.836Z"
   },
   {
    "duration": 6,
    "start_time": "2024-10-23T00:33:40.845Z"
   },
   {
    "duration": 12,
    "start_time": "2024-10-23T00:33:40.853Z"
   },
   {
    "duration": 8,
    "start_time": "2024-10-23T00:33:40.867Z"
   },
   {
    "duration": 212,
    "start_time": "2024-10-23T00:33:40.876Z"
   },
   {
    "duration": 162,
    "start_time": "2024-10-23T00:33:41.090Z"
   },
   {
    "duration": 7,
    "start_time": "2024-10-23T00:33:41.254Z"
   },
   {
    "duration": 17,
    "start_time": "2024-10-23T00:33:41.263Z"
   },
   {
    "duration": 132,
    "start_time": "2024-10-23T00:33:41.284Z"
   },
   {
    "duration": 18,
    "start_time": "2024-10-23T00:33:41.418Z"
   },
   {
    "duration": 159,
    "start_time": "2024-10-23T00:33:41.437Z"
   },
   {
    "duration": 85,
    "start_time": "2024-10-23T00:33:41.599Z"
   },
   {
    "duration": 7,
    "start_time": "2024-10-23T00:33:41.686Z"
   },
   {
    "duration": 16,
    "start_time": "2024-10-23T00:33:41.697Z"
   },
   {
    "duration": 4,
    "start_time": "2024-10-23T00:33:43.124Z"
   },
   {
    "duration": 820,
    "start_time": "2024-10-23T00:37:51.204Z"
   },
   {
    "duration": 215,
    "start_time": "2024-10-23T00:37:52.026Z"
   },
   {
    "duration": 9,
    "start_time": "2024-10-23T00:37:52.242Z"
   },
   {
    "duration": 10,
    "start_time": "2024-10-23T00:37:52.254Z"
   },
   {
    "duration": 8,
    "start_time": "2024-10-23T00:37:52.265Z"
   },
   {
    "duration": 9,
    "start_time": "2024-10-23T00:37:52.274Z"
   },
   {
    "duration": 28,
    "start_time": "2024-10-23T00:37:52.285Z"
   },
   {
    "duration": 16,
    "start_time": "2024-10-23T00:37:52.314Z"
   },
   {
    "duration": 8,
    "start_time": "2024-10-23T00:37:52.331Z"
   },
   {
    "duration": 17,
    "start_time": "2024-10-23T00:37:52.342Z"
   },
   {
    "duration": 13,
    "start_time": "2024-10-23T00:37:52.360Z"
   },
   {
    "duration": 7,
    "start_time": "2024-10-23T00:37:52.374Z"
   },
   {
    "duration": 13,
    "start_time": "2024-10-23T00:37:52.412Z"
   },
   {
    "duration": 8,
    "start_time": "2024-10-23T00:37:52.427Z"
   },
   {
    "duration": 7,
    "start_time": "2024-10-23T00:37:52.436Z"
   },
   {
    "duration": 7,
    "start_time": "2024-10-23T00:37:52.445Z"
   },
   {
    "duration": 11,
    "start_time": "2024-10-23T00:37:52.454Z"
   },
   {
    "duration": 8,
    "start_time": "2024-10-23T00:37:52.467Z"
   },
   {
    "duration": 210,
    "start_time": "2024-10-23T00:37:52.476Z"
   },
   {
    "duration": 159,
    "start_time": "2024-10-23T00:37:52.688Z"
   },
   {
    "duration": 6,
    "start_time": "2024-10-23T00:37:52.849Z"
   },
   {
    "duration": 14,
    "start_time": "2024-10-23T00:37:52.857Z"
   },
   {
    "duration": 136,
    "start_time": "2024-10-23T00:37:52.872Z"
   },
   {
    "duration": 18,
    "start_time": "2024-10-23T00:37:53.012Z"
   },
   {
    "duration": 157,
    "start_time": "2024-10-23T00:37:53.032Z"
   },
   {
    "duration": 118,
    "start_time": "2024-10-23T00:37:53.190Z"
   },
   {
    "duration": 7,
    "start_time": "2024-10-23T00:37:53.311Z"
   },
   {
    "duration": 3,
    "start_time": "2024-10-23T00:37:53.322Z"
   },
   {
    "duration": 157,
    "start_time": "2024-10-23T00:38:00.126Z"
   },
   {
    "duration": 724,
    "start_time": "2024-10-23T00:38:21.694Z"
   },
   {
    "duration": 64,
    "start_time": "2024-10-23T00:39:24.517Z"
   },
   {
    "duration": 3,
    "start_time": "2024-10-23T00:39:57.044Z"
   },
   {
    "duration": 163,
    "start_time": "2024-10-23T00:39:57.050Z"
   },
   {
    "duration": 10,
    "start_time": "2024-10-23T00:39:57.215Z"
   },
   {
    "duration": 7,
    "start_time": "2024-10-23T00:39:57.229Z"
   },
   {
    "duration": 8,
    "start_time": "2024-10-23T00:39:57.239Z"
   },
   {
    "duration": 8,
    "start_time": "2024-10-23T00:39:57.249Z"
   },
   {
    "duration": 4,
    "start_time": "2024-10-23T00:39:57.259Z"
   },
   {
    "duration": 50,
    "start_time": "2024-10-23T00:39:57.265Z"
   },
   {
    "duration": 9,
    "start_time": "2024-10-23T00:39:57.317Z"
   },
   {
    "duration": 15,
    "start_time": "2024-10-23T00:39:57.328Z"
   },
   {
    "duration": 12,
    "start_time": "2024-10-23T00:39:57.345Z"
   },
   {
    "duration": 7,
    "start_time": "2024-10-23T00:39:57.359Z"
   },
   {
    "duration": 46,
    "start_time": "2024-10-23T00:39:57.368Z"
   },
   {
    "duration": 8,
    "start_time": "2024-10-23T00:39:57.418Z"
   },
   {
    "duration": 8,
    "start_time": "2024-10-23T00:39:57.427Z"
   },
   {
    "duration": 8,
    "start_time": "2024-10-23T00:39:57.436Z"
   },
   {
    "duration": 12,
    "start_time": "2024-10-23T00:39:57.446Z"
   },
   {
    "duration": 7,
    "start_time": "2024-10-23T00:39:57.460Z"
   },
   {
    "duration": 196,
    "start_time": "2024-10-23T00:39:57.469Z"
   },
   {
    "duration": 156,
    "start_time": "2024-10-23T00:39:57.666Z"
   },
   {
    "duration": 6,
    "start_time": "2024-10-23T00:39:57.824Z"
   },
   {
    "duration": 13,
    "start_time": "2024-10-23T00:39:57.832Z"
   },
   {
    "duration": 133,
    "start_time": "2024-10-23T00:39:57.846Z"
   },
   {
    "duration": 18,
    "start_time": "2024-10-23T00:39:57.980Z"
   },
   {
    "duration": 172,
    "start_time": "2024-10-23T00:39:57.999Z"
   },
   {
    "duration": 96,
    "start_time": "2024-10-23T00:39:58.173Z"
   },
   {
    "duration": 7,
    "start_time": "2024-10-23T00:39:58.271Z"
   },
   {
    "duration": 2,
    "start_time": "2024-10-23T00:39:58.280Z"
   },
   {
    "duration": 163,
    "start_time": "2024-10-23T00:39:58.283Z"
   },
   {
    "duration": 57,
    "start_time": "2024-10-23T00:40:02.204Z"
   },
   {
    "duration": 169,
    "start_time": "2024-10-23T00:40:24.130Z"
   },
   {
    "duration": 9,
    "start_time": "2024-10-23T00:41:05.232Z"
   },
   {
    "duration": 170,
    "start_time": "2024-10-23T00:42:53.214Z"
   },
   {
    "duration": 263,
    "start_time": "2024-10-23T00:42:56.726Z"
   },
   {
    "duration": 14,
    "start_time": "2024-10-23T00:45:48.998Z"
   },
   {
    "duration": 67,
    "start_time": "2024-10-23T00:55:25.190Z"
   },
   {
    "duration": 42,
    "start_time": "2024-10-23T00:56:41.648Z"
   },
   {
    "duration": 75,
    "start_time": "2024-10-23T00:57:06.225Z"
   },
   {
    "duration": 57,
    "start_time": "2024-10-23T00:57:42.810Z"
   },
   {
    "duration": 42,
    "start_time": "2024-10-23T00:57:53.701Z"
   },
   {
    "duration": 3,
    "start_time": "2024-10-23T00:58:10.616Z"
   },
   {
    "duration": 170,
    "start_time": "2024-10-23T00:58:10.622Z"
   },
   {
    "duration": 8,
    "start_time": "2024-10-23T00:58:10.794Z"
   },
   {
    "duration": 7,
    "start_time": "2024-10-23T00:58:10.812Z"
   },
   {
    "duration": 8,
    "start_time": "2024-10-23T00:58:10.821Z"
   },
   {
    "duration": 8,
    "start_time": "2024-10-23T00:58:10.830Z"
   },
   {
    "duration": 3,
    "start_time": "2024-10-23T00:58:10.840Z"
   },
   {
    "duration": 15,
    "start_time": "2024-10-23T00:58:10.844Z"
   },
   {
    "duration": 9,
    "start_time": "2024-10-23T00:58:10.860Z"
   },
   {
    "duration": 44,
    "start_time": "2024-10-23T00:58:10.870Z"
   },
   {
    "duration": 11,
    "start_time": "2024-10-23T00:58:10.918Z"
   },
   {
    "duration": 7,
    "start_time": "2024-10-23T00:58:10.930Z"
   },
   {
    "duration": 12,
    "start_time": "2024-10-23T00:58:10.939Z"
   },
   {
    "duration": 8,
    "start_time": "2024-10-23T00:58:10.953Z"
   },
   {
    "duration": 7,
    "start_time": "2024-10-23T00:58:10.962Z"
   },
   {
    "duration": 45,
    "start_time": "2024-10-23T00:58:10.971Z"
   },
   {
    "duration": 11,
    "start_time": "2024-10-23T00:58:11.018Z"
   },
   {
    "duration": 8,
    "start_time": "2024-10-23T00:58:11.030Z"
   },
   {
    "duration": 201,
    "start_time": "2024-10-23T00:58:11.039Z"
   },
   {
    "duration": 153,
    "start_time": "2024-10-23T00:58:11.242Z"
   },
   {
    "duration": 14,
    "start_time": "2024-10-23T00:58:11.397Z"
   },
   {
    "duration": 13,
    "start_time": "2024-10-23T00:58:11.414Z"
   },
   {
    "duration": 119,
    "start_time": "2024-10-23T00:58:11.429Z"
   },
   {
    "duration": 17,
    "start_time": "2024-10-23T00:58:11.550Z"
   },
   {
    "duration": 161,
    "start_time": "2024-10-23T00:58:11.569Z"
   },
   {
    "duration": 63,
    "start_time": "2024-10-23T00:58:11.731Z"
   },
   {
    "duration": 20,
    "start_time": "2024-10-23T00:58:11.796Z"
   },
   {
    "duration": 4,
    "start_time": "2024-10-23T00:58:11.817Z"
   },
   {
    "duration": 12,
    "start_time": "2024-10-23T00:58:11.824Z"
   },
   {
    "duration": 166,
    "start_time": "2024-10-23T00:58:11.837Z"
   },
   {
    "duration": 46,
    "start_time": "2024-10-23T00:58:12.006Z"
   },
   {
    "duration": 0,
    "start_time": "2024-10-23T00:58:12.054Z"
   },
   {
    "duration": 0,
    "start_time": "2024-10-23T00:58:12.055Z"
   },
   {
    "duration": 0,
    "start_time": "2024-10-23T00:58:12.056Z"
   },
   {
    "duration": 0,
    "start_time": "2024-10-23T00:58:12.058Z"
   },
   {
    "duration": 0,
    "start_time": "2024-10-23T00:58:12.059Z"
   },
   {
    "duration": 0,
    "start_time": "2024-10-23T00:58:12.061Z"
   },
   {
    "duration": 0,
    "start_time": "2024-10-23T00:58:12.063Z"
   },
   {
    "duration": 0,
    "start_time": "2024-10-23T00:58:12.063Z"
   },
   {
    "duration": 3,
    "start_time": "2024-10-23T00:58:23.689Z"
   },
   {
    "duration": 157,
    "start_time": "2024-10-23T00:58:23.694Z"
   },
   {
    "duration": 9,
    "start_time": "2024-10-23T00:58:23.852Z"
   },
   {
    "duration": 7,
    "start_time": "2024-10-23T00:58:23.863Z"
   },
   {
    "duration": 9,
    "start_time": "2024-10-23T00:58:23.872Z"
   },
   {
    "duration": 32,
    "start_time": "2024-10-23T00:58:23.883Z"
   },
   {
    "duration": 4,
    "start_time": "2024-10-23T00:58:23.916Z"
   },
   {
    "duration": 15,
    "start_time": "2024-10-23T00:58:23.922Z"
   },
   {
    "duration": 8,
    "start_time": "2024-10-23T00:58:23.938Z"
   },
   {
    "duration": 16,
    "start_time": "2024-10-23T00:58:23.949Z"
   },
   {
    "duration": 11,
    "start_time": "2024-10-23T00:58:23.966Z"
   },
   {
    "duration": 40,
    "start_time": "2024-10-23T00:58:23.978Z"
   },
   {
    "duration": 16,
    "start_time": "2024-10-23T00:58:24.019Z"
   },
   {
    "duration": 9,
    "start_time": "2024-10-23T00:58:24.037Z"
   },
   {
    "duration": 7,
    "start_time": "2024-10-23T00:58:24.048Z"
   },
   {
    "duration": 7,
    "start_time": "2024-10-23T00:58:24.057Z"
   },
   {
    "duration": 12,
    "start_time": "2024-10-23T00:58:24.065Z"
   },
   {
    "duration": 7,
    "start_time": "2024-10-23T00:58:24.111Z"
   },
   {
    "duration": 175,
    "start_time": "2024-10-23T00:58:24.120Z"
   },
   {
    "duration": 165,
    "start_time": "2024-10-23T00:58:24.297Z"
   },
   {
    "duration": 6,
    "start_time": "2024-10-23T00:58:24.464Z"
   },
   {
    "duration": 14,
    "start_time": "2024-10-23T00:58:24.472Z"
   },
   {
    "duration": 138,
    "start_time": "2024-10-23T00:58:24.488Z"
   },
   {
    "duration": 18,
    "start_time": "2024-10-23T00:58:24.628Z"
   },
   {
    "duration": 182,
    "start_time": "2024-10-23T00:58:24.647Z"
   },
   {
    "duration": 60,
    "start_time": "2024-10-23T00:58:24.831Z"
   },
   {
    "duration": 7,
    "start_time": "2024-10-23T00:58:24.893Z"
   },
   {
    "duration": 4,
    "start_time": "2024-10-23T00:58:24.916Z"
   },
   {
    "duration": 13,
    "start_time": "2024-10-23T00:58:24.921Z"
   },
   {
    "duration": 164,
    "start_time": "2024-10-23T00:58:24.936Z"
   },
   {
    "duration": 38,
    "start_time": "2024-10-23T00:58:27.450Z"
   },
   {
    "duration": 48,
    "start_time": "2024-10-23T00:58:43.247Z"
   },
   {
    "duration": 14,
    "start_time": "2024-10-23T00:59:07.666Z"
   },
   {
    "duration": 51,
    "start_time": "2024-10-23T01:01:17.237Z"
   },
   {
    "duration": 41,
    "start_time": "2024-10-23T01:01:37.672Z"
   },
   {
    "duration": 279,
    "start_time": "2024-10-23T01:01:45.304Z"
   },
   {
    "duration": 39,
    "start_time": "2024-10-23T01:29:06.225Z"
   },
   {
    "duration": 9,
    "start_time": "2024-10-23T01:29:43.747Z"
   },
   {
    "duration": 80,
    "start_time": "2024-10-23T01:41:56.030Z"
   },
   {
    "duration": 211,
    "start_time": "2024-10-23T01:42:27.653Z"
   },
   {
    "duration": 29,
    "start_time": "2024-10-23T01:42:41.556Z"
   },
   {
    "duration": 28,
    "start_time": "2024-10-23T01:45:01.324Z"
   },
   {
    "duration": 19,
    "start_time": "2024-10-23T01:50:23.009Z"
   },
   {
    "duration": 11,
    "start_time": "2024-10-23T01:56:02.142Z"
   },
   {
    "duration": 19,
    "start_time": "2024-10-23T01:56:23.636Z"
   },
   {
    "duration": 871,
    "start_time": "2024-10-23T01:57:30.933Z"
   },
   {
    "duration": 161,
    "start_time": "2024-10-23T01:57:31.806Z"
   },
   {
    "duration": 9,
    "start_time": "2024-10-23T01:57:31.970Z"
   },
   {
    "duration": 10,
    "start_time": "2024-10-23T01:57:31.981Z"
   },
   {
    "duration": 22,
    "start_time": "2024-10-23T01:57:31.992Z"
   },
   {
    "duration": 7,
    "start_time": "2024-10-23T01:57:32.016Z"
   },
   {
    "duration": 3,
    "start_time": "2024-10-23T01:57:32.025Z"
   },
   {
    "duration": 15,
    "start_time": "2024-10-23T01:57:32.030Z"
   },
   {
    "duration": 8,
    "start_time": "2024-10-23T01:57:32.047Z"
   },
   {
    "duration": 3,
    "start_time": "2024-10-23T01:57:32.057Z"
   },
   {
    "duration": 54,
    "start_time": "2024-10-23T01:57:32.062Z"
   },
   {
    "duration": 13,
    "start_time": "2024-10-23T01:57:32.118Z"
   },
   {
    "duration": 7,
    "start_time": "2024-10-23T01:57:32.132Z"
   },
   {
    "duration": 13,
    "start_time": "2024-10-23T01:57:32.140Z"
   },
   {
    "duration": 7,
    "start_time": "2024-10-23T01:57:32.155Z"
   },
   {
    "duration": 6,
    "start_time": "2024-10-23T01:57:32.165Z"
   },
   {
    "duration": 7,
    "start_time": "2024-10-23T01:57:32.172Z"
   },
   {
    "duration": 13,
    "start_time": "2024-10-23T01:57:32.212Z"
   },
   {
    "duration": 8,
    "start_time": "2024-10-23T01:57:32.226Z"
   },
   {
    "duration": 183,
    "start_time": "2024-10-23T01:57:32.236Z"
   },
   {
    "duration": 150,
    "start_time": "2024-10-23T01:57:32.421Z"
   },
   {
    "duration": 8,
    "start_time": "2024-10-23T01:57:32.572Z"
   },
   {
    "duration": 15,
    "start_time": "2024-10-23T01:57:32.581Z"
   },
   {
    "duration": 160,
    "start_time": "2024-10-23T01:57:32.597Z"
   },
   {
    "duration": 18,
    "start_time": "2024-10-23T01:57:32.759Z"
   },
   {
    "duration": 178,
    "start_time": "2024-10-23T01:57:32.778Z"
   },
   {
    "duration": 23,
    "start_time": "2024-10-23T01:57:34.907Z"
   },
   {
    "duration": 4,
    "start_time": "2024-10-23T01:58:17.584Z"
   },
   {
    "duration": 386,
    "start_time": "2024-10-23T02:08:56.792Z"
   },
   {
    "duration": 3,
    "start_time": "2024-10-23T02:09:04.918Z"
   },
   {
    "duration": 166,
    "start_time": "2024-10-23T02:09:04.924Z"
   },
   {
    "duration": 9,
    "start_time": "2024-10-23T02:09:05.092Z"
   },
   {
    "duration": 12,
    "start_time": "2024-10-23T02:09:05.103Z"
   },
   {
    "duration": 9,
    "start_time": "2024-10-23T02:09:05.117Z"
   },
   {
    "duration": 8,
    "start_time": "2024-10-23T02:09:05.127Z"
   },
   {
    "duration": 4,
    "start_time": "2024-10-23T02:09:05.137Z"
   },
   {
    "duration": 16,
    "start_time": "2024-10-23T02:09:05.142Z"
   },
   {
    "duration": 9,
    "start_time": "2024-10-23T02:09:05.160Z"
   },
   {
    "duration": 3,
    "start_time": "2024-10-23T02:09:05.170Z"
   },
   {
    "duration": 54,
    "start_time": "2024-10-23T02:09:05.175Z"
   },
   {
    "duration": 13,
    "start_time": "2024-10-23T02:09:05.230Z"
   },
   {
    "duration": 7,
    "start_time": "2024-10-23T02:09:05.244Z"
   },
   {
    "duration": 13,
    "start_time": "2024-10-23T02:09:05.253Z"
   },
   {
    "duration": 8,
    "start_time": "2024-10-23T02:09:05.268Z"
   },
   {
    "duration": 34,
    "start_time": "2024-10-23T02:09:05.279Z"
   },
   {
    "duration": 10,
    "start_time": "2024-10-23T02:09:05.315Z"
   },
   {
    "duration": 12,
    "start_time": "2024-10-23T02:09:05.327Z"
   },
   {
    "duration": 7,
    "start_time": "2024-10-23T02:09:05.341Z"
   },
   {
    "duration": 204,
    "start_time": "2024-10-23T02:09:05.350Z"
   },
   {
    "duration": 155,
    "start_time": "2024-10-23T02:09:05.556Z"
   },
   {
    "duration": 6,
    "start_time": "2024-10-23T02:09:05.713Z"
   },
   {
    "duration": 13,
    "start_time": "2024-10-23T02:09:05.721Z"
   },
   {
    "duration": 129,
    "start_time": "2024-10-23T02:09:05.738Z"
   },
   {
    "duration": 18,
    "start_time": "2024-10-23T02:09:05.868Z"
   },
   {
    "duration": 177,
    "start_time": "2024-10-23T02:09:05.888Z"
   },
   {
    "duration": 47,
    "start_time": "2024-10-23T02:09:07.721Z"
   },
   {
    "duration": 34,
    "start_time": "2024-10-23T02:09:53.711Z"
   },
   {
    "duration": 33,
    "start_time": "2024-10-23T02:09:59.467Z"
   },
   {
    "duration": 32,
    "start_time": "2024-10-23T02:10:10.819Z"
   },
   {
    "duration": 33,
    "start_time": "2024-10-23T02:10:14.003Z"
   },
   {
    "duration": 3,
    "start_time": "2024-10-23T02:10:17.729Z"
   },
   {
    "duration": 154,
    "start_time": "2024-10-23T02:10:17.734Z"
   },
   {
    "duration": 17,
    "start_time": "2024-10-23T02:10:17.890Z"
   },
   {
    "duration": 11,
    "start_time": "2024-10-23T02:10:17.909Z"
   },
   {
    "duration": 7,
    "start_time": "2024-10-23T02:10:17.923Z"
   },
   {
    "duration": 7,
    "start_time": "2024-10-23T02:10:17.932Z"
   },
   {
    "duration": 4,
    "start_time": "2024-10-23T02:10:17.940Z"
   },
   {
    "duration": 14,
    "start_time": "2024-10-23T02:10:17.946Z"
   },
   {
    "duration": 9,
    "start_time": "2024-10-23T02:10:17.962Z"
   },
   {
    "duration": 4,
    "start_time": "2024-10-23T02:10:17.972Z"
   },
   {
    "duration": 49,
    "start_time": "2024-10-23T02:10:17.979Z"
   },
   {
    "duration": 18,
    "start_time": "2024-10-23T02:10:18.030Z"
   },
   {
    "duration": 7,
    "start_time": "2024-10-23T02:10:18.051Z"
   },
   {
    "duration": 13,
    "start_time": "2024-10-23T02:10:18.059Z"
   },
   {
    "duration": 8,
    "start_time": "2024-10-23T02:10:18.074Z"
   },
   {
    "duration": 35,
    "start_time": "2024-10-23T02:10:18.083Z"
   },
   {
    "duration": 13,
    "start_time": "2024-10-23T02:10:18.119Z"
   },
   {
    "duration": 11,
    "start_time": "2024-10-23T02:10:18.134Z"
   },
   {
    "duration": 7,
    "start_time": "2024-10-23T02:10:18.147Z"
   },
   {
    "duration": 189,
    "start_time": "2024-10-23T02:10:18.155Z"
   },
   {
    "duration": 155,
    "start_time": "2024-10-23T02:10:18.345Z"
   },
   {
    "duration": 9,
    "start_time": "2024-10-23T02:10:18.502Z"
   },
   {
    "duration": 13,
    "start_time": "2024-10-23T02:10:18.513Z"
   },
   {
    "duration": 134,
    "start_time": "2024-10-23T02:10:18.528Z"
   },
   {
    "duration": 18,
    "start_time": "2024-10-23T02:10:18.664Z"
   },
   {
    "duration": 181,
    "start_time": "2024-10-23T02:10:18.683Z"
   },
   {
    "duration": 92,
    "start_time": "2024-10-23T02:10:19.847Z"
   },
   {
    "duration": 34,
    "start_time": "2024-10-23T02:10:32.859Z"
   },
   {
    "duration": 3,
    "start_time": "2024-10-23T02:10:46.765Z"
   },
   {
    "duration": 8,
    "start_time": "2024-10-23T02:10:54.198Z"
   },
   {
    "duration": 2,
    "start_time": "2024-10-23T02:11:24.246Z"
   },
   {
    "duration": 156,
    "start_time": "2024-10-23T02:11:24.250Z"
   },
   {
    "duration": 8,
    "start_time": "2024-10-23T02:11:24.408Z"
   },
   {
    "duration": 9,
    "start_time": "2024-10-23T02:11:24.418Z"
   },
   {
    "duration": 8,
    "start_time": "2024-10-23T02:11:24.430Z"
   },
   {
    "duration": 8,
    "start_time": "2024-10-23T02:11:24.440Z"
   },
   {
    "duration": 4,
    "start_time": "2024-10-23T02:11:24.450Z"
   },
   {
    "duration": 17,
    "start_time": "2024-10-23T02:11:24.456Z"
   },
   {
    "duration": 41,
    "start_time": "2024-10-23T02:11:24.475Z"
   },
   {
    "duration": 3,
    "start_time": "2024-10-23T02:11:24.518Z"
   },
   {
    "duration": 15,
    "start_time": "2024-10-23T02:11:24.525Z"
   },
   {
    "duration": 12,
    "start_time": "2024-10-23T02:11:24.541Z"
   },
   {
    "duration": 7,
    "start_time": "2024-10-23T02:11:24.555Z"
   },
   {
    "duration": 48,
    "start_time": "2024-10-23T02:11:24.564Z"
   },
   {
    "duration": 8,
    "start_time": "2024-10-23T02:11:24.613Z"
   },
   {
    "duration": 7,
    "start_time": "2024-10-23T02:11:24.623Z"
   },
   {
    "duration": 6,
    "start_time": "2024-10-23T02:11:24.632Z"
   },
   {
    "duration": 11,
    "start_time": "2024-10-23T02:11:24.640Z"
   },
   {
    "duration": 8,
    "start_time": "2024-10-23T02:11:24.653Z"
   },
   {
    "duration": 205,
    "start_time": "2024-10-23T02:11:24.662Z"
   },
   {
    "duration": 171,
    "start_time": "2024-10-23T02:11:24.869Z"
   },
   {
    "duration": 6,
    "start_time": "2024-10-23T02:11:25.042Z"
   },
   {
    "duration": 13,
    "start_time": "2024-10-23T02:11:25.050Z"
   },
   {
    "duration": 135,
    "start_time": "2024-10-23T02:11:25.065Z"
   },
   {
    "duration": 23,
    "start_time": "2024-10-23T02:11:25.202Z"
   },
   {
    "duration": 178,
    "start_time": "2024-10-23T02:11:25.227Z"
   },
   {
    "duration": 35,
    "start_time": "2024-10-23T02:11:25.412Z"
   },
   {
    "duration": 3,
    "start_time": "2024-10-23T02:11:30.787Z"
   },
   {
    "duration": 162,
    "start_time": "2024-10-23T21:15:14.731Z"
   },
   {
    "duration": 2613,
    "start_time": "2024-10-23T21:15:20.501Z"
   },
   {
    "duration": 262,
    "start_time": "2024-10-23T21:15:23.116Z"
   },
   {
    "duration": 10,
    "start_time": "2024-10-23T21:15:23.379Z"
   },
   {
    "duration": 12,
    "start_time": "2024-10-23T21:15:23.391Z"
   },
   {
    "duration": 10,
    "start_time": "2024-10-23T21:15:23.406Z"
   },
   {
    "duration": 8,
    "start_time": "2024-10-23T21:15:23.420Z"
   },
   {
    "duration": 5,
    "start_time": "2024-10-23T21:15:23.430Z"
   },
   {
    "duration": 14,
    "start_time": "2024-10-23T21:15:23.437Z"
   },
   {
    "duration": 8,
    "start_time": "2024-10-23T21:15:23.453Z"
   },
   {
    "duration": 5,
    "start_time": "2024-10-23T21:15:23.463Z"
   },
   {
    "duration": 49,
    "start_time": "2024-10-23T21:15:23.470Z"
   },
   {
    "duration": 12,
    "start_time": "2024-10-23T21:15:23.520Z"
   },
   {
    "duration": 8,
    "start_time": "2024-10-23T21:15:23.534Z"
   },
   {
    "duration": 18,
    "start_time": "2024-10-23T21:15:23.545Z"
   },
   {
    "duration": 8,
    "start_time": "2024-10-23T21:15:23.564Z"
   },
   {
    "duration": 8,
    "start_time": "2024-10-23T21:15:23.605Z"
   },
   {
    "duration": 7,
    "start_time": "2024-10-23T21:15:23.617Z"
   },
   {
    "duration": 14,
    "start_time": "2024-10-23T21:15:23.626Z"
   },
   {
    "duration": 9,
    "start_time": "2024-10-23T21:15:23.641Z"
   },
   {
    "duration": 198,
    "start_time": "2024-10-23T21:15:23.654Z"
   },
   {
    "duration": 186,
    "start_time": "2024-10-23T21:15:23.854Z"
   },
   {
    "duration": 6,
    "start_time": "2024-10-23T21:15:24.042Z"
   },
   {
    "duration": 14,
    "start_time": "2024-10-23T21:15:24.050Z"
   },
   {
    "duration": 167,
    "start_time": "2024-10-23T21:15:24.066Z"
   },
   {
    "duration": 19,
    "start_time": "2024-10-23T21:15:24.234Z"
   },
   {
    "duration": 196,
    "start_time": "2024-10-23T21:15:26.119Z"
   },
   {
    "duration": 36,
    "start_time": "2024-10-23T21:15:44.781Z"
   },
   {
    "duration": 3,
    "start_time": "2024-10-23T21:15:48.012Z"
   },
   {
    "duration": 3,
    "start_time": "2024-10-23T21:15:55.097Z"
   },
   {
    "duration": 7,
    "start_time": "2024-10-23T21:15:55.649Z"
   },
   {
    "duration": 83,
    "start_time": "2024-10-23T21:16:26.411Z"
   },
   {
    "duration": 42,
    "start_time": "2024-10-23T21:17:10.962Z"
   },
   {
    "duration": 3,
    "start_time": "2024-10-23T21:17:12.304Z"
   },
   {
    "duration": 100,
    "start_time": "2024-10-23T21:17:18.828Z"
   },
   {
    "duration": 12,
    "start_time": "2024-10-23T21:17:21.904Z"
   },
   {
    "duration": 13,
    "start_time": "2024-10-23T21:17:35.879Z"
   },
   {
    "duration": 13,
    "start_time": "2024-10-23T21:19:02.293Z"
   },
   {
    "duration": 49,
    "start_time": "2024-10-23T21:19:04.802Z"
   },
   {
    "duration": 18,
    "start_time": "2024-10-23T21:19:05.202Z"
   },
   {
    "duration": 3,
    "start_time": "2024-10-23T21:19:14.949Z"
   },
   {
    "duration": 38,
    "start_time": "2024-10-23T21:20:44.181Z"
   },
   {
    "duration": 3,
    "start_time": "2024-10-23T21:20:44.560Z"
   },
   {
    "duration": 26,
    "start_time": "2024-10-23T21:25:19.476Z"
   },
   {
    "duration": 11,
    "start_time": "2024-10-23T21:25:25.918Z"
   },
   {
    "duration": 27,
    "start_time": "2024-10-23T21:26:08.933Z"
   },
   {
    "duration": 9,
    "start_time": "2024-10-23T21:26:09.671Z"
   },
   {
    "duration": 32,
    "start_time": "2024-10-23T21:28:46.809Z"
   },
   {
    "duration": 10,
    "start_time": "2024-10-23T21:28:47.648Z"
   },
   {
    "duration": 28,
    "start_time": "2024-10-23T21:29:21.502Z"
   },
   {
    "duration": 9,
    "start_time": "2024-10-23T21:29:22.176Z"
   },
   {
    "duration": 46,
    "start_time": "2024-10-23T21:29:51.116Z"
   },
   {
    "duration": 14,
    "start_time": "2024-10-23T21:29:51.928Z"
   },
   {
    "duration": 40,
    "start_time": "2024-10-23T21:30:48.450Z"
   },
   {
    "duration": 11,
    "start_time": "2024-10-23T21:30:49.006Z"
   },
   {
    "duration": 51,
    "start_time": "2024-10-23T21:31:22.490Z"
   },
   {
    "duration": 27,
    "start_time": "2024-10-23T21:31:30.359Z"
   },
   {
    "duration": 46,
    "start_time": "2024-10-23T21:32:09.338Z"
   },
   {
    "duration": 10,
    "start_time": "2024-10-23T21:32:09.768Z"
   },
   {
    "duration": 35,
    "start_time": "2024-10-23T21:33:58.378Z"
   },
   {
    "duration": 14,
    "start_time": "2024-10-23T21:33:59.395Z"
   },
   {
    "duration": 31,
    "start_time": "2024-10-23T21:36:14.642Z"
   },
   {
    "duration": 9,
    "start_time": "2024-10-23T21:36:15.989Z"
   },
   {
    "duration": 13,
    "start_time": "2024-10-23T21:37:15.329Z"
   },
   {
    "duration": 20,
    "start_time": "2024-10-23T21:37:18.930Z"
   },
   {
    "duration": 29,
    "start_time": "2024-10-23T21:38:32.379Z"
   },
   {
    "duration": 14,
    "start_time": "2024-10-23T21:38:33.122Z"
   },
   {
    "duration": 41,
    "start_time": "2024-10-23T21:38:45.644Z"
   },
   {
    "duration": 12,
    "start_time": "2024-10-23T21:38:46.253Z"
   },
   {
    "duration": 27,
    "start_time": "2024-10-23T21:40:06.232Z"
   },
   {
    "duration": 12,
    "start_time": "2024-10-23T21:40:06.969Z"
   },
   {
    "duration": 8,
    "start_time": "2024-10-23T21:40:46.710Z"
   },
   {
    "duration": 5,
    "start_time": "2024-10-23T22:09:33.461Z"
   },
   {
    "duration": 13,
    "start_time": "2024-10-23T22:10:14.546Z"
   },
   {
    "duration": 13,
    "start_time": "2024-10-23T22:11:11.777Z"
   },
   {
    "duration": 13,
    "start_time": "2024-10-23T22:11:26.723Z"
   },
   {
    "duration": 5,
    "start_time": "2024-10-23T22:12:06.258Z"
   },
   {
    "duration": 530,
    "start_time": "2024-10-23T22:12:06.893Z"
   },
   {
    "duration": 17,
    "start_time": "2024-10-23T22:13:40.896Z"
   },
   {
    "duration": 5,
    "start_time": "2024-10-23T22:13:43.543Z"
   },
   {
    "duration": 15,
    "start_time": "2024-10-23T22:13:44.103Z"
   },
   {
    "duration": 100,
    "start_time": "2024-10-23T22:13:49.980Z"
   },
   {
    "duration": 33,
    "start_time": "2024-10-23T22:17:06.957Z"
   },
   {
    "duration": 11,
    "start_time": "2024-10-23T22:17:07.907Z"
   },
   {
    "duration": 7,
    "start_time": "2024-10-23T22:17:13.695Z"
   },
   {
    "duration": 55,
    "start_time": "2024-10-23T22:17:15.678Z"
   },
   {
    "duration": 2,
    "start_time": "2024-10-23T22:18:16.899Z"
   },
   {
    "duration": 3,
    "start_time": "2024-10-23T22:18:32.040Z"
   },
   {
    "duration": 158,
    "start_time": "2024-10-23T22:18:32.045Z"
   },
   {
    "duration": 9,
    "start_time": "2024-10-23T22:18:32.205Z"
   },
   {
    "duration": 8,
    "start_time": "2024-10-23T22:18:32.215Z"
   },
   {
    "duration": 7,
    "start_time": "2024-10-23T22:18:32.226Z"
   },
   {
    "duration": 9,
    "start_time": "2024-10-23T22:18:32.234Z"
   },
   {
    "duration": 4,
    "start_time": "2024-10-23T22:18:32.244Z"
   },
   {
    "duration": 15,
    "start_time": "2024-10-23T22:18:32.249Z"
   },
   {
    "duration": 45,
    "start_time": "2024-10-23T22:18:32.266Z"
   },
   {
    "duration": 4,
    "start_time": "2024-10-23T22:18:32.312Z"
   },
   {
    "duration": 15,
    "start_time": "2024-10-23T22:18:32.318Z"
   },
   {
    "duration": 12,
    "start_time": "2024-10-23T22:18:32.334Z"
   },
   {
    "duration": 6,
    "start_time": "2024-10-23T22:18:32.348Z"
   },
   {
    "duration": 14,
    "start_time": "2024-10-23T22:18:32.355Z"
   },
   {
    "duration": 41,
    "start_time": "2024-10-23T22:18:32.370Z"
   },
   {
    "duration": 16,
    "start_time": "2024-10-23T22:18:32.413Z"
   },
   {
    "duration": 15,
    "start_time": "2024-10-23T22:18:32.437Z"
   },
   {
    "duration": 12,
    "start_time": "2024-10-23T22:18:32.454Z"
   },
   {
    "duration": 8,
    "start_time": "2024-10-23T22:18:32.467Z"
   },
   {
    "duration": 182,
    "start_time": "2024-10-23T22:18:32.476Z"
   },
   {
    "duration": 230,
    "start_time": "2024-10-23T22:18:32.660Z"
   },
   {
    "duration": 13,
    "start_time": "2024-10-23T22:18:32.892Z"
   },
   {
    "duration": 15,
    "start_time": "2024-10-23T22:18:32.908Z"
   },
   {
    "duration": 123,
    "start_time": "2024-10-23T22:18:32.924Z"
   },
   {
    "duration": 19,
    "start_time": "2024-10-23T22:18:33.049Z"
   },
   {
    "duration": 17,
    "start_time": "2024-10-23T22:18:33.071Z"
   },
   {
    "duration": 167,
    "start_time": "2024-10-23T22:18:33.090Z"
   },
   {
    "duration": 29,
    "start_time": "2024-10-23T22:18:33.259Z"
   },
   {
    "duration": 20,
    "start_time": "2024-10-23T22:18:33.291Z"
   },
   {
    "duration": 6,
    "start_time": "2024-10-23T22:18:33.313Z"
   },
   {
    "duration": 5,
    "start_time": "2024-10-23T22:18:35.776Z"
   },
   {
    "duration": 75,
    "start_time": "2024-10-23T22:18:36.646Z"
   },
   {
    "duration": 8,
    "start_time": "2024-10-23T22:23:36.558Z"
   },
   {
    "duration": 15,
    "start_time": "2024-10-23T22:25:03.379Z"
   },
   {
    "duration": 24,
    "start_time": "2024-10-23T22:25:36.787Z"
   },
   {
    "duration": 7,
    "start_time": "2024-10-23T22:27:35.243Z"
   },
   {
    "duration": 26,
    "start_time": "2024-10-23T22:27:38.908Z"
   },
   {
    "duration": 24,
    "start_time": "2024-10-23T22:28:00.808Z"
   },
   {
    "duration": 22,
    "start_time": "2024-10-23T22:28:29.552Z"
   },
   {
    "duration": 5,
    "start_time": "2024-10-23T22:28:36.612Z"
   },
   {
    "duration": 6,
    "start_time": "2024-10-23T22:28:38.864Z"
   },
   {
    "duration": 6,
    "start_time": "2024-10-23T22:31:25.970Z"
   },
   {
    "duration": 16,
    "start_time": "2024-10-23T22:36:08.179Z"
   },
   {
    "duration": 7,
    "start_time": "2024-10-23T22:37:49.022Z"
   },
   {
    "duration": 5,
    "start_time": "2024-10-23T22:37:49.515Z"
   },
   {
    "duration": 221,
    "start_time": "2024-10-23T22:37:50.171Z"
   },
   {
    "duration": 210,
    "start_time": "2024-10-23T22:38:14.971Z"
   },
   {
    "duration": 278,
    "start_time": "2024-10-23T22:39:54.423Z"
   },
   {
    "duration": 10,
    "start_time": "2024-10-23T22:46:36.428Z"
   },
   {
    "duration": 107,
    "start_time": "2024-10-23T22:47:12.608Z"
   },
   {
    "duration": 267,
    "start_time": "2024-10-23T23:30:03.133Z"
   },
   {
    "duration": 213,
    "start_time": "2024-10-23T23:31:45.076Z"
   },
   {
    "duration": 227,
    "start_time": "2024-10-23T23:32:33.103Z"
   },
   {
    "duration": 2527,
    "start_time": "2024-10-24T22:40:52.935Z"
   },
   {
    "duration": 203,
    "start_time": "2024-10-24T22:40:55.464Z"
   },
   {
    "duration": 10,
    "start_time": "2024-10-24T22:40:55.669Z"
   },
   {
    "duration": 9,
    "start_time": "2024-10-24T22:40:55.681Z"
   },
   {
    "duration": 8,
    "start_time": "2024-10-24T22:40:55.692Z"
   },
   {
    "duration": 7,
    "start_time": "2024-10-24T22:40:55.702Z"
   },
   {
    "duration": 3,
    "start_time": "2024-10-24T22:40:55.710Z"
   },
   {
    "duration": 15,
    "start_time": "2024-10-24T22:40:55.714Z"
   },
   {
    "duration": 7,
    "start_time": "2024-10-24T22:40:55.731Z"
   },
   {
    "duration": 4,
    "start_time": "2024-10-24T22:40:55.741Z"
   },
   {
    "duration": 54,
    "start_time": "2024-10-24T22:40:55.746Z"
   },
   {
    "duration": 11,
    "start_time": "2024-10-24T22:40:55.802Z"
   },
   {
    "duration": 7,
    "start_time": "2024-10-24T22:40:55.815Z"
   },
   {
    "duration": 13,
    "start_time": "2024-10-24T22:40:55.823Z"
   },
   {
    "duration": 8,
    "start_time": "2024-10-24T22:40:55.838Z"
   },
   {
    "duration": 40,
    "start_time": "2024-10-24T22:40:55.848Z"
   },
   {
    "duration": 8,
    "start_time": "2024-10-24T22:40:55.889Z"
   },
   {
    "duration": 13,
    "start_time": "2024-10-24T22:40:55.899Z"
   },
   {
    "duration": 8,
    "start_time": "2024-10-24T22:40:55.914Z"
   },
   {
    "duration": 201,
    "start_time": "2024-10-24T22:40:55.924Z"
   },
   {
    "duration": 174,
    "start_time": "2024-10-24T22:40:56.127Z"
   },
   {
    "duration": 7,
    "start_time": "2024-10-24T22:40:56.305Z"
   },
   {
    "duration": 13,
    "start_time": "2024-10-24T22:40:56.314Z"
   },
   {
    "duration": 129,
    "start_time": "2024-10-24T22:40:56.328Z"
   },
   {
    "duration": 19,
    "start_time": "2024-10-24T22:40:56.459Z"
   },
   {
    "duration": 17,
    "start_time": "2024-10-24T22:40:56.487Z"
   },
   {
    "duration": 151,
    "start_time": "2024-10-24T22:40:56.506Z"
   },
   {
    "duration": 38,
    "start_time": "2024-10-24T22:40:56.661Z"
   },
   {
    "duration": 9,
    "start_time": "2024-10-24T22:40:56.700Z"
   },
   {
    "duration": 7,
    "start_time": "2024-10-24T22:40:56.711Z"
   },
   {
    "duration": 18,
    "start_time": "2024-10-24T22:40:56.720Z"
   },
   {
    "duration": 5,
    "start_time": "2024-10-24T22:40:56.740Z"
   },
   {
    "duration": 6,
    "start_time": "2024-10-24T22:40:56.747Z"
   },
   {
    "duration": 11,
    "start_time": "2024-10-24T22:40:56.786Z"
   },
   {
    "duration": 229,
    "start_time": "2024-10-24T22:40:56.799Z"
   },
   {
    "duration": 0,
    "start_time": "2024-10-24T22:40:57.029Z"
   },
   {
    "duration": 0,
    "start_time": "2024-10-24T22:40:57.032Z"
   },
   {
    "duration": 0,
    "start_time": "2024-10-24T22:40:57.033Z"
   },
   {
    "duration": 1,
    "start_time": "2024-10-24T22:40:57.034Z"
   },
   {
    "duration": 0,
    "start_time": "2024-10-24T22:40:57.036Z"
   },
   {
    "duration": 0,
    "start_time": "2024-10-24T22:40:57.038Z"
   },
   {
    "duration": 0,
    "start_time": "2024-10-24T22:40:57.039Z"
   },
   {
    "duration": 8,
    "start_time": "2024-10-24T22:41:01.497Z"
   },
   {
    "duration": 301,
    "start_time": "2024-10-24T22:41:26.979Z"
   },
   {
    "duration": 293,
    "start_time": "2024-10-24T22:50:21.603Z"
   },
   {
    "duration": 113,
    "start_time": "2024-10-24T22:50:25.719Z"
   },
   {
    "duration": 85,
    "start_time": "2024-10-24T22:50:28.994Z"
   },
   {
    "duration": 24,
    "start_time": "2024-10-24T22:51:32.586Z"
   },
   {
    "duration": 123,
    "start_time": "2024-10-24T22:52:25.202Z"
   },
   {
    "duration": 3,
    "start_time": "2024-10-24T22:52:46.672Z"
   },
   {
    "duration": 198,
    "start_time": "2024-10-24T22:52:46.677Z"
   },
   {
    "duration": 13,
    "start_time": "2024-10-24T22:52:46.877Z"
   },
   {
    "duration": 9,
    "start_time": "2024-10-24T22:52:46.891Z"
   },
   {
    "duration": 9,
    "start_time": "2024-10-24T22:52:46.902Z"
   },
   {
    "duration": 8,
    "start_time": "2024-10-24T22:52:46.913Z"
   },
   {
    "duration": 4,
    "start_time": "2024-10-24T22:52:46.922Z"
   },
   {
    "duration": 20,
    "start_time": "2024-10-24T22:52:46.927Z"
   },
   {
    "duration": 38,
    "start_time": "2024-10-24T22:52:46.949Z"
   },
   {
    "duration": 4,
    "start_time": "2024-10-24T22:52:46.989Z"
   },
   {
    "duration": 15,
    "start_time": "2024-10-24T22:52:46.996Z"
   },
   {
    "duration": 14,
    "start_time": "2024-10-24T22:52:47.012Z"
   },
   {
    "duration": 6,
    "start_time": "2024-10-24T22:52:47.028Z"
   },
   {
    "duration": 16,
    "start_time": "2024-10-24T22:52:47.036Z"
   },
   {
    "duration": 38,
    "start_time": "2024-10-24T22:52:47.055Z"
   },
   {
    "duration": 9,
    "start_time": "2024-10-24T22:52:47.094Z"
   },
   {
    "duration": 6,
    "start_time": "2024-10-24T22:52:47.105Z"
   },
   {
    "duration": 12,
    "start_time": "2024-10-24T22:52:47.113Z"
   },
   {
    "duration": 8,
    "start_time": "2024-10-24T22:52:47.126Z"
   },
   {
    "duration": 188,
    "start_time": "2024-10-24T22:52:47.137Z"
   },
   {
    "duration": 222,
    "start_time": "2024-10-24T22:52:47.329Z"
   },
   {
    "duration": 10,
    "start_time": "2024-10-24T22:52:47.553Z"
   },
   {
    "duration": 21,
    "start_time": "2024-10-24T22:52:47.565Z"
   },
   {
    "duration": 139,
    "start_time": "2024-10-24T22:52:47.588Z"
   },
   {
    "duration": 23,
    "start_time": "2024-10-24T22:52:47.729Z"
   },
   {
    "duration": 18,
    "start_time": "2024-10-24T22:52:47.754Z"
   },
   {
    "duration": 174,
    "start_time": "2024-10-24T22:52:47.774Z"
   },
   {
    "duration": 37,
    "start_time": "2024-10-24T22:52:47.950Z"
   },
   {
    "duration": 9,
    "start_time": "2024-10-24T22:52:47.992Z"
   },
   {
    "duration": 8,
    "start_time": "2024-10-24T22:52:48.003Z"
   },
   {
    "duration": 20,
    "start_time": "2024-10-24T22:52:48.013Z"
   },
   {
    "duration": 5,
    "start_time": "2024-10-24T22:52:48.034Z"
   },
   {
    "duration": 7,
    "start_time": "2024-10-24T22:52:48.041Z"
   },
   {
    "duration": 40,
    "start_time": "2024-10-24T22:52:48.049Z"
   },
   {
    "duration": 13,
    "start_time": "2024-10-24T22:52:48.091Z"
   },
   {
    "duration": 0,
    "start_time": "2024-10-24T22:52:48.105Z"
   },
   {
    "duration": 0,
    "start_time": "2024-10-24T22:52:48.106Z"
   },
   {
    "duration": 0,
    "start_time": "2024-10-24T22:52:48.108Z"
   },
   {
    "duration": 0,
    "start_time": "2024-10-24T22:52:48.109Z"
   },
   {
    "duration": 0,
    "start_time": "2024-10-24T22:52:48.110Z"
   },
   {
    "duration": 0,
    "start_time": "2024-10-24T22:52:48.111Z"
   },
   {
    "duration": 0,
    "start_time": "2024-10-24T22:52:48.112Z"
   },
   {
    "duration": 0,
    "start_time": "2024-10-24T22:52:48.113Z"
   },
   {
    "duration": 31,
    "start_time": "2024-10-24T22:52:50.279Z"
   },
   {
    "duration": 14,
    "start_time": "2024-10-24T22:54:35.767Z"
   },
   {
    "duration": 45,
    "start_time": "2024-10-24T22:54:42.940Z"
   },
   {
    "duration": 228,
    "start_time": "2024-10-24T22:54:44.124Z"
   },
   {
    "duration": 238,
    "start_time": "2024-10-24T22:56:26.518Z"
   },
   {
    "duration": 177,
    "start_time": "2024-10-24T22:56:49.274Z"
   },
   {
    "duration": 7,
    "start_time": "2024-10-24T23:00:21.734Z"
   },
   {
    "duration": 19,
    "start_time": "2024-10-24T23:11:20.030Z"
   },
   {
    "duration": 19,
    "start_time": "2024-10-24T23:13:18.926Z"
   },
   {
    "duration": 3,
    "start_time": "2024-10-24T23:15:16.512Z"
   },
   {
    "duration": 11,
    "start_time": "2024-10-24T23:15:23.320Z"
   },
   {
    "duration": 12,
    "start_time": "2024-10-24T23:21:39.193Z"
   },
   {
    "duration": 10,
    "start_time": "2024-10-24T23:22:04.342Z"
   },
   {
    "duration": 3,
    "start_time": "2024-10-24T23:22:20.015Z"
   },
   {
    "duration": 16,
    "start_time": "2024-10-24T23:23:32.972Z"
   },
   {
    "duration": 17,
    "start_time": "2024-10-24T23:23:46.674Z"
   },
   {
    "duration": 7,
    "start_time": "2024-10-24T23:29:45.613Z"
   },
   {
    "duration": 16,
    "start_time": "2024-10-24T23:29:48.144Z"
   },
   {
    "duration": 6,
    "start_time": "2024-10-24T23:30:03.435Z"
   },
   {
    "duration": 215,
    "start_time": "2024-10-24T23:30:04.259Z"
   },
   {
    "duration": 21,
    "start_time": "2024-10-24T23:30:16.392Z"
   },
   {
    "duration": 380,
    "start_time": "2024-10-24T23:30:42.399Z"
   },
   {
    "duration": 235,
    "start_time": "2024-10-24T23:31:14.699Z"
   },
   {
    "duration": 6,
    "start_time": "2024-10-24T23:32:37.781Z"
   },
   {
    "duration": 8,
    "start_time": "2024-10-24T23:32:39.392Z"
   },
   {
    "duration": 2499,
    "start_time": "2024-10-25T21:32:18.313Z"
   },
   {
    "duration": 218,
    "start_time": "2024-10-25T21:32:20.814Z"
   },
   {
    "duration": 10,
    "start_time": "2024-10-25T21:32:21.034Z"
   },
   {
    "duration": 9,
    "start_time": "2024-10-25T21:32:21.046Z"
   },
   {
    "duration": 9,
    "start_time": "2024-10-25T21:32:21.056Z"
   },
   {
    "duration": 27,
    "start_time": "2024-10-25T21:32:21.066Z"
   },
   {
    "duration": 4,
    "start_time": "2024-10-25T21:32:21.095Z"
   },
   {
    "duration": 15,
    "start_time": "2024-10-25T21:32:21.101Z"
   },
   {
    "duration": 9,
    "start_time": "2024-10-25T21:32:21.117Z"
   },
   {
    "duration": 3,
    "start_time": "2024-10-25T21:32:21.129Z"
   },
   {
    "duration": 52,
    "start_time": "2024-10-25T21:32:21.134Z"
   },
   {
    "duration": 14,
    "start_time": "2024-10-25T21:32:21.189Z"
   },
   {
    "duration": 7,
    "start_time": "2024-10-25T21:32:21.206Z"
   },
   {
    "duration": 13,
    "start_time": "2024-10-25T21:32:21.215Z"
   },
   {
    "duration": 8,
    "start_time": "2024-10-25T21:32:21.230Z"
   },
   {
    "duration": 8,
    "start_time": "2024-10-25T21:32:21.241Z"
   },
   {
    "duration": 6,
    "start_time": "2024-10-25T21:32:21.252Z"
   },
   {
    "duration": 12,
    "start_time": "2024-10-25T21:32:21.287Z"
   },
   {
    "duration": 8,
    "start_time": "2024-10-25T21:32:21.301Z"
   },
   {
    "duration": 184,
    "start_time": "2024-10-25T21:32:21.310Z"
   },
   {
    "duration": 153,
    "start_time": "2024-10-25T21:32:21.496Z"
   },
   {
    "duration": 6,
    "start_time": "2024-10-25T21:32:21.651Z"
   },
   {
    "duration": 14,
    "start_time": "2024-10-25T21:32:21.659Z"
   },
   {
    "duration": 121,
    "start_time": "2024-10-25T21:32:21.687Z"
   },
   {
    "duration": 18,
    "start_time": "2024-10-25T21:32:21.810Z"
   },
   {
    "duration": 18,
    "start_time": "2024-10-25T21:32:21.830Z"
   },
   {
    "duration": 169,
    "start_time": "2024-10-25T21:32:21.849Z"
   },
   {
    "duration": 30,
    "start_time": "2024-10-25T21:32:22.022Z"
   },
   {
    "duration": 10,
    "start_time": "2024-10-25T21:32:22.054Z"
   },
   {
    "duration": 27,
    "start_time": "2024-10-25T21:32:22.065Z"
   },
   {
    "duration": 20,
    "start_time": "2024-10-25T21:32:22.093Z"
   },
   {
    "duration": 5,
    "start_time": "2024-10-25T21:32:22.114Z"
   },
   {
    "duration": 7,
    "start_time": "2024-10-25T21:32:22.121Z"
   },
   {
    "duration": 12,
    "start_time": "2024-10-25T21:32:22.130Z"
   },
   {
    "duration": 5,
    "start_time": "2024-10-25T21:32:22.144Z"
   },
   {
    "duration": 38,
    "start_time": "2024-10-25T21:32:22.152Z"
   },
   {
    "duration": 251,
    "start_time": "2024-10-25T21:32:22.192Z"
   },
   {
    "duration": 293,
    "start_time": "2024-10-25T21:32:22.445Z"
   },
   {
    "duration": 8,
    "start_time": "2024-10-25T21:32:22.741Z"
   },
   {
    "duration": 114,
    "start_time": "2024-10-25T21:32:22.751Z"
   },
   {
    "duration": 345,
    "start_time": "2024-10-25T21:32:22.867Z"
   },
   {
    "duration": 233,
    "start_time": "2024-10-25T21:32:23.214Z"
   },
   {
    "duration": 9,
    "start_time": "2024-10-25T21:32:23.449Z"
   },
   {
    "duration": 53,
    "start_time": "2024-10-25T21:32:23.460Z"
   },
   {
    "duration": 230,
    "start_time": "2024-10-25T21:32:23.514Z"
   },
   {
    "duration": 8,
    "start_time": "2024-10-25T21:32:23.746Z"
   },
   {
    "duration": 14,
    "start_time": "2024-10-25T21:32:23.755Z"
   },
   {
    "duration": 7,
    "start_time": "2024-10-25T21:32:27.404Z"
   },
   {
    "duration": 2499,
    "start_time": "2024-10-26T12:38:35.985Z"
   },
   {
    "duration": 210,
    "start_time": "2024-10-26T12:38:38.487Z"
   },
   {
    "duration": 10,
    "start_time": "2024-10-26T12:38:38.699Z"
   },
   {
    "duration": 9,
    "start_time": "2024-10-26T12:38:38.711Z"
   },
   {
    "duration": 8,
    "start_time": "2024-10-26T12:38:38.722Z"
   },
   {
    "duration": 16,
    "start_time": "2024-10-26T12:38:38.731Z"
   },
   {
    "duration": 4,
    "start_time": "2024-10-26T12:38:38.749Z"
   },
   {
    "duration": 15,
    "start_time": "2024-10-26T12:38:38.754Z"
   },
   {
    "duration": 9,
    "start_time": "2024-10-26T12:38:38.771Z"
   },
   {
    "duration": 4,
    "start_time": "2024-10-26T12:38:38.781Z"
   },
   {
    "duration": 18,
    "start_time": "2024-10-26T12:38:38.787Z"
   },
   {
    "duration": 44,
    "start_time": "2024-10-26T12:38:38.806Z"
   },
   {
    "duration": 7,
    "start_time": "2024-10-26T12:38:38.852Z"
   },
   {
    "duration": 13,
    "start_time": "2024-10-26T12:38:38.864Z"
   },
   {
    "duration": 8,
    "start_time": "2024-10-26T12:38:38.878Z"
   },
   {
    "duration": 7,
    "start_time": "2024-10-26T12:38:38.887Z"
   },
   {
    "duration": 6,
    "start_time": "2024-10-26T12:38:38.895Z"
   },
   {
    "duration": 48,
    "start_time": "2024-10-26T12:38:38.903Z"
   },
   {
    "duration": 8,
    "start_time": "2024-10-26T12:38:38.953Z"
   },
   {
    "duration": 181,
    "start_time": "2024-10-26T12:38:38.962Z"
   },
   {
    "duration": 155,
    "start_time": "2024-10-26T12:38:39.145Z"
   },
   {
    "duration": 6,
    "start_time": "2024-10-26T12:38:39.301Z"
   },
   {
    "duration": 13,
    "start_time": "2024-10-26T12:38:39.309Z"
   },
   {
    "duration": 121,
    "start_time": "2024-10-26T12:38:39.342Z"
   },
   {
    "duration": 19,
    "start_time": "2024-10-26T12:38:39.464Z"
   },
   {
    "duration": 16,
    "start_time": "2024-10-26T12:38:39.485Z"
   },
   {
    "duration": 161,
    "start_time": "2024-10-26T12:38:39.503Z"
   },
   {
    "duration": 31,
    "start_time": "2024-10-26T12:38:39.666Z"
   },
   {
    "duration": 10,
    "start_time": "2024-10-26T12:38:39.698Z"
   },
   {
    "duration": 6,
    "start_time": "2024-10-26T12:38:39.710Z"
   },
   {
    "duration": 41,
    "start_time": "2024-10-26T12:38:39.718Z"
   },
   {
    "duration": 4,
    "start_time": "2024-10-26T12:38:42.289Z"
   },
   {
    "duration": 7,
    "start_time": "2024-10-26T12:38:42.931Z"
   },
   {
    "duration": 5,
    "start_time": "2024-10-26T13:08:07.149Z"
   },
   {
    "duration": 5,
    "start_time": "2024-10-26T13:08:19.581Z"
   },
   {
    "duration": 2638,
    "start_time": "2024-10-26T19:31:00.549Z"
   },
   {
    "duration": 217,
    "start_time": "2024-10-26T19:31:03.190Z"
   },
   {
    "duration": 9,
    "start_time": "2024-10-26T19:31:03.409Z"
   },
   {
    "duration": 10,
    "start_time": "2024-10-26T19:31:03.420Z"
   },
   {
    "duration": 24,
    "start_time": "2024-10-26T19:31:03.432Z"
   },
   {
    "duration": 14,
    "start_time": "2024-10-26T19:31:03.457Z"
   },
   {
    "duration": 4,
    "start_time": "2024-10-26T19:31:03.473Z"
   },
   {
    "duration": 20,
    "start_time": "2024-10-26T19:31:03.479Z"
   },
   {
    "duration": 11,
    "start_time": "2024-10-26T19:31:03.501Z"
   },
   {
    "duration": 4,
    "start_time": "2024-10-26T19:31:03.516Z"
   },
   {
    "duration": 16,
    "start_time": "2024-10-26T19:31:03.522Z"
   },
   {
    "duration": 43,
    "start_time": "2024-10-26T19:31:03.540Z"
   },
   {
    "duration": 10,
    "start_time": "2024-10-26T19:31:03.585Z"
   },
   {
    "duration": 18,
    "start_time": "2024-10-26T19:31:03.597Z"
   },
   {
    "duration": 12,
    "start_time": "2024-10-26T19:31:03.617Z"
   },
   {
    "duration": 8,
    "start_time": "2024-10-26T19:31:03.631Z"
   },
   {
    "duration": 6,
    "start_time": "2024-10-26T19:31:03.670Z"
   },
   {
    "duration": 12,
    "start_time": "2024-10-26T19:31:03.678Z"
   },
   {
    "duration": 8,
    "start_time": "2024-10-26T19:31:03.692Z"
   },
   {
    "duration": 205,
    "start_time": "2024-10-26T19:31:03.702Z"
   },
   {
    "duration": 160,
    "start_time": "2024-10-26T19:31:03.909Z"
   },
   {
    "duration": 6,
    "start_time": "2024-10-26T19:31:04.071Z"
   },
   {
    "duration": 15,
    "start_time": "2024-10-26T19:31:04.079Z"
   },
   {
    "duration": 156,
    "start_time": "2024-10-26T19:31:04.095Z"
   },
   {
    "duration": 32,
    "start_time": "2024-10-26T19:31:04.254Z"
   },
   {
    "duration": 18,
    "start_time": "2024-10-26T19:31:04.289Z"
   },
   {
    "duration": 161,
    "start_time": "2024-10-26T19:31:04.309Z"
   },
   {
    "duration": 31,
    "start_time": "2024-10-26T19:31:04.475Z"
   },
   {
    "duration": 12,
    "start_time": "2024-10-26T19:31:04.507Z"
   },
   {
    "duration": 7,
    "start_time": "2024-10-26T19:31:04.520Z"
   },
   {
    "duration": 45,
    "start_time": "2024-10-26T19:31:04.529Z"
   },
   {
    "duration": 5,
    "start_time": "2024-10-26T19:31:04.576Z"
   },
   {
    "duration": 7,
    "start_time": "2024-10-26T19:31:04.583Z"
   },
   {
    "duration": 14,
    "start_time": "2024-10-26T19:31:04.592Z"
   },
   {
    "duration": 7,
    "start_time": "2024-10-26T19:31:04.608Z"
   },
   {
    "duration": 7,
    "start_time": "2024-10-26T19:31:04.616Z"
   },
   {
    "duration": 271,
    "start_time": "2024-10-26T19:31:04.624Z"
   },
   {
    "duration": 300,
    "start_time": "2024-10-26T19:31:04.897Z"
   },
   {
    "duration": 14,
    "start_time": "2024-10-26T19:31:05.199Z"
   },
   {
    "duration": 167,
    "start_time": "2024-10-26T19:31:05.216Z"
   },
   {
    "duration": 214,
    "start_time": "2024-10-26T19:33:45.636Z"
   },
   {
    "duration": 2,
    "start_time": "2024-10-26T19:40:37.287Z"
   },
   {
    "duration": 156,
    "start_time": "2024-10-26T19:40:37.292Z"
   },
   {
    "duration": 8,
    "start_time": "2024-10-26T19:40:37.451Z"
   },
   {
    "duration": 7,
    "start_time": "2024-10-26T19:40:37.470Z"
   },
   {
    "duration": 7,
    "start_time": "2024-10-26T19:40:37.479Z"
   },
   {
    "duration": 8,
    "start_time": "2024-10-26T19:40:37.488Z"
   },
   {
    "duration": 4,
    "start_time": "2024-10-26T19:40:37.497Z"
   },
   {
    "duration": 14,
    "start_time": "2024-10-26T19:40:37.502Z"
   },
   {
    "duration": 8,
    "start_time": "2024-10-26T19:40:37.518Z"
   },
   {
    "duration": 3,
    "start_time": "2024-10-26T19:40:37.527Z"
   },
   {
    "duration": 17,
    "start_time": "2024-10-26T19:40:37.571Z"
   },
   {
    "duration": 12,
    "start_time": "2024-10-26T19:40:37.590Z"
   },
   {
    "duration": 7,
    "start_time": "2024-10-26T19:40:37.604Z"
   },
   {
    "duration": 13,
    "start_time": "2024-10-26T19:40:37.613Z"
   },
   {
    "duration": 8,
    "start_time": "2024-10-26T19:40:37.629Z"
   },
   {
    "duration": 10,
    "start_time": "2024-10-26T19:40:37.670Z"
   },
   {
    "duration": 6,
    "start_time": "2024-10-26T19:40:37.682Z"
   },
   {
    "duration": 12,
    "start_time": "2024-10-26T19:40:37.689Z"
   },
   {
    "duration": 8,
    "start_time": "2024-10-26T19:40:37.702Z"
   },
   {
    "duration": 184,
    "start_time": "2024-10-26T19:40:37.712Z"
   },
   {
    "duration": 146,
    "start_time": "2024-10-26T19:40:37.897Z"
   },
   {
    "duration": 7,
    "start_time": "2024-10-26T19:40:38.045Z"
   },
   {
    "duration": 22,
    "start_time": "2024-10-26T19:40:38.054Z"
   },
   {
    "duration": 125,
    "start_time": "2024-10-26T19:40:38.077Z"
   },
   {
    "duration": 18,
    "start_time": "2024-10-26T19:40:38.204Z"
   },
   {
    "duration": 18,
    "start_time": "2024-10-26T19:40:38.223Z"
   },
   {
    "duration": 191,
    "start_time": "2024-10-26T19:40:38.242Z"
   },
   {
    "duration": 37,
    "start_time": "2024-10-26T19:40:38.435Z"
   },
   {
    "duration": 10,
    "start_time": "2024-10-26T19:40:38.473Z"
   },
   {
    "duration": 7,
    "start_time": "2024-10-26T19:40:38.484Z"
   },
   {
    "duration": 18,
    "start_time": "2024-10-26T19:40:38.492Z"
   },
   {
    "duration": 6,
    "start_time": "2024-10-26T19:40:38.512Z"
   },
   {
    "duration": 5,
    "start_time": "2024-10-26T19:40:38.519Z"
   },
   {
    "duration": 45,
    "start_time": "2024-10-26T19:40:38.526Z"
   },
   {
    "duration": 7,
    "start_time": "2024-10-26T19:40:38.572Z"
   },
   {
    "duration": 6,
    "start_time": "2024-10-26T19:40:38.580Z"
   },
   {
    "duration": 234,
    "start_time": "2024-10-26T19:40:38.587Z"
   },
   {
    "duration": 293,
    "start_time": "2024-10-26T19:40:38.822Z"
   },
   {
    "duration": 8,
    "start_time": "2024-10-26T19:40:39.117Z"
   },
   {
    "duration": 113,
    "start_time": "2024-10-26T19:40:39.126Z"
   },
   {
    "duration": 220,
    "start_time": "2024-10-26T19:40:39.241Z"
   },
   {
    "duration": 220,
    "start_time": "2024-10-26T19:40:39.470Z"
   },
   {
    "duration": 8,
    "start_time": "2024-10-26T19:40:39.692Z"
   },
   {
    "duration": 320,
    "start_time": "2024-10-26T19:40:39.702Z"
   },
   {
    "duration": 0,
    "start_time": "2024-10-26T19:40:40.024Z"
   },
   {
    "duration": 0,
    "start_time": "2024-10-26T19:40:40.025Z"
   },
   {
    "duration": 124,
    "start_time": "2024-10-26T19:40:42.126Z"
   },
   {
    "duration": 14,
    "start_time": "2024-10-26T19:41:19.458Z"
   },
   {
    "duration": 13,
    "start_time": "2024-10-26T19:42:38.158Z"
   },
   {
    "duration": 13,
    "start_time": "2024-10-26T19:42:49.500Z"
   },
   {
    "duration": 54,
    "start_time": "2024-10-26T19:42:59.809Z"
   },
   {
    "duration": 50,
    "start_time": "2024-10-26T19:43:04.733Z"
   },
   {
    "duration": 40,
    "start_time": "2024-10-26T19:43:38.988Z"
   },
   {
    "duration": 219,
    "start_time": "2024-10-26T19:43:42.276Z"
   },
   {
    "duration": 216,
    "start_time": "2024-10-26T19:43:59.492Z"
   },
   {
    "duration": 14,
    "start_time": "2024-10-26T19:44:23.618Z"
   },
   {
    "duration": 2623,
    "start_time": "2024-10-26T20:18:29.281Z"
   },
   {
    "duration": 240,
    "start_time": "2024-10-26T20:18:31.907Z"
   },
   {
    "duration": 13,
    "start_time": "2024-10-26T20:18:32.149Z"
   },
   {
    "duration": 17,
    "start_time": "2024-10-26T20:18:32.165Z"
   },
   {
    "duration": 8,
    "start_time": "2024-10-26T20:18:32.184Z"
   },
   {
    "duration": 10,
    "start_time": "2024-10-26T20:18:32.193Z"
   },
   {
    "duration": 3,
    "start_time": "2024-10-26T20:18:32.205Z"
   },
   {
    "duration": 14,
    "start_time": "2024-10-26T20:18:32.210Z"
   },
   {
    "duration": 8,
    "start_time": "2024-10-26T20:18:32.226Z"
   },
   {
    "duration": 3,
    "start_time": "2024-10-26T20:18:32.237Z"
   },
   {
    "duration": 46,
    "start_time": "2024-10-26T20:18:32.242Z"
   },
   {
    "duration": 12,
    "start_time": "2024-10-26T20:18:32.290Z"
   },
   {
    "duration": 7,
    "start_time": "2024-10-26T20:18:32.303Z"
   },
   {
    "duration": 13,
    "start_time": "2024-10-26T20:18:32.312Z"
   },
   {
    "duration": 19,
    "start_time": "2024-10-26T20:18:32.326Z"
   },
   {
    "duration": 9,
    "start_time": "2024-10-26T20:18:32.369Z"
   },
   {
    "duration": 6,
    "start_time": "2024-10-26T20:18:32.379Z"
   },
   {
    "duration": 11,
    "start_time": "2024-10-26T20:18:32.388Z"
   },
   {
    "duration": 8,
    "start_time": "2024-10-26T20:18:32.401Z"
   },
   {
    "duration": 188,
    "start_time": "2024-10-26T20:18:32.410Z"
   },
   {
    "duration": 149,
    "start_time": "2024-10-26T20:18:32.600Z"
   },
   {
    "duration": 7,
    "start_time": "2024-10-26T20:18:32.750Z"
   },
   {
    "duration": 22,
    "start_time": "2024-10-26T20:18:32.758Z"
   },
   {
    "duration": 137,
    "start_time": "2024-10-26T20:18:32.782Z"
   },
   {
    "duration": 19,
    "start_time": "2024-10-26T20:18:32.920Z"
   },
   {
    "duration": 31,
    "start_time": "2024-10-26T20:18:32.941Z"
   },
   {
    "duration": 153,
    "start_time": "2024-10-26T20:18:32.974Z"
   },
   {
    "duration": 29,
    "start_time": "2024-10-26T20:18:33.131Z"
   },
   {
    "duration": 16,
    "start_time": "2024-10-26T20:18:33.162Z"
   },
   {
    "duration": 7,
    "start_time": "2024-10-26T20:18:33.179Z"
   },
   {
    "duration": 19,
    "start_time": "2024-10-26T20:18:33.189Z"
   },
   {
    "duration": 6,
    "start_time": "2024-10-26T20:18:33.211Z"
   },
   {
    "duration": 6,
    "start_time": "2024-10-26T20:18:33.220Z"
   },
   {
    "duration": 80,
    "start_time": "2024-10-26T20:18:33.228Z"
   },
   {
    "duration": 12,
    "start_time": "2024-10-26T20:18:33.310Z"
   },
   {
    "duration": 7,
    "start_time": "2024-10-26T20:18:33.323Z"
   },
   {
    "duration": 4,
    "start_time": "2024-10-26T20:18:33.333Z"
   },
   {
    "duration": 232,
    "start_time": "2024-10-26T20:18:33.339Z"
   },
   {
    "duration": 299,
    "start_time": "2024-10-26T20:18:33.573Z"
   },
   {
    "duration": 9,
    "start_time": "2024-10-26T20:18:33.874Z"
   },
   {
    "duration": 124,
    "start_time": "2024-10-26T20:18:33.885Z"
   },
   {
    "duration": 225,
    "start_time": "2024-10-26T20:18:34.010Z"
   },
   {
    "duration": 285,
    "start_time": "2024-10-26T20:18:34.237Z"
   },
   {
    "duration": 7,
    "start_time": "2024-10-26T20:18:34.524Z"
   },
   {
    "duration": 234,
    "start_time": "2024-10-26T20:18:34.533Z"
   },
   {
    "duration": 8,
    "start_time": "2024-10-26T20:18:34.770Z"
   },
   {
    "duration": 14,
    "start_time": "2024-10-26T20:18:34.779Z"
   },
   {
    "duration": 7,
    "start_time": "2024-10-26T20:18:34.794Z"
   },
   {
    "duration": 5,
    "start_time": "2024-10-26T20:18:34.802Z"
   },
   {
    "duration": 183,
    "start_time": "2024-10-26T20:35:37.739Z"
   },
   {
    "duration": 19,
    "start_time": "2024-10-26T20:36:04.142Z"
   },
   {
    "duration": 2796,
    "start_time": "2024-10-26T20:36:08.544Z"
   },
   {
    "duration": 291,
    "start_time": "2024-10-26T20:36:11.342Z"
   },
   {
    "duration": 10,
    "start_time": "2024-10-26T20:36:11.635Z"
   },
   {
    "duration": 10,
    "start_time": "2024-10-26T20:36:11.647Z"
   },
   {
    "duration": 8,
    "start_time": "2024-10-26T20:36:11.659Z"
   },
   {
    "duration": 8,
    "start_time": "2024-10-26T20:36:11.669Z"
   },
   {
    "duration": 3,
    "start_time": "2024-10-26T20:36:11.679Z"
   },
   {
    "duration": 48,
    "start_time": "2024-10-26T20:36:11.684Z"
   },
   {
    "duration": 9,
    "start_time": "2024-10-26T20:36:11.734Z"
   },
   {
    "duration": 3,
    "start_time": "2024-10-26T20:36:11.747Z"
   },
   {
    "duration": 17,
    "start_time": "2024-10-26T20:36:11.752Z"
   },
   {
    "duration": 13,
    "start_time": "2024-10-26T20:36:11.771Z"
   },
   {
    "duration": 48,
    "start_time": "2024-10-26T20:36:11.786Z"
   },
   {
    "duration": 14,
    "start_time": "2024-10-26T20:36:11.835Z"
   },
   {
    "duration": 9,
    "start_time": "2024-10-26T20:36:11.851Z"
   },
   {
    "duration": 8,
    "start_time": "2024-10-26T20:36:11.861Z"
   },
   {
    "duration": 7,
    "start_time": "2024-10-26T20:36:11.870Z"
   },
   {
    "duration": 12,
    "start_time": "2024-10-26T20:36:11.878Z"
   },
   {
    "duration": 9,
    "start_time": "2024-10-26T20:36:11.912Z"
   },
   {
    "duration": 166,
    "start_time": "2024-10-26T20:36:11.922Z"
   },
   {
    "duration": 167,
    "start_time": "2024-10-26T20:36:12.089Z"
   },
   {
    "duration": 8,
    "start_time": "2024-10-26T20:36:12.257Z"
   },
   {
    "duration": 16,
    "start_time": "2024-10-26T20:36:12.267Z"
   },
   {
    "duration": 144,
    "start_time": "2024-10-26T20:36:12.284Z"
   },
   {
    "duration": 21,
    "start_time": "2024-10-26T20:36:12.430Z"
   },
   {
    "duration": 18,
    "start_time": "2024-10-26T20:36:12.453Z"
   },
   {
    "duration": 180,
    "start_time": "2024-10-26T20:36:12.472Z"
   },
   {
    "duration": 31,
    "start_time": "2024-10-26T20:36:12.657Z"
   },
   {
    "duration": 43,
    "start_time": "2024-10-26T20:36:12.689Z"
   },
   {
    "duration": 7,
    "start_time": "2024-10-26T20:36:12.737Z"
   },
   {
    "duration": 22,
    "start_time": "2024-10-26T20:36:12.746Z"
   },
   {
    "duration": 4,
    "start_time": "2024-10-26T20:36:12.769Z"
   },
   {
    "duration": 8,
    "start_time": "2024-10-26T20:36:12.775Z"
   },
   {
    "duration": 73,
    "start_time": "2024-10-26T20:36:12.785Z"
   },
   {
    "duration": 12,
    "start_time": "2024-10-26T20:36:12.860Z"
   },
   {
    "duration": 6,
    "start_time": "2024-10-26T20:36:12.873Z"
   },
   {
    "duration": 5,
    "start_time": "2024-10-26T20:36:12.882Z"
   },
   {
    "duration": 260,
    "start_time": "2024-10-26T20:36:12.889Z"
   },
   {
    "duration": 388,
    "start_time": "2024-10-26T20:36:13.150Z"
   },
   {
    "duration": 9,
    "start_time": "2024-10-26T20:36:13.543Z"
   },
   {
    "duration": 109,
    "start_time": "2024-10-26T20:36:13.554Z"
   },
   {
    "duration": 224,
    "start_time": "2024-10-26T20:36:13.667Z"
   },
   {
    "duration": 248,
    "start_time": "2024-10-26T20:36:13.893Z"
   },
   {
    "duration": 8,
    "start_time": "2024-10-26T20:36:14.142Z"
   },
   {
    "duration": 320,
    "start_time": "2024-10-26T20:36:14.465Z"
   },
   {
    "duration": 308,
    "start_time": "2024-10-26T20:37:24.820Z"
   },
   {
    "duration": 168,
    "start_time": "2024-10-26T21:30:51.716Z"
   },
   {
    "duration": 2619,
    "start_time": "2024-10-26T21:30:57.292Z"
   },
   {
    "duration": 257,
    "start_time": "2024-10-26T21:30:59.913Z"
   },
   {
    "duration": 9,
    "start_time": "2024-10-26T21:31:00.172Z"
   },
   {
    "duration": 11,
    "start_time": "2024-10-26T21:31:00.183Z"
   },
   {
    "duration": 10,
    "start_time": "2024-10-26T21:31:00.209Z"
   },
   {
    "duration": 10,
    "start_time": "2024-10-26T21:31:00.221Z"
   },
   {
    "duration": 5,
    "start_time": "2024-10-26T21:31:00.233Z"
   },
   {
    "duration": 6,
    "start_time": "2024-10-26T21:31:01.823Z"
   },
   {
    "duration": 4,
    "start_time": "2024-10-26T21:31:12.139Z"
   },
   {
    "duration": 75,
    "start_time": "2024-10-26T21:32:19.177Z"
   },
   {
    "duration": 5,
    "start_time": "2024-10-26T21:32:31.594Z"
   },
   {
    "duration": 5,
    "start_time": "2024-10-26T21:32:36.767Z"
   },
   {
    "duration": 3,
    "start_time": "2024-10-26T21:39:25.403Z"
   },
   {
    "duration": 228,
    "start_time": "2024-10-26T21:39:25.408Z"
   },
   {
    "duration": 11,
    "start_time": "2024-10-26T21:39:25.638Z"
   },
   {
    "duration": 8,
    "start_time": "2024-10-26T21:39:25.651Z"
   },
   {
    "duration": 8,
    "start_time": "2024-10-26T21:39:25.661Z"
   },
   {
    "duration": 8,
    "start_time": "2024-10-26T21:39:25.671Z"
   },
   {
    "duration": 29,
    "start_time": "2024-10-26T21:39:25.680Z"
   },
   {
    "duration": 5,
    "start_time": "2024-10-26T21:39:25.710Z"
   },
   {
    "duration": 6,
    "start_time": "2024-10-26T21:39:25.716Z"
   },
   {
    "duration": 21,
    "start_time": "2024-10-26T21:39:25.724Z"
   },
   {
    "duration": 10,
    "start_time": "2024-10-26T21:39:25.749Z"
   },
   {
    "duration": 4,
    "start_time": "2024-10-26T21:39:25.761Z"
   },
   {
    "duration": 49,
    "start_time": "2024-10-26T21:39:25.768Z"
   },
   {
    "duration": 16,
    "start_time": "2024-10-26T21:39:25.819Z"
   },
   {
    "duration": 8,
    "start_time": "2024-10-26T21:39:25.838Z"
   },
   {
    "duration": 16,
    "start_time": "2024-10-26T21:39:25.849Z"
   },
   {
    "duration": 11,
    "start_time": "2024-10-26T21:39:25.867Z"
   },
   {
    "duration": 8,
    "start_time": "2024-10-26T21:39:25.909Z"
   },
   {
    "duration": 9,
    "start_time": "2024-10-26T21:39:25.919Z"
   },
   {
    "duration": 18,
    "start_time": "2024-10-26T21:39:25.930Z"
   },
   {
    "duration": 9,
    "start_time": "2024-10-26T21:39:25.950Z"
   },
   {
    "duration": 259,
    "start_time": "2024-10-26T21:39:25.961Z"
   },
   {
    "duration": 167,
    "start_time": "2024-10-26T21:39:26.223Z"
   },
   {
    "duration": 6,
    "start_time": "2024-10-26T21:39:26.392Z"
   },
   {
    "duration": 17,
    "start_time": "2024-10-26T21:39:26.411Z"
   },
   {
    "duration": 133,
    "start_time": "2024-10-26T21:39:26.430Z"
   },
   {
    "duration": 19,
    "start_time": "2024-10-26T21:39:26.566Z"
   },
   {
    "duration": 164,
    "start_time": "2024-10-26T21:39:26.586Z"
   },
   {
    "duration": 30,
    "start_time": "2024-10-26T21:39:26.755Z"
   },
   {
    "duration": 23,
    "start_time": "2024-10-26T21:39:26.787Z"
   },
   {
    "duration": 7,
    "start_time": "2024-10-26T21:39:26.812Z"
   },
   {
    "duration": 27,
    "start_time": "2024-10-26T21:39:26.821Z"
   },
   {
    "duration": 7,
    "start_time": "2024-10-26T21:39:28.715Z"
   },
   {
    "duration": 6,
    "start_time": "2024-10-26T21:41:29.695Z"
   },
   {
    "duration": 8,
    "start_time": "2024-10-26T21:41:33.889Z"
   },
   {
    "duration": 4,
    "start_time": "2024-10-26T21:50:22.933Z"
   },
   {
    "duration": 203,
    "start_time": "2024-10-26T21:50:22.940Z"
   },
   {
    "duration": 10,
    "start_time": "2024-10-26T21:50:23.145Z"
   },
   {
    "duration": 8,
    "start_time": "2024-10-26T21:50:23.158Z"
   },
   {
    "duration": 9,
    "start_time": "2024-10-26T21:50:23.168Z"
   },
   {
    "duration": 10,
    "start_time": "2024-10-26T21:50:23.179Z"
   },
   {
    "duration": 25,
    "start_time": "2024-10-26T21:50:23.191Z"
   },
   {
    "duration": 10,
    "start_time": "2024-10-26T21:50:23.218Z"
   },
   {
    "duration": 11,
    "start_time": "2024-10-26T21:50:23.231Z"
   },
   {
    "duration": 17,
    "start_time": "2024-10-26T21:50:23.245Z"
   },
   {
    "duration": 10,
    "start_time": "2024-10-26T21:50:23.264Z"
   },
   {
    "duration": 3,
    "start_time": "2024-10-26T21:50:23.276Z"
   },
   {
    "duration": 55,
    "start_time": "2024-10-26T21:50:23.281Z"
   },
   {
    "duration": 12,
    "start_time": "2024-10-26T21:50:23.338Z"
   },
   {
    "duration": 8,
    "start_time": "2024-10-26T21:50:23.351Z"
   },
   {
    "duration": 15,
    "start_time": "2024-10-26T21:50:23.361Z"
   },
   {
    "duration": 10,
    "start_time": "2024-10-26T21:50:23.378Z"
   },
   {
    "duration": 40,
    "start_time": "2024-10-26T21:50:23.390Z"
   },
   {
    "duration": 11,
    "start_time": "2024-10-26T21:50:23.432Z"
   },
   {
    "duration": 13,
    "start_time": "2024-10-26T21:50:23.445Z"
   },
   {
    "duration": 8,
    "start_time": "2024-10-26T21:50:23.460Z"
   },
   {
    "duration": 194,
    "start_time": "2024-10-26T21:50:23.470Z"
   },
   {
    "duration": 171,
    "start_time": "2024-10-26T21:50:23.666Z"
   },
   {
    "duration": 6,
    "start_time": "2024-10-26T21:50:23.841Z"
   },
   {
    "duration": 14,
    "start_time": "2024-10-26T21:50:23.853Z"
   },
   {
    "duration": 156,
    "start_time": "2024-10-26T21:50:23.868Z"
   },
   {
    "duration": 24,
    "start_time": "2024-10-26T21:50:24.025Z"
   },
   {
    "duration": 167,
    "start_time": "2024-10-26T21:50:24.053Z"
   },
   {
    "duration": 33,
    "start_time": "2024-10-26T21:50:24.225Z"
   },
   {
    "duration": 9,
    "start_time": "2024-10-26T21:50:24.261Z"
   },
   {
    "duration": 8,
    "start_time": "2024-10-26T21:50:24.272Z"
   },
   {
    "duration": 41,
    "start_time": "2024-10-26T21:50:24.283Z"
   },
   {
    "duration": 8,
    "start_time": "2024-10-26T21:50:24.325Z"
   },
   {
    "duration": 6,
    "start_time": "2024-10-26T21:50:24.340Z"
   },
   {
    "duration": 50,
    "start_time": "2024-10-26T21:50:24.347Z"
   },
   {
    "duration": 34,
    "start_time": "2024-10-26T21:50:24.399Z"
   },
   {
    "duration": 6,
    "start_time": "2024-10-26T21:50:24.435Z"
   },
   {
    "duration": 5,
    "start_time": "2024-10-26T21:50:24.443Z"
   },
   {
    "duration": 324,
    "start_time": "2024-10-26T21:50:24.449Z"
   },
   {
    "duration": 329,
    "start_time": "2024-10-26T21:50:24.774Z"
   },
   {
    "duration": 16,
    "start_time": "2024-10-26T21:50:25.518Z"
   },
   {
    "duration": 39,
    "start_time": "2024-10-26T21:51:47.305Z"
   },
   {
    "duration": 20,
    "start_time": "2024-10-26T21:52:13.704Z"
   },
   {
    "duration": 17,
    "start_time": "2024-10-26T21:55:43.754Z"
   },
   {
    "duration": 115,
    "start_time": "2024-10-26T21:55:52.204Z"
   },
   {
    "duration": 2654,
    "start_time": "2024-10-27T14:55:17.403Z"
   },
   {
    "duration": 215,
    "start_time": "2024-10-27T14:55:20.059Z"
   },
   {
    "duration": 10,
    "start_time": "2024-10-27T14:55:20.276Z"
   },
   {
    "duration": 9,
    "start_time": "2024-10-27T14:55:20.289Z"
   },
   {
    "duration": 11,
    "start_time": "2024-10-27T14:55:20.300Z"
   },
   {
    "duration": 7,
    "start_time": "2024-10-27T14:55:20.313Z"
   },
   {
    "duration": 4,
    "start_time": "2024-10-27T14:55:20.322Z"
   },
   {
    "duration": 5,
    "start_time": "2024-10-27T14:55:20.327Z"
   },
   {
    "duration": 5,
    "start_time": "2024-10-27T14:55:20.333Z"
   },
   {
    "duration": 15,
    "start_time": "2024-10-27T14:55:20.341Z"
   },
   {
    "duration": 9,
    "start_time": "2024-10-27T14:55:20.357Z"
   },
   {
    "duration": 42,
    "start_time": "2024-10-27T14:55:20.368Z"
   },
   {
    "duration": 19,
    "start_time": "2024-10-27T14:55:20.412Z"
   },
   {
    "duration": 13,
    "start_time": "2024-10-27T14:55:20.433Z"
   },
   {
    "duration": 8,
    "start_time": "2024-10-27T14:55:20.447Z"
   },
   {
    "duration": 14,
    "start_time": "2024-10-27T14:55:20.457Z"
   },
   {
    "duration": 44,
    "start_time": "2024-10-27T14:55:20.473Z"
   },
   {
    "duration": 7,
    "start_time": "2024-10-27T14:55:20.519Z"
   },
   {
    "duration": 7,
    "start_time": "2024-10-27T14:55:20.527Z"
   },
   {
    "duration": 13,
    "start_time": "2024-10-27T14:55:20.536Z"
   },
   {
    "duration": 8,
    "start_time": "2024-10-27T14:55:20.551Z"
   },
   {
    "duration": 192,
    "start_time": "2024-10-27T14:55:20.561Z"
   },
   {
    "duration": 169,
    "start_time": "2024-10-27T14:55:20.754Z"
   },
   {
    "duration": 7,
    "start_time": "2024-10-27T14:55:20.924Z"
   },
   {
    "duration": 14,
    "start_time": "2024-10-27T14:55:20.932Z"
   },
   {
    "duration": 135,
    "start_time": "2024-10-27T14:55:20.948Z"
   },
   {
    "duration": 28,
    "start_time": "2024-10-27T14:55:21.084Z"
   },
   {
    "duration": 149,
    "start_time": "2024-10-27T14:55:21.115Z"
   },
   {
    "duration": 30,
    "start_time": "2024-10-27T14:55:21.266Z"
   },
   {
    "duration": 11,
    "start_time": "2024-10-27T14:55:22.056Z"
   },
   {
    "duration": 7,
    "start_time": "2024-10-27T14:55:27.063Z"
   },
   {
    "duration": 10,
    "start_time": "2024-10-27T14:56:07.875Z"
   },
   {
    "duration": 3,
    "start_time": "2024-10-27T14:56:18.487Z"
   },
   {
    "duration": 128,
    "start_time": "2024-10-27T14:56:29.268Z"
   },
   {
    "duration": 7,
    "start_time": "2024-10-27T14:56:32.864Z"
   },
   {
    "duration": 2700,
    "start_time": "2024-10-27T23:50:30.986Z"
   },
   {
    "duration": 226,
    "start_time": "2024-10-27T23:50:33.688Z"
   },
   {
    "duration": 10,
    "start_time": "2024-10-27T23:50:33.916Z"
   },
   {
    "duration": 10,
    "start_time": "2024-10-27T23:50:33.928Z"
   },
   {
    "duration": 8,
    "start_time": "2024-10-27T23:50:33.939Z"
   },
   {
    "duration": 9,
    "start_time": "2024-10-27T23:50:33.949Z"
   },
   {
    "duration": 3,
    "start_time": "2024-10-27T23:50:33.960Z"
   },
   {
    "duration": 5,
    "start_time": "2024-10-27T23:50:33.965Z"
   },
   {
    "duration": 43,
    "start_time": "2024-10-27T23:50:33.971Z"
   },
   {
    "duration": 17,
    "start_time": "2024-10-27T23:50:34.017Z"
   },
   {
    "duration": 10,
    "start_time": "2024-10-27T23:50:34.035Z"
   },
   {
    "duration": 5,
    "start_time": "2024-10-27T23:50:34.047Z"
   },
   {
    "duration": 19,
    "start_time": "2024-10-27T23:50:34.053Z"
   },
   {
    "duration": 45,
    "start_time": "2024-10-27T23:50:34.074Z"
   },
   {
    "duration": 8,
    "start_time": "2024-10-27T23:50:34.121Z"
   },
   {
    "duration": 14,
    "start_time": "2024-10-27T23:50:34.130Z"
   },
   {
    "duration": 8,
    "start_time": "2024-10-27T23:50:34.146Z"
   },
   {
    "duration": 7,
    "start_time": "2024-10-27T23:50:34.156Z"
   },
   {
    "duration": 6,
    "start_time": "2024-10-27T23:50:34.165Z"
   },
   {
    "duration": 14,
    "start_time": "2024-10-27T23:50:34.209Z"
   },
   {
    "duration": 8,
    "start_time": "2024-10-27T23:50:34.225Z"
   },
   {
    "duration": 204,
    "start_time": "2024-10-27T23:50:34.235Z"
   },
   {
    "duration": 170,
    "start_time": "2024-10-27T23:50:34.442Z"
   },
   {
    "duration": 8,
    "start_time": "2024-10-27T23:50:34.614Z"
   },
   {
    "duration": 14,
    "start_time": "2024-10-27T23:50:34.624Z"
   },
   {
    "duration": 131,
    "start_time": "2024-10-27T23:50:34.640Z"
   },
   {
    "duration": 18,
    "start_time": "2024-10-27T23:50:34.773Z"
   },
   {
    "duration": 152,
    "start_time": "2024-10-27T23:50:34.794Z"
   },
   {
    "duration": 7,
    "start_time": "2024-10-27T23:50:38.323Z"
   },
   {
    "duration": 4,
    "start_time": "2024-10-27T23:50:45.481Z"
   },
   {
    "duration": 32,
    "start_time": "2024-10-27T23:51:10.380Z"
   },
   {
    "duration": 4,
    "start_time": "2024-10-27T23:51:16.661Z"
   },
   {
    "duration": 7,
    "start_time": "2024-10-27T23:51:17.082Z"
   },
   {
    "duration": 8,
    "start_time": "2024-10-27T23:51:17.992Z"
   },
   {
    "duration": 22,
    "start_time": "2024-10-27T23:51:19.201Z"
   },
   {
    "duration": 36,
    "start_time": "2024-10-27T23:52:27.380Z"
   },
   {
    "duration": 3,
    "start_time": "2024-10-27T23:52:28.695Z"
   },
   {
    "duration": 6,
    "start_time": "2024-10-27T23:52:29.085Z"
   },
   {
    "duration": 8,
    "start_time": "2024-10-27T23:52:29.696Z"
   },
   {
    "duration": 22,
    "start_time": "2024-10-27T23:52:30.583Z"
   },
   {
    "duration": 8,
    "start_time": "2024-10-27T23:56:02.724Z"
   },
   {
    "duration": 843,
    "start_time": "2024-10-28T02:58:23.420Z"
   },
   {
    "duration": 154,
    "start_time": "2024-10-28T02:58:24.266Z"
   },
   {
    "duration": 10,
    "start_time": "2024-10-28T02:58:24.422Z"
   },
   {
    "duration": 11,
    "start_time": "2024-10-28T02:58:24.433Z"
   },
   {
    "duration": 7,
    "start_time": "2024-10-28T02:58:24.446Z"
   },
   {
    "duration": 7,
    "start_time": "2024-10-28T02:58:24.455Z"
   },
   {
    "duration": 3,
    "start_time": "2024-10-28T02:58:24.463Z"
   },
   {
    "duration": 4,
    "start_time": "2024-10-28T02:58:24.468Z"
   },
   {
    "duration": 35,
    "start_time": "2024-10-28T02:58:24.474Z"
   },
   {
    "duration": 15,
    "start_time": "2024-10-28T02:58:24.510Z"
   },
   {
    "duration": 9,
    "start_time": "2024-10-28T02:58:24.526Z"
   },
   {
    "duration": 4,
    "start_time": "2024-10-28T02:58:24.536Z"
   },
   {
    "duration": 16,
    "start_time": "2024-10-28T02:58:24.541Z"
   },
   {
    "duration": 49,
    "start_time": "2024-10-28T02:58:24.560Z"
   },
   {
    "duration": 7,
    "start_time": "2024-10-28T02:58:24.610Z"
   },
   {
    "duration": 13,
    "start_time": "2024-10-28T02:58:24.619Z"
   },
   {
    "duration": 8,
    "start_time": "2024-10-28T02:58:24.633Z"
   },
   {
    "duration": 7,
    "start_time": "2024-10-28T02:58:24.642Z"
   },
   {
    "duration": 7,
    "start_time": "2024-10-28T02:58:24.650Z"
   },
   {
    "duration": 11,
    "start_time": "2024-10-28T02:58:24.658Z"
   },
   {
    "duration": 41,
    "start_time": "2024-10-28T02:58:24.670Z"
   },
   {
    "duration": 176,
    "start_time": "2024-10-28T02:58:24.712Z"
   },
   {
    "duration": 153,
    "start_time": "2024-10-28T02:58:24.889Z"
   },
   {
    "duration": 6,
    "start_time": "2024-10-28T02:58:25.045Z"
   },
   {
    "duration": 14,
    "start_time": "2024-10-28T02:58:25.053Z"
   },
   {
    "duration": 160,
    "start_time": "2024-10-28T02:58:25.069Z"
   },
   {
    "duration": 17,
    "start_time": "2024-10-28T02:58:25.230Z"
   },
   {
    "duration": 151,
    "start_time": "2024-10-28T02:58:25.249Z"
   },
   {
    "duration": 30,
    "start_time": "2024-10-28T02:58:25.402Z"
   },
   {
    "duration": 10,
    "start_time": "2024-10-28T02:58:25.434Z"
   },
   {
    "duration": 3,
    "start_time": "2024-10-28T02:59:57.387Z"
   },
   {
    "duration": 151,
    "start_time": "2024-10-28T02:59:57.394Z"
   },
   {
    "duration": 8,
    "start_time": "2024-10-28T02:59:57.548Z"
   },
   {
    "duration": 6,
    "start_time": "2024-10-28T02:59:57.558Z"
   },
   {
    "duration": 8,
    "start_time": "2024-10-28T02:59:57.567Z"
   },
   {
    "duration": 32,
    "start_time": "2024-10-28T02:59:57.577Z"
   },
   {
    "duration": 3,
    "start_time": "2024-10-28T02:59:57.610Z"
   },
   {
    "duration": 4,
    "start_time": "2024-10-28T02:59:57.615Z"
   },
   {
    "duration": 5,
    "start_time": "2024-10-28T02:59:57.620Z"
   },
   {
    "duration": 14,
    "start_time": "2024-10-28T02:59:57.627Z"
   },
   {
    "duration": 7,
    "start_time": "2024-10-28T02:59:57.643Z"
   },
   {
    "duration": 3,
    "start_time": "2024-10-28T02:59:57.652Z"
   },
   {
    "duration": 51,
    "start_time": "2024-10-28T02:59:57.657Z"
   },
   {
    "duration": 12,
    "start_time": "2024-10-28T02:59:57.709Z"
   },
   {
    "duration": 7,
    "start_time": "2024-10-28T02:59:57.724Z"
   },
   {
    "duration": 13,
    "start_time": "2024-10-28T02:59:57.733Z"
   },
   {
    "duration": 8,
    "start_time": "2024-10-28T02:59:57.747Z"
   },
   {
    "duration": 8,
    "start_time": "2024-10-28T02:59:57.756Z"
   },
   {
    "duration": 41,
    "start_time": "2024-10-28T02:59:57.765Z"
   },
   {
    "duration": 14,
    "start_time": "2024-10-28T02:59:57.808Z"
   },
   {
    "duration": 8,
    "start_time": "2024-10-28T02:59:57.824Z"
   },
   {
    "duration": 190,
    "start_time": "2024-10-28T02:59:57.834Z"
   },
   {
    "duration": 151,
    "start_time": "2024-10-28T02:59:58.026Z"
   },
   {
    "duration": 6,
    "start_time": "2024-10-28T02:59:58.178Z"
   },
   {
    "duration": 22,
    "start_time": "2024-10-28T02:59:58.185Z"
   },
   {
    "duration": 115,
    "start_time": "2024-10-28T02:59:58.209Z"
   },
   {
    "duration": 18,
    "start_time": "2024-10-28T02:59:58.326Z"
   },
   {
    "duration": 154,
    "start_time": "2024-10-28T02:59:58.346Z"
   },
   {
    "duration": 30,
    "start_time": "2024-10-28T02:59:58.502Z"
   },
   {
    "duration": 6,
    "start_time": "2024-10-28T02:59:58.534Z"
   },
   {
    "duration": 19,
    "start_time": "2024-10-28T02:59:58.542Z"
   },
   {
    "duration": 4,
    "start_time": "2024-10-28T02:59:58.563Z"
   },
   {
    "duration": 7,
    "start_time": "2024-10-28T02:59:58.568Z"
   },
   {
    "duration": 87,
    "start_time": "2024-10-28T02:59:58.576Z"
   },
   {
    "duration": 11,
    "start_time": "2024-10-28T02:59:58.665Z"
   },
   {
    "duration": 5,
    "start_time": "2024-10-28T02:59:58.678Z"
   },
   {
    "duration": 25,
    "start_time": "2024-10-28T02:59:58.684Z"
   },
   {
    "duration": 281,
    "start_time": "2024-10-28T02:59:58.710Z"
   },
   {
    "duration": 14,
    "start_time": "2024-10-28T02:59:58.993Z"
   },
   {
    "duration": 280,
    "start_time": "2024-10-28T02:59:59.008Z"
   },
   {
    "duration": 17,
    "start_time": "2024-10-28T02:59:59.289Z"
   },
   {
    "duration": 106,
    "start_time": "2024-10-28T02:59:59.310Z"
   },
   {
    "duration": 205,
    "start_time": "2024-10-28T02:59:59.417Z"
   },
   {
    "duration": 221,
    "start_time": "2024-10-28T02:59:59.624Z"
   },
   {
    "duration": 8,
    "start_time": "2024-10-28T02:59:59.847Z"
   },
   {
    "duration": 297,
    "start_time": "2024-10-28T02:59:59.856Z"
   },
   {
    "duration": 221,
    "start_time": "2024-10-28T03:00:00.155Z"
   },
   {
    "duration": 7,
    "start_time": "2024-10-28T03:00:00.378Z"
   },
   {
    "duration": 26,
    "start_time": "2024-10-28T03:00:00.387Z"
   },
   {
    "duration": 562,
    "start_time": "2024-10-28T03:00:24.607Z"
   },
   {
    "duration": 268,
    "start_time": "2024-10-28T03:00:28.815Z"
   },
   {
    "duration": 141,
    "start_time": "2024-10-28T03:01:04.043Z"
   },
   {
    "duration": 19,
    "start_time": "2024-10-28T03:01:09.235Z"
   },
   {
    "duration": 2541,
    "start_time": "2024-10-29T10:36:09.534Z"
   },
   {
    "duration": 224,
    "start_time": "2024-10-29T10:36:12.077Z"
   },
   {
    "duration": 10,
    "start_time": "2024-10-29T10:36:12.303Z"
   },
   {
    "duration": 9,
    "start_time": "2024-10-29T10:36:12.316Z"
   },
   {
    "duration": 8,
    "start_time": "2024-10-29T10:36:12.327Z"
   },
   {
    "duration": 8,
    "start_time": "2024-10-29T10:36:12.336Z"
   },
   {
    "duration": 3,
    "start_time": "2024-10-29T10:36:12.346Z"
   },
   {
    "duration": 4,
    "start_time": "2024-10-29T10:36:12.351Z"
   },
   {
    "duration": 5,
    "start_time": "2024-10-29T10:36:12.357Z"
   },
   {
    "duration": 16,
    "start_time": "2024-10-29T10:36:12.365Z"
   },
   {
    "duration": 44,
    "start_time": "2024-10-29T10:36:12.383Z"
   },
   {
    "duration": 3,
    "start_time": "2024-10-29T10:36:12.429Z"
   },
   {
    "duration": 16,
    "start_time": "2024-10-29T10:36:12.434Z"
   },
   {
    "duration": 12,
    "start_time": "2024-10-29T10:36:12.451Z"
   },
   {
    "duration": 7,
    "start_time": "2024-10-29T10:36:12.466Z"
   },
   {
    "duration": 13,
    "start_time": "2024-10-29T10:36:12.475Z"
   },
   {
    "duration": 8,
    "start_time": "2024-10-29T10:36:12.524Z"
   },
   {
    "duration": 7,
    "start_time": "2024-10-29T10:36:12.534Z"
   },
   {
    "duration": 8,
    "start_time": "2024-10-29T10:36:12.543Z"
   },
   {
    "duration": 12,
    "start_time": "2024-10-29T10:36:12.552Z"
   },
   {
    "duration": 8,
    "start_time": "2024-10-29T10:36:12.565Z"
   },
   {
    "duration": 208,
    "start_time": "2024-10-29T10:36:12.574Z"
   },
   {
    "duration": 151,
    "start_time": "2024-10-29T10:36:12.784Z"
   },
   {
    "duration": 6,
    "start_time": "2024-10-29T10:36:12.936Z"
   },
   {
    "duration": 14,
    "start_time": "2024-10-29T10:36:12.944Z"
   },
   {
    "duration": 132,
    "start_time": "2024-10-29T10:36:12.959Z"
   },
   {
    "duration": 18,
    "start_time": "2024-10-29T10:36:13.092Z"
   },
   {
    "duration": 155,
    "start_time": "2024-10-29T10:36:13.114Z"
   },
   {
    "duration": 33,
    "start_time": "2024-10-29T10:36:13.270Z"
   },
   {
    "duration": 19,
    "start_time": "2024-10-29T10:36:13.304Z"
   },
   {
    "duration": 21,
    "start_time": "2024-10-29T10:36:13.325Z"
   },
   {
    "duration": 3,
    "start_time": "2024-10-29T10:36:13.348Z"
   },
   {
    "duration": 7,
    "start_time": "2024-10-29T10:36:13.353Z"
   },
   {
    "duration": 84,
    "start_time": "2024-10-29T10:36:13.362Z"
   },
   {
    "duration": 12,
    "start_time": "2024-10-29T10:36:13.448Z"
   },
   {
    "duration": 6,
    "start_time": "2024-10-29T10:36:13.461Z"
   },
   {
    "duration": 6,
    "start_time": "2024-10-29T10:36:13.469Z"
   },
   {
    "duration": 240,
    "start_time": "2024-10-29T10:36:13.476Z"
   },
   {
    "duration": 11,
    "start_time": "2024-10-29T10:36:13.718Z"
   },
   {
    "duration": 301,
    "start_time": "2024-10-29T10:36:13.731Z"
   },
   {
    "duration": 207,
    "start_time": "2024-10-29T10:36:14.034Z"
   },
   {
    "duration": 9,
    "start_time": "2024-10-29T10:36:14.243Z"
   },
   {
    "duration": 18,
    "start_time": "2024-10-29T10:36:14.254Z"
   },
   {
    "duration": 122,
    "start_time": "2024-10-29T10:36:14.274Z"
   },
   {
    "duration": 271,
    "start_time": "2024-10-29T10:36:14.398Z"
   },
   {
    "duration": 217,
    "start_time": "2024-10-29T10:36:14.671Z"
   },
   {
    "duration": 265,
    "start_time": "2024-10-29T10:36:16.290Z"
   },
   {
    "duration": 6,
    "start_time": "2024-10-29T10:45:51.117Z"
   },
   {
    "duration": 4,
    "start_time": "2024-10-29T10:47:05.007Z"
   },
   {
    "duration": 7,
    "start_time": "2024-10-29T10:47:38.186Z"
   },
   {
    "duration": 6,
    "start_time": "2024-10-29T10:48:54.163Z"
   },
   {
    "duration": 11,
    "start_time": "2024-10-29T10:51:28.982Z"
   },
   {
    "duration": 13,
    "start_time": "2024-10-29T10:51:56.733Z"
   },
   {
    "duration": 18,
    "start_time": "2024-10-29T10:52:17.501Z"
   },
   {
    "duration": 12,
    "start_time": "2024-10-29T10:52:54.970Z"
   },
   {
    "duration": 14,
    "start_time": "2024-10-29T10:53:19.607Z"
   },
   {
    "duration": 15,
    "start_time": "2024-10-29T10:53:45.265Z"
   },
   {
    "duration": 13,
    "start_time": "2024-10-29T10:54:03.078Z"
   },
   {
    "duration": 8,
    "start_time": "2024-10-29T10:58:05.819Z"
   },
   {
    "duration": 158,
    "start_time": "2024-10-29T11:00:47.827Z"
   },
   {
    "duration": 190,
    "start_time": "2024-10-29T11:02:31.159Z"
   },
   {
    "duration": 16,
    "start_time": "2024-10-29T11:03:17.567Z"
   },
   {
    "duration": 8,
    "start_time": "2024-10-29T11:08:09.676Z"
   },
   {
    "duration": 14,
    "start_time": "2024-10-29T11:13:02.862Z"
   },
   {
    "duration": 3,
    "start_time": "2024-10-29T11:13:45.895Z"
   },
   {
    "duration": 160,
    "start_time": "2024-10-29T11:13:45.928Z"
   },
   {
    "duration": 8,
    "start_time": "2024-10-29T11:13:46.090Z"
   },
   {
    "duration": 7,
    "start_time": "2024-10-29T11:13:46.100Z"
   },
   {
    "duration": 21,
    "start_time": "2024-10-29T11:13:46.108Z"
   },
   {
    "duration": 7,
    "start_time": "2024-10-29T11:13:46.132Z"
   },
   {
    "duration": 3,
    "start_time": "2024-10-29T11:13:46.141Z"
   },
   {
    "duration": 5,
    "start_time": "2024-10-29T11:13:46.145Z"
   },
   {
    "duration": 4,
    "start_time": "2024-10-29T11:13:46.152Z"
   },
   {
    "duration": 15,
    "start_time": "2024-10-29T11:13:46.157Z"
   },
   {
    "duration": 8,
    "start_time": "2024-10-29T11:13:46.173Z"
   },
   {
    "duration": 43,
    "start_time": "2024-10-29T11:13:46.183Z"
   },
   {
    "duration": 16,
    "start_time": "2024-10-29T11:13:46.227Z"
   },
   {
    "duration": 12,
    "start_time": "2024-10-29T11:13:46.244Z"
   },
   {
    "duration": 7,
    "start_time": "2024-10-29T11:13:46.260Z"
   },
   {
    "duration": 13,
    "start_time": "2024-10-29T11:13:46.269Z"
   },
   {
    "duration": 7,
    "start_time": "2024-10-29T11:13:46.284Z"
   },
   {
    "duration": 7,
    "start_time": "2024-10-29T11:13:46.325Z"
   },
   {
    "duration": 6,
    "start_time": "2024-10-29T11:13:46.334Z"
   },
   {
    "duration": 11,
    "start_time": "2024-10-29T11:13:46.342Z"
   },
   {
    "duration": 8,
    "start_time": "2024-10-29T11:13:46.355Z"
   },
   {
    "duration": 186,
    "start_time": "2024-10-29T11:13:46.364Z"
   },
   {
    "duration": 150,
    "start_time": "2024-10-29T11:13:46.552Z"
   },
   {
    "duration": 6,
    "start_time": "2024-10-29T11:13:46.704Z"
   },
   {
    "duration": 23,
    "start_time": "2024-10-29T11:13:46.712Z"
   },
   {
    "duration": 122,
    "start_time": "2024-10-29T11:13:46.737Z"
   },
   {
    "duration": 18,
    "start_time": "2024-10-29T11:13:46.860Z"
   },
   {
    "duration": 165,
    "start_time": "2024-10-29T11:13:46.879Z"
   },
   {
    "duration": 32,
    "start_time": "2024-10-29T11:13:47.046Z"
   },
   {
    "duration": 7,
    "start_time": "2024-10-29T11:13:47.079Z"
   },
   {
    "duration": 37,
    "start_time": "2024-10-29T11:13:47.088Z"
   },
   {
    "duration": 4,
    "start_time": "2024-10-29T11:13:47.127Z"
   },
   {
    "duration": 7,
    "start_time": "2024-10-29T11:13:47.133Z"
   },
   {
    "duration": 61,
    "start_time": "2024-10-29T11:13:47.141Z"
   },
   {
    "duration": 31,
    "start_time": "2024-10-29T11:13:47.203Z"
   },
   {
    "duration": 5,
    "start_time": "2024-10-29T11:13:47.236Z"
   },
   {
    "duration": 5,
    "start_time": "2024-10-29T11:13:47.242Z"
   },
   {
    "duration": 234,
    "start_time": "2024-10-29T11:13:47.248Z"
   },
   {
    "duration": 8,
    "start_time": "2024-10-29T11:13:47.484Z"
   },
   {
    "duration": 298,
    "start_time": "2024-10-29T11:13:47.493Z"
   },
   {
    "duration": 213,
    "start_time": "2024-10-29T11:13:47.793Z"
   },
   {
    "duration": 16,
    "start_time": "2024-10-29T11:13:48.010Z"
   },
   {
    "duration": 19,
    "start_time": "2024-10-29T11:13:48.028Z"
   },
   {
    "duration": 195,
    "start_time": "2024-10-29T11:13:48.048Z"
   },
   {
    "duration": 211,
    "start_time": "2024-10-29T11:13:48.245Z"
   },
   {
    "duration": 222,
    "start_time": "2024-10-29T11:13:48.458Z"
   },
   {
    "duration": 287,
    "start_time": "2024-10-29T11:13:48.681Z"
   },
   {
    "duration": 13,
    "start_time": "2024-10-29T11:13:48.970Z"
   },
   {
    "duration": 8,
    "start_time": "2024-10-29T11:13:48.984Z"
   },
   {
    "duration": 300,
    "start_time": "2024-10-29T11:13:48.994Z"
   },
   {
    "duration": 14,
    "start_time": "2024-10-29T11:13:54.313Z"
   },
   {
    "duration": 13,
    "start_time": "2024-10-29T11:15:34.067Z"
   },
   {
    "duration": 220,
    "start_time": "2024-10-29T11:16:38.924Z"
   },
   {
    "duration": 13,
    "start_time": "2024-10-29T11:16:57.806Z"
   },
   {
    "duration": 13,
    "start_time": "2024-10-29T11:17:06.812Z"
   },
   {
    "duration": 489,
    "start_time": "2024-10-29T11:17:28.584Z"
   },
   {
    "duration": 51,
    "start_time": "2024-10-29T11:17:37.921Z"
   },
   {
    "duration": 6,
    "start_time": "2024-10-29T11:19:27.800Z"
   },
   {
    "duration": 18,
    "start_time": "2024-10-29T11:20:06.493Z"
   },
   {
    "duration": 4,
    "start_time": "2024-10-29T11:21:02.546Z"
   },
   {
    "duration": 162,
    "start_time": "2024-10-29T16:57:26.480Z"
   },
   {
    "duration": 2585,
    "start_time": "2024-10-29T16:57:33.667Z"
   },
   {
    "duration": 225,
    "start_time": "2024-10-29T16:57:36.254Z"
   },
   {
    "duration": 9,
    "start_time": "2024-10-29T16:57:36.481Z"
   },
   {
    "duration": 11,
    "start_time": "2024-10-29T16:57:36.492Z"
   },
   {
    "duration": 8,
    "start_time": "2024-10-29T16:57:36.504Z"
   },
   {
    "duration": 8,
    "start_time": "2024-10-29T16:57:36.513Z"
   },
   {
    "duration": 3,
    "start_time": "2024-10-29T16:57:36.523Z"
   },
   {
    "duration": 4,
    "start_time": "2024-10-29T16:57:36.528Z"
   },
   {
    "duration": 5,
    "start_time": "2024-10-29T16:57:36.534Z"
   },
   {
    "duration": 14,
    "start_time": "2024-10-29T16:57:36.542Z"
   },
   {
    "duration": 9,
    "start_time": "2024-10-29T16:57:36.558Z"
   },
   {
    "duration": 41,
    "start_time": "2024-10-29T16:57:36.569Z"
   },
   {
    "duration": 17,
    "start_time": "2024-10-29T16:57:36.611Z"
   },
   {
    "duration": 12,
    "start_time": "2024-10-29T16:57:36.630Z"
   },
   {
    "duration": 7,
    "start_time": "2024-10-29T16:57:36.644Z"
   },
   {
    "duration": 14,
    "start_time": "2024-10-29T16:57:36.653Z"
   },
   {
    "duration": 41,
    "start_time": "2024-10-29T16:57:36.669Z"
   },
   {
    "duration": 8,
    "start_time": "2024-10-29T16:57:36.711Z"
   },
   {
    "duration": 7,
    "start_time": "2024-10-29T16:57:36.720Z"
   },
   {
    "duration": 14,
    "start_time": "2024-10-29T16:57:36.728Z"
   },
   {
    "duration": 9,
    "start_time": "2024-10-29T16:57:36.743Z"
   },
   {
    "duration": 209,
    "start_time": "2024-10-29T16:57:36.753Z"
   },
   {
    "duration": 158,
    "start_time": "2024-10-29T16:57:36.964Z"
   },
   {
    "duration": 6,
    "start_time": "2024-10-29T16:57:37.125Z"
   },
   {
    "duration": 14,
    "start_time": "2024-10-29T16:57:37.133Z"
   },
   {
    "duration": 149,
    "start_time": "2024-10-29T16:57:37.149Z"
   },
   {
    "duration": 18,
    "start_time": "2024-10-29T16:57:37.300Z"
   },
   {
    "duration": 162,
    "start_time": "2024-10-29T16:57:37.322Z"
   },
   {
    "duration": 42,
    "start_time": "2024-10-29T16:57:37.486Z"
   },
   {
    "duration": 7,
    "start_time": "2024-10-29T16:57:37.530Z"
   },
   {
    "duration": 21,
    "start_time": "2024-10-29T16:57:37.539Z"
   },
   {
    "duration": 5,
    "start_time": "2024-10-29T16:57:37.561Z"
   },
   {
    "duration": 8,
    "start_time": "2024-10-29T16:57:37.568Z"
   },
   {
    "duration": 93,
    "start_time": "2024-10-29T16:57:37.577Z"
   },
   {
    "duration": 14,
    "start_time": "2024-10-29T16:57:37.672Z"
   },
   {
    "duration": 24,
    "start_time": "2024-10-29T16:57:37.688Z"
   },
   {
    "duration": 10,
    "start_time": "2024-10-29T16:57:37.715Z"
   },
   {
    "duration": 253,
    "start_time": "2024-10-29T16:57:37.726Z"
   },
   {
    "duration": 8,
    "start_time": "2024-10-29T16:57:37.981Z"
   },
   {
    "duration": 360,
    "start_time": "2024-10-29T16:57:37.990Z"
   },
   {
    "duration": 211,
    "start_time": "2024-10-29T16:57:38.351Z"
   },
   {
    "duration": 10,
    "start_time": "2024-10-29T16:57:38.564Z"
   },
   {
    "duration": 37,
    "start_time": "2024-10-29T16:57:38.576Z"
   },
   {
    "duration": 113,
    "start_time": "2024-10-29T16:57:38.615Z"
   },
   {
    "duration": 226,
    "start_time": "2024-10-29T16:57:38.731Z"
   },
   {
    "duration": 229,
    "start_time": "2024-10-29T16:57:38.961Z"
   },
   {
    "duration": 287,
    "start_time": "2024-10-29T16:57:39.192Z"
   },
   {
    "duration": 37,
    "start_time": "2024-10-29T16:57:39.484Z"
   },
   {
    "duration": 18,
    "start_time": "2024-10-29T17:00:03.114Z"
   },
   {
    "duration": 890,
    "start_time": "2024-10-29T17:17:29.680Z"
   },
   {
    "duration": 156,
    "start_time": "2024-10-29T17:17:30.572Z"
   },
   {
    "duration": 9,
    "start_time": "2024-10-29T17:17:30.729Z"
   },
   {
    "duration": 9,
    "start_time": "2024-10-29T17:17:30.740Z"
   },
   {
    "duration": 8,
    "start_time": "2024-10-29T17:17:30.752Z"
   },
   {
    "duration": 26,
    "start_time": "2024-10-29T17:17:30.762Z"
   },
   {
    "duration": 4,
    "start_time": "2024-10-29T17:17:30.789Z"
   },
   {
    "duration": 6,
    "start_time": "2024-10-29T17:17:30.795Z"
   },
   {
    "duration": 5,
    "start_time": "2024-10-29T17:17:30.802Z"
   },
   {
    "duration": 15,
    "start_time": "2024-10-29T17:17:30.809Z"
   },
   {
    "duration": 9,
    "start_time": "2024-10-29T17:17:30.825Z"
   },
   {
    "duration": 4,
    "start_time": "2024-10-29T17:17:30.835Z"
   },
   {
    "duration": 49,
    "start_time": "2024-10-29T17:17:30.842Z"
   },
   {
    "duration": 11,
    "start_time": "2024-10-29T17:17:30.895Z"
   },
   {
    "duration": 7,
    "start_time": "2024-10-29T17:17:30.908Z"
   },
   {
    "duration": 13,
    "start_time": "2024-10-29T17:17:30.916Z"
   },
   {
    "duration": 8,
    "start_time": "2024-10-29T17:17:30.931Z"
   },
   {
    "duration": 7,
    "start_time": "2024-10-29T17:17:30.940Z"
   },
   {
    "duration": 44,
    "start_time": "2024-10-29T17:17:30.948Z"
   },
   {
    "duration": 12,
    "start_time": "2024-10-29T17:17:30.993Z"
   },
   {
    "duration": 8,
    "start_time": "2024-10-29T17:17:31.006Z"
   },
   {
    "duration": 192,
    "start_time": "2024-10-29T17:17:31.015Z"
   },
   {
    "duration": 149,
    "start_time": "2024-10-29T17:17:31.209Z"
   },
   {
    "duration": 7,
    "start_time": "2024-10-29T17:17:31.360Z"
   },
   {
    "duration": 21,
    "start_time": "2024-10-29T17:17:31.369Z"
   },
   {
    "duration": 139,
    "start_time": "2024-10-29T17:17:31.392Z"
   },
   {
    "duration": 18,
    "start_time": "2024-10-29T17:17:31.532Z"
   },
   {
    "duration": 155,
    "start_time": "2024-10-29T17:17:31.551Z"
   },
   {
    "duration": 31,
    "start_time": "2024-10-29T17:17:31.708Z"
   },
   {
    "duration": 8,
    "start_time": "2024-10-29T17:17:31.741Z"
   },
   {
    "duration": 37,
    "start_time": "2024-10-29T17:17:31.751Z"
   },
   {
    "duration": 6,
    "start_time": "2024-10-29T17:17:31.789Z"
   },
   {
    "duration": 7,
    "start_time": "2024-10-29T17:17:31.797Z"
   },
   {
    "duration": 82,
    "start_time": "2024-10-29T17:17:31.806Z"
   },
   {
    "duration": 11,
    "start_time": "2024-10-29T17:17:31.890Z"
   },
   {
    "duration": 5,
    "start_time": "2024-10-29T17:17:31.903Z"
   },
   {
    "duration": 5,
    "start_time": "2024-10-29T17:17:31.910Z"
   },
   {
    "duration": 239,
    "start_time": "2024-10-29T17:17:31.916Z"
   },
   {
    "duration": 7,
    "start_time": "2024-10-29T17:17:32.157Z"
   },
   {
    "duration": 335,
    "start_time": "2024-10-29T17:17:32.166Z"
   },
   {
    "duration": 216,
    "start_time": "2024-10-29T17:17:32.505Z"
   },
   {
    "duration": 9,
    "start_time": "2024-10-29T17:17:32.723Z"
   },
   {
    "duration": 18,
    "start_time": "2024-10-29T17:17:32.734Z"
   },
   {
    "duration": 123,
    "start_time": "2024-10-29T17:17:32.755Z"
   },
   {
    "duration": 214,
    "start_time": "2024-10-29T17:17:32.880Z"
   },
   {
    "duration": 244,
    "start_time": "2024-10-29T17:17:33.095Z"
   },
   {
    "duration": 282,
    "start_time": "2024-10-29T17:17:33.341Z"
   },
   {
    "duration": 18,
    "start_time": "2024-10-29T17:17:33.625Z"
   },
   {
    "duration": 8,
    "start_time": "2024-10-29T17:17:33.645Z"
   },
   {
    "duration": 327,
    "start_time": "2024-10-29T17:17:33.654Z"
   },
   {
    "duration": 24,
    "start_time": "2024-10-29T17:17:33.983Z"
   },
   {
    "duration": 292,
    "start_time": "2024-10-29T17:17:34.010Z"
   },
   {
    "duration": 766,
    "start_time": "2024-10-29T17:17:34.304Z"
   },
   {
    "duration": 0,
    "start_time": "2024-10-29T17:17:35.072Z"
   },
   {
    "duration": 8,
    "start_time": "2024-10-29T17:17:51.614Z"
   },
   {
    "duration": 2587,
    "start_time": "2024-10-29T17:41:22.597Z"
   },
   {
    "duration": 214,
    "start_time": "2024-10-29T17:41:25.187Z"
   },
   {
    "duration": 9,
    "start_time": "2024-10-29T17:41:25.403Z"
   },
   {
    "duration": 10,
    "start_time": "2024-10-29T17:41:25.415Z"
   },
   {
    "duration": 17,
    "start_time": "2024-10-29T17:41:25.427Z"
   },
   {
    "duration": 8,
    "start_time": "2024-10-29T17:41:25.446Z"
   },
   {
    "duration": 4,
    "start_time": "2024-10-29T17:41:25.456Z"
   },
   {
    "duration": 4,
    "start_time": "2024-10-29T17:41:25.462Z"
   },
   {
    "duration": 5,
    "start_time": "2024-10-29T17:41:25.468Z"
   },
   {
    "duration": 16,
    "start_time": "2024-10-29T17:41:25.477Z"
   },
   {
    "duration": 48,
    "start_time": "2024-10-29T17:41:25.495Z"
   },
   {
    "duration": 4,
    "start_time": "2024-10-29T17:41:25.545Z"
   },
   {
    "duration": 18,
    "start_time": "2024-10-29T17:41:25.551Z"
   },
   {
    "duration": 13,
    "start_time": "2024-10-29T17:41:25.570Z"
   },
   {
    "duration": 7,
    "start_time": "2024-10-29T17:41:25.585Z"
   },
   {
    "duration": 14,
    "start_time": "2024-10-29T17:41:25.594Z"
   },
   {
    "duration": 42,
    "start_time": "2024-10-29T17:41:25.609Z"
   },
   {
    "duration": 7,
    "start_time": "2024-10-29T17:41:25.653Z"
   },
   {
    "duration": 7,
    "start_time": "2024-10-29T17:41:25.662Z"
   },
   {
    "duration": 12,
    "start_time": "2024-10-29T17:41:25.671Z"
   },
   {
    "duration": 9,
    "start_time": "2024-10-29T17:41:25.684Z"
   },
   {
    "duration": 215,
    "start_time": "2024-10-29T17:41:25.694Z"
   },
   {
    "duration": 168,
    "start_time": "2024-10-29T17:41:25.911Z"
   },
   {
    "duration": 7,
    "start_time": "2024-10-29T17:41:26.081Z"
   },
   {
    "duration": 14,
    "start_time": "2024-10-29T17:41:26.090Z"
   },
   {
    "duration": 134,
    "start_time": "2024-10-29T17:41:26.106Z"
   },
   {
    "duration": 18,
    "start_time": "2024-10-29T17:41:26.242Z"
   },
   {
    "duration": 152,
    "start_time": "2024-10-29T17:41:26.264Z"
   },
   {
    "duration": 40,
    "start_time": "2024-10-29T17:41:26.417Z"
   },
   {
    "duration": 7,
    "start_time": "2024-10-29T17:41:26.459Z"
   },
   {
    "duration": 20,
    "start_time": "2024-10-29T17:41:26.468Z"
   },
   {
    "duration": 4,
    "start_time": "2024-10-29T17:41:26.490Z"
   },
   {
    "duration": 6,
    "start_time": "2024-10-29T17:41:26.495Z"
   },
   {
    "duration": 94,
    "start_time": "2024-10-29T17:41:26.503Z"
   },
   {
    "duration": 12,
    "start_time": "2024-10-29T17:41:26.599Z"
   },
   {
    "duration": 5,
    "start_time": "2024-10-29T17:41:26.613Z"
   },
   {
    "duration": 23,
    "start_time": "2024-10-29T17:41:26.620Z"
   },
   {
    "duration": 233,
    "start_time": "2024-10-29T17:41:26.644Z"
   },
   {
    "duration": 7,
    "start_time": "2024-10-29T17:41:26.879Z"
   },
   {
    "duration": 325,
    "start_time": "2024-10-29T17:41:26.887Z"
   },
   {
    "duration": 258,
    "start_time": "2024-10-29T17:41:27.215Z"
   },
   {
    "duration": 10,
    "start_time": "2024-10-29T17:41:27.475Z"
   },
   {
    "duration": 19,
    "start_time": "2024-10-29T17:41:27.488Z"
   },
   {
    "duration": 119,
    "start_time": "2024-10-29T17:41:27.511Z"
   },
   {
    "duration": 240,
    "start_time": "2024-10-29T17:41:27.632Z"
   },
   {
    "duration": 269,
    "start_time": "2024-10-29T17:41:27.874Z"
   },
   {
    "duration": 355,
    "start_time": "2024-10-29T17:41:28.145Z"
   },
   {
    "duration": 22,
    "start_time": "2024-10-29T17:41:28.503Z"
   },
   {
    "duration": 20,
    "start_time": "2024-10-29T17:41:28.527Z"
   },
   {
    "duration": 337,
    "start_time": "2024-10-29T17:41:28.549Z"
   },
   {
    "duration": 21,
    "start_time": "2024-10-29T17:41:28.889Z"
   },
   {
    "duration": 247,
    "start_time": "2024-10-29T17:41:28.913Z"
   },
   {
    "duration": 8,
    "start_time": "2024-10-29T17:41:29.164Z"
   },
   {
    "duration": 15,
    "start_time": "2024-10-29T17:42:18.281Z"
   },
   {
    "duration": 2606,
    "start_time": "2025-01-26T00:05:31.427Z"
   },
   {
    "duration": 223,
    "start_time": "2025-01-26T00:05:34.035Z"
   },
   {
    "duration": 11,
    "start_time": "2025-01-26T00:05:34.259Z"
   },
   {
    "duration": 11,
    "start_time": "2025-01-26T00:05:34.271Z"
   },
   {
    "duration": 8,
    "start_time": "2025-01-26T00:05:34.285Z"
   },
   {
    "duration": 21,
    "start_time": "2025-01-26T00:05:34.294Z"
   },
   {
    "duration": 3,
    "start_time": "2025-01-26T00:05:34.317Z"
   },
   {
    "duration": 5,
    "start_time": "2025-01-26T00:05:34.321Z"
   },
   {
    "duration": 4,
    "start_time": "2025-01-26T00:05:34.327Z"
   },
   {
    "duration": 14,
    "start_time": "2025-01-26T00:05:34.334Z"
   },
   {
    "duration": 8,
    "start_time": "2025-01-26T00:05:34.350Z"
   },
   {
    "duration": 4,
    "start_time": "2025-01-26T00:05:34.359Z"
   },
   {
    "duration": 55,
    "start_time": "2025-01-26T00:05:34.364Z"
   },
   {
    "duration": 10,
    "start_time": "2025-01-26T00:05:34.422Z"
   },
   {
    "duration": 7,
    "start_time": "2025-01-26T00:05:34.434Z"
   },
   {
    "duration": 13,
    "start_time": "2025-01-26T00:05:34.443Z"
   },
   {
    "duration": 8,
    "start_time": "2025-01-26T00:05:34.457Z"
   },
   {
    "duration": 6,
    "start_time": "2025-01-26T00:05:34.467Z"
   },
   {
    "duration": 39,
    "start_time": "2025-01-26T00:05:34.475Z"
   },
   {
    "duration": 12,
    "start_time": "2025-01-26T00:05:34.515Z"
   },
   {
    "duration": 8,
    "start_time": "2025-01-26T00:05:34.528Z"
   },
   {
    "duration": 186,
    "start_time": "2025-01-26T00:05:34.537Z"
   },
   {
    "duration": 153,
    "start_time": "2025-01-26T00:05:34.725Z"
   },
   {
    "duration": 8,
    "start_time": "2025-01-26T00:05:34.880Z"
   },
   {
    "duration": 22,
    "start_time": "2025-01-26T00:05:34.889Z"
   },
   {
    "duration": 639,
    "start_time": "2025-01-26T00:05:38.560Z"
   },
   {
    "duration": 68,
    "start_time": "2025-01-26T00:05:41.071Z"
   },
   {
    "duration": 796,
    "start_time": "2025-01-26T00:06:00.590Z"
   },
   {
    "duration": 150,
    "start_time": "2025-01-26T00:06:01.388Z"
   },
   {
    "duration": 9,
    "start_time": "2025-01-26T00:06:01.541Z"
   },
   {
    "duration": 10,
    "start_time": "2025-01-26T00:06:01.553Z"
   },
   {
    "duration": 11,
    "start_time": "2025-01-26T00:06:01.565Z"
   },
   {
    "duration": 31,
    "start_time": "2025-01-26T00:06:01.578Z"
   },
   {
    "duration": 4,
    "start_time": "2025-01-26T00:06:01.610Z"
   },
   {
    "duration": 5,
    "start_time": "2025-01-26T00:06:01.615Z"
   },
   {
    "duration": 5,
    "start_time": "2025-01-26T00:06:01.621Z"
   },
   {
    "duration": 14,
    "start_time": "2025-01-26T00:06:01.630Z"
   },
   {
    "duration": 8,
    "start_time": "2025-01-26T00:06:01.646Z"
   },
   {
    "duration": 3,
    "start_time": "2025-01-26T00:06:01.656Z"
   },
   {
    "duration": 58,
    "start_time": "2025-01-26T00:06:01.661Z"
   },
   {
    "duration": 12,
    "start_time": "2025-01-26T00:06:01.720Z"
   },
   {
    "duration": 6,
    "start_time": "2025-01-26T00:06:01.734Z"
   },
   {
    "duration": 13,
    "start_time": "2025-01-26T00:06:01.742Z"
   },
   {
    "duration": 8,
    "start_time": "2025-01-26T00:06:01.756Z"
   },
   {
    "duration": 7,
    "start_time": "2025-01-26T00:06:01.766Z"
   },
   {
    "duration": 35,
    "start_time": "2025-01-26T00:06:01.775Z"
   },
   {
    "duration": 12,
    "start_time": "2025-01-26T00:06:01.812Z"
   },
   {
    "duration": 8,
    "start_time": "2025-01-26T00:06:01.825Z"
   },
   {
    "duration": 192,
    "start_time": "2025-01-26T00:06:01.835Z"
   },
   {
    "duration": 153,
    "start_time": "2025-01-26T00:06:02.029Z"
   },
   {
    "duration": 6,
    "start_time": "2025-01-26T00:06:02.183Z"
   },
   {
    "duration": 22,
    "start_time": "2025-01-26T00:06:02.191Z"
   },
   {
    "duration": 122,
    "start_time": "2025-01-26T00:06:02.214Z"
   },
   {
    "duration": 18,
    "start_time": "2025-01-26T00:06:02.337Z"
   },
   {
    "duration": 143,
    "start_time": "2025-01-26T00:06:03.795Z"
   }
  ],
  "kernelspec": {
   "display_name": "Python 3 (ipykernel)",
   "language": "python",
   "name": "python3"
  },
  "language_info": {
   "codemirror_mode": {
    "name": "ipython",
    "version": 3
   },
   "file_extension": ".py",
   "mimetype": "text/x-python",
   "name": "python",
   "nbconvert_exporter": "python",
   "pygments_lexer": "ipython3",
   "version": "3.9.19"
  },
  "toc": {
   "base_numbering": 1,
   "nav_menu": {},
   "number_sections": true,
   "sideBar": true,
   "skip_h1_title": false,
   "title_cell": "Table of Contents",
   "title_sidebar": "Contents",
   "toc_cell": false,
   "toc_position": {
    "height": "calc(100% - 180px)",
    "left": "10px",
    "top": "150px",
    "width": "221.6px"
   },
   "toc_section_display": true,
   "toc_window_display": true
  }
 },
 "nbformat": 4,
 "nbformat_minor": 2
}
